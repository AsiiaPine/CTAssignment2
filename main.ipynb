{
 "cells": [
  {
   "cell_type": "markdown",
   "metadata": {},
   "source": [
    "# Task 1 (5 points)\n",
    "\n",
    "Given a system:\n",
    "\n",
    "\n",
    "$\n",
    "\\begin{cases}\n",
    "\\dot x =\n",
    "\\begin{bmatrix}\n",
    "0 & 0 & 1 & 0 \\\\\n",
    "0 & 0 & 0 & 1 \\\\\n",
    " n & -2 & -10/n & -2 \\\\\n",
    "-5 & -n/10 & 0 & -3\n",
    "\\end{bmatrix}\n",
    "x\n",
    "+\n",
    "\\begin{bmatrix}\n",
    "0 \\\\\n",
    "0 \\\\\n",
    "-1\\\\\n",
    "1\n",
    "\\end{bmatrix}\n",
    "u \\\\\n",
    "y = \\begin{bmatrix}\n",
    "1 & 1 & 0 & 0\n",
    "\\end{bmatrix} x\n",
    "\\end{cases}\n",
    "$\n",
    "\n",
    "where $n$ is my number in my group list - 2.\n",
    "\n",
    "\n",
    "\n",
    "1. Find its transfer function representation ($y(s) / u(s) = W(s)$)."
   ]
  },
  {
   "cell_type": "markdown",
   "metadata": {
    "pycharm": {
     "name": "#%% md\n"
    }
   },
   "source": [
    "## 1.1 Find its transfer function representation ($y(s) / u(s) = W(s)$)."
   ]
  },
  {
   "cell_type": "code",
   "execution_count": 61,
   "metadata": {
    "pycharm": {
     "name": "#%%\n"
    }
   },
   "outputs": [],
   "source": [
    "import ffmpeg as ffmpeg\n",
    "import numpy as np\n",
    "import pg8000 as pg8000\n",
    "from scipy.integrate import odeint\n",
    "from scipy.linalg import solve_continuous_are as are\n",
    "from matplotlib.pyplot import *\n",
    "from IPython.display import display\n",
    "import sympy\n",
    "from sympy import Matrix, diag, symbols, init_printing, pprint, factor, zeros, simplify, latex\n",
    "from scipy import signal\n",
    "from control import dlqr\n",
    "\n",
    "init_printing(use_unicode=True)\n",
    "\n",
    "A = np.array([[0, 0, 1, 0], [0, 0, 0, 1], [2, -2, -10 / 2, -2], [-5, -2 / 10, 0, -3]])\n",
    "B = np.array([[0], [0], [-1], [1]])\n",
    "\n",
    "s = symbols('s')\n",
    "n = symbols('n')"
   ]
  },
  {
   "cell_type": "code",
   "execution_count": 62,
   "metadata": {
    "pycharm": {
     "name": "#%%\n"
    }
   },
   "outputs": [
    {
     "name": "stdout",
     "output_type": "stream",
     "text": [
      "Let's use formula W(s) = Y(s)/u(s) = C *(sI - A)^(-1)*B:\n"
     ]
    },
    {
     "data": {
      "text/plain": [
       "'W(s) = '"
      ]
     },
     "metadata": {},
     "output_type": "display_data"
    },
    {
     "data": {
      "text/latex": [
       "$\\displaystyle \\left[\\begin{matrix}- \\frac{16}{- 20 s^{4} - 160 s^{3} - 264 s^{2} + 300 s + 208}\\end{matrix}\\right]$"
      ],
      "text/plain": [
       "⎡                  -16                  ⎤\n",
       "⎢───────────────────────────────────────⎥\n",
       "⎢      4        3        2              ⎥\n",
       "⎣- 20⋅s  - 160⋅s  - 264⋅s  + 300⋅s + 208⎦"
      ]
     },
     "metadata": {},
     "output_type": "display_data"
    }
   ],
   "source": [
    "def find_w(A, B, C, D=None):\n",
    "    M = sympy.eye(A.shape[0])\n",
    "    M = M * s - A\n",
    "    if D is None:\n",
    "        return simplify(sympy.apart(simplify(C * (M.inv() * B)), s))\n",
    "    else:\n",
    "        return simplify(sympy.apart(simplify(C * (M.inv() * B) + D), s))\n",
    "\n",
    "\n",
    "Am = Matrix([[0, 0, 1, 0], [0, 0, 0, 1], [n, -2, -10 / n, -2], [-5, -n / 10, 0, -3]])\n",
    "Bm = Matrix([[0], [0], [-1], [1]])\n",
    "Cm = Matrix([1, 1, 0, 0]).transpose()\n",
    "\n",
    "print(\"Let's use formula W(s) = Y(s)/u(s) = C *(sI - A)^(-1)*B:\")\n",
    "W = find_w(Am, Bm, Cm)\n",
    "W = W.subs(n, 2)\n",
    "display(\"W(s) = \", W)"
   ]
  },
  {
   "cell_type": "markdown",
   "metadata": {
    "pycharm": {
     "name": "#%% md\n"
    }
   },
   "source": [
    "## 1.2.  Propose an ODE representation of the system.\n",
    "\\begin{equation}\n",
    "    \\begin{cases}\n",
    "        x_1' = x_3\\\\\n",
    "        x_2' = x_4\\\\\n",
    "        x_3' = 2x_1 - 2x_2 - 5x_3 - 2x_4 - u\\\\\n",
    "        x_4' = -5x_1 - 0.2x_2 - 3x_4 + u\\\\\n",
    "        y = x_1 + x_2\n",
    "    \\end{cases}\\,\n",
    "\\end{equation}\n",
    "\n",
    "\\begin{equation}\n",
    "    \\begin{cases}\n",
    "        x_1'' = 2x_1 - 2x_2 - 5(x_1' +С_1) - 2(x_2'+ С_2) - u\\\\\n",
    "        x_2'' = -5x_1 - 0.2x_2 - 3(x_2'+С_2) + u\\\\\n",
    "        y = x_1 + x_2\n",
    "    \\end{cases}\\,\n",
    "\\end{equation}"
   ]
  },
  {
   "cell_type": "markdown",
   "metadata": {
    "pycharm": {
     "name": "#%% md\n"
    }
   },
   "source": [
    "## 1.3. Propose a controller (control law $u = -Kx$) that makes the system stable. Do it via pole placement and as an LQR. For LQR show the cost function you chose.\n",
    "\n",
    "To propose the controller, which make the system stable, rewrite the control law $u=-Kx$ into the state space form: $x'=(A-KB)x$. Now let's choose the K with 1- pole-placement and 2- LQR!\n",
    "But to do it check are the methods applicable:\n",
    "1- find is the system controllable,\n",
    "2- find is the system observable."
   ]
  },
  {
   "cell_type": "code",
   "execution_count": 63,
   "metadata": {
    "pycharm": {
     "name": "#%%\n"
    }
   },
   "outputs": [
    {
     "name": "stdout",
     "output_type": "stream",
     "text": [
      "Rank of the matrix R = [B AB AAB ... A^(n-1)B] is equal to  4\n",
      "The system is controllable\n",
      "Rank of the matrix O = [Ct AtCt AtCt ... At^(n-1)Ct] is equal to  4\n",
      "The system is observable\n",
      "We can use pool-placement for the system or LQR\n",
      "Let's do it!\n"
     ]
    },
    {
     "name": "stderr",
     "output_type": "stream",
     "text": [
      "/usr/lib/python3.10/site-packages/matplotlib/animation.py:889: UserWarning: Animation was deleted without rendering anything. This is most likely not intended. To prevent deletion, assign the Animation to a variable, e.g. `anim`, that exists until you have outputted the Animation using `plt.show()` or `anim.save()`.\n",
      "  warnings.warn(\n"
     ]
    }
   ],
   "source": [
    "def rank_for_check_controllability(A, B):\n",
    "    R = Matrix([[0, 0, 0, 0], [0, 0, 0, 0, ], [0, 0, 0, 0], [0, 0, 0, 0]])\n",
    "    R[0] = B\n",
    "    R[1] = A * B\n",
    "    R[2] = A * A * B\n",
    "    R[3] = A * A * A * B\n",
    "    rank = R.rank()\n",
    "    print(\"Rank of the matrix R = [B AB AAB ... A^(n-1)B] is equal to \", rank)\n",
    "    result = rank == R.shape[0]\n",
    "    if result:\n",
    "        outputStr = \"The system is controllable\"\n",
    "    else:\n",
    "        outputStr = \"The system is uncontrollable\"\n",
    "    print(outputStr)\n",
    "    return result\n",
    "\n",
    "\n",
    "def rank_for_check_observability(C, A):\n",
    "    O = Matrix([[0, 0, 0, 0], [0, 0, 0, 0, ], [0, 0, 0, 0], [0, 0, 0, 0]])\n",
    "    Ct = C.transpose()\n",
    "    At = A.transpose()\n",
    "    O[0] = Ct\n",
    "    O[1] = At * Ct\n",
    "    O[2] = At * At * Ct\n",
    "    O[3] = At * At * At * Ct\n",
    "    rank = O.rank()\n",
    "    print(\"Rank of the matrix O = [Ct AtCt AtCt ... At^(n-1)Ct] is equal to \", rank)\n",
    "    result = rank == O.shape[0]\n",
    "    if result:\n",
    "        outputStr = \"The system is observable\"\n",
    "    else:\n",
    "        outputStr = \"The system is unobservable\"\n",
    "    print(outputStr)\n",
    "    return result\n",
    "\n",
    "\n",
    "if rank_for_check_controllability(Am, Bm):\n",
    "    if rank_for_check_observability(Cm, Am):\n",
    "        print(\"We can use pool-placement for the system or LQR\\nLet's do it!\")\n",
    "else:\n",
    "    print(\"We can't use pool-placement and LQR :C\")\n"
   ]
  },
  {
   "cell_type": "markdown",
   "metadata": {
    "pycharm": {
     "name": "#%% md\n"
    }
   },
   "source": [
    "Use Pole Placement from scipy:"
   ]
  },
  {
   "cell_type": "code",
   "execution_count": 64,
   "metadata": {
    "pycharm": {
     "name": "#%%\n"
    }
   },
   "outputs": [
    {
     "name": "stdout",
     "output_type": "stream",
     "text": [
      "Desired pole placement eigenvalues : [-3.21568652 -4.47098541 -6.71831777 -2.22746822]\n",
      "Martix K: [[125.40539912 167.14855834  30.04097156  38.67342947]]\n"
     ]
    }
   ],
   "source": [
    "from scipy.signal import place_poles, ss2tf\n",
    "\n",
    "#The system is stable when the real part of its eigenvalues are negative, so create a set of 4 negative real eigenvalues\n",
    "\n",
    "eigP_desired = np.random.uniform(-10, -1, size=(4,))\n",
    "print(\"Desired pole placement eigenvalues :\", eigP_desired)\n",
    "place_poles_lin = place_poles(A, B, eigP_desired)\n",
    "Kpp = place_poles_lin.gain_matrix\n",
    "print(\"Martix K:\", Kpp)"
   ]
  },
  {
   "cell_type": "markdown",
   "metadata": {
    "pycharm": {
     "name": "#%% md\n"
    }
   },
   "source": [
    "Use LQR:"
   ]
  },
  {
   "cell_type": "code",
   "execution_count": 65,
   "metadata": {
    "pycharm": {
     "name": "#%%\n"
    }
   },
   "outputs": [
    {
     "name": "stdout",
     "output_type": "stream",
     "text": [
      "Martix K: [[-6.91628181  2.07651368 -1.21141014  1.17241666]]\n"
     ]
    }
   ],
   "source": [
    "def lqr(A, B, Q, R):\n",
    "    # Solve the ARE\n",
    "    S = are(A, B, Q, R)\n",
    "    R_inv = np.linalg.inv(R)\n",
    "    Klqr = R_inv.dot((B.T).dot(S))\n",
    "    Ac = A - B.dot(Klqr)\n",
    "    E = np.linalg.eigvals(Ac)\n",
    "    return S, Klqr, E\n",
    "\n",
    "\n",
    "def system_ode(x, t, A, B, Klqr):\n",
    "    u = -np.dot(Klqr, x)\n",
    "    dx = np.dot(A, x) + np.dot(B, u)\n",
    "    return dx\n",
    "\n",
    "\n",
    "t0 = 0  # Initial time\n",
    "tf = 15  # Final time\n",
    "N = int(2E3)  # Numbers of points in time span\n",
    "t = np.linspace(t0, tf, N)  # Create time span\n",
    "y_0 = 0.5\n",
    "x0 = np.ones(4)  # Set initial state\n",
    "\n",
    "Q = np.diag([1, 1, 1, 1])  #Set costs\n",
    "R = np.diag([1])\n",
    "S, K, E = lqr(A, B, Q, R)\n",
    "x_sol = odeint(system_ode, x0, t, args=(A, B, K))  # integrate system \"sys_ode\" from initial state $x0$\n",
    "\n",
    "simulations = {'fast': {'R': R / 10}, 'slow': {'R': R * 5}}\n",
    "\n",
    "print(\"Martix K:\", K)"
   ]
  },
  {
   "cell_type": "markdown",
   "metadata": {
    "pycharm": {
     "name": "#%% md\n"
    }
   },
   "source": [
    "## 1.4. Show stability of the closed-loop system via eigenvalue analysis.\n",
    "\n",
    "### Find eigenvalues for system with K from pole placement:"
   ]
  },
  {
   "cell_type": "code",
   "execution_count": 66,
   "metadata": {
    "pycharm": {
     "name": "#%%\n"
    }
   },
   "outputs": [
    {
     "name": "stdout",
     "output_type": "stream",
     "text": [
      "Martix K: [[125.40539912 167.14855834  30.04097156  38.67342947]]\n",
      "Eigenvalues for K from polePlacement:\n",
      " [-0.53034896+0.j         -1.06774362+0.j         -4.39286711+0.45602049j\n",
      " -4.39286711-0.45602049j] \n",
      "Desired eigenvalues: [-3.21568652 -4.47098541 -6.71831777 -2.22746822]\n",
      "The system is stable\n"
     ]
    }
   ],
   "source": [
    "eigP = np.linalg.eigvals(A - B @ K)\n",
    "\n",
    "for sim_type in simulations.keys():\n",
    "    R = simulations[sim_type]['R']\n",
    "    simulations[sim_type]['eigs'] = eigP\n",
    "    simulations[sim_type]['K'] = Kpp\n",
    "    simulations[sim_type]['x'] = odeint(system_ode, x0, t, args=(A, B, K))\n",
    "    simulations[sim_type]['u'] = - K.dot(x_sol.T).T\n",
    "\n",
    "print(\"Martix K:\", Kpp)\n",
    "print(\"Eigenvalues for K from polePlacement:\\n\", eigP, \"\\nDesired eigenvalues:\", eigP_desired)\n",
    "if eigP.max() < 0:\n",
    "    print(\"The system is stable\")\n",
    "else:\n",
    "    print(\"The system is unstable\")"
   ]
  },
  {
   "cell_type": "code",
   "execution_count": 67,
   "metadata": {
    "pycharm": {
     "name": "#%%\n"
    }
   },
   "outputs": [
    {
     "data": {
      "image/png": "[encoded data removed]",
      "text/plain": [
       "<Figure size 288x288 with 1 Axes>"
      ]
     },
     "metadata": {
      "needs_background": "light"
     },
     "output_type": "display_data"
    }
   ],
   "source": [
    "# Eigenvalues visualization\n",
    "figure(figsize=(4, 4))\n",
    "plot(simulations['fast']['eigs'].real, simulations['fast']['eigs'].imag, 'bo', label='Fast')\n",
    "plot(simulations['slow']['eigs'].real, simulations['slow']['eigs'].imag, 'rx',\n",
    "     label='Slow')\n",
    "grid(color='black', linestyle='--', linewidth=1.0, alpha=0.7)\n",
    "grid(True)\n",
    "xlabel(r'Real part: ${ \\operatorname{Re}(\\lambda)}$')\n",
    "ylabel(r'Imaginary part: ${ \\operatorname{Im}(\\lambda)}$')\n",
    "show()"
   ]
  },
  {
   "cell_type": "markdown",
   "metadata": {
    "pycharm": {
     "name": "#%% md\n"
    }
   },
   "source": [
    "### Find eigenvalues for system with K from LQR:"
   ]
  },
  {
   "cell_type": "code",
   "execution_count": 68,
   "metadata": {
    "pycharm": {
     "name": "#%%\n"
    }
   },
   "outputs": [
    {
     "name": "stdout",
     "output_type": "stream",
     "text": [
      "Eigenvalues for LQR are equal to:  [-0.52507157+0.j        -1.07337208+0.j        -4.29962854+0.4480173j\n",
      " -4.29962854-0.4480173j]\n",
      "[[-6.86487908  1.94316742 -1.14482729  1.05287345]]\n"
     ]
    }
   ],
   "source": [
    "for sim_type in simulations.keys():\n",
    "    R = simulations[sim_type]['R']\n",
    "    S, K, E = lqr(A, B, Q, R)\n",
    "    simulations[sim_type]['eigs'] = E\n",
    "    simulations[sim_type]['K'] = K\n",
    "    simulations[sim_type]['x'] = odeint(system_ode, x0, t, args=(A, B, K))\n",
    "    simulations[sim_type]['u'] = - K.dot(x_sol.T).T\n",
    "print(\"Eigenvalues for LQR are equal to: \", E)\n",
    "print(K)"
   ]
  },
  {
   "cell_type": "code",
   "execution_count": 69,
   "metadata": {
    "pycharm": {
     "name": "#%%\n"
    }
   },
   "outputs": [
    {
     "data": {
      "image/png": "[encoded data removed]",
      "text/plain": [
       "<Figure size 288x288 with 1 Axes>"
      ]
     },
     "metadata": {
      "needs_background": "light"
     },
     "output_type": "display_data"
    }
   ],
   "source": [
    "# Eigenvalues visualization\n",
    "figure(figsize=(4, 4))\n",
    "plot(simulations['fast']['eigs'].real, simulations['fast']['eigs'].imag, 'bo', label='Fast')\n",
    "plot(simulations['slow']['eigs'].real, simulations['slow']['eigs'].imag, 'rx',\n",
    "     label='Slow')\n",
    "grid(color='black', linestyle='--', linewidth=1.0, alpha=0.7)\n",
    "grid(True)\n",
    "xlabel(r'Real part: ${ \\operatorname{Re}(\\lambda)}$')\n",
    "ylabel(r'Imaginary part: ${ \\operatorname{Im}(\\lambda)}$')\n",
    "show()"
   ]
  },
  {
   "cell_type": "markdown",
   "metadata": {
    "pycharm": {
     "name": "#%% md\n"
    }
   },
   "source": [
    "## 1.5. Find stability margins by analysing Bode diagram for the system."
   ]
  },
  {
   "cell_type": "code",
   "execution_count": 70,
   "metadata": {
    "pycharm": {
     "name": "#%%\n"
    }
   },
   "outputs": [
    {
     "data": {
      "image/png": "[encoded data removed]",
      "text/plain": [
       "<Figure size 432x288 with 1 Axes>"
      ]
     },
     "metadata": {
      "needs_background": "light"
     },
     "output_type": "display_data"
    },
    {
     "data": {
      "image/png": "[encoded data removed]",
      "text/plain": [
       "<Figure size 432x288 with 1 Axes>"
      ]
     },
     "metadata": {
      "needs_background": "light"
     },
     "output_type": "display_data"
    }
   ],
   "source": [
    "# a(ω) = |W(jω)| and its phase\n",
    "# ϕ(ω) = atan2(im(W(jω)), real(W(jω)))\n",
    "\n",
    "sys = signal.TransferFunction([16], [20, 160, 264, -300, 208])\n",
    "array_w, mag, phase = signal.bode(sys)\n",
    "\n",
    "figure()\n",
    "title('Bode magnitude plot')\n",
    "semilogx(array_w, mag)\n",
    "figure()\n",
    "title('Bode phase plot')\n",
    "semilogx(array_w, phase)\n",
    "show()"
   ]
  },
  {
   "attachments": {
    "image.png": {
     "image/png": "[encoded data removed]"
    }
   },
   "cell_type": "markdown",
   "metadata": {},
   "source": [
    "![image.png](attachment:image.png)"
   ]
  },
  {
   "cell_type": "markdown",
   "metadata": {},
   "source": [
    "I have a different plot that MATLAB does...\n",
    "But after analyzing both graphs, it seems that the system does not reach the gain margin ($gain(\\omega) != 0$ or $(phase(\\omega) != -180$ for any frequency value), so the system is stable!\n",
    "Moreover, MATLAB says there is no stability margin."
   ]
  },
  {
   "cell_type": "markdown",
   "metadata": {
    "pycharm": {
     "name": "#%% md\n"
    }
   },
   "source": [
    "## 1.6. Simulate closed-loop system.\n"
   ]
  },
  {
   "cell_type": "code",
   "execution_count": 71,
   "metadata": {
    "pycharm": {
     "name": "#%%\n"
    }
   },
   "outputs": [
    {
     "data": {
      "image/png": "[encoded data removed]",
      "text/plain": [
       "<Figure size 648x216 with 1 Axes>"
      ]
     },
     "metadata": {
      "needs_background": "light"
     },
     "output_type": "display_data"
    }
   ],
   "source": [
    "for sim_type in simulations.keys():\n",
    "    simulations[sim_type]['x'] = odeint(system_ode, x0, t, args=(A, B, K))\n",
    "\n",
    "figure(figsize=(9, 3))\n",
    "plot(t, simulations['slow']['x'][:, 0], 'r', linewidth=2.0, label='x[1]')\n",
    "plot(t, simulations['slow']['x'][:, 2], 'b', linewidth=2.0, label='x[2]')\n",
    "plot(t, simulations['fast']['x'][:, 0], 'c--', linewidth=2.0, label='x[3]')\n",
    "plot(t, simulations['fast']['x'][:, 2], 'm--', linewidth=2.0, label='x[4]')\n",
    "legend()\n",
    "grid(color='black', linestyle='--', linewidth=1.0, alpha=0.7)\n",
    "grid(True)\n",
    "xlim([t0, tf])\n",
    "ylabel(r'State ${x}$')\n",
    "xlabel(r'Time $t$ (s)')\n",
    "title('State dynamics')\n",
    "show()"
   ]
  },
  {
   "cell_type": "markdown",
   "metadata": {
    "pycharm": {
     "name": "#%% md\n"
    }
   },
   "source": [
    "## 1.7. Modify the control law\n",
    "in such a way that the state of the system converges to $x_0 = \\begin{bmatrix}\n",
    "(2+0.1n)/(n-5) \\\\\n",
    "1 \\\\\n",
    "0 \\\\\n",
    "0\n",
    "\\end{bmatrix}$. Show resulting control law. Simulate the system and demonstrate convergence via graphs of state dynamics and error dynamics."
   ]
  },
  {
   "cell_type": "code",
   "execution_count": 72,
   "metadata": {
    "pycharm": {
     "name": "#%%\n"
    }
   },
   "outputs": [
    {
     "name": "stdout",
     "output_type": "stream",
     "text": [
      "Martix K: [[0 0 0 0]]\n"
     ]
    }
   ],
   "source": [
    "Km = np.array([[0,0,0,0]])\n",
    "y_0 = 0.5\n",
    "C = np.array([-2.2 / 3, 1, 0, 0])  # initial state, in affine control we will use the state as C\n",
    "x_sol = odeint(system_ode, C, t, args=(A, B, Km))  # integrate system \"sys_ode\" from initial state $x0$\n",
    "\n",
    "Q = np.diag([1, 1, 1, 1])\n",
    "R = np.diag([1])\n",
    "simulations = {'fast': {'R': R}, 'slow': {'R': R}}\n",
    "\n",
    "print(\"Martix K:\", Km)"
   ]
  },
  {
   "cell_type": "markdown",
   "metadata": {
    "pycharm": {
     "name": "#%% md\n"
    }
   },
   "source": [
    "#### $u = \\begin{bmatrix}\n",
    "6.84\\\\\n",
    "-1.94\\\\\n",
    "1.14\\\\\n",
    "-1.05\n",
    "\\end{bmatrix} x$"
   ]
  },
  {
   "cell_type": "code",
   "execution_count": 73,
   "metadata": {
    "pycharm": {
     "name": "#%%\n"
    }
   },
   "outputs": [
    {
     "data": {
      "image/png": "[encoded data removed]",
      "text/plain": [
       "<Figure size 648x216 with 1 Axes>"
      ]
     },
     "metadata": {
      "needs_background": "light"
     },
     "output_type": "display_data"
    }
   ],
   "source": [
    "# e0 = [0, 0, 0, 0]\n",
    "\n",
    "for sim_type in simulations.keys():\n",
    "    R = simulations[sim_type]['R']\n",
    "    S, K, E = lqr(A, B, Q, R)\n",
    "    simulations[sim_type]['eigs'] = E\n",
    "    simulations[sim_type]['K'] = K\n",
    "    simulations[sim_type]['x'] = odeint(system_ode, C, t, args=(A, B, K))\n",
    "    # u_star = np.linalg.pinv(B) * (x_sol - A * C)\n",
    "    # simulations[sim_type]['error'] = A*\n",
    "    simulations[sim_type]['u'] = - K.dot(x_sol.T).T\n",
    "\n",
    "figure(figsize=(9, 3))\n",
    "plot(t, simulations['slow']['x'][:, 0], 'r', linewidth=2.0, label='x[1]')\n",
    "plot(t, simulations['slow']['x'][:, 2], 'b', linewidth=2.0, label='x[2]')\n",
    "plot(t, simulations['fast']['x'][:, 0], 'g--', linewidth=2.0, label='x[3]')\n",
    "plot(t, simulations['fast']['x'][:, 2], 'y--', linewidth=2.0, label='x[4]')\n",
    "legend()\n",
    "grid(color='black', linestyle='--', linewidth=1.0, alpha=0.7)\n",
    "grid(True)\n",
    "xlim([t0, tf])\n",
    "ylabel(r'State ${x}$')\n",
    "xlabel(r'Time $t$ (s)')\n",
    "title('State dynamics')\n",
    "show()"
   ]
  },
  {
   "cell_type": "markdown",
   "metadata": {
    "pycharm": {
     "name": "#%% md\n"
    }
   },
   "source": [
    "To determine error dynamics, use the formula from affine control $u^{*} = B^{+}(\\dot x^{*} - Ax^{*})$"
   ]
  },
  {
   "cell_type": "code",
   "execution_count": 74,
   "metadata": {
    "pycharm": {
     "name": "#%%\n"
    }
   },
   "outputs": [
    {
     "name": "stdout",
     "output_type": "stream",
     "text": [
      "[[-0.  0. -0.  0.]\n",
      " [-0.  0. -0.  0.]\n",
      " [ 0.  0. -0.  0.]\n",
      " [-0.  0. -0.  0.]]\n"
     ]
    }
   ],
   "source": [
    "u_star = np.linalg.pinv(B) * (x_sol[0] - A * C)\n",
    "print(u_star)"
   ]
  },
  {
   "cell_type": "markdown",
   "metadata": {
    "pycharm": {
     "name": "#%% md\n"
    }
   },
   "source": [
    "Since $u^* = 0$, $v=u$\n",
    "#### The final error dynamical system equation is: $\\dot e = Ae+Bu$"
   ]
  },
  {
   "cell_type": "code",
   "execution_count": null,
   "metadata": {
    "pycharm": {
     "name": "#%%\n"
    }
   },
   "outputs": [],
   "source": []
  },
  {
   "cell_type": "code",
   "execution_count": 75,
   "metadata": {
    "pycharm": {
     "name": "#%%\n"
    }
   },
   "outputs": [
    {
     "ename": "ValueError",
     "evalue": "matmul: Input operand 1 has a mismatch in its core dimension 0, with gufunc signature (n?,k),(k,m?)->(n?,m?) (size 2 is different from 4)",
     "output_type": "error",
     "traceback": [
      "\u001B[0;31m---------------------------------------------------------------------------\u001B[0m",
      "\u001B[0;31mValueError\u001B[0m                                Traceback (most recent call last)",
      "Input \u001B[0;32mIn [75]\u001B[0m, in \u001B[0;36m<cell line: 11>\u001B[0;34m()\u001B[0m\n\u001B[1;32m      9\u001B[0m dx_des \u001B[38;5;241m=\u001B[39m np\u001B[38;5;241m.\u001B[39marray([\u001B[38;5;241m0\u001B[39m, \u001B[38;5;241m0\u001B[39m])\n\u001B[1;32m     10\u001B[0m x0 \u001B[38;5;241m=\u001B[39m np\u001B[38;5;241m.\u001B[39marray([\u001B[38;5;241m-\u001B[39m\u001B[38;5;241m4\u001B[39m, \u001B[38;5;241m0\u001B[39m])\n\u001B[0;32m---> 11\u001B[0m \u001B[43mStateSpace\u001B[49m\u001B[43m(\u001B[49m\u001B[43mx0\u001B[49m\u001B[43m,\u001B[49m\u001B[43m \u001B[49m\u001B[43mt\u001B[49m\u001B[43m,\u001B[49m\u001B[43m \u001B[49m\u001B[43mA\u001B[49m\u001B[43m,\u001B[49m\u001B[43m \u001B[49m\u001B[43mB\u001B[49m\u001B[43m,\u001B[49m\u001B[43m \u001B[49m\u001B[43mK\u001B[49m\u001B[43m,\u001B[49m\u001B[43m \u001B[49m\u001B[43mx_des\u001B[49m\u001B[43m,\u001B[49m\u001B[43m \u001B[49m\u001B[43mdx_des\u001B[49m\u001B[43m)\u001B[49m\n\u001B[1;32m     12\u001B[0m x_sol \u001B[38;5;241m=\u001B[39m odeint(StateSpace, x0, t, args\u001B[38;5;241m=\u001B[39m(A, B, K, x_des, dx_des))\n\u001B[1;32m     13\u001B[0m y, dy \u001B[38;5;241m=\u001B[39m x_sol[:,\u001B[38;5;241m0\u001B[39m], x_sol[:,\u001B[38;5;241m1\u001B[39m]\n",
      "Input \u001B[0;32mIn [75]\u001B[0m, in \u001B[0;36mStateSpace\u001B[0;34m(x, t, A, B, K, x_des, dx_des)\u001B[0m\n\u001B[1;32m      1\u001B[0m \u001B[38;5;28;01mdef\u001B[39;00m \u001B[38;5;21mStateSpace\u001B[39m(x, t, A, B, K, x_des, dx_des):\n\u001B[0;32m----> 2\u001B[0m     u_ff \u001B[38;5;241m=\u001B[39m np\u001B[38;5;241m.\u001B[39mlinalg\u001B[38;5;241m.\u001B[39mpinv(B) \u001B[38;5;241m@\u001B[39m (dx_des \u001B[38;5;241m-\u001B[39m \u001B[43mA\u001B[49m\u001B[43m \u001B[49m\u001B[38;5;241;43m@\u001B[39;49m\u001B[43m \u001B[49m\u001B[43mx_des\u001B[49m)\n\u001B[1;32m      3\u001B[0m     u_fb \u001B[38;5;241m=\u001B[39m \u001B[38;5;241m-\u001B[39m K \u001B[38;5;241m@\u001B[39m (x\u001B[38;5;241m-\u001B[39mx_des)\n\u001B[1;32m      4\u001B[0m     u \u001B[38;5;241m=\u001B[39m u_fb \u001B[38;5;241m+\u001B[39m u_ff\n",
      "\u001B[0;31mValueError\u001B[0m: matmul: Input operand 1 has a mismatch in its core dimension 0, with gufunc signature (n?,k),(k,m?)->(n?,m?) (size 2 is different from 4)"
     ]
    }
   ],
   "source": [
    "def StateSpace(x, t, A, B, K, x_des, dx_des):\n",
    "    u_ff = np.linalg.pinv(B) @ (dx_des - A @ x_des)\n",
    "    u_fb = - K @ (x-x_des)\n",
    "    u = u_fb + u_ff\n",
    "    return A @ x + B @ u\n",
    "\n",
    "\n",
    "x_des = np.array([3, 0])\n",
    "dx_des = np.array([0, 0])\n",
    "x0 = np.array([-4, 0])\n",
    "StateSpace(x0, t, A, B, K, x_des, dx_des)\n",
    "x_sol = odeint(StateSpace, x0, t, args=(A, B, K, x_des, dx_des))\n",
    "y, dy = x_sol[:,0], x_sol[:,1]\n",
    "plot(t, y, 'r', linewidth=2.0, label = r'Position $y$ (m)')\n",
    "plot(t, dy, 'b', linewidth=2.0, label = r'Velocity $\\dot{y}$ (m/s)')\n",
    "legend()\n",
    "grid(color='black', linestyle='--', linewidth=1.0, alpha = 0.7)\n",
    "grid(True)\n",
    "xlim([t0, tf])\n",
    "ylabel(r'System state')\n",
    "xlabel(r'Time $t$ (s)')\n",
    "show()\n",
    "plot(y, dy, 'r', linewidth = 2.)\n",
    "grid(color='black', linestyle='--', linewidth=1.0, alpha = 0.7)\n",
    "grid(True)\n",
    "ylabel(r'Velocity $\\dot{y}$ (m/s)')\n",
    "xlabel(r'Position $y$ (m)')\n",
    "xlim([-10, 10])\n",
    "ylim([-10, 10])\n",
    "show()"
   ]
  },
  {
   "cell_type": "code",
   "execution_count": 76,
   "metadata": {
    "pycharm": {
     "name": "#%%\n"
    }
   },
   "outputs": [
    {
     "ename": "ValueError",
     "evalue": "matmul: Input operand 1 has a mismatch in its core dimension 0, with gufunc signature (n?,k),(k,m?)->(n?,m?) (size 4 is different from 2)",
     "output_type": "error",
     "traceback": [
      "\u001B[0;31m---------------------------------------------------------------------------\u001B[0m",
      "\u001B[0;31mValueError\u001B[0m                                Traceback (most recent call last)",
      "Input \u001B[0;32mIn [76]\u001B[0m, in \u001B[0;36m<cell line: 19>\u001B[0;34m()\u001B[0m\n\u001B[1;32m     17\u001B[0m dx_des \u001B[38;5;241m=\u001B[39m np\u001B[38;5;241m.\u001B[39marray([\u001B[38;5;241m0\u001B[39m, \u001B[38;5;241m0\u001B[39m, \u001B[38;5;241m0\u001B[39m, \u001B[38;5;241m0\u001B[39m])\n\u001B[1;32m     18\u001B[0m x0 \u001B[38;5;241m=\u001B[39m np\u001B[38;5;241m.\u001B[39marray([\u001B[38;5;241m0\u001B[39m, \u001B[38;5;241m0\u001B[39m, \u001B[38;5;241m0\u001B[39m, \u001B[38;5;241m0\u001B[39m])\n\u001B[0;32m---> 19\u001B[0m \u001B[43mStateSpace\u001B[49m\u001B[43m(\u001B[49m\u001B[43mx0\u001B[49m\u001B[43m,\u001B[49m\u001B[43m \u001B[49m\u001B[43mt\u001B[49m\u001B[43m,\u001B[49m\u001B[43m \u001B[49m\u001B[43mA\u001B[49m\u001B[43m,\u001B[49m\u001B[43m \u001B[49m\u001B[43mB\u001B[49m\u001B[43m,\u001B[49m\u001B[43m \u001B[49m\u001B[43mK\u001B[49m\u001B[43m,\u001B[49m\u001B[43m \u001B[49m\u001B[43mx_des\u001B[49m\u001B[43m,\u001B[49m\u001B[43m \u001B[49m\u001B[43mdx_des\u001B[49m\u001B[43m)\u001B[49m\n\u001B[1;32m     20\u001B[0m x_sol \u001B[38;5;241m=\u001B[39m odeint(StateSpace_trajectory, x0, t, args\u001B[38;5;241m=\u001B[39m(A, B, K))\n\u001B[1;32m     21\u001B[0m y, dy \u001B[38;5;241m=\u001B[39m x_sol[:,\u001B[38;5;241m0\u001B[39m], x_sol[:,\u001B[38;5;241m1\u001B[39m]\n",
      "Input \u001B[0;32mIn [75]\u001B[0m, in \u001B[0;36mStateSpace\u001B[0;34m(x, t, A, B, K, x_des, dx_des)\u001B[0m\n\u001B[1;32m      1\u001B[0m \u001B[38;5;28;01mdef\u001B[39;00m \u001B[38;5;21mStateSpace\u001B[39m(x, t, A, B, K, x_des, dx_des):\n\u001B[1;32m      2\u001B[0m     u_ff \u001B[38;5;241m=\u001B[39m np\u001B[38;5;241m.\u001B[39mlinalg\u001B[38;5;241m.\u001B[39mpinv(B) \u001B[38;5;241m@\u001B[39m (dx_des \u001B[38;5;241m-\u001B[39m A \u001B[38;5;241m@\u001B[39m x_des)\n\u001B[0;32m----> 3\u001B[0m     u_fb \u001B[38;5;241m=\u001B[39m \u001B[38;5;241;43m-\u001B[39;49m\u001B[43m \u001B[49m\u001B[43mK\u001B[49m\u001B[43m \u001B[49m\u001B[38;5;241;43m@\u001B[39;49m\u001B[43m \u001B[49m\u001B[43m(\u001B[49m\u001B[43mx\u001B[49m\u001B[38;5;241;43m-\u001B[39;49m\u001B[43mx_des\u001B[49m\u001B[43m)\u001B[49m\n\u001B[1;32m      4\u001B[0m     u \u001B[38;5;241m=\u001B[39m u_fb \u001B[38;5;241m+\u001B[39m u_ff\n\u001B[1;32m      5\u001B[0m     \u001B[38;5;28;01mreturn\u001B[39;00m A \u001B[38;5;241m@\u001B[39m x \u001B[38;5;241m+\u001B[39m B \u001B[38;5;241m@\u001B[39m u\n",
      "\u001B[0;31mValueError\u001B[0m: matmul: Input operand 1 has a mismatch in its core dimension 0, with gufunc signature (n?,k),(k,m?)->(n?,m?) (size 4 is different from 2)"
     ]
    }
   ],
   "source": [
    "def trajectory(t):\n",
    "    x_des = np.array([np.sin(t),np.cos(t)])\n",
    "    dx_des = np.array([np.cos(t),-np.sin(t)])\n",
    "    return x_des, dx_des\n",
    "\n",
    "\n",
    "def StateSpace_trajectory(x, t, A, B, K):\n",
    "    x_des, dx_des = trajectory(t)\n",
    "    u_ff = np.linalg.pinv(B) @ (dx_des - A @ x_des)\n",
    "    u_fb = - K @ (x-x_des)\n",
    "    u = u_fb + u_ff\n",
    "    return A @ x + B @ u\n",
    "\n",
    "\n",
    "K = np.array([[3,4]])\n",
    "x_des = C\n",
    "dx_des = np.array([0, 0, 0, 0])\n",
    "x0 = np.array([0, 0, 0, 0])\n",
    "StateSpace(x0, t, A, B, K, x_des, dx_des)\n",
    "x_sol = odeint(StateSpace_trajectory, x0, t, args=(A, B, K))\n",
    "y, dy = x_sol[:,0], x_sol[:,1]\n",
    "plot(t, y, 'r', linewidth=2.0, label = r'Position $y$ (m)')\n",
    "plot(t, dy, 'b', linewidth=2.0, label = r'Velocity $\\dot{y}$ (m/s)')\n",
    "legend()\n",
    "grid(color='black', linestyle='--', linewidth=1.0, alpha = 0.7)\n",
    "grid(True)\n",
    "xlim([t0, tf])\n",
    "ylabel(r'System state')\n",
    "xlabel(r'Time $t$ (s)')\n",
    "show()\n",
    "plot(y, dy, 'r', linewidth = 2.)\n",
    "grid(color='black', linestyle='--', linewidth=1.0, alpha = 0.7)\n",
    "grid(True)\n",
    "ylabel(r'Velocity $\\dot{y}$ (m/s)')\n",
    "xlabel(r'Position $y$ (m)')\n",
    "xlim([-10, 10])\n",
    "ylim([-10, 10])\n",
    "show()"
   ]
  },
  {
   "cell_type": "markdown",
   "metadata": {
    "pycharm": {
     "name": "#%% md\n"
    }
   },
   "source": []
  },
  {
   "cell_type": "markdown",
   "metadata": {
    "pycharm": {
     "name": "#%% md\n"
    }
   },
   "source": [
    "## 1.8.Discretize the system with $\\Delta t = 0.01$. Write equations of the discrete dynamics.\n",
    "$ \\dot x \\approx \\frac{1}{\\Delta t}*(x(t)-x(t-\\Delta t)) \\\\\n",
    "\\dot x \\approx \\frac{1}{\\Delta t}*(x_{i+1}-x_{i}) = Ax_i \\\\\n",
    "x_{i+1} = (I - A \\Delta t)^{-1} x_i$\n",
    "\n",
    "\n",
    "Define discrete state space matrix $\\bar{A} = A \\Delta t + I$ and discrete control matrix $\\bar{B} = B \\Delta t\\\\$.\n",
    "So, we get the discrete dynamics system:\n",
    "$\\begin{cases}x_{i+1} = \\bar{A} x_i + \\bar{B} u_i\\\\\n",
    "y_{i+1} = Cx_i\\end{cases}$"
   ]
  },
  {
   "cell_type": "code",
   "execution_count": 77,
   "metadata": {
    "pycharm": {
     "name": "#%%\n"
    }
   },
   "outputs": [
    {
     "name": "stdout",
     "output_type": "stream",
     "text": [
      "Ad = [[ 1.     0.     0.01   0.   ]\n",
      " [ 0.     1.     0.     0.01 ]\n",
      " [ 0.02  -0.02   0.95  -0.02 ]\n",
      " [-0.05  -0.002  0.     0.97 ]] \n",
      "Bd= [[ 0.  ]\n",
      " [ 0.  ]\n",
      " [-0.01]\n",
      " [ 0.01]]\n"
     ]
    }
   ],
   "source": [
    "dt = 0.01\n",
    "I = np.diag([1, 1, 1, 1])\n",
    "Ad = I + A * dt\n",
    "Bd = B * dt\n",
    "print(\"Ad =\", Ad, \"\\nBd=\", Bd)"
   ]
  },
  {
   "cell_type": "markdown",
   "metadata": {
    "pycharm": {
     "name": "#%% md\n"
    }
   },
   "source": [
    "It is easy to write down the equation for the system dynamics:\n",
    "$\\begin{cases}x_{i+1} = \\begin{bmatrix} 1& 0& 0.01&0\\\\\n",
    " 0&1&0&0.01\\\\\n",
    " 0.02& -0.02& 0.95& -0.02\\\\\n",
    " -0.05 & -0.002&0& 0.97\n",
    " \\end{bmatrix}x_i + \\begin{bmatrix} 0\\\\0\\\\-0.01\\\\0.01 \\end{bmatrix} u_i\\\\\n",
    "y_{i+1} = \\begin{bmatrix} 1&1&0&0\n",
    "\\end{bmatrix}x_i\\end{cases}$"
   ]
  },
  {
   "cell_type": "markdown",
   "metadata": {
    "pycharm": {
     "name": "#%% md\n"
    }
   },
   "source": [
    "## 1.9. Propose a control law for the discrete system via pole-placement and LQR (show cost function for the LQR).\n",
    "\n",
    "In general, discrete systems are stable as long as $|\\lambda _ i(A)| \\leq 1$.\n"
   ]
  },
  {
   "cell_type": "code",
   "execution_count": 78,
   "metadata": {
    "pycharm": {
     "name": "#%%\n"
    }
   },
   "outputs": [
    {
     "name": "stdout",
     "output_type": "stream",
     "text": [
      "Desired eigenvalues:  [-0.59088388  0.48640933 -0.33981218  0.50655199] \n",
      " K matrix:  [[67330064.86371936 67381485.19839531  3288714.53507553  3289100.30855039]]\n",
      "\n",
      "\n",
      "Control law via pole-pplacement: \n",
      "u_i = - [[67330064.86371936]\n",
      " [67381485.19839531]\n",
      " [ 3288714.53507553]\n",
      " [ 3289100.30855039]] x_i\n"
     ]
    }
   ],
   "source": [
    "# Find desired eigenvalues for control law\n",
    "eigD_desired = np.random.uniform(-0.999999, 0.999999, size=(4,))\n",
    "place_poles_disc = place_poles(Ad, Bd, eigD_desired)\n",
    "Kd_pp = place_poles_disc.gain_matrix\n",
    "print(\"Desired eigenvalues: \", eigD_desired, \"\\n K matrix: \", Kd_pp)\n",
    "print(\"\\n\\nControl law via pole-pplacement: \\nu_i = -\", Kd_pp.T, \"x_i\")"
   ]
  },
  {
   "cell_type": "code",
   "execution_count": 79,
   "metadata": {
    "pycharm": {
     "name": "#%%\n"
    }
   },
   "outputs": [
    {
     "name": "stdout",
     "output_type": "stream",
     "text": [
      "P= [[2403.41259915 -595.91460149  378.89858952 -310.7108269 ]\n",
      " [-595.91460149  493.912318    -91.74095976  136.2004981 ]\n",
      " [ 378.89858952  -91.74095976   88.71323775  -46.87471136]\n",
      " [-310.7108269   136.2004981   -46.87471136  106.3918401 ]]\n",
      "[1.95316077+0.0032682j 1.95316077-0.0032682j 1.99012669+0.j\n",
      " 1.99466631+0.j       ]\n",
      "\n",
      "Matrix K: [[-6.89609416  2.27941458 -1.35587949  1.53266551]]\n",
      "\n",
      "\n",
      "Control law via LQR:\n",
      "u_i= - [[-6.89609416]\n",
      " [ 2.27941458]\n",
      " [-1.35587949]\n",
      " [ 1.53266551]] x_i\n",
      "cost function: 0.0\n"
     ]
    }
   ],
   "source": [
    "from scipy.linalg import solve_discrete_are\n",
    "\n",
    "t0 = 0  # Initial time\n",
    "tf = 15  # Final time\n",
    "N = int(2E3)  # Numbers of points in time span\n",
    "t = np.linspace(t0, tf, N)  # Create time span\n",
    "y_0 = 0.5\n",
    "x0 = np.array([0, 0, 0, 0])  # Set initial state\n",
    "\n",
    "Q = np.diag([1, 2, 3, 4])  #Set costs\n",
    "R = np.diag([1])\n",
    "P = solve_discrete_are(Ad, Bd, Q, R)\n",
    "print(\"P=\", P)\n",
    "Kd = np.linalg.inv(R) @ Bd.T @ P\n",
    "Al = np.eye(4) + Ad - Bd @ Kd\n",
    "print(np.linalg.eigvals(Al))\n",
    "\n",
    "print(\"\\nMatrix K:\", Kd)\n",
    "print(\"\\n\\nControl law via LQR:\\nu_i= -\", Kd.T, \"x_i\")\n",
    "print( \"cost function:\", x0.T@P@x0 )"
   ]
  },
  {
   "cell_type": "markdown",
   "metadata": {
    "pycharm": {
     "name": "#%% md\n"
    }
   },
   "source": [
    "## 1.10. Show eigenvalue analysis of the closed-loop dynamics of the discrete system (with the proposed discrete control law. Demonstrate stability."
   ]
  },
  {
   "cell_type": "code",
   "execution_count": 80,
   "metadata": {
    "pycharm": {
     "name": "#%%\n"
    }
   },
   "outputs": [
    {
     "name": "stdout",
     "output_type": "stream",
     "text": [
      "Eigenvalues for K from polePlacement:\n",
      " [0.95316077+0.0032682j 0.95316077-0.0032682j 0.99012669+0.j\n",
      " 0.99466631+0.j       ]\n",
      "The system is unstable\n"
     ]
    }
   ],
   "source": [
    "eig10 = np.linalg.eigvals(Ad - Bd @ Kd)\n",
    "\n",
    "for sim_type in simulations.keys():\n",
    "    R = simulations[sim_type]['R']\n",
    "    simulations[sim_type]['eigs10'] = eig10\n",
    "\n",
    "print(\"Eigenvalues for K from polePlacement:\\n\", eig10)\n",
    "if eig10.max() < 0:\n",
    "    print(\"The system is stable\")\n",
    "else:\n",
    "    print(\"The system is unstable\")\n"
   ]
  },
  {
   "cell_type": "code",
   "execution_count": 81,
   "metadata": {
    "pycharm": {
     "name": "#%%\n"
    }
   },
   "outputs": [
    {
     "data": {
      "image/png": "[encoded data removed]",
      "text/plain": [
       "<Figure size 288x288 with 1 Axes>"
      ]
     },
     "metadata": {
      "needs_background": "light"
     },
     "output_type": "display_data"
    }
   ],
   "source": [
    "# Eigenvalues visualization\n",
    "figure(figsize=(4, 4))\n",
    "plot(simulations['fast']['eigs10'].real, simulations['fast']['eigs10'].imag, 'bo', label='Fast')\n",
    "plot(simulations['slow']['eigs10'].real, simulations['slow']['eigs10'].imag, 'rx',\n",
    "     label='Slow')\n",
    "grid(color='black', linestyle='--', linewidth=1.0, alpha=0.7)\n",
    "grid(True)\n",
    "xlabel(r'Real part: ${ \\operatorname{Re}(\\lambda)}$')\n",
    "ylabel(r'Imaginary part: ${ \\operatorname{Im}(\\lambda)}$')\n",
    "show()"
   ]
  },
  {
   "cell_type": "markdown",
   "metadata": {
    "pycharm": {
     "name": "#%% md\n"
    }
   },
   "source": [
    "## 1.11. Simulate the discrete system. Show graphs."
   ]
  },
  {
   "cell_type": "code",
   "execution_count": 82,
   "metadata": {
    "pycharm": {
     "name": "#%%\n"
    }
   },
   "outputs": [],
   "source": [
    "def plot_solution(x, t, control: str = \" \"):\n",
    "    figure()\n",
    "    if control== \" \": title(\"System dynamics\")\n",
    "    else: title(f\"System dynamics {control}\")\n",
    "    colors = ['b', 'r', 'c', 'm']\n",
    "    for i in range(x.shape[1]):\n",
    "        step(t, x[:, i], linewidth=2.0, color=colors[i], label=\"x\" + str(i))\n",
    "    grid(True, color='black', linestyle='--', linewidth=1.0, alpha=0.7)\n",
    "    legend()\n",
    "    show()\n",
    "    # plot(t, simulations['slow']['x'][:, 0], 'r', linewidth=2.0, label='x[1]')\n",
    "    # plot(t, simulations['slow']['x'][:, 2], 'b', linewidth=2.0, label='x[2]')\n",
    "    # plot(t, simulations['fast']['x'][:, 0], 'g--', linewidth=2.0, label='x[3]')\n",
    "    # plot(t, simulations['fast']['x'][:, 2], 'y--', linewidth=2.0, label='x[4]')"
   ]
  },
  {
   "cell_type": "code",
   "execution_count": 83,
   "metadata": {
    "pycharm": {
     "name": "#%%\n"
    }
   },
   "outputs": [
    {
     "data": {
      "image/png": "[encoded data removed]",
      "text/plain": [
       "<Figure size 432x288 with 1 Axes>"
      ]
     },
     "metadata": {
      "needs_background": "light"
     },
     "output_type": "display_data"
    },
    {
     "data": {
      "image/png": "[encoded data removed]",
      "text/plain": [
       "<Figure size 432x288 with 1 Axes>"
      ]
     },
     "metadata": {
      "needs_background": "light"
     },
     "output_type": "display_data"
    }
   ],
   "source": [
    "def x_next(x, Ad, Bd, k):\n",
    "    return (Ad - Bd @ k) @ x\n",
    "\n",
    "\n",
    "def w_or_wo_control(control, k):\n",
    "    x = C\n",
    "    xs = [x]\n",
    "\n",
    "    for t_ in t[:-1]:\n",
    "        x = x_next(x, Ad, Bd, k)\n",
    "        xs.append(x)\n",
    "\n",
    "    solution = np.array(xs)\n",
    "    control = \" with control\" if control else \" without control\"\n",
    "    plot_solution(solution, t, control)\n",
    "\n",
    "\n",
    "# discrete system without control\n",
    "w_or_wo_control(False, np.eye(1))\n",
    "# discrete system with control\n",
    "w_or_wo_control(True, Kd_pp)"
   ]
  },
  {
   "cell_type": "markdown",
   "metadata": {
    "pycharm": {
     "name": "#%% md\n"
    }
   },
   "source": [
    "# Task 2 (4 points)\n",
    "\n",
    "You are given a system:\n",
    "\n",
    "$$\n",
    "\\begin{cases}\n",
    "\\dot x =\n",
    "\\begin{bmatrix}\n",
    "1 & 5 & -2 \\\\\n",
    "2 & 1 & -3 \\\\\n",
    "-1 & -2 & 7\n",
    "\\end{bmatrix}\n",
    "x\n",
    "+\n",
    "\\begin{bmatrix}\n",
    "2 \\\\\n",
    "1 \\\\\n",
    "0\n",
    "\\end{bmatrix}\n",
    "u \\\\\n",
    "u = -\\begin{bmatrix}\n",
    "7k & 6k & -50k\n",
    "\\end{bmatrix} x\n",
    "\\end{cases}\n",
    "$$"
   ]
  },
  {
   "cell_type": "markdown",
   "metadata": {
    "pycharm": {
     "name": "#%% md\n"
    }
   },
   "source": [
    "## 1. How do the eigenvalues of the closed-loop system depend on k? Plot the evolution of the eigenvalues on a complex plane, as $k$ changes from 0 to 5."
   ]
  },
  {
   "cell_type": "code",
   "execution_count": 84,
   "metadata": {
    "pycharm": {
     "name": "#%%\n"
    }
   },
   "outputs": [],
   "source": [
    "An = np.array([[1, 5, -2], [2, 1, -3], [-1, -2, 7]])\n",
    "Bn = np.array([[2], [1], [0]])\n",
    "\n",
    "\n",
    "def k_matrix(k):\n",
    "    return np.array([[7, 6, -50]]) * k\n",
    "\n",
    "\n",
    "def find_eig(k):\n",
    "    K = k_matrix(k)\n",
    "    return np.linalg.eig(An - Bn @ K)\n",
    "\n",
    "\n",
    "def system_ode(x, t, A, B, Klqr):\n",
    "    u = -np.dot(Klqr, x)\n",
    "    dx = np.dot(A, x) + np.dot(B, u)\n",
    "    return dx\n",
    "\n"
   ]
  },
  {
   "cell_type": "markdown",
   "metadata": {
    "pycharm": {
     "name": "#%% md\n"
    }
   },
   "source": [
    "### k=3.19\n",
    "To make bode plot, find transfer function:"
   ]
  },
  {
   "cell_type": "code",
   "execution_count": 87,
   "metadata": {
    "pycharm": {
     "name": "#%%\n"
    }
   },
   "outputs": [
    {
     "name": "stdout",
     "output_type": "stream",
     "text": [
      "(3, 3) (3, 1) (1, 3)\n"
     ]
    }
   ],
   "source": [
    "Kn = np.array([[7*3.19, 6*3.19, -50*3.19]])\n",
    "print(An.shape, Bn.shape, Kn.shape)"
   ]
  },
  {
   "cell_type": "code",
   "execution_count": 88,
   "metadata": {
    "pycharm": {
     "name": "#%%\n"
    }
   },
   "outputs": [
    {
     "name": "stdout",
     "output_type": "stream",
     "text": [
      "Martix K: [[  22.33   19.14 -159.5 ]]\n",
      "Eigenvalues for K from polePlacement:\n",
      " [-48.57687759+0.j          -3.11156121+0.91012708j\n",
      "  -3.11156121-0.91012708j]\n",
      "The system is stable\n"
     ]
    }
   ],
   "source": [
    "eign = np.linalg.eigvals(An - Bn @ Kn)\n",
    "\n",
    "for sim_type in simulations.keys():\n",
    "    R = simulations[sim_type]['R']\n",
    "    simulations[sim_type]['eigs'] = eign\n",
    "    simulations[sim_type]['K'] = Kn\n",
    "\n",
    "print(\"Martix K:\", Kn)\n",
    "print(\"Eigenvalues for K from polePlacement:\\n\", eign)\n",
    "if eigP.max() < 0:\n",
    "    print(\"The system is stable\")\n",
    "else:\n",
    "    print(\"The system is unstable\")"
   ]
  },
  {
   "cell_type": "code",
   "execution_count": 89,
   "metadata": {
    "pycharm": {
     "name": "#%%\n"
    }
   },
   "outputs": [
    {
     "data": {
      "image/png": "[encoded data removed]",
      "text/plain": [
       "<Figure size 288x288 with 1 Axes>"
      ]
     },
     "metadata": {
      "needs_background": "light"
     },
     "output_type": "display_data"
    }
   ],
   "source": [
    "# Eigenvalues visualization\n",
    "figure(figsize=(4, 4))\n",
    "plot(simulations['fast']['eigs'].real, simulations['fast']['eigs'].imag, 'bo', label='Fast')\n",
    "plot(simulations['slow']['eigs'].real, simulations['slow']['eigs'].imag, 'rx',\n",
    "     label='Slow')\n",
    "grid(color='black', linestyle='--', linewidth=1.0, alpha=0.7)\n",
    "grid(True)\n",
    "xlabel(r'Real part: ${ \\operatorname{Re}(\\lambda)}$')\n",
    "ylabel(r'Imaginary part: ${ \\operatorname{Im}(\\lambda)}$')\n",
    "show()"
   ]
  },
  {
   "cell_type": "markdown",
   "metadata": {
    "pycharm": {
     "name": "#%% md\n"
    }
   },
   "source": [
    "## 2.3. Discretize the closed-loop system with  Δt=0.05  and simulate both the continues-time and discrete-time versions, show if there is a difference between simulation results."
   ]
  },
  {
   "cell_type": "markdown",
   "metadata": {
    "pycharm": {
     "name": "#%% md\n"
    }
   },
   "source": [
    "### Simulate continuous system:\n"
   ]
  },
  {
   "cell_type": "code",
   "execution_count": 90,
   "metadata": {
    "pycharm": {
     "name": "#%%\n"
    }
   },
   "outputs": [
    {
     "data": {
      "image/png": "[encoded data removed]",
      "text/plain": [
       "<Figure size 432x288 with 1 Axes>"
      ]
     },
     "metadata": {
      "needs_background": "light"
     },
     "output_type": "display_data"
    }
   ],
   "source": [
    "x0n = np.ones(3)\n",
    "tn = np.linspace(0, 5, 100)\n",
    "solution = odeint(system_ode, x0n, tn, args=(An, Bn, Kn))\n",
    "plot_solution(solution, tn)"
   ]
  },
  {
   "cell_type": "markdown",
   "metadata": {
    "pycharm": {
     "name": "#%% md\n"
    }
   },
   "source": [
    "Simulate discrete system:"
   ]
  },
  {
   "cell_type": "code",
   "execution_count": 91,
   "metadata": {
    "pycharm": {
     "name": "#%%\n"
    }
   },
   "outputs": [],
   "source": [
    "dt = 0.05\n",
    "A_n = An * dt + np.eye(3)\n",
    "B_n = Bn * dt\n",
    "\n",
    "P = np.random.uniform(-0.9999, 0.9999, size=(3,))\n",
    "pp_n = place_poles(A_n, B_n, P)\n",
    "Knd = pp_n.gain_matrix"
   ]
  },
  {
   "cell_type": "code",
   "execution_count": 92,
   "metadata": {
    "pycharm": {
     "name": "#%%\n"
    }
   },
   "outputs": [],
   "source": [
    "def discrete_sys_vis():\n",
    "    x = np.ones(3)\n",
    "    xs = [x]\n",
    "    for t_ in tn[:-1]:\n",
    "        x = x_next(x, A_n, B_n, Knd)\n",
    "        xs.append(x)\n",
    "    solution = np.array(xs)\n",
    "    plot_solution(solution, tn)\n",
    "\n"
   ]
  },
  {
   "cell_type": "code",
   "execution_count": 93,
   "metadata": {
    "pycharm": {
     "name": "#%%\n"
    }
   },
   "outputs": [
    {
     "data": {
      "image/png": "[encoded data removed]",
      "text/plain": [
       "<Figure size 432x288 with 1 Axes>"
      ]
     },
     "metadata": {
      "needs_background": "light"
     },
     "output_type": "display_data"
    }
   ],
   "source": [
    "discrete_sys_vis()"
   ]
  },
  {
   "cell_type": "markdown",
   "metadata": {
    "pycharm": {
     "name": "#%% md\n"
    }
   },
   "source": [
    "It is easy to see that continuous system is more controllable than discrete one"
   ]
  },
  {
   "cell_type": "markdown",
   "metadata": {
    "pycharm": {
     "name": "#%% md\n"
    }
   },
   "source": [
    "## 2.4. What is the smallest value of k that makes the eigenvalues purely real?"
   ]
  },
  {
   "cell_type": "code",
   "execution_count": 94,
   "metadata": {
    "pycharm": {
     "name": "#%%\n"
    }
   },
   "outputs": [
    {
     "name": "stdout",
     "output_type": "stream",
     "text": [
      "k = -0.6906906906906904 \n",
      "Eigenvalues: [25.67320321 -1.31691077 -1.54247863]\n",
      "k=1.591591591591591 \n",
      "Eigenvalues: [-11.49573432  -8.4744654   -2.86163212]\n"
     ]
    }
   ],
   "source": [
    "space_k = np.linspace(-10, 10, 1000)\n",
    "j=0\n",
    "for (i,k) in enumerate(space_k):\n",
    "  u_4 = np.array([[(7*k), (6*k), (-50*k)]])\n",
    "  eig = np.linalg.eigvals(An-np.dot(Bn, u_4))\n",
    "  if (eig.imag == 0).all():\n",
    "    print(f'k = {k} \\nEigenvalues: {eig}')\n",
    "    j = i\n",
    "    break\n",
    "\n",
    "for k in space_k[j:]:\n",
    "  u_4 = np.array([[(7*k), (6*k), (-50*k)]])\n",
    "  eig = np.linalg.eigvals(An-np.dot(Bn, u_4))\n",
    "  if (np.imag(eig) == 0).all() and (np.real(eig) < 0).all():\n",
    "    print(f\"k={k} \\nEigenvalues: {eig}\")\n",
    "    break"
   ]
  },
  {
   "cell_type": "markdown",
   "metadata": {
    "pycharm": {
     "name": "#%% md\n"
    }
   },
   "source": [
    "The smallest value of k: $k ≃−0.69$ for unstable system\n",
    "The smallest value of k: $k ≃−0.69$ for stable system"
   ]
  },
  {
   "cell_type": "markdown",
   "metadata": {
    "pycharm": {
     "name": "#%% md\n"
    }
   },
   "source": [
    "# Task 3 (3 points)\n",
    "\n",
    "You are given a system:\n",
    "\n",
    "$$\n",
    "\\begin{cases}\n",
    "\\dot x =\n",
    "\\begin{bmatrix}\n",
    "0 & 1 \\\\\n",
    "1 & 10\n",
    "\\end{bmatrix}\n",
    "x\n",
    "+\n",
    "\\begin{bmatrix}\n",
    "0 \\\\\n",
    "1\n",
    "\\end{bmatrix}\n",
    "u \\\\\n",
    "u =\n",
    "-\\begin{bmatrix}\n",
    "5k & k\n",
    "\\end{bmatrix} x\n",
    "\\end{cases}\n",
    "$$\n",
    "\n",
    "You can chose any positive value of $k$ to design your controller. What is least-norm control gain (control gain is the matrix $\\begin{bmatrix}\n",
    "5k & k\n",
    "\\end{bmatrix}$) that makes the system not only be stable, but also exhibit no oscillations in the transient process?\n"
   ]
  },
  {
   "cell_type": "markdown",
   "metadata": {
    "pycharm": {
     "name": "#%% md\n"
    }
   },
   "source": [
    "Lets substitute u:\n",
    "$$\n",
    "\\dot x =\n",
    "\\begin{bmatrix}\n",
    "0 & 1 \\\\\n",
    "1 & 10\n",
    "\\end{bmatrix}\n",
    "x - \\begin{bmatrix}\n",
    "0 & 0\\\\\n",
    "5k & k \\end{bmatrix} x$$\n",
    "Stability of the system in the transient process is defined by damping ratio and eigenvalues. When the damping ratio ζ is greater than one, the two roots of\n",
    "the characteristic equation are real and negative, system is overdamped.\n",
    "$det \\big(\\begin{bmatrix} -\\lambda & 1\\\\\n",
    "1 - 5k & 10-k \\end{bmatrix} =0\\\\\n",
    "\\lambda(\\lambda +k -10) + 5k -1 = 0\\\\\n",
    "\\lambda ^2 +(k-10)\\lambda + (5k-1)=0\\\\\n",
    "\\lambda = \\frac{10 - k \\pm \\sqrt{(k - 10)^2 - 4(5k-1)}}{2}\\\\\n",
    "\\lambda = \\frac{10 - k \\pm \\sqrt{k^2 - 40k + 104}}{2}\\\\\n",
    "$\n",
    "\n",
    "$\n",
    "\\begin{cases}\n",
    "10-k + \\sqrt{k^2-40k+104} < 0\\\\\n",
    "k^2-40k+104 > 0 \\end{cases}\\\\\n",
    "\\begin{cases}\n",
    "k \\geq 37.2047 \\\\\n",
    "k \\geq 20+ 2\\sqrt {74} \\\\\n",
    "k \\leq  20 - 2\\sqrt{74}\\end{cases}\\\\\n",
    "$\n",
    "\n",
    "$\n",
    "k \\in (20+ 2\\sqrt {74}  ;∞)\n",
    "$\n"
   ]
  },
  {
   "cell_type": "markdown",
   "metadata": {
    "pycharm": {
     "name": "#%% md\n"
    }
   },
   "source": [
    "The least-norm control law is the one with the lowest possible value of k\n",
    "Therefore, answer is: $K = 20 +2\\sqrt{74} \\approx 37.205 $"
   ]
  }
 ],
 "metadata": {
  "kernelspec": {
   "display_name": "Python 3 (ipykernel)",
   "language": "python",
   "name": "python3"
  },
  "language_info": {
   "codemirror_mode": {
    "name": "ipython",
    "version": 3
   },
   "file_extension": ".py",
   "mimetype": "text/x-python",
   "name": "python",
   "nbconvert_exporter": "python",
   "pygments_lexer": "ipython3",
   "version": "3.10.2"
  }
 },
 "nbformat": 4,
 "nbformat_minor": 1
}
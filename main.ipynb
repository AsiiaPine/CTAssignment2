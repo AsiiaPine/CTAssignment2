{
 "cells": [
  {
   "cell_type": "markdown",
   "metadata": {},
   "source": [
    "# Task 1 (5 points)\n",
    "\n",
    "Given a system:\n",
    "\n",
    "\n",
    "$\n",
    "\\begin{cases}\n",
    "\\dot x =\n",
    "\\begin{bmatrix}\n",
    "0 & 0 & 1 & 0 \\\\\n",
    "0 & 0 & 0 & 1 \\\\\n",
    " n & -2 & -10/n & -2 \\\\\n",
    "-5 & -n/10 & 0 & -3\n",
    "\\end{bmatrix}\n",
    "x\n",
    "+\n",
    "\\begin{bmatrix}\n",
    "0 \\\\\n",
    "0 \\\\\n",
    "-1\\\\\n",
    "1\n",
    "\\end{bmatrix}\n",
    "u \\\\\n",
    "y = \\begin{bmatrix}\n",
    "1 & 1 & 0 & 0\n",
    "\\end{bmatrix} x\n",
    "\\end{cases}\n",
    "$\n",
    "\n",
    "where $n$ is my number in my group list - 2.\n",
    "\n",
    "\n",
    "\n",
    "1. Find its transfer function representation ($y(s) / u(s) = W(s)$)."
   ]
  },
  {
   "cell_type": "markdown",
   "metadata": {
    "pycharm": {
     "name": "#%% md\n"
    }
   },
   "source": [
    "## 1.1 Find its transfer function representation ($y(s) / u(s) = W(s)$)."
   ]
  },
  {
   "cell_type": "code",
   "execution_count": 61,
   "metadata": {
    "pycharm": {
     "name": "#%%\n"
    }
   },
   "outputs": [],
   "source": [
    "import ffmpeg as ffmpeg\n",
    "import numpy as np\n",
    "import pg8000 as pg8000\n",
    "from scipy.integrate import odeint\n",
    "from scipy.linalg import solve_continuous_are as are\n",
    "from matplotlib.pyplot import *\n",
    "from IPython.display import display\n",
    "import sympy\n",
    "from sympy import Matrix, diag, symbols, init_printing, pprint, factor, zeros, simplify, latex\n",
    "from scipy import signal\n",
    "from control import dlqr\n",
    "\n",
    "init_printing(use_unicode=True)\n",
    "\n",
    "A = np.array([[0, 0, 1, 0], [0, 0, 0, 1], [2, -2, -10 / 2, -2], [-5, -2 / 10, 0, -3]])\n",
    "B = np.array([[0], [0], [-1], [1]])\n",
    "\n",
    "s = symbols('s')\n",
    "n = symbols('n')"
   ]
  },
  {
   "cell_type": "code",
   "execution_count": 62,
   "metadata": {
    "pycharm": {
     "name": "#%%\n"
    }
   },
   "outputs": [
    {
     "name": "stdout",
     "output_type": "stream",
     "text": [
      "Let's use formula W(s) = Y(s)/u(s) = C *(sI - A)^(-1)*B:\n"
     ]
    },
    {
     "data": {
      "text/plain": [
       "'W(s) = '"
      ]
     },
     "metadata": {},
     "output_type": "display_data"
    },
    {
     "data": {
      "text/latex": [
       "$\\displaystyle \\left[\\begin{matrix}- \\frac{16}{- 20 s^{4} - 160 s^{3} - 264 s^{2} + 300 s + 208}\\end{matrix}\\right]$"
      ],
      "text/plain": [
       "⎡                  -16                  ⎤\n",
       "⎢───────────────────────────────────────⎥\n",
       "⎢      4        3        2              ⎥\n",
       "⎣- 20⋅s  - 160⋅s  - 264⋅s  + 300⋅s + 208⎦"
      ]
     },
     "metadata": {},
     "output_type": "display_data"
    }
   ],
   "source": [
    "def find_w(A, B, C, D=None):\n",
    "    M = sympy.eye(A.shape[0])\n",
    "    M = M * s - A\n",
    "    if D is None:\n",
    "        return simplify(sympy.apart(simplify(C * (M.inv() * B)), s))\n",
    "    else:\n",
    "        return simplify(sympy.apart(simplify(C * (M.inv() * B) + D), s))\n",
    "\n",
    "\n",
    "Am = Matrix([[0, 0, 1, 0], [0, 0, 0, 1], [n, -2, -10 / n, -2], [-5, -n / 10, 0, -3]])\n",
    "Bm = Matrix([[0], [0], [-1], [1]])\n",
    "Cm = Matrix([1, 1, 0, 0]).transpose()\n",
    "\n",
    "print(\"Let's use formula W(s) = Y(s)/u(s) = C *(sI - A)^(-1)*B:\")\n",
    "W = find_w(Am, Bm, Cm)\n",
    "W = W.subs(n, 2)\n",
    "display(\"W(s) = \", W)"
   ]
  },
  {
   "cell_type": "markdown",
   "metadata": {
    "pycharm": {
     "name": "#%% md\n"
    }
   },
   "source": [
    "## 1.2.  Propose an ODE representation of the system.\n",
    "\\begin{equation}\n",
    "    \\begin{cases}\n",
    "        x_1' = x_3\\\\\n",
    "        x_2' = x_4\\\\\n",
    "        x_3' = 2x_1 - 2x_2 - 5x_3 - 2x_4 - u\\\\\n",
    "        x_4' = -5x_1 - 0.2x_2 - 3x_4 + u\\\\\n",
    "        y = x_1 + x_2\n",
    "    \\end{cases}\\,\n",
    "\\end{equation}\n",
    "\n",
    "\\begin{equation}\n",
    "    \\begin{cases}\n",
    "        x_1'' = 2x_1 - 2x_2 - 5(x_1' +С_1) - 2(x_2'+ С_2) - u\\\\\n",
    "        x_2'' = -5x_1 - 0.2x_2 - 3(x_2'+С_2) + u\\\\\n",
    "        y = x_1 + x_2\n",
    "    \\end{cases}\\,\n",
    "\\end{equation}"
   ]
  },
  {
   "cell_type": "markdown",
   "metadata": {
    "pycharm": {
     "name": "#%% md\n"
    }
   },
   "source": [
    "## 1.3. Propose a controller (control law $u = -Kx$) that makes the system stable. Do it via pole placement and as an LQR. For LQR show the cost function you chose.\n",
    "\n",
    "To propose the controller, which make the system stable, rewrite the control law $u=-Kx$ into the state space form: $x'=(A-KB)x$. Now let's choose the K with 1- pole-placement and 2- LQR!\n",
    "But to do it check are the methods applicable:\n",
    "1- find is the system controllable,\n",
    "2- find is the system observable."
   ]
  },
  {
   "cell_type": "code",
   "execution_count": 63,
   "metadata": {
    "pycharm": {
     "name": "#%%\n"
    }
   },
   "outputs": [
    {
     "name": "stdout",
     "output_type": "stream",
     "text": [
      "Rank of the matrix R = [B AB AAB ... A^(n-1)B] is equal to  4\n",
      "The system is controllable\n",
      "Rank of the matrix O = [Ct AtCt AtCt ... At^(n-1)Ct] is equal to  4\n",
      "The system is observable\n",
      "We can use pool-placement for the system or LQR\n",
      "Let's do it!\n"
     ]
    },
    {
     "name": "stderr",
     "output_type": "stream",
     "text": [
      "/usr/lib/python3.10/site-packages/matplotlib/animation.py:889: UserWarning: Animation was deleted without rendering anything. This is most likely not intended. To prevent deletion, assign the Animation to a variable, e.g. `anim`, that exists until you have outputted the Animation using `plt.show()` or `anim.save()`.\n",
      "  warnings.warn(\n"
     ]
    }
   ],
   "source": [
    "def rank_for_check_controllability(A, B):\n",
    "    R = Matrix([[0, 0, 0, 0], [0, 0, 0, 0, ], [0, 0, 0, 0], [0, 0, 0, 0]])\n",
    "    R[0] = B\n",
    "    R[1] = A * B\n",
    "    R[2] = A * A * B\n",
    "    R[3] = A * A * A * B\n",
    "    rank = R.rank()\n",
    "    print(\"Rank of the matrix R = [B AB AAB ... A^(n-1)B] is equal to \", rank)\n",
    "    result = rank == R.shape[0]\n",
    "    if result:\n",
    "        outputStr = \"The system is controllable\"\n",
    "    else:\n",
    "        outputStr = \"The system is uncontrollable\"\n",
    "    print(outputStr)\n",
    "    return result\n",
    "\n",
    "\n",
    "def rank_for_check_observability(C, A):\n",
    "    O = Matrix([[0, 0, 0, 0], [0, 0, 0, 0, ], [0, 0, 0, 0], [0, 0, 0, 0]])\n",
    "    Ct = C.transpose()\n",
    "    At = A.transpose()\n",
    "    O[0] = Ct\n",
    "    O[1] = At * Ct\n",
    "    O[2] = At * At * Ct\n",
    "    O[3] = At * At * At * Ct\n",
    "    rank = O.rank()\n",
    "    print(\"Rank of the matrix O = [Ct AtCt AtCt ... At^(n-1)Ct] is equal to \", rank)\n",
    "    result = rank == O.shape[0]\n",
    "    if result:\n",
    "        outputStr = \"The system is observable\"\n",
    "    else:\n",
    "        outputStr = \"The system is unobservable\"\n",
    "    print(outputStr)\n",
    "    return result\n",
    "\n",
    "\n",
    "if rank_for_check_controllability(Am, Bm):\n",
    "    if rank_for_check_observability(Cm, Am):\n",
    "        print(\"We can use pool-placement for the system or LQR\\nLet's do it!\")\n",
    "else:\n",
    "    print(\"We can't use pool-placement and LQR :C\")\n"
   ]
  },
  {
   "cell_type": "markdown",
   "metadata": {
    "pycharm": {
     "name": "#%% md\n"
    }
   },
   "source": [
    "Use Pole Placement from scipy:"
   ]
  },
  {
   "cell_type": "code",
   "execution_count": 64,
   "metadata": {
    "pycharm": {
     "name": "#%%\n"
    }
   },
   "outputs": [
    {
     "name": "stdout",
     "output_type": "stream",
     "text": [
      "Desired pole placement eigenvalues : [-3.21568652 -4.47098541 -6.71831777 -2.22746822]\n",
      "Martix K: [[125.40539912 167.14855834  30.04097156  38.67342947]]\n"
     ]
    }
   ],
   "source": [
    "from scipy.signal import place_poles, ss2tf\n",
    "\n",
    "#The system is stable when the real part of its eigenvalues are negative, so create a set of 4 negative real eigenvalues\n",
    "\n",
    "eigP_desired = np.random.uniform(-10, -1, size=(4,))\n",
    "print(\"Desired pole placement eigenvalues :\", eigP_desired)\n",
    "place_poles_lin = place_poles(A, B, eigP_desired)\n",
    "Kpp = place_poles_lin.gain_matrix\n",
    "print(\"Martix K:\", Kpp)"
   ]
  },
  {
   "cell_type": "markdown",
   "metadata": {
    "pycharm": {
     "name": "#%% md\n"
    }
   },
   "source": [
    "Use LQR:"
   ]
  },
  {
   "cell_type": "code",
   "execution_count": 65,
   "metadata": {
    "pycharm": {
     "name": "#%%\n"
    }
   },
   "outputs": [
    {
     "name": "stdout",
     "output_type": "stream",
     "text": [
      "Martix K: [[-6.91628181  2.07651368 -1.21141014  1.17241666]]\n"
     ]
    }
   ],
   "source": [
    "def lqr(A, B, Q, R):\n",
    "    # Solve the ARE\n",
    "    S = are(A, B, Q, R)\n",
    "    R_inv = np.linalg.inv(R)\n",
    "    Klqr = R_inv.dot((B.T).dot(S))\n",
    "    Ac = A - B.dot(Klqr)\n",
    "    E = np.linalg.eigvals(Ac)\n",
    "    return S, Klqr, E\n",
    "\n",
    "\n",
    "def system_ode(x, t, A, B, Klqr):\n",
    "    u = -np.dot(Klqr, x)\n",
    "    dx = np.dot(A, x) + np.dot(B, u)\n",
    "    return dx\n",
    "\n",
    "\n",
    "t0 = 0  # Initial time\n",
    "tf = 15  # Final time\n",
    "N = int(2E3)  # Numbers of points in time span\n",
    "t = np.linspace(t0, tf, N)  # Create time span\n",
    "y_0 = 0.5\n",
    "x0 = np.ones(4)  # Set initial state\n",
    "\n",
    "Q = np.diag([1, 1, 1, 1])  #Set costs\n",
    "R = np.diag([1])\n",
    "S, K, E = lqr(A, B, Q, R)\n",
    "x_sol = odeint(system_ode, x0, t, args=(A, B, K))  # integrate system \"sys_ode\" from initial state $x0$\n",
    "\n",
    "simulations = {'fast': {'R': R / 10}, 'slow': {'R': R * 5}}\n",
    "\n",
    "print(\"Martix K:\", K)"
   ]
  },
  {
   "cell_type": "markdown",
   "metadata": {
    "pycharm": {
     "name": "#%% md\n"
    }
   },
   "source": [
    "## 1.4. Show stability of the closed-loop system via eigenvalue analysis.\n",
    "\n",
    "### Find eigenvalues for system with K from pole placement:"
   ]
  },
  {
   "cell_type": "code",
   "execution_count": 66,
   "metadata": {
    "pycharm": {
     "name": "#%%\n"
    }
   },
   "outputs": [
    {
     "name": "stdout",
     "output_type": "stream",
     "text": [
      "Martix K: [[125.40539912 167.14855834  30.04097156  38.67342947]]\n",
      "Eigenvalues for K from polePlacement:\n",
      " [-0.53034896+0.j         -1.06774362+0.j         -4.39286711+0.45602049j\n",
      " -4.39286711-0.45602049j] \n",
      "Desired eigenvalues: [-3.21568652 -4.47098541 -6.71831777 -2.22746822]\n",
      "The system is stable\n"
     ]
    }
   ],
   "source": [
    "eigP = np.linalg.eigvals(A - B @ K)\n",
    "\n",
    "for sim_type in simulations.keys():\n",
    "    R = simulations[sim_type]['R']\n",
    "    simulations[sim_type]['eigs'] = eigP\n",
    "    simulations[sim_type]['K'] = Kpp\n",
    "    simulations[sim_type]['x'] = odeint(system_ode, x0, t, args=(A, B, K))\n",
    "    simulations[sim_type]['u'] = - K.dot(x_sol.T).T\n",
    "\n",
    "print(\"Martix K:\", Kpp)\n",
    "print(\"Eigenvalues for K from polePlacement:\\n\", eigP, \"\\nDesired eigenvalues:\", eigP_desired)\n",
    "if eigP.max() < 0:\n",
    "    print(\"The system is stable\")\n",
    "else:\n",
    "    print(\"The system is unstable\")"
   ]
  },
  {
   "cell_type": "code",
   "execution_count": 67,
   "metadata": {
    "pycharm": {
     "name": "#%%\n"
    }
   },
   "outputs": [
    {
     "data": {
      "image/png": "[encoded data removed]",
      "text/plain": [
       "<Figure size 288x288 with 1 Axes>"
      ]
     },
     "metadata": {
      "needs_background": "light"
     },
     "output_type": "display_data"
    }
   ],
   "source": [
    "# Eigenvalues visualization\n",
    "figure(figsize=(4, 4))\n",
    "plot(simulations['fast']['eigs'].real, simulations['fast']['eigs'].imag, 'bo', label='Fast')\n",
    "plot(simulations['slow']['eigs'].real, simulations['slow']['eigs'].imag, 'rx',\n",
    "     label='Slow')\n",
    "grid(color='black', linestyle='--', linewidth=1.0, alpha=0.7)\n",
    "grid(True)\n",
    "xlabel(r'Real part: ${ \\operatorname{Re}(\\lambda)}$')\n",
    "ylabel(r'Imaginary part: ${ \\operatorname{Im}(\\lambda)}$')\n",
    "show()"
   ]
  },
  {
   "cell_type": "markdown",
   "metadata": {
    "pycharm": {
     "name": "#%% md\n"
    }
   },
   "source": [
    "### Find eigenvalues for system with K from LQR:"
   ]
  },
  {
   "cell_type": "code",
   "execution_count": 68,
   "metadata": {
    "pycharm": {
     "name": "#%%\n"
    }
   },
   "outputs": [
    {
     "name": "stdout",
     "output_type": "stream",
     "text": [
      "Eigenvalues for LQR are equal to:  [-0.52507157+0.j        -1.07337208+0.j        -4.29962854+0.4480173j\n",
      " -4.29962854-0.4480173j]\n",
      "[[-6.86487908  1.94316742 -1.14482729  1.05287345]]\n"
     ]
    }
   ],
   "source": [
    "for sim_type in simulations.keys():\n",
    "    R = simulations[sim_type]['R']\n",
    "    S, K, E = lqr(A, B, Q, R)\n",
    "    simulations[sim_type]['eigs'] = E\n",
    "    simulations[sim_type]['K'] = K\n",
    "    simulations[sim_type]['x'] = odeint(system_ode, x0, t, args=(A, B, K))\n",
    "    simulations[sim_type]['u'] = - K.dot(x_sol.T).T\n",
    "print(\"Eigenvalues for LQR are equal to: \", E)\n",
    "print(K)"
   ]
  },
  {
   "cell_type": "code",
   "execution_count": 69,
   "metadata": {
    "pycharm": {
     "name": "#%%\n"
    }
   },
   "outputs": [
    {
     "data": {
      "image/png": "[encoded data removed]",
      "text/plain": [
       "<Figure size 288x288 with 1 Axes>"
      ]
     },
     "metadata": {
      "needs_background": "light"
     },
     "output_type": "display_data"
    }
   ],
   "source": [
    "# Eigenvalues visualization\n",
    "figure(figsize=(4, 4))\n",
    "plot(simulations['fast']['eigs'].real, simulations['fast']['eigs'].imag, 'bo', label='Fast')\n",
    "plot(simulations['slow']['eigs'].real, simulations['slow']['eigs'].imag, 'rx',\n",
    "     label='Slow')\n",
    "grid(color='black', linestyle='--', linewidth=1.0, alpha=0.7)\n",
    "grid(True)\n",
    "xlabel(r'Real part: ${ \\operatorname{Re}(\\lambda)}$')\n",
    "ylabel(r'Imaginary part: ${ \\operatorname{Im}(\\lambda)}$')\n",
    "show()"
   ]
  },
  {
   "cell_type": "markdown",
   "metadata": {
    "pycharm": {
     "name": "#%% md\n"
    }
   },
   "source": [
    "## 1.5. Find stability margins by analysing Bode diagram for the system."
   ]
  },
  {
   "cell_type": "code",
   "execution_count": 70,
   "metadata": {
    "pycharm": {
     "name": "#%%\n"
    }
   },
   "outputs": [
    {
     "data": {
      "image/png": "[encoded data removed]",
      "text/plain": [
       "<Figure size 432x288 with 1 Axes>"
      ]
     },
     "metadata": {
      "needs_background": "light"
     },
     "output_type": "display_data"
    },
    {
     "data": {
      "image/png": "[encoded data removed]",
      "text/plain": [
       "<Figure size 432x288 with 1 Axes>"
      ]
     },
     "metadata": {
      "needs_background": "light"
     },
     "output_type": "display_data"
    }
   ],
   "source": [
    "# a(ω) = |W(jω)| and its phase\n",
    "# ϕ(ω) = atan2(im(W(jω)), real(W(jω)))\n",
    "\n",
    "sys = signal.TransferFunction([16], [20, 160, 264, -300, 208])\n",
    "array_w, mag, phase = signal.bode(sys)\n",
    "\n",
    "figure()\n",
    "title('Bode magnitude plot')\n",
    "semilogx(array_w, mag)\n",
    "figure()\n",
    "title('Bode phase plot')\n",
    "semilogx(array_w, phase)\n",
    "show()"
   ]
  },
  {
   "attachments": {
    "image.png": {
     "image/png": "[encoded data removed]"
    }
   },
   "cell_type": "markdown",
   "metadata": {},
   "source": [
    "![image.png](attachment:image.png)"
   ]
  },
  {
   "cell_type": "markdown",
   "metadata": {},
   "source": [
    "I have a different plot that MATLAB does...\n",
    "But after analyzing both graphs, it seems that the system does not reach the gain margin ($gain(\\omega) != 0$ or $(phase(\\omega) != -180$ for any frequency value), so the system is stable!\n",
    "Moreover, MATLAB says there is no stability margin."
   ]
  },
  {
   "cell_type": "markdown",
   "metadata": {
    "pycharm": {
     "name": "#%% md\n"
    }
   },
   "source": [
    "## 1.6. Simulate closed-loop system.\n"
   ]
  },
  {
   "cell_type": "code",
   "execution_count": 71,
   "metadata": {
    "pycharm": {
     "name": "#%%\n"
    }
   },
   "outputs": [
    {
     "data": {
      "image/png": "[encoded data removed]",
      "text/plain": [
       "<Figure size 648x216 with 1 Axes>"
      ]
     },
     "metadata": {
      "needs_background": "light"
     },
     "output_type": "display_data"
    }
   ],
   "source": [
    "for sim_type in simulations.keys():\n",
    "    simulations[sim_type]['x'] = odeint(system_ode, x0, t, args=(A, B, K))\n",
    "\n",
    "figure(figsize=(9, 3))\n",
    "plot(t, simulations['slow']['x'][:, 0], 'r', linewidth=2.0, label='x[1]')\n",
    "plot(t, simulations['slow']['x'][:, 2], 'b', linewidth=2.0, label='x[2]')\n",
    "plot(t, simulations['fast']['x'][:, 0], 'c--', linewidth=2.0, label='x[3]')\n",
    "plot(t, simulations['fast']['x'][:, 2], 'm--', linewidth=2.0, label='x[4]')\n",
    "legend()\n",
    "grid(color='black', linestyle='--', linewidth=1.0, alpha=0.7)\n",
    "grid(True)\n",
    "xlim([t0, tf])\n",
    "ylabel(r'State ${x}$')\n",
    "xlabel(r'Time $t$ (s)')\n",
    "title('State dynamics')\n",
    "show()"
   ]
  },
  {
   "cell_type": "markdown",
   "metadata": {
    "pycharm": {
     "name": "#%% md\n"
    }
   },
   "source": [
    "## 1.7. Modify the control law\n",
    "in such a way that the state of the system converges to $x_0 = \\begin{bmatrix}\n",
    "(2+0.1n)/(n-5) \\\\\n",
    "1 \\\\\n",
    "0 \\\\\n",
    "0\n",
    "\\end{bmatrix}$. Show resulting control law. Simulate the system and demonstrate convergence via graphs of state dynamics and error dynamics."
   ]
  },
  {
   "cell_type": "code",
   "execution_count": 72,
   "metadata": {
    "pycharm": {
     "name": "#%%\n"
    }
   },
   "outputs": [
    {
     "name": "stdout",
     "output_type": "stream",
     "text": [
      "Martix K: [[0 0 0 0]]\n"
     ]
    }
   ],
   "source": [
    "Km = np.array([[0,0,0,0]])\n",
    "y_0 = 0.5\n",
    "C = np.array([-2.2 / 3, 1, 0, 0])  # initial state, in affine control we will use the state as C\n",
    "x_sol = odeint(system_ode, C, t, args=(A, B, Km))  # integrate system \"sys_ode\" from initial state $x0$\n",
    "\n",
    "Q = np.diag([1, 1, 1, 1])\n",
    "R = np.diag([1])\n",
    "simulations = {'fast': {'R': R}, 'slow': {'R': R}}\n",
    "\n",
    "print(\"Martix K:\", Km)"
   ]
  },
  {
   "cell_type": "markdown",
   "metadata": {
    "pycharm": {
     "name": "#%% md\n"
    }
   },
   "source": [
    "#### $u = \\begin{bmatrix}\n",
    "6.84\\\\\n",
    "-1.94\\\\\n",
    "1.14\\\\\n",
    "-1.05\n",
    "\\end{bmatrix} x$"
   ]
  },
  {
   "cell_type": "code",
   "execution_count": 73,
   "metadata": {
    "pycharm": {
     "name": "#%%\n"
    }
   },
   "outputs": [
    {
     "data": {
      "image/png": "[encoded data removed]",
      "text/plain": [
       "<Figure size 648x216 with 1 Axes>"
      ]
     },
     "metadata": {
      "needs_background": "light"
     },
     "output_type": "display_data"
    }
   ],
   "source": [
    "# e0 = [0, 0, 0, 0]\n",
    "\n",
    "for sim_type in simulations.keys():\n",
    "    R = simulations[sim_type]['R']\n",
    "    S, K, E = lqr(A, B, Q, R)\n",
    "    simulations[sim_type]['eigs'] = E\n",
    "    simulations[sim_type]['K'] = K\n",
    "    simulations[sim_type]['x'] = odeint(system_ode, C, t, args=(A, B, K))\n",
    "    # u_star = np.linalg.pinv(B) * (x_sol - A * C)\n",
    "    # simulations[sim_type]['error'] = A*\n",
    "    simulations[sim_type]['u'] = - K.dot(x_sol.T).T\n",
    "\n",
    "figure(figsize=(9, 3))\n",
    "plot(t, simulations['slow']['x'][:, 0], 'r', linewidth=2.0, label='x[1]')\n",
    "plot(t, simulations['slow']['x'][:, 2], 'b', linewidth=2.0, label='x[2]')\n",
    "plot(t, simulations['fast']['x'][:, 0], 'g--', linewidth=2.0, label='x[3]')\n",
    "plot(t, simulations['fast']['x'][:, 2], 'y--', linewidth=2.0, label='x[4]')\n",
    "legend()\n",
    "grid(color='black', linestyle='--', linewidth=1.0, alpha=0.7)\n",
    "grid(True)\n",
    "xlim([t0, tf])\n",
    "ylabel(r'State ${x}$')\n",
    "xlabel(r'Time $t$ (s)')\n",
    "title('State dynamics')\n",
    "show()"
   ]
  },
  {
   "cell_type": "markdown",
   "metadata": {
    "pycharm": {
     "name": "#%% md\n"
    }
   },
   "source": [
    "To determine error dynamics, use the formula from affine control $u^{*} = B^{+}(\\dot x^{*} - Ax^{*})$"
   ]
  },
  {
   "cell_type": "code",
   "execution_count": 74,
   "metadata": {
    "pycharm": {
     "name": "#%%\n"
    }
   },
   "outputs": [
    {
     "name": "stdout",
     "output_type": "stream",
     "text": [
      "[[-0.  0. -0.  0.]\n",
      " [-0.  0. -0.  0.]\n",
      " [ 0.  0. -0.  0.]\n",
      " [-0.  0. -0.  0.]]\n"
     ]
    }
   ],
   "source": [
    "u_star = np.linalg.pinv(B) * (x_sol[0] - A * C)\n",
    "print(u_star)"
   ]
  },
  {
   "cell_type": "markdown",
   "metadata": {
    "pycharm": {
     "name": "#%% md\n"
    }
   },
   "source": [
    "Since $u^* = 0$, $v=u$\n",
    "#### The final error dynamical system equation is: $\\dot e = Ae+Bu$"
   ]
  },
  {
   "cell_type": "code",
   "execution_count": null,
   "metadata": {
    "pycharm": {
     "name": "#%%\n"
    }
   },
   "outputs": [],
   "source": []
  },
  {
   "cell_type": "code",
   "execution_count": 75,
   "metadata": {
    "pycharm": {
     "name": "#%%\n"
    }
   },
   "outputs": [
    {
     "ename": "ValueError",
     "evalue": "matmul: Input operand 1 has a mismatch in its core dimension 0, with gufunc signature (n?,k),(k,m?)->(n?,m?) (size 2 is different from 4)",
     "output_type": "error",
     "traceback": [
      "\u001B[0;31m---------------------------------------------------------------------------\u001B[0m",
      "\u001B[0;31mValueError\u001B[0m                                Traceback (most recent call last)",
      "Input \u001B[0;32mIn [75]\u001B[0m, in \u001B[0;36m<cell line: 11>\u001B[0;34m()\u001B[0m\n\u001B[1;32m      9\u001B[0m dx_des \u001B[38;5;241m=\u001B[39m np\u001B[38;5;241m.\u001B[39marray([\u001B[38;5;241m0\u001B[39m, \u001B[38;5;241m0\u001B[39m])\n\u001B[1;32m     10\u001B[0m x0 \u001B[38;5;241m=\u001B[39m np\u001B[38;5;241m.\u001B[39marray([\u001B[38;5;241m-\u001B[39m\u001B[38;5;241m4\u001B[39m, \u001B[38;5;241m0\u001B[39m])\n\u001B[0;32m---> 11\u001B[0m \u001B[43mStateSpace\u001B[49m\u001B[43m(\u001B[49m\u001B[43mx0\u001B[49m\u001B[43m,\u001B[49m\u001B[43m \u001B[49m\u001B[43mt\u001B[49m\u001B[43m,\u001B[49m\u001B[43m \u001B[49m\u001B[43mA\u001B[49m\u001B[43m,\u001B[49m\u001B[43m \u001B[49m\u001B[43mB\u001B[49m\u001B[43m,\u001B[49m\u001B[43m \u001B[49m\u001B[43mK\u001B[49m\u001B[43m,\u001B[49m\u001B[43m \u001B[49m\u001B[43mx_des\u001B[49m\u001B[43m,\u001B[49m\u001B[43m \u001B[49m\u001B[43mdx_des\u001B[49m\u001B[43m)\u001B[49m\n\u001B[1;32m     12\u001B[0m x_sol \u001B[38;5;241m=\u001B[39m odeint(StateSpace, x0, t, args\u001B[38;5;241m=\u001B[39m(A, B, K, x_des, dx_des))\n\u001B[1;32m     13\u001B[0m y, dy \u001B[38;5;241m=\u001B[39m x_sol[:,\u001B[38;5;241m0\u001B[39m], x_sol[:,\u001B[38;5;241m1\u001B[39m]\n",
      "Input \u001B[0;32mIn [75]\u001B[0m, in \u001B[0;36mStateSpace\u001B[0;34m(x, t, A, B, K, x_des, dx_des)\u001B[0m\n\u001B[1;32m      1\u001B[0m \u001B[38;5;28;01mdef\u001B[39;00m \u001B[38;5;21mStateSpace\u001B[39m(x, t, A, B, K, x_des, dx_des):\n\u001B[0;32m----> 2\u001B[0m     u_ff \u001B[38;5;241m=\u001B[39m np\u001B[38;5;241m.\u001B[39mlinalg\u001B[38;5;241m.\u001B[39mpinv(B) \u001B[38;5;241m@\u001B[39m (dx_des \u001B[38;5;241m-\u001B[39m \u001B[43mA\u001B[49m\u001B[43m \u001B[49m\u001B[38;5;241;43m@\u001B[39;49m\u001B[43m \u001B[49m\u001B[43mx_des\u001B[49m)\n\u001B[1;32m      3\u001B[0m     u_fb \u001B[38;5;241m=\u001B[39m \u001B[38;5;241m-\u001B[39m K \u001B[38;5;241m@\u001B[39m (x\u001B[38;5;241m-\u001B[39mx_des)\n\u001B[1;32m      4\u001B[0m     u \u001B[38;5;241m=\u001B[39m u_fb \u001B[38;5;241m+\u001B[39m u_ff\n",
      "\u001B[0;31mValueError\u001B[0m: matmul: Input operand 1 has a mismatch in its core dimension 0, with gufunc signature (n?,k),(k,m?)->(n?,m?) (size 2 is different from 4)"
     ]
    }
   ],
   "source": [
    "def StateSpace(x, t, A, B, K, x_des, dx_des):\n",
    "    u_ff = np.linalg.pinv(B) @ (dx_des - A @ x_des)\n",
    "    u_fb = - K @ (x-x_des)\n",
    "    u = u_fb + u_ff\n",
    "    return A @ x + B @ u\n",
    "\n",
    "\n",
    "x_des = np.array([3, 0])\n",
    "dx_des = np.array([0, 0])\n",
    "x0 = np.array([-4, 0])\n",
    "StateSpace(x0, t, A, B, K, x_des, dx_des)\n",
    "x_sol = odeint(StateSpace, x0, t, args=(A, B, K, x_des, dx_des))\n",
    "y, dy = x_sol[:,0], x_sol[:,1]\n",
    "plot(t, y, 'r', linewidth=2.0, label = r'Position $y$ (m)')\n",
    "plot(t, dy, 'b', linewidth=2.0, label = r'Velocity $\\dot{y}$ (m/s)')\n",
    "legend()\n",
    "grid(color='black', linestyle='--', linewidth=1.0, alpha = 0.7)\n",
    "grid(True)\n",
    "xlim([t0, tf])\n",
    "ylabel(r'System state')\n",
    "xlabel(r'Time $t$ (s)')\n",
    "show()\n",
    "plot(y, dy, 'r', linewidth = 2.)\n",
    "grid(color='black', linestyle='--', linewidth=1.0, alpha = 0.7)\n",
    "grid(True)\n",
    "ylabel(r'Velocity $\\dot{y}$ (m/s)')\n",
    "xlabel(r'Position $y$ (m)')\n",
    "xlim([-10, 10])\n",
    "ylim([-10, 10])\n",
    "show()"
   ]
  },
  {
   "cell_type": "code",
   "execution_count": 76,
   "metadata": {
    "pycharm": {
     "name": "#%%\n"
    }
   },
   "outputs": [
    {
     "ename": "ValueError",
     "evalue": "matmul: Input operand 1 has a mismatch in its core dimension 0, with gufunc signature (n?,k),(k,m?)->(n?,m?) (size 4 is different from 2)",
     "output_type": "error",
     "traceback": [
      "\u001B[0;31m---------------------------------------------------------------------------\u001B[0m",
      "\u001B[0;31mValueError\u001B[0m                                Traceback (most recent call last)",
      "Input \u001B[0;32mIn [76]\u001B[0m, in \u001B[0;36m<cell line: 19>\u001B[0;34m()\u001B[0m\n\u001B[1;32m     17\u001B[0m dx_des \u001B[38;5;241m=\u001B[39m np\u001B[38;5;241m.\u001B[39marray([\u001B[38;5;241m0\u001B[39m, \u001B[38;5;241m0\u001B[39m, \u001B[38;5;241m0\u001B[39m, \u001B[38;5;241m0\u001B[39m])\n\u001B[1;32m     18\u001B[0m x0 \u001B[38;5;241m=\u001B[39m np\u001B[38;5;241m.\u001B[39marray([\u001B[38;5;241m0\u001B[39m, \u001B[38;5;241m0\u001B[39m, \u001B[38;5;241m0\u001B[39m, \u001B[38;5;241m0\u001B[39m])\n\u001B[0;32m---> 19\u001B[0m \u001B[43mStateSpace\u001B[49m\u001B[43m(\u001B[49m\u001B[43mx0\u001B[49m\u001B[43m,\u001B[49m\u001B[43m \u001B[49m\u001B[43mt\u001B[49m\u001B[43m,\u001B[49m\u001B[43m \u001B[49m\u001B[43mA\u001B[49m\u001B[43m,\u001B[49m\u001B[43m \u001B[49m\u001B[43mB\u001B[49m\u001B[43m,\u001B[49m\u001B[43m \u001B[49m\u001B[43mK\u001B[49m\u001B[43m,\u001B[49m\u001B[43m \u001B[49m\u001B[43mx_des\u001B[49m\u001B[43m,\u001B[49m\u001B[43m \u001B[49m\u001B[43mdx_des\u001B[49m\u001B[43m)\u001B[49m\n\u001B[1;32m     20\u001B[0m x_sol \u001B[38;5;241m=\u001B[39m odeint(StateSpace_trajectory, x0, t, args\u001B[38;5;241m=\u001B[39m(A, B, K))\n\u001B[1;32m     21\u001B[0m y, dy \u001B[38;5;241m=\u001B[39m x_sol[:,\u001B[38;5;241m0\u001B[39m], x_sol[:,\u001B[38;5;241m1\u001B[39m]\n",
      "Input \u001B[0;32mIn [75]\u001B[0m, in \u001B[0;36mStateSpace\u001B[0;34m(x, t, A, B, K, x_des, dx_des)\u001B[0m\n\u001B[1;32m      1\u001B[0m \u001B[38;5;28;01mdef\u001B[39;00m \u001B[38;5;21mStateSpace\u001B[39m(x, t, A, B, K, x_des, dx_des):\n\u001B[1;32m      2\u001B[0m     u_ff \u001B[38;5;241m=\u001B[39m np\u001B[38;5;241m.\u001B[39mlinalg\u001B[38;5;241m.\u001B[39mpinv(B) \u001B[38;5;241m@\u001B[39m (dx_des \u001B[38;5;241m-\u001B[39m A \u001B[38;5;241m@\u001B[39m x_des)\n\u001B[0;32m----> 3\u001B[0m     u_fb \u001B[38;5;241m=\u001B[39m \u001B[38;5;241;43m-\u001B[39;49m\u001B[43m \u001B[49m\u001B[43mK\u001B[49m\u001B[43m \u001B[49m\u001B[38;5;241;43m@\u001B[39;49m\u001B[43m \u001B[49m\u001B[43m(\u001B[49m\u001B[43mx\u001B[49m\u001B[38;5;241;43m-\u001B[39;49m\u001B[43mx_des\u001B[49m\u001B[43m)\u001B[49m\n\u001B[1;32m      4\u001B[0m     u \u001B[38;5;241m=\u001B[39m u_fb \u001B[38;5;241m+\u001B[39m u_ff\n\u001B[1;32m      5\u001B[0m     \u001B[38;5;28;01mreturn\u001B[39;00m A \u001B[38;5;241m@\u001B[39m x \u001B[38;5;241m+\u001B[39m B \u001B[38;5;241m@\u001B[39m u\n",
      "\u001B[0;31mValueError\u001B[0m: matmul: Input operand 1 has a mismatch in its core dimension 0, with gufunc signature (n?,k),(k,m?)->(n?,m?) (size 4 is different from 2)"
     ]
    }
   ],
   "source": [
    "def trajectory(t):\n",
    "    x_des = np.array([np.sin(t),np.cos(t)])\n",
    "    dx_des = np.array([np.cos(t),-np.sin(t)])\n",
    "    return x_des, dx_des\n",
    "\n",
    "\n",
    "def StateSpace_trajectory(x, t, A, B, K):\n",
    "    x_des, dx_des = trajectory(t)\n",
    "    u_ff = np.linalg.pinv(B) @ (dx_des - A @ x_des)\n",
    "    u_fb = - K @ (x-x_des)\n",
    "    u = u_fb + u_ff\n",
    "    return A @ x + B @ u\n",
    "\n",
    "\n",
    "K = np.array([[3,4]])\n",
    "x_des = C\n",
    "dx_des = np.array([0, 0, 0, 0])\n",
    "x0 = np.array([0, 0, 0, 0])\n",
    "StateSpace(x0, t, A, B, K, x_des, dx_des)\n",
    "x_sol = odeint(StateSpace_trajectory, x0, t, args=(A, B, K))\n",
    "y, dy = x_sol[:,0], x_sol[:,1]\n",
    "plot(t, y, 'r', linewidth=2.0, label = r'Position $y$ (m)')\n",
    "plot(t, dy, 'b', linewidth=2.0, label = r'Velocity $\\dot{y}$ (m/s)')\n",
    "legend()\n",
    "grid(color='black', linestyle='--', linewidth=1.0, alpha = 0.7)\n",
    "grid(True)\n",
    "xlim([t0, tf])\n",
    "ylabel(r'System state')\n",
    "xlabel(r'Time $t$ (s)')\n",
    "show()\n",
    "plot(y, dy, 'r', linewidth = 2.)\n",
    "grid(color='black', linestyle='--', linewidth=1.0, alpha = 0.7)\n",
    "grid(True)\n",
    "ylabel(r'Velocity $\\dot{y}$ (m/s)')\n",
    "xlabel(r'Position $y$ (m)')\n",
    "xlim([-10, 10])\n",
    "ylim([-10, 10])\n",
    "show()"
   ]
  },
  {
   "cell_type": "markdown",
   "metadata": {
    "pycharm": {
     "name": "#%% md\n"
    }
   },
   "source": []
  },
  {
   "cell_type": "markdown",
   "metadata": {
    "pycharm": {
     "name": "#%% md\n"
    }
   },
   "source": [
    "## 1.8.Discretize the system with $\\Delta t = 0.01$. Write equations of the discrete dynamics.\n",
    "$ \\dot x \\approx \\frac{1}{\\Delta t}*(x(t)-x(t-\\Delta t)) \\\\\n",
    "\\dot x \\approx \\frac{1}{\\Delta t}*(x_{i+1}-x_{i}) = Ax_i \\\\\n",
    "x_{i+1} = (I - A \\Delta t)^{-1} x_i$\n",
    "\n",
    "\n",
    "Define discrete state space matrix $\\bar{A} = A \\Delta t + I$ and discrete control matrix $\\bar{B} = B \\Delta t\\\\$.\n",
    "So, we get the discrete dynamics system:\n",
    "$\\begin{cases}x_{i+1} = \\bar{A} x_i + \\bar{B} u_i\\\\\n",
    "y_{i+1} = Cx_i\\end{cases}$"
   ]
  },
  {
   "cell_type": "code",
   "execution_count": 77,
   "metadata": {
    "pycharm": {
     "name": "#%%\n"
    }
   },
   "outputs": [
    {
     "name": "stdout",
     "output_type": "stream",
     "text": [
      "Ad = [[ 1.     0.     0.01   0.   ]\n",
      " [ 0.     1.     0.     0.01 ]\n",
      " [ 0.02  -0.02   0.95  -0.02 ]\n",
      " [-0.05  -0.002  0.     0.97 ]] \n",
      "Bd= [[ 0.  ]\n",
      " [ 0.  ]\n",
      " [-0.01]\n",
      " [ 0.01]]\n"
     ]
    }
   ],
   "source": [
    "dt = 0.01\n",
    "I = np.diag([1, 1, 1, 1])\n",
    "Ad = I + A * dt\n",
    "Bd = B * dt\n",
    "print(\"Ad =\", Ad, \"\\nBd=\", Bd)"
   ]
  },
  {
   "cell_type": "markdown",
   "metadata": {
    "pycharm": {
     "name": "#%% md\n"
    }
   },
   "source": [
    "It is easy to write down the equation for the system dynamics:\n",
    "$\\begin{cases}x_{i+1} = \\begin{bmatrix} 1& 0& 0.01&0\\\\\n",
    " 0&1&0&0.01\\\\\n",
    " 0.02& -0.02& 0.95& -0.02\\\\\n",
    " -0.05 & -0.002&0& 0.97\n",
    " \\end{bmatrix}x_i + \\begin{bmatrix} 0\\\\0\\\\-0.01\\\\0.01 \\end{bmatrix} u_i\\\\\n",
    "y_{i+1} = \\begin{bmatrix} 1&1&0&0\n",
    "\\end{bmatrix}x_i\\end{cases}$"
   ]
  },
  {
   "cell_type": "markdown",
   "metadata": {
    "pycharm": {
     "name": "#%% md\n"
    }
   },
   "source": [
    "## 1.9. Propose a control law for the discrete system via pole-placement and LQR (show cost function for the LQR).\n",
    "\n",
    "In general, discrete systems are stable as long as $|\\lambda _ i(A)| \\leq 1$.\n"
   ]
  },
  {
   "cell_type": "code",
   "execution_count": 78,
   "metadata": {
    "pycharm": {
     "name": "#%%\n"
    }
   },
   "outputs": [
    {
     "name": "stdout",
     "output_type": "stream",
     "text": [
      "Desired eigenvalues:  [-0.59088388  0.48640933 -0.33981218  0.50655199] \n",
      " K matrix:  [[67330064.86371936 67381485.19839531  3288714.53507553  3289100.30855039]]\n",
      "\n",
      "\n",
      "Control law via pole-pplacement: \n",
      "u_i = - [[67330064.86371936]\n",
      " [67381485.19839531]\n",
      " [ 3288714.53507553]\n",
      " [ 3289100.30855039]] x_i\n"
     ]
    }
   ],
   "source": [
    "# Find desired eigenvalues for control law\n",
    "eigD_desired = np.random.uniform(-0.999999, 0.999999, size=(4,))\n",
    "place_poles_disc = place_poles(Ad, Bd, eigD_desired)\n",
    "Kd_pp = place_poles_disc.gain_matrix\n",
    "print(\"Desired eigenvalues: \", eigD_desired, \"\\n K matrix: \", Kd_pp)\n",
    "print(\"\\n\\nControl law via pole-pplacement: \\nu_i = -\", Kd_pp.T, \"x_i\")"
   ]
  },
  {
   "cell_type": "code",
   "execution_count": 79,
   "metadata": {
    "pycharm": {
     "name": "#%%\n"
    }
   },
   "outputs": [
    {
     "name": "stdout",
     "output_type": "stream",
     "text": [
      "P= [[2403.41259915 -595.91460149  378.89858952 -310.7108269 ]\n",
      " [-595.91460149  493.912318    -91.74095976  136.2004981 ]\n",
      " [ 378.89858952  -91.74095976   88.71323775  -46.87471136]\n",
      " [-310.7108269   136.2004981   -46.87471136  106.3918401 ]]\n",
      "[1.95316077+0.0032682j 1.95316077-0.0032682j 1.99012669+0.j\n",
      " 1.99466631+0.j       ]\n",
      "\n",
      "Matrix K: [[-6.89609416  2.27941458 -1.35587949  1.53266551]]\n",
      "\n",
      "\n",
      "Control law via LQR:\n",
      "u_i= - [[-6.89609416]\n",
      " [ 2.27941458]\n",
      " [-1.35587949]\n",
      " [ 1.53266551]] x_i\n",
      "cost function: 0.0\n"
     ]
    }
   ],
   "source": [
    "from scipy.linalg import solve_discrete_are\n",
    "\n",
    "t0 = 0  # Initial time\n",
    "tf = 15  # Final time\n",
    "N = int(2E3)  # Numbers of points in time span\n",
    "t = np.linspace(t0, tf, N)  # Create time span\n",
    "y_0 = 0.5\n",
    "x0 = np.array([0, 0, 0, 0])  # Set initial state\n",
    "\n",
    "Q = np.diag([1, 2, 3, 4])  #Set costs\n",
    "R = np.diag([1])\n",
    "P = solve_discrete_are(Ad, Bd, Q, R)\n",
    "print(\"P=\", P)\n",
    "Kd = np.linalg.inv(R) @ Bd.T @ P\n",
    "Al = np.eye(4) + Ad - Bd @ Kd\n",
    "print(np.linalg.eigvals(Al))\n",
    "\n",
    "print(\"\\nMatrix K:\", Kd)\n",
    "print(\"\\n\\nControl law via LQR:\\nu_i= -\", Kd.T, \"x_i\")\n",
    "print( \"cost function:\", x0.T@P@x0 )"
   ]
  },
  {
   "cell_type": "markdown",
   "metadata": {
    "pycharm": {
     "name": "#%% md\n"
    }
   },
   "source": [
    "## 1.10. Show eigenvalue analysis of the closed-loop dynamics of the discrete system (with the proposed discrete control law. Demonstrate stability."
   ]
  },
  {
   "cell_type": "code",
   "execution_count": 80,
   "metadata": {
    "pycharm": {
     "name": "#%%\n"
    }
   },
   "outputs": [
    {
     "name": "stdout",
     "output_type": "stream",
     "text": [
      "Eigenvalues for K from polePlacement:\n",
      " [0.95316077+0.0032682j 0.95316077-0.0032682j 0.99012669+0.j\n",
      " 0.99466631+0.j       ]\n",
      "The system is unstable\n"
     ]
    }
   ],
   "source": [
    "eig10 = np.linalg.eigvals(Ad - Bd @ Kd)\n",
    "\n",
    "for sim_type in simulations.keys():\n",
    "    R = simulations[sim_type]['R']\n",
    "    simulations[sim_type]['eigs10'] = eig10\n",
    "\n",
    "print(\"Eigenvalues for K from polePlacement:\\n\", eig10)\n",
    "if eig10.max() < 0:\n",
    "    print(\"The system is stable\")\n",
    "else:\n",
    "    print(\"The system is unstable\")\n"
   ]
  },
  {
   "cell_type": "code",
   "execution_count": 81,
   "metadata": {
    "pycharm": {
     "name": "#%%\n"
    }
   },
   "outputs": [
    {
     "data": {
      "image/png": "[encoded data removed]",
      "text/plain": [
       "<Figure size 288x288 with 1 Axes>"
      ]
     },
     "metadata": {
      "needs_background": "light"
     },
     "output_type": "display_data"
    }
   ],
   "source": [
    "# Eigenvalues visualization\n",
    "figure(figsize=(4, 4))\n",
    "plot(simulations['fast']['eigs10'].real, simulations['fast']['eigs10'].imag, 'bo', label='Fast')\n",
    "plot(simulations['slow']['eigs10'].real, simulations['slow']['eigs10'].imag, 'rx',\n",
    "     label='Slow')\n",
    "grid(color='black', linestyle='--', linewidth=1.0, alpha=0.7)\n",
    "grid(True)\n",
    "xlabel(r'Real part: ${ \\operatorname{Re}(\\lambda)}$')\n",
    "ylabel(r'Imaginary part: ${ \\operatorname{Im}(\\lambda)}$')\n",
    "show()"
   ]
  },
  {
   "cell_type": "markdown",
   "metadata": {
    "pycharm": {
     "name": "#%% md\n"
    }
   },
   "source": [
    "## 1.11. Simulate the discrete system. Show graphs."
   ]
  },
  {
   "cell_type": "code",
   "execution_count": 82,
   "metadata": {
    "pycharm": {
     "name": "#%%\n"
    }
   },
   "outputs": [],
   "source": [
    "def plot_solution(x, t, control: str = \" \"):\n",
    "    figure()\n",
    "    if control== \" \": title(\"System dynamics\")\n",
    "    else: title(f\"System dynamics {control}\")\n",
    "    colors = ['b', 'r', 'c', 'm']\n",
    "    for i in range(x.shape[1]):\n",
    "        step(t, x[:, i], linewidth=2.0, color=colors[i], label=\"x\" + str(i))\n",
    "    grid(True, color='black', linestyle='--', linewidth=1.0, alpha=0.7)\n",
    "    legend()\n",
    "    show()\n",
    "    # plot(t, simulations['slow']['x'][:, 0], 'r', linewidth=2.0, label='x[1]')\n",
    "    # plot(t, simulations['slow']['x'][:, 2], 'b', linewidth=2.0, label='x[2]')\n",
    "    # plot(t, simulations['fast']['x'][:, 0], 'g--', linewidth=2.0, label='x[3]')\n",
    "    # plot(t, simulations['fast']['x'][:, 2], 'y--', linewidth=2.0, label='x[4]')"
   ]
  },
  {
   "cell_type": "code",
   "execution_count": 83,
   "metadata": {
    "pycharm": {
     "name": "#%%\n"
    }
   },
   "outputs": [
    {
     "data": {
      "image/png": "[encoded data removed]",
      "text/plain": [
       "<Figure size 432x288 with 1 Axes>"
      ]
     },
     "metadata": {
      "needs_background": "light"
     },
     "output_type": "display_data"
    },
    {
     "data": {
      "image/png": "[encoded data removed]",
      "text/plain": [
       "<Figure size 432x288 with 1 Axes>"
      ]
     },
     "metadata": {
      "needs_background": "light"
     },
     "output_type": "display_data"
    }
   ],
   "source": [
    "def x_next(x, Ad, Bd, k):\n",
    "    return (Ad - Bd @ k) @ x\n",
    "\n",
    "\n",
    "def w_or_wo_control(control, k):\n",
    "    x = C\n",
    "    xs = [x]\n",
    "\n",
    "    for t_ in t[:-1]:\n",
    "        x = x_next(x, Ad, Bd, k)\n",
    "        xs.append(x)\n",
    "\n",
    "    solution = np.array(xs)\n",
    "    control = \" with control\" if control else \" without control\"\n",
    "    plot_solution(solution, t, control)\n",
    "\n",
    "\n",
    "# discrete system without control\n",
    "w_or_wo_control(False, np.eye(1))\n",
    "# discrete system with control\n",
    "w_or_wo_control(True, Kd_pp)"
   ]
  },
  {
   "cell_type": "markdown",
   "metadata": {
    "pycharm": {
     "name": "#%% md\n"
    }
   },
   "source": [
    "# Task 2 (4 points)\n",
    "\n",
    "You are given a system:\n",
    "\n",
    "$$\n",
    "\\begin{cases}\n",
    "\\dot x =\n",
    "\\begin{bmatrix}\n",
    "1 & 5 & -2 \\\\\n",
    "2 & 1 & -3 \\\\\n",
    "-1 & -2 & 7\n",
    "\\end{bmatrix}\n",
    "x\n",
    "+\n",
    "\\begin{bmatrix}\n",
    "2 \\\\\n",
    "1 \\\\\n",
    "0\n",
    "\\end{bmatrix}\n",
    "u \\\\\n",
    "u = -\\begin{bmatrix}\n",
    "7k & 6k & -50k\n",
    "\\end{bmatrix} x\n",
    "\\end{cases}\n",
    "$$"
   ]
  },
  {
   "cell_type": "markdown",
   "metadata": {
    "pycharm": {
     "name": "#%% md\n"
    }
   },
   "source": [
    "## 1. How do the eigenvalues of the closed-loop system depend on k? Plot the evolution of the eigenvalues on a complex plane, as $k$ changes from 0 to 5."
   ]
  },
  {
   "cell_type": "code",
   "execution_count": 84,
   "metadata": {
    "pycharm": {
     "name": "#%%\n"
    }
   },
   "outputs": [],
   "source": [
    "An = np.array([[1, 5, -2], [2, 1, -3], [-1, -2, 7]])\n",
    "Bn = np.array([[2], [1], [0]])\n",
    "\n",
    "\n",
    "def k_matrix(k):\n",
    "    return np.array([[7, 6, -50]]) * k\n",
    "\n",
    "\n",
    "def find_eig(k):\n",
    "    K = k_matrix(k)\n",
    "    return np.linalg.eig(An - Bn @ K)\n",
    "\n",
    "\n",
    "def system_ode(x, t, A, B, Klqr):\n",
    "    u = -np.dot(Klqr, x)\n",
    "    dx = np.dot(A, x) + np.dot(B, u)\n",
    "    return dx\n",
    "\n"
   ]
  },
  {
   "cell_type": "code",
   "execution_count": 85,
   "metadata": {
    "pycharm": {
     "name": "#%%\n"
    }
   },
   "outputs": [
    {
     "data": {
      "image/png": "[encoded data removed]",
      "text/plain": [
       "<Figure size 432x288 with 1 Axes>"
      ]
     },
     "metadata": {
      "needs_background": "light"
     },
     "output_type": "display_data"
    }
   ],
   "source": [
    "from matplotlib import animation\n",
    "from numpy.ma import count\n",
    "import random\n",
    "import matplotlib\n",
    "import matplotlib.pyplot as plt\n",
    "from matplotlib.animation import FuncAnimation\n",
    "\n",
    "# First set up the figure, the axis, and the plot element we want to animate\n",
    "fig = plt.figure()\n",
    "# ax = plt.axes(xlim=(-25, 150), ylim=(-10, 10))\n",
    "ax = plt.axes(xlim=(-2.5, 2.5), ylim=(-2.5, 2.5))\n",
    "ax.set_xlabel('Real')\n",
    "ax.set_ylabel('Imag')\n",
    "line, = ax.plot([], [], 'bo')\n",
    "\n",
    "\n",
    "# initialization function: plot the background of each frame\n",
    "def init():\n",
    "    line.set_data([], [])\n",
    "    return line,\n",
    "\n",
    "\n",
    "# animation function.  This is called sequentially\n",
    "def animate(i):\n",
    "    res = find_eig(i)\n",
    "    for key in res:\n",
    "        simulations[sim_type]['eigs'] = key\n",
    "\n",
    "    x = np.array(simulations[sim_type]['eigs'].real)\n",
    "    y = np.array(simulations[sim_type]['eigs'].imag)\n",
    "    line.set_data(x, y)\n",
    "    ax.set_title(f'k: %.2f' % i)\n",
    "    return line,\n",
    "\n",
    "\n",
    "# Create time span\n",
    "# call the animator.  blit=True means only re-draw the parts that have changed.\n",
    "anim = animation.FuncAnimation(fig, animate, init_func=init, frames=np.linspace(0, 5, 300),\n",
    "                               interval=60, blit=True)\n",
    "\n",
    "anim.save('basic_animation.mp4', fps=15)"
   ]
  },
  {
   "cell_type": "code",
   "execution_count": 86,
   "metadata": {
    "pycharm": {
     "name": "#%%\n"
    }
   },
   "outputs": [
    {
     "data": {
      "text/html": [
       "<video width=\"432\" height=\"288\" controls autoplay loop>\n",
       "  <source type=\"video/mp4\" src=\"data:video/mp4;base64,AAAAIGZ0eXBNNFYgAAACAE00ViBpc29taXNvMmF2YzEAAAAIZnJlZQAAtkJtZGF0AAACrgYF//+q\n",
       "3EXpvebZSLeWLNgg2SPu73gyNjQgLSBjb3JlIDE2NCByMzA4MSAxOTg1NmNjIC0gSC4yNjQvTVBF\n",
       "Ry00IEFWQyBjb2RlYyAtIENvcHlsZWZ0IDIwMDMtMjAyMSAtIGh0dHA6Ly93d3cudmlkZW9sYW4u\n",
       "b3JnL3gyNjQuaHRtbCAtIG9wdGlvbnM6IGNhYmFjPTEgcmVmPTMgZGVibG9jaz0xOjA6MCBhbmFs\n",
       "eXNlPTB4MzoweDExMyBtZT1oZXggc3VibWU9NyBwc3k9MSBwc3lfcmQ9MS4wMDowLjAwIG1peGVk\n",
       "X3JlZj0xIG1lX3JhbmdlPTE2IGNocm9tYV9tZT0xIHRyZWxsaXM9MSA4eDhkY3Q9MSBjcW09MCBk\n",
       "ZWFkem9uZT0yMSwxMSBmYXN0X3Bza2lwPTEgY2hyb21hX3FwX29mZnNldD0tMiB0aHJlYWRzPTkg\n",
       "bG9va2FoZWFkX3RocmVhZHM9MSBzbGljZWRfdGhyZWFkcz0wIG5yPTAgZGVjaW1hdGU9MSBpbnRl\n",
       "cmxhY2VkPTAgYmx1cmF5X2NvbXBhdD0wIGNvbnN0cmFpbmVkX2ludHJhPTAgYmZyYW1lcz0zIGJf\n",
       "cHlyYW1pZD0yIGJfYWRhcHQ9MSBiX2JpYXM9MCBkaXJlY3Q9MSB3ZWlnaHRiPTEgb3Blbl9nb3A9\n",
       "MCB3ZWlnaHRwPTIga2V5aW50PTI1MCBrZXlpbnRfbWluPTE2IHNjZW5lY3V0PTQwIGludHJhX3Jl\n",
       "ZnJlc2g9MCByY19sb29rYWhlYWQ9NDAgcmM9Y3JmIG1idHJlZT0xIGNyZj0yMy4wIHFjb21wPTAu\n",
       "NjAgcXBtaW49MCBxcG1heD02OSBxcHN0ZXA9NCBpcF9yYXRpbz0xLjQwIGFxPTE6MS4wMACAAAAI\n",
       "32WIhAA///73aJ8Cm1pDeoDklcUl20+B/6tncHyP6QMAAAMAAK6sc+imSBhfXSGwjmpPTgAKHYRr\n",
       "6+Tlx+XNd/RxSucIXbQsJ2PiikjX4pSv0RkzhYBhmH6yPqdqH/CTRXj1mh4Jo+fNxIxRgx7cmIiw\n",
       "6MVvGs3pIgA2o4IA+MRwoUxFIRCg+DougNDa4WVQCgAL7Gb4lVoz0Moxe1tdGrMy59lMZ060oyC1\n",
       "pHAeqBfs6JMlo8+DPwhLNrGJxq/olOm5Hixm91dS/CfHW/FOFPsjdTQT/vy7A0O0cjA0Oyw8P90v\n",
       "NhHgDtl31M5EoDKJXI6VD5ORQ9FJkvdxv/of3miBHIVVJdSL08gDqX+CTpebj5oAxyGQ9pS2QZj3\n",
       "wGge2A9/5opOs51//uVu51g4alWn+Qedq6FLtHjj170Hr/wR/eUHd4/2i7EiPOsEkAt819ZIDgmE\n",
       "595aBz5qfaWX7WLEIDD1YA2T1gAf5SIXSstyrzdRnVT7UABm5ciU9oqsSqiWu+AOf/Oke/zCJZII\n",
       "K8d5r6MhRyE/oM7nEb+pMgkoesN0lAZfrOCCk5jeYtEL+X4NqrcrJRMF2csZBnMnww6LyB6sjRJP\n",
       "zbvdqjeO7sgBktK5yUnVBi3SUenApeyeBMnR/C60AABJqjFzxua+O/uRoABUn4A+ZrX5ffR98ede\n",
       "7WqVcxGhC217PklvuDOzNdHS7bwmrbyjOqgVFEqfjtdqnOUb7gzJp1oczw0GKEQ+PYzDbvveBTB9\n",
       "vqZOeAKgHxaBYb/cQQjxvRtga4GxHhUOeUl8VY8dnBsRTPiENGJhpHZD+0HFkJvIt+p+7E/M/3y7\n",
       "9svj5J/Dcggu9JzkivmHE1IQ4ubwjF27tep4g5aziZcCFWQhZ+2nxISoqRiN8m6mHHwEbJC7YBJV\n",
       "oP4PEeZT2Y+gdJvQSIRAb0tXhuFQkJbj1A51h1rYgkyGR/7n+5TvnuZU5pBAGvGUul6FV0Qqj7kN\n",
       "3qAzvbmnd4Dc+v6JxgxfkzS/jO04tubXpGf7YmPBM2qYBwqEp//zAWIwjW62DMUfV7FcBOKZNoPO\n",
       "Rvxe5thgozbifJy6/gUD9jxJDgViZDa/eAjCZu1Aj5MjFbgyZTOAXedipRTaJUKvmAUN9ojQ3VXH\n",
       "khmPapVndr2ouuCTN4d/1Qo15496hNzbiZKzkmEqC/7rwocGsetgls5fgpAj/SVce74CVy4+a+uJ\n",
       "HFzUl8fggOnGfPxarMAKOV8Ovpr92+yuxZrOgqXZ4x1A4iPkWgJXyQpCcL+xkAtpkUWncMf2fZb/\n",
       "heY3iZIZxwo+RgAIt2+OGmTkQz7xRVMV709DiKAGToj9NmyaH9pItiTpte0KRLuDHTuLLWLdgWSF\n",
       "b0e19CYazCE3QVOQkhHRgDoqUgcGwv//5BQmVmKpitHrUJMKd4zgfPSzqhtDID7JAkHCZyfolpV3\n",
       "de/3Eo8Zkt7TuRRlVkoPekvfvL/IkNgTSks1DrOIKA+wXk+24qHWaN9Clp+jQ7yqE0/BlL+QV2vb\n",
       "Kc20V1L/a8psu++vE+YQ7sVLtgfHGLKB7+mym56f9oEc8ctyLDrHuC04G4BFBh7itwXSgoWY6TEh\n",
       "mA41vYFVTvdNmOcySs2H7+X3X4Uht3xIkV/3owLzTlWeEZLbMr2Ouopq9K4JoG+RWoTJ8BS81XfX\n",
       "lyeZJ/dIgCdN/HKJooAAYU8NbA2k8q1Y95Qmcffw0XemwigD1x6Mnvt6Z6mfQT0vezGiwLEnYsm8\n",
       "Gdgzr0u3v0cSvYVd302Fbv3ytvoaABRZ0xoPSnPMWUNNaVR2F1Q0RJnjO3bF/1YKZ6Uy7YAEF5UA\n",
       "KytsJn9OAYw8EY/jx47KJ1kd7vCOUpWNtfaK75yO2GKsQ/HQ3PCDKfPKQvYz5h0jLruUA2HOog2H\n",
       "YhN1ed2ACg1PwQxEfGB+hc8AVe3/JSHQ6kogSccf+09rXuqbotuSqd0heAkXwKC5ol1ufbUM/AdB\n",
       "BaMefMk9/o4L9eKytrCdRoQnlcRpk/vXMZUm5hXlH14GOOQLVckOeWIq7MfUJTJFYqIHJlNS3ZEl\n",
       "7s5cGeZZ1zFU6rnKAMm7LjDvV2L7469FY7Tp4g+/gE237QiGwl6r3DeNRxyJpjFOlwF/8F6cfaDy\n",
       "tvKdAmOIzcXX3OBeG4teYaWC7LKlTol2x1awNT2IxEGj5QSZBkp8nD/MkwWR5Y8M70zKofDWzRkJ\n",
       "WP3g+PpX9CjZ9QCtCv9t7glfKEq/v5/WI0ehZcoyASDMUepgetEpF57LDYKHIdtwRtHKZQoBNAnO\n",
       "WCPyjIR9Lo5W9rXcCJpXaFUaNYRIok6oZQfc/9UAOigRuVUdMSktotLfo27mtwOiud0GodBOwTfq\n",
       "G+sjy7X4vPyI4RqUl+4AlrHott3jTQUk2n3F4HTbtvf5ozid/C9I8QKnYqKYMISh89eaj4V2RLKV\n",
       "gjA59SozhfKCI9Hzvk7o+POlFwpib+YFtciawc+q5cxupMsooTP9/2762RklcNeLvmI8VyPhpKYq\n",
       "rGQG7mTvEv8KsRhCJ2YtuZKsERExMV1PRWchr+ryJ7ndIodqFwAc4XhohyBwDP42iS8uZhLJjJI9\n",
       "DHZDNjvRWfEJkwdDGWK/KOGYa6aor8htoe98Hhy+DQBbXnVxnVk6ciOnaXxku/RBqRClyZHWYtEQ\n",
       "BmD+dviHKKKj8HCtgTKWPQtew3nthgvjyxB0RDVtuMSfTdItnuZl3GH/tRL5EnmPIbai2U0uIi8D\n",
       "vhEtypkb7POAHBQKecR+CdDClhC3lOJlRL2fb1375brRlECVSLC/g9GSB8nTD/gWQp7oOsedQrdy\n",
       "TN9VUZGPPIMWz2ZStZGhmX5IzhMIuko0KUQbg5z1r7mv7Jih08bWcBPsmk1KDyTQnCKaBQK06qH0\n",
       "odowuOtp/J9/XpHk7GP5bMxUGQ4p9pBQvARg5R7qfukGRQNY/c6cdwCH6sqZPavGvhRC2jwn/fAS\n",
       "dBeGxBD34DtWY0C5/prO3V7aiQXs665nsRQ9DR+vphwW3pkdXtCHS4j0Z9m1dqAxIQAAAoRBmiRs\n",
       "Q//+qZYEe+fQBHwN2WGf//Lnrndj8TkeEW6y9Y6cr8vphdFT0nscekjPFUC/rzTTEDKkTRxYNBDC\n",
       "AxrYU5/H3r4Kgx5xewnax8M/JU/XGMhmLOJpIvYpFXui9T918AcFq8K99dgMukNAJkZMrvYszUTN\n",
       "mIhUhDZWxHvWqaELY5q6Gcia4ZOHzoNynQyDFRzapiax0poHVARmBpAIGPgKnILT/ikLOVeZJzcg\n",
       "BMYC3nZ7CzVQ+8JnGDLj9H4tzUgCpre4Zy5OSzWUiyWLjg1KG9z4hS+ea1VG6AflKBLcb4GcsOSE\n",
       "ThsDyVRlAUln1LjB/sc4EcdnZAah3p1khIRZnuqmOoRIlWvouUlOabX1iHp6wte7bSMCSEvEa3ur\n",
       "Jmf+iWyq7JRFTmzyJRZyUOcSGjUPsQhcVSQ56jvRYpjg1owPra9wuL9O5Ej7FWkdbtBBIIgmjldF\n",
       "wXWJsGmQP4sTF4bZQoYMLvFN9VVCY66LrD4LCIQgDvV7qKU3vAjlVGpNeePotlFajOcxo8XGQ8Ot\n",
       "e4pwFrQsrah+oWzOZGkNeQQUOaQO007T3/OPemWduAttkk/WFk4zUEkRCy4+v7lkz3kBo4y17m0K\n",
       "Aqp8CHyZ9hF31hwjkRw6GCCyfDJuGo93owPcsYS8kQqMT8UQA6oytOEYRQiRBKaTXvyQMrkYbSTG\n",
       "CtgXSrZP6MXAp7gGaO8P/hxQAPnsRE+7LyoeyyBz20bMb/9dRHkSZqrvM2f7Tw1XzDdQ+NwdXVGI\n",
       "rQIAkwX5LI3mpLh1/N1+sWUWSNOkKwnH2M+DdQnUF7Uh6Wsa5IsIYY5ZWQFqwSFEDRP5h4FHH/SO\n",
       "bChuScZxDa7WTHA6gAAAATNBnkJ4hn8BUBU75izw4ZMgAvdFx8OrzyXrFehM/uYROs0+7v58/TAE\n",
       "nyqgZRAs3rzmm6fJgHfjrnPVpl/pfKlTv9fVDZ/7W6GMXy0cEYv4nz+rQrY1ngjygH/OChL+LP52\n",
       "ovFjPHtwTU2FL7xNUrjbYAQ5Ob9MXdp5OTKkXNwJkpIPHzVRZ7wZmpZ+tqUAL7lJkaQfzaSPLCJ9\n",
       "LuyY6tc+gp1EoVyeKp9KXyZ3N9BPQ3wn3ArMNjPphheY547VpEbxSRKY4g45R/z4LISlVqT9rKIv\n",
       "uxvh3gpXTqAQZYL+Jq6EsMx9MJqSU2u9WYghYmLNHUdr14W6Dr/UondGvVsy+6bfTqSu7GbxY16p\n",
       "4rGDmjBSr7RLTRPXjccqC1LNOFlVtUriXHlvDItNgFvcTK2QancJAAAApQGeYXRC/wHC3pKt7FIA\n",
       "HaHrbJa/xXn9n6QlgoChvgseFrJJqQYB2wwJGqXdHYfVhwormaxspBdmiIh499RxuAldnWR03H3Q\n",
       "93wPTzc8CrVnibJfmJqj1hIx17v8pOlFmETEhZA2kBBVpLQuUmq/glJDG8IhkOvILHgnigw85/7F\n",
       "npKG7JBmn9STPALYGRVrhlQHXkhI3Bf/cv1hZfXHnE8Pm9VpCwAAANQBnmNqQv8Bm5dlzbAA7I0n\n",
       "w1gYBQ1gD0QWoV0uo1aDDnxgc6aKM5lEz7rtkFLW6azYb5fOY4qOOhlvhSwSqeWNC6CSpq1FFoY3\n",
       "5IOhlS7LIagPYu08kUqttZiHs9YxunQQOVFeT/hwgMqb02NW11iWTTSDBRgaZZXpx7NbeMSsY7gM\n",
       "FPAOjfg9iEQVFf19IgGEchL8ffdA4IaHGIuOlvuvE3GIpXSPxabnAO3OOOjdS4s7jao5/DE/PRx3\n",
       "9c0RI0MAk0g7iazwdl9v+4gJc+OBhP1mVQAAAZBBmmhJqEFomUwIf//+qZYDmlfLGEOYEWAC+vR5\n",
       "FMze32vRzKdBZY5xDikkJy/pekhY1OXO5bq2P4Tzyesdt7IlWHYzwZcSDeU6ref3pOzwyE1TUjJ+\n",
       "bwB/RXxxN46Dty/4mYnmksiqLj1wqdomLFrwGQovYQeGGu5w+o7sb0jZR4n+SZIq2PPJQhsZFI9M\n",
       "eMEAW1BWUJ+of2+h1uUt0vrhHN0DBXeTZ+e3PgYCKoGiDTHnpc/k4JOeJ75eCC2t4Ln5L+RzoG0W\n",
       "kfqyH9vvv7sCP7NmyZNw6l7XHBlUVolTEB/M8s60Pq7PHrzxyhVqqjBqgUfWjciUGYGPitHLOvAJ\n",
       "fl5lZnDnpvDwhYCx8quX0pJBXdwsz4UXQjcOgR6s2Z5QMfeozEUCuzD/uynH0xpWeF49IW3Zdzmk\n",
       "n0rL65DikLxu+X1HUrlR6h/GKq5oG4Bg6t07EmCxA0x1x/dzvhMkmporfbcax+BEO4B6+3QZXxdE\n",
       "vJdABFiZ7l4dKR+uOeIN5VUyxYGhFxmKSyUUCwZZAAABJ0GehkURLDP/AS70LCwezLncABUaoojN\n",
       "KUPH9yEE0KjSROvj3qOFiE0kHsKL1Moxfnwkt4q/I4MQ+BnYiSUEybZI9jMXQjeqn/Rx6n43/loP\n",
       "4uz+Xu10SKgXSMelXCkerT9MDJb5d2it8jsi6mbkL/TPeHiSfJHLCg4Jcz/+txh0GeEv8cSVyEdB\n",
       "GkEt5hQhTr+XDR9gjXTWYVC8Jt4IlgAF19MeDtL8c43ALt3+DV8JVAcbjMZrSzFzfkyWc26sNSHM\n",
       "/+KdoSpDQ12DccDLIXlxHBlrmBczMMX+WdVlnDZuulVpN6pLQpZGLpZE09vNt83sUA6jnHci3+MA\n",
       "rz80ldwmcIWlPe/xTjxtrEiusCqfG9KrkvYfs+XtuQ/4cbpsP95jYxoqJ/kAAADcAZ6ldEL/AZsx\n",
       "xBbAA7I0oTSyiN7/JV9q1LHzmFcHekaea7z04laY7ezf/GSm3zlwv6EOTMzU0rwzmnHaxrWB8Gjx\n",
       "SSgh4IOEhhy4bQNI9ymUh4wsC4wC4Li93MtXgaIqOxX4nbkcULeL7OelL8nbyR89I7iyf268fPql\n",
       "jU26JwL1yWP450ZYqc4nsC8+UyQ4lNiVXOjoEIh31hN2fJ1zIvgergP2JQo9+bP/j4sKYqP2k7Pd\n",
       "n3TNg4HXLI63hH2eqQ8jXUljkhoyrW3F6N5ZztVXUB7W5hbo2KaluQAAAI0BnqdqQv8Bo0+1gAvr\n",
       "0DZLYIZ9VxF5dYl8Rc+G+saVai3PMtbPWC78KCQwLLcGtF3sAZ0HMpKa3cM9mVqKbJS6vOK3c8Km\n",
       "A2dJ47cIvAMB1SvQsFWV9OZ+e1o4ElMk/vWDrir7OyliT77pvvnNI2573H93qlC1aKiyFeZz8+aq\n",
       "oo6z0p/jUe/JDJp4QpIAAAErQZqsSahBbJlMCH///qmWA4ewHgAZd8iV1nU9Ix7Addx/OLqKpcKd\n",
       "qC/mx+k3/91/J73Sh4nBQhq++fJiThLrewm9Cy4JxbV0IaX7eXoULMKc0MjMyTyma3MMS+CDdiiS\n",
       "f/iA/1qjppsWXPecduLWCBTIcz7iBVLmBLdGXinKW74wCxmjH7djPqZvRFmfN4+xix5B25iEyQX5\n",
       "CAsHTqttshdm+tFZC7KWfRpJhhpPwESwGphM38si8/Q7mRi4aaHj9In7kCkDf7Ks9CU6jawmPvYp\n",
       "pn4RL5LqO8e7omYLMTiUTcuUQ9ZnpJOcBr3Pqst80hzR36AlZqFRkIrMQEsypUaeMZkkRqpa+gjZ\n",
       "a7z1o3m8kLOsj6WliX6zWLlE8PGzG31RaS7JbQgEU6AAAACuQZ7KRRUsM/8BNG64+4ADYU5biGbj\n",
       "bCJdPZom/nKrP7tiNXDBEzUkXItXBO5ett0TXI7lnSbTzPU/Lpvkp3b/Pn4nt4YlFTUtaoruu4/+\n",
       "PA4fwY/Z1UDJR511KEk1icnRkrLL5XaA9f/sQo3Keyqf2V5gfQ6+hFaYmyLv+ETSPSK0YyCAmBOF\n",
       "21FKc/rOK3P9qQ66AZjKjEbAH6fmQ+fANAD9418l62wMZNm12515AAABLwGe6XRC/wxqSue112u4\n",
       "AOaJpAvOHjmCybfkg/j+jFsaFewp80m/EDqIhXkt+QqWjxajF7a7HA9jGWq1CaO944GlRauws5P6\n",
       "jry3FR9nzfp5XbZDENUE2Vz3T/SY8/0dTcOHBCh9S6Ae3RLNEJ2vjg6B7qJIDzz8PRPxtwMfqE5d\n",
       "S3gwKMsE5tyox/FKMnnm+BkIX+mxarqKy6lx/re+ikYH8BffwXA5BOj7ynth1XJEeM2NHZRaKQ5q\n",
       "K13Fnn6x2WhCu9onaCc+yEJXcCyzyx7N9cwWUtuY75CCRUeimMXoCb331HFPxPFHJjElBewfghJz\n",
       "h21OHdRoXGsGYrZpWnvmbLPBkkwVL0iCxIR5ZoHneJkg2fdETOH10uXze7rHoYoemrtnB8FUjDG5\n",
       "xjcPJAAAAUMBnutqQv8MV24rAc442JKoAHXuIeGk7G98+m9sPOsruffEiGA7aCv/juU8U6xPZ9hd\n",
       "IC5Fx4uk21vHguy6P5nPeUk/D/HNH3w5HsSJY/NIi4dZ4gfUwAUpoRQQGiKPmRSWJl7BzkYcwjZX\n",
       "ZM3au3EIT+nTO10ju9sc04SlZQn//BvYT2kaSK+rg+eQ+nuaHKnXUhsjbuZtAxQpoTbW0x0TlOiF\n",
       "oNjNg5qAS4rEvPAL9YpnW+23gmHC3lIKm9ok/X0++gLTUQKKlZWxgY0sixxq0lazGPLCpSYtQf1I\n",
       "vNzfthnEzGGBRSLkDgwlmydxBpx/EjW6eldq2QWAVR2LrySWzErQHAHuWWo7FpPS19/v9ulVyAxr\n",
       "JMbtjfCqgei6dMhQUYSn8J7b631ulMiGHarRHZWAGypxk8t2ASe8+Y1bIFL1IAAAAZ9Bmu5JqEFs\n",
       "mUwUTD///qmWA4go+sAFR2qmPTkW+LzK0YjJlSZjKxJBWtxu9W3lJsPhYB3kUnAcbQKuINLyjMX7\n",
       "Q7X5iiZwYb8WSsXVqa+v/gHS2iZQNQWJPmRoWk1ZjUyeCAfiFWTnw13A8lzSATflCaI3oaa0X7lv\n",
       "EkM1Dr/b/7o4HV8XJS9EPuUrTrH8G6FmarIp8v3wu1Pd/P5VuEyxP3d8qOhK8l0EG1Inc/1eK2Ht\n",
       "kVK6XBa9AXha3GZfHHB1gwX0wKrtA15v9gn4LAIiuehp5/MNHUKydTycThXaeQyupNNpuHRiNCZ8\n",
       "Ebs/tjhnVDP73CKoibMJ/zFBd6gXcwnbwgkEYxC7FZQ08sryEWtP5px1gjJuC94XX8+DD7LW2E98\n",
       "HuEhx5ZEtF+pmjABpgI50CiQmngrrFyMqUM+/FfwTnv58g8jHUnA0d09vSTlzn3K1PPkFmIYR6c9\n",
       "+uR9XcleHkpZ2YXFpzHYf93N+FMYrqZ9OKi0XRsZWHSzJoh5vSI9qhDz2XHDMhWvl8IrULwCUvEV\n",
       "d8dqCd1e1gZ9AAAAcAGfDWpC/wGjTAsAHOHZ2S2CGfVcReXSy/LheZvLlC9HmhWKXyi0sOy/7q6t\n",
       "/w0LMpxX3e3r3cAA130f/OO/J+quY3MWztvEDNs1U0GcjTzsi0NkFfTnYL1vrVXEZ1i7JQZ4O/1c\n",
       "HvSeyowJ7o7lsakAAADVQZsSSeEKUmUwIf/+qZYDgdRzAAy74rh4Qaxw6oskHqMHTZmGSN4efXKb\n",
       "dA9Hv2z8qpQw8TIrCn1MLxrk7ZW887aawOcQGNtGe++l/FcoIULIvyB2PyvCpfW3h89x6bTbNvmH\n",
       "KTOtL8bi8VSu0TFgp2U6xVMxhs/A4k2b2HEsogrpY9E5qiMC7EFIqtFcDTcst4xxBcrlhrQm+oC0\n",
       "YGCKEt7RLKrJlv8hLpBI1Y4erCJfe9bHYkLXZnZM1dKoOkDccI4E7sG+pVgHM8ou/HOyKF8z16al\n",
       "AAAAnEGfMEU0TDP/ATRyahwAIfpcLSMfPRKh+cCyba1jaSvLXjq7K+mbTQ9wc4WLhKG9HboDu7d9\n",
       "CQjIRc66kKTlIxMpGGizV9OZbzjQZW2Qsv4bpcbwjF6tP4nd/XTNjijHjmqmhA2vckHRM3SFbIPw\n",
       "x+1FVpm9wkthZipBaP5jIEP6uLEgorLZuuLDPLGqt3hP2HtcIuxypvybyg6pCAAAAF8Bn090Qv8B\n",
       "o87LABzRNLROX96T9/VB5YrhZ0ET2+P6Gu5gMh+DG9uYN8QV5f17309kRLWlaf9nwJ39JMAkxbEx\n",
       "RNokk6jgavUDbUru9iDM6pqBoDdRaAdi92SC6ZOd0AAAAKsBn1FqQv8BoTVOJYAOaMEJjD0/Muvd\n",
       "fthU/zAOebApPdTdqDc6wss512zOMUEZAuldQ3nnpmkg4VXW8wXBKfanX4AOrvkuqySn717svKEN\n",
       "GAald4mEHs6fHQYK1P7FnG8nl+DZHtQdAvDqChLOQkJVe5YAoTQUcARXR6Tre7iWqX7w5DLk6D4v\n",
       "iJ8gKC0EpPRVKYcoY0p5qKOSTefj3q7Op2xgDPBhg8tVjrkAAACuQZtVSahBaJlMCH///qmWA3xs\n",
       "HEdYAGW2nZ0YM/5VoTMRkvDutn10sOHBz16GxuSzNl2PtIpcECRDmnJ4gbUaQT/5HBKV6RP225gF\n",
       "sPfpn4qj2b6JXo/hChZJNjwcU4Cn/5q94lhem022DRF9X7GwRf7VeYlhRlUXXj74o7sGeWy2ZKhT\n",
       "kXPiE4HYiYq6tJTmykffEGoPxtRfX7kSk6nmTgGO/Eee/hjxVhEXDWHgAAAAb0Gfc0URLDP/ATIF\n",
       "zOAA69yR71GaVOrwXKQQ9yRwe1Lxek8DM+iSx7tui4b31rNkQHkAIH7ONWAJP27rMj6CCTfZw3gO\n",
       "P5H8n4CTdWSVDOSF2K7UyKRiY0W6ZdunC5JQdaeAqxrQ1dTPqAJ99DyWHAAAAXsBn5RqQv8BoWwN\n",
       "2AB2h62yWzUYD5NRx0tNbtBBAOS3MEhzU252qGrs4N7Zg6IOKDUeC3n/JnVffU0KQ1YNjOBm2Ntj\n",
       "MqVmBAKelOcJMQBh5Lhn2ezE2wA8u38cD92swbPwm4BK16XL1FKZ2vqrEQKT6K+NwwdoB8/0rpKp\n",
       "N33dlQNhW0F4xxHxVeISENuUzJGoscqbnnlBHVH21RG3YOLpIwwtebiZHcgjVnO0fn5ZzgfBdfnE\n",
       "bHi+A8Fpp0XXz0slJ/ghilY9k/6mw2b+5Xe/tpDTMNhLEY00BGIss5HlgWSzQPF1DYTaJBQVRYPD\n",
       "i09t+TI2K6AiDvBYQBLqAH8I7Uz/W7iPrF32A3GayTVUna7o7Idw74RzqIUciS5AdsuhFBR+YK7c\n",
       "6SXfh0Ozw2fxMeKcqqrVIepHt9FSh5faxmi0oX/K68Hn7qjqOHgs14wMwWM5rCD4X+BYEtgt1kum\n",
       "2X5h1Uo1+cY34iV0iYb7wI9Z5Aq/PhobFO2BAAACK0GbmUmoQWyZTAh///6plgN83Subi5s8ADLv\n",
       "kSu/AQncityHeSy80nUxsj+VY3CY3eGMjHvdWd9ePZBBaPCdQnOUtL+hunm8NBh+6cqhTHC3676Y\n",
       "JSJ03X5bSmyElcRa320xQEfjELZVAkUZjV4WQWjX04Lo+tF73cyfCOOek3V3fibOQFCgq/6KqXCK\n",
       "ko4GJabTbW2JwDIhy6sH7REYxKxofueyGCCE/d9+J/DdDw9uACLfU1xhnp36lez46Ahn982DGogO\n",
       "RN65CwSKhFl3/6ZLgsHwz/tibVd4KzvcoMOjMs7L2wkLjmi3uDdaDsU6xHRUs/k7cmihLg6v0Q20\n",
       "5Ak8RUxFdtQ8VLGHnGueJKz+R2hsPTDf0IQuug4yOWfjwGHL8o3NMxBtoxe3pSckNmzUSOBKLul7\n",
       "lZfzDWnGABWcQyP8heiMm+PmO7lw+RsmHPzE5Ox+5YVYoIBGZjbaF7aPZ/LEG0/kR05pDfpJWOTX\n",
       "VDqa86iaq/YU/goX71KoCkkCN7j9pSOkIOBcLubzcxaFO72BnvMF50d5BneerevqCzBqS5xA0H3b\n",
       "cv+brrXpvCj7OwEoRMQf8my/Q7uIuxchYyQ69Xc5opUyz1ukTaGaIzNTnb6wPj5umQEHWvhRyfcq\n",
       "E2sNxhel1P+wyjvFX37Ejp56x2WV03tVHKyaeT91j5jAckBXhXBmZtVfiKs+89VulYiOlUKSbAkB\n",
       "nfNZYBXm6Eb1okNfLqDbgAAAAKVBn7dFFSwz/wE0iS0cABoryE/cBFZn78MoC/bZbI/sL/D4hpuW\n",
       "bgN0rgFx7w9/S7UMO14iAJTI1t1wd9s6vJV4YYj4aUd6NdH4WldU1RDLRV7AkiUlIxMb3SjF0N27\n",
       "mWpuRCNRHfLwTDvE/x82wQO/qiRIErOIbWClZDaDvIBpkEsAXV+OLT7usDQ+cDCRBDnClDByjOtN\n",
       "MoWg9XQyxDR1eBb943EAAACRAZ/WdEL/AZuCqVTxuAAXzRcGB29G793v3+r+hsClO6kRTbHyVmBN\n",
       "KABdOFN6GYe7YEjMW5BeV+W3YeLb3xguhIBgfiyysowVGP1MK9IhG7nLasgp29m6bxBFVKDJ42v4\n",
       "FI3idn7Qa00NR4ORBOUTP+jntMnVD7lF0DnNpNmxNLcrOxIPQ7gfmnrg36glCQQxYQAAAGwBn9hq\n",
       "Qv8Bm+R5wAC+X+1n+Kd2j2mrnptV7KWdfR82g5/ceqUg9SpjH3V7CHqbnJGvq42G0ieohmaCN3Bk\n",
       "NZMB3hnj7jqyXjzwN99Iij75Lqskp+9e7LyhDTW8jxlcRC/cXQLyhbMy52P+CtgAAADdQZvdSahB\n",
       "bJlMCH///qmWA4AdWACXqIj8HLF2aCMwoMNFozFS/nCvfOUKnNoZbZ7PZOAsE+z0o+n9uCmy6CER\n",
       "Bj7WNBtpU6q7erPeEpFliuxFdbgGcgMZcQZsW/ioS628PnuPTab7JEnk7rC2lXznle9q3wei6EoR\n",
       "xd+V5jlucLRj7F11fGcrN6gQjWDuHEI1F6pDvBLm/b81r7gGG6JqcklptcSbqlY+B6+zN5cqMhlt\n",
       "vldJO/YFBboYwBTm65fpRT6t8EMjmivd7YNJ4W+Ga1SryApkwvXY47zS4EEAAACNQZ/7RRUsM/8B\n",
       "MptkuABD8FCeKI1ixYiByZeiyfqvr9xK+Gqh1EIADPIWN2vvfIi77pJyQGBfypDZ/N6u7Nde2QKF\n",
       "FCUJXnvyo+QneyWZY2U3qTfkpfLTGV6MJchtarMWJyxVPQiKo70c07Ord6ZpEUT54IFb9O+TZ9Tn\n",
       "OZMF4wHoo+CRqJOvx+AR5bbwAAAARgGeGnRC/wGjzssAHOHZ2S2adH6pITJbcTgwSYb8bpDtxOnW\n",
       "9plO/pPgKkJWgaEJgWzzMXjayTn6lY+NM82KWD2gr7NgnYEAAAByAZ4cakL/AZuEEW7mawAC58pR\n",
       "ucHavfCJbs82qvpsrtDk/GkItTRKLVyTvfagZ4CC9bPJ59upIO/XgL/02zfIXgSRIO3RAId81RPI\n",
       "Cb/STcJXKAFxU3+guKShDTReTxjfaA7YS0phbC2YAq+3XSK9egRlAAABq0GaAUmoQWyZTAh///6p\n",
       "lgOaV+rV9+AAAdpUWJ8ijj8CFpGPQH/3fuF5RE/WqRVUPPcs228B8M//zY/P/tFRJVq9i+V9OY1l\n",
       "jd4LARYr4ZqAvN3wuymZiIItJkogxA83/HFC1RXTp/H2cdbDUZewE0oL2CBh0bc7rKJw3AHvlDu1\n",
       "HYWMri8MBzU3YJ1Nwsz7hslzBsaeO3hm64E9rks1bINTRDLsp0kC5cy5KS+ADtKTiWWjSB1sQgr2\n",
       "icFwNLvUiQfC28s1wTo/f0nkTgCD9FdQIp7C6alGySRoKyBTcjdnEhJHTX9gE+45a6Ju7ZPtsWoR\n",
       "wqjLnLyU/4EixNNhoFplFOZ0Gk6RWgLOpxzjseF1cR75Y2eqUGrL5QUNyvbUlHrQthOK3ZOVKzz8\n",
       "25v35gkBN9gI/C5GsUkAUqzl1g8urrvGxnUn6vT0EZTtSqARFxRJh7VqNrYJrNBB9sjt2So4Nd+p\n",
       "onj+DPB0gBpzaZyNgsseOvuzSzPy6sxdXWwyrjOsj8Bv5WOSiAjfNwfTI5YeLEaT1n/cp6Z+lF53\n",
       "d6xjE6gub+AE4RBtFiAAAADOQZ4/RRUsM/8BL9w9UADsjeCx1s5dS6SIpwqYKY5Ky2Spl67Tdn5P\n",
       "s3+gYSSrPehhWmOpYngMlQyckdnShLilCpoRRI/xTPf4s67DySk8r2VZsFdWPP/osvh1Un3HqszK\n",
       "ZghbhJIkkYu62miHDPtEujgNsmBHv3QQC3k7zxVwEgww3VhsNiK+cr3DMjrWsQwH+VNiLTVQm4oZ\n",
       "ng3HGdQ0XH7WvXFUhpj3JDXl3qKRdahAiT6f5/iauFCd6BD4hG0oiUIq/HB7NsJ0qg8ozIAAAACr\n",
       "AZ5edEL/AZtG9dPktsADsHtFZKnbkueW3c10VXQeL7nnLcIZPVRX4eC/VMf4g2S1J0tzzr5M842h\n",
       "AiSGFciDN4ObyVQbmMHk4FX+THUTET7Lxpj9lcnriL0vMnlN/tqr6yaPU6YvCkQgqh12Vf8cF1V5\n",
       "UCuvkf1wjPDTw6+oisi0L0jNJaIcqR5q0O3WtLCpPJwT3yki13xJE2r690AeWqhhCndPmjjGsRBD\n",
       "AAAAgAGeQGpC/wGbVHkK/KDuwAOyMkL1o3V5beAeQLkhM513OFQj1oQy/JbCARwTnTDHEmVj6cjt\n",
       "dYKz39SvWh1bgFWk+T9iEmwKBdcirs1VgfLAy1vNtntTgNz9U6biYHSzTJmxy9aQFhHp1e8RG/9G\n",
       "EEt22lDRLeT0G+I7KSCfjB4QAAAA/0GaQ0moQWyZTBRMP//+qZYDgDJcAF82qmPQXUfRW3CDJlb0\n",
       "0W7aZbLsLQY6gyuAIYyWsLacaija1U7lK93iLst4gtTVeKAKO5jQN5p3sifIZ6+/34vUDiMsXi97\n",
       "IPXx7NYZDRA9XD00MpLU1///D+Wk4Po5/VTUtcDkLqyc5190gUQkmfIT9w6XCelqAt7NeZPO1PjJ\n",
       "Y+f7O/CBJE6ezJ2GY8iagrUbsmUsoBpmD0+Mtou9u4Pn/i1x8tWAIjEs++QzM4lXHw7NUGi73zhX\n",
       "OpQkIdM5MFZed/aEQ9RTm56wzXDJ+nlR4aomVpgT4XMcCUZLozhYa5YV/tn9cO6U3wAAAHIBnmJq\n",
       "Qv8Bm4KNT9uWADmUdNtdcQbkwMqdtaIRBX95BK+C5kgBe532dcMhhbNWKv/pT9Tuld5TcneqvcD1\n",
       "/OwV2itjSf1sxSTKBoPlfY07/UuqyKoL07tPFEds1U0IqtLt7evakcfOjvdfGTrbIA6kEuIAAACd\n",
       "QZpnSeEKUmUwIf/+qZYDh45JgAdpXdnKfN6bzp1h980GnJ4kso8ZIAUnhmG8eMWlfMOKrkyvuzKE\n",
       "/bPhp545J0Z2xxeE6MC0PIp1CQdLjQjBqNIMubt7ktfo/nNQ91W9CAMc9JnIGX+33hxT+Ldbgbg/\n",
       "XO9NptZnVwzcCPUbesb4pd5BiG/syQjPUzMmFMkqIzAbEgUBNy6iw4z2QQAAAGFBnoVFNEwz/wEv\n",
       "2/HAAdkHSuzzgUCs+ZMPk9pLOZJlD4NB+lSt6Ieqvy7qFLmnqce8xdv2rWKqgaDOGlee+DkAAVRF\n",
       "1rZSmNbbIzzIpGJjPHgsYiQ9GeWwnlrULNw9MTxhAAAAYwGepHRC/wGgcHzamgAdkaUHSyNVh3vy\n",
       "mKicZBfnNi98tZgJyOdSMcymMmhKPmyoh4+vvC45xz/g8EAF4ShBGSDwJ57Ug/LHcJXKAFxU3+gu\n",
       "KShDVMJJ4ys8pnVmP2LYosB7QQAAAGYBnqZqQv8Bm5vAPo0ADsiaIF5eMt9FzXt9Elp1Rm06fF9r\n",
       "pfm4mufjEd2n/A2cU1MXzQSEM5/EZfPAL2o4TEbY9Wo/i0roXvPAb/yxzAi6s1chNBeeTCgwuzkI\n",
       "8ZW2N2LpcEqrAoMAAACoQZqrSahBaJlMCH///qmWA4HMOABl3yDez8SIB/Kt88Br6l0rDHZzNPEG\n",
       "D3CF3iqL0eIObLtxzsexcfbpSDgDbzkfPrELJROq0D/wfriiV5I7o7n02NkgIoZyAxXNCZj8rwqX\n",
       "1t4fPcem02s4tob7nVGrEl92q7S4xS7+az232HGPMYDqDP+E59hOehrV+6abW/ow+HeVGN6cZ29y\n",
       "//RrSb2i1CcKXDDAAAABkkGeyUURLDP/ATUyBgAHZG8Fo+roWVkZTJv5I5NyRVjLPmRiDBRkxKfa\n",
       "UvqmAIDeJ3lNyGMiiG8scqCzRCHCBzQM5o7EXuO6bwa5XKGPfB8AYX+/0SMZSL3X0jSgpGJjfOp3\n",
       "9iHjEZ4vUEc7GQWpTht9R4wreXPy7z+4/Ih79PlOAIlBIwoLAw4smOOEhZIyj+1GpiA5u9fQZ7Dv\n",
       "fQLsKj5NTNkVHWwLgWYLV+5S0RnY6zGzGV0JUKkbwCMwFa3OyaZCPf+aSe/8Dr1XAKuIb4qrav76\n",
       "kRm1BQPf7xnbY35MWNKPHRUVm3FzJcl+GS9aqXEBX+BIjV9USrOrrEOLedDoDNI9lRC8j8NJ7LxQ\n",
       "3UTyGS2rFInn/meMAM+8HPB7PSqu5684ntzgPabL0FZdRpbd4LScNWuvkAmOUWIIkjPbuHvrZx/9\n",
       "bGftLlOE/dd7pvsF6TCFORZnMmcjGnmVEcpSXuh+5/Kvqy5aWvyvAPugt52XsvlFK98SxEXlxVqn\n",
       "sgIQPHc/MMCkK7MCCNRCbZTRgAAAAHIBnuh0Qv8Bm4KqHP1rAAL5NDY+XNN+0Nrgf9dH7Lvhseiz\n",
       "BrFwBj+SabjuCALv6ZM8t68ob23M9+y/CT/2xq80U7afKh5ve8m2McA0Hyx+OZbuqySn717svKEN\n",
       "VOqpWa91PPfWiDAglbvVEoT3Fwhn0cEAAACAAZ7qakL/AZtHF6wnSwAczYrhBlZQ4kYBiwT94Vuo\n",
       "ljpJyrhzwO+hZHl12AlfbZOFXnnY13e8xO+S8fZIA+ovxzrebnEQGECb/STcJXKAFxU3+guKShDT\n",
       "J4jxtb28QD9zSPm0X76lh6QutKj+H84GtFBQlPktoDocfdTWLCVQNGAAAACoQZrvSahBbJlMCH//\n",
       "/qmWA4YaKsACjVhKuJeJiRV3v+Zm7+/mZm6CEO9TTJ3cVDeG+K5kb0RXg/h52nMZE9ZuWl077F0Q\n",
       "vjLEEKG2mMgzZWNKOtwNwfrnem032SWJ/bDiywKVIHXAR57OQ1Mjvu+F6E8pPe1Yh3AD9Kn1W9YK\n",
       "nu0DTZFDd09yXU+jSiU/52NqrazAnHn7pWwt+QDRQpdrJAVtUO8JATk8AAAAUEGfDUUVLDP/AS8N\n",
       "zJivgAQ+uUcHu84GYcwuior7zjTyBNxjhmzWJqslmkRxKaL5MPyqCMPAE4w525YG3d8aXksjExnj\n",
       "btvyStdNIOQeZUMbAAAAZAGfLHRC/wGbhxow4WaOAAX1DMd1cehHU2JbTAv0/ibHsjPZ5YcjPYrf\n",
       "8sx8L77erVBakpRAyA9dzzuVeMvyFT2K5rsMQhD5fSIU+5y2rIKdvZum8QRVQY1Kx9miqCacdFyA\n",
       "m4EAAABkAZ8uakL/AZuDCLKNdhoAHYpj4usYelxR9MwLF8c02kmtL1GOYo3CjCCxMGeDQUA0tOqe\n",
       "JPqE2qfY6x4RKDvCrebuBze5OrA+WPxzLd1WSU/evdl5QhpvpJ4yt8cQYiKyP2BQQQAAAKBBmzNJ\n",
       "qEFsmUwIf//+qZYDmlfr6vMwgAAiD4kf+yZfF9uum6xeOGo/79glCHaDLQchU1bYLvRAHcWHIQpH\n",
       "rxZX9VByVoBf8B5PmFbvfXmQHyoH0KGp01NTAM7tjZWuP5DxCiY1WDhVCITsvE9OsBNKC9ggYdG3\n",
       "O6yh1z3xzC1UH6wm1v8g+qPQbI75yAtES8TZb/ilDMuv9rd/3Pzy277zAAABnkGfUUUVLDP/AS78\n",
       "SZvRzUADsCrYVm822BLf2wcixr0gqL0HDoXdcvMjka/0NT4ABoESCby6YQUmlfdV/Op4ApxU/w00\n",
       "593RgpD/R6tUoVNCNe04Oj+5uSF9TwT5m7b2V/C6jpYTB1CV/HioGZXtnA8kP5d/bEEY+/PmRjZB\n",
       "kLh8V2Rrl6dDwC6BqRmm1bYEN/Ty93moS1E03ZhyTObCNVsx/mJ0nX7DfryCpbYL5CUFAV+xXidd\n",
       "g5kL7PnpB5um+28W+ZDstKchdss+qnXnk8rTmhUBwQJsRo4QjSUSw70MtC3vE3OOJK5bHI4Up/ZX\n",
       "hTHl3yY1sd6p3k4prqhRpqhoE7GhvrW5nCzP8YF8rdrzXApkYNjIrO0x6yAaWSJVEwTsa6VrwZJT\n",
       "dG5DVvjP02KZCB+So+klE/7Uuc0eplzB35M8OCwwo5pgdm39j67zfuLhihCJuZwd26zw2F+yWNGm\n",
       "4SJg+IWvcol7SjxPlbnZJg+xsa5wqp/hcBWjG8wAjhKbK3qYtSjvkQtjW8aShL8B0w3YFp4wLw4g\n",
       "tBUG3AAAAG4Bn3B0Qv8Bm0MKOPd6GsAF7wHh7jNg/uPcaYLLNJopmr3rY5F2a6L+F6cX/muPd7uU\n",
       "iEeDVv43QNwDv2Oy6m+7sVZ+nF+eM8UkoIeCDhIYcuG0DSPcpNsmY6YbsMTEJD93mqwNwH5s+dpj\n",
       "mTme0wAAAHYBn3JqQv8Bm4cYi9d6rABfUNfSkkRIqigsJItDQnXE7VF8heHLI5BsA2cMKnV7OBdF\n",
       "lsrvTRB9vxSsRaAX6lUJwz/Y1VHUufUo/xzRBSn0V1kvekdoLDJUW/hUPEfaebBGpIj0gHeDOSfv\n",
       "U+BhIWWy3mzNtQG7AAABPUGbd0moQWyZTAh///6plgOJ/3+ABzZq7RXZnYd0FoOixv2PdFPSFiYg\n",
       "bmi1biMuYLUWgYU0cH0pL9mUPXV1xeZo1jaLZuuc64aiWYqOcZRX0HQljEDNUPiEeC5innDrSs/f\n",
       "GVtLFV4MLhxUxm0Ev8hSa9kcxi0mF0GYytYLDW+wKDtoLV6HppqRtTdH/1tR97Ntk7EAF5XwPrc1\n",
       "9FOGH8rXC/iFf2MkKMf6Z6HmofOgZjfISNw0eSjqVOT/piUIFg1oMxT0Ubf7e0m/oI5JwEjnRPnB\n",
       "iaQDq43bbFpYrjFL2fj5vImvP+2GO3M9w8vLivh44gVwIQeZGThLn3/Re4iMB02frgCoCUNMZ7J/\n",
       "t/vGxBNNsTx0dvpm8eP8uYz3UhaD/aMyBopze/sfLX1L8xiUpuvrQLqL86ukSf70AAAAbUGflUUV\n",
       "LDP/AS7qaXJkRwAZbLGD2/VfJ1ShP7DgYWjRJZRNQ0fq6xwBsaZ13LH9KSl1afUUcvr4jRIKppUC\n",
       "d1RJwkxLzqmX9l+rd2XLggXNvRWdUJVKFTQir5/NYSu0KBPTVtQmg+CFU6/YvpEAAABsAZ+0dEL/\n",
       "AZuBLiebHVgAvk0Ql9BoboX4Zf3+1KzCsWsSu9E5/xe8T8fO3atHHEHKw02ePtZpWR5zS5PqFHNW\n",
       "9udOVfFHtJDxxjfI/GTTP+phXnMM6Tl2WQ1Aexdp5IpVbmcgJlgUdbqISeOYAAAAjQGftmpC/wGb\n",
       "QulsBJr1gAvgs+StJ5WMR3yiAuAF9XKD/299IpGpKPKD1HYTuMn/OWjYMqnSpIzULG+VTUEUZAvv\n",
       "IqSnQJcp/Si3pB+ObIo+e1Omnn2DsuPhCq77ECZjpqFsMoyCNMnUVuL601/DKPUrQTsG8Y2YRSYO\n",
       "OoCkMTzkvq4M6e1yWh0c/SwXUQAAAOVBm7tJqEFsmUwIf//+qZYDfMHZ2lXABfEXuZgG9OML6KAK\n",
       "qEGDlG1tenVJIXReAmla1xzFKGDlGQzEKuDo3RjJQckjty/KiyrlaKLLbWr1fuVUjamv//1uyOBl\n",
       "mIiVaBh7b10wnW6x9g4UrOkqJtBcT25Yp2chXF+nIhdPDlecWzBVa4xzEnidOd6OYKTcj/dqxdqW\n",
       "cMrdvWFrhDZZLD4w1bZy1/iE1/R+tC9p/DHd6V1nyRsyTIQpbh+aAOa/onIu0OjfzOABzGYIS2A8\n",
       "zD9gF8hbw4yuSjr/AowvbOwVecSUZhxxAAAAlUGf2UUVLDP/ATUzd8AG0FLLjLVWDzMk443vE6Aq\n",
       "ua2xLzd54Kf577cwLxdzOBAJ1/TM7BWeHirJcaSfvOoYP4Lft6qxj5A7CkaUbJVeVK+K0O4dwo1j\n",
       "8xqQATtcStxdXjgd9Q5yEPG+QyYKHmp5b0UnThHG6ZZRVkqQmW7HoRnqTQggXvutRQC3/0oceuk3\n",
       "LpWNexh0AAAAcQGf+HRC/wGbh4fAFesAF9Q19KSREinOkkupkQJ0G0R5r/Y0arBoFolkGm67kisq\n",
       "s4pn9PatdSyMLs3cp7aYpBe5RsPmopQ0a6gV3eEYVE5q5vi4lhFd2WQ1Aexdp5IpVbmLbJmMWhmV\n",
       "tCviq9OVvwTVAAAAcwGf+mpC/wGlZ1gAvgz08jH2KynI7Z79TLYzcctoiAIiPZiotK97K0BvduBu\n",
       "+MqtVyj57SN2qS9wTflNaJbuYnbkLZ5BOaBZXg68Tnp3+aY/nLOKDnrTjNr9Y57i4Kqe1sslW6KQ\n",
       "4TAyjLeKgT3MttWXn+4AAAEDQZv/SahBbJlMCH///qmWA+6V9Upp2AL8iJXlJgCkmYLDmjwrlCR4\n",
       "hBJh2NRGqY/wu/HXHq6nMivYvRXdzLjjO7mbmYXYxwHcunAZO1uix/QYSR77RgtStken9VIn4+tF\n",
       "WhlkEBvQi1oBGWfAIwsnK02wkljaBsRVhpihtz4tVO7synOAU8iLrQky7ZbWSEIReDZyrQSuM4NN\n",
       "tUkbldbbaX4W+Le8n8zw2YdwYnQ8qO1Fbah9pzB+jgbJCG1F7BDQjGS18Qo59SDEQP0ab7DYugjm\n",
       "FBoVFswqeQld73Z2cFu7CUsFvEsIkMXTyKwmi/yIfuEuGCSOBIOR5jQKtQLMzasP8QAAAFRBnh1F\n",
       "FSwz/wFCEnVL+ADmjeF5zT5b5ZD0fgSb71g7/UU5DzlMZo8PeLr7A0a6O+wmwZMCh/5ZnAxfm2Sn\n",
       "UgCJnPLuPHOaYpn/DChDBXwEOEgqOFMAAABdAZ48dEL/AbHe2iBbNQAc0TUxJy+GBDMnEclwozE0\n",
       "WAHo0w3PEHTS5pW5EA9h4wPhkZdWrzuyIQ3qz5j+qx7eCIRWG0k0yuBTAtqu/Z7ZPEO6fobwJ/9l\n",
       "9UDWF4GZAAAAYgGePmpC/wGbhwsSg7gAF9Q19KSREinOkkuRa+ar/o2PHg+g4wpx4zuod1heZG9t\n",
       "IDXNgPbnt+lmYCPuWWY5iQ9gQ8Z7Zvaev35xD6i8+iusl70jtBYZO9KfWZ+KEGFsoGBAAAAAmEGa\n",
       "I0moQWyZTAh///6plgN82YyVSfAA5y1klTM20Hr2XOP63Whc2D7Q07mPh1jvKw+HK+C51kSurvvw\n",
       "V3YwkSar93oczzhhaIDm1GOy0HJap1T0AMl1z/MztoIiVyGRim9+90pb5cppAzYJEOzTKGgM8ii2\n",
       "83/8I6bbI5CeJZNrunKI42pso2nGd+/6f4MFRIv2PvPDfmBBAAAATkGeQUUVLDP/ATRyahwAHZG8\n",
       "Fox+Dt/5e/5AWF7q4uQwF/DFRlvTdqHZNNt7xcJQ3opsOs9dqONWeNpLffExTgk64aSx58McSCn1\n",
       "BUb2IAAAAGoBnmB0Qv8Bm4EuDSHdgAdjZPfcsZXdDetb7IufWcFYkvlFtUWk3kOYFQ0QrD3fDANG\n",
       "OdYk5a6Xa+7fdSIHPD4QiGTXtCFRBtEm1sCOPo62vqaTjBDAmhpPW9YU85v1lYVsJzDhkA5l1A9J\n",
       "AAAAXwGeYmpC/wGgSn19gAF80B9M5kGBr3hCfqMHSppRnrupYwY1lGd8Allnu7JQn3HrTnXrOnjP\n",
       "+FxxU0ci3re5P++a7WAjWVgfKmMfUiS6rLKiPWvA8gUT6rrKoCnLg89QAAAAj0GaZ0moQWyZTAh/\n",
       "//6plgN9E2laVcAFR2gUicjqRWf0+t0abCpGY/nEzPR69t97zYWlUd8KNzlP668ZtgVt+vsSTHCv\n",
       "UOLSb4XXKfJ8GYYwn73aVvnGHvGuCy2XeILUQnA2ymmC6D8a8AdZJMY7QOpfZmYZQ7epchAnSKJp\n",
       "R8x6NrqjOfl8TiZKF4FV8v0FAAAAXUGehUUVLDP/ATaE+ADaDeCoWU1dhxFo3Ru54pJmuzlVz068\n",
       "I1fGuPAd7L3tT+dlWXsL4gQGUh+7nPySZPeTSA++iZrtG4qXIGIce56SdcNJaMhZuAXwHD9b6mXN\n",
       "YQAAAG4BnqR0Qv8BogihSwAcmkJPEF5TC0VrHcAQ3f96dYMl/gp/JdH2Zz2rNxMEswwgjWpo7rhj\n",
       "u4jkSIhyHjr9J+niaxkPuqGofQPHO82cy38CF/I+sRUw5UbghMhaRtS62fNtR/i3nzCAojzMlqBh\n",
       "QQAAAG0BnqZqQv8BpWdYAL5oIPIxy++PuldRRGr9RwtMonQv6I0RLK6RXpukLtsK3HFStDlRXoZ6\n",
       "jlXB0MS1TXgG3wPBGzfNrg+xsp5Bf/EBBqxPjnO/6yrvizOnT3bzPWEm+R6ysC8DTsmbaHiS4HFB\n",
       "AAAAmEGaq0moQWyZTAh///6plgOMNtVABfXyJXWdS6Qu9W1JLJxUuhYi9+mJEz5GYFGZlDOPf3xF\n",
       "OscIXj66Cp+ZuLMMdJiF6PY8hH88XL5SYOuiDryaGRmYPfe7/1rOFT3YILLFXIgtRCbmt3dTDZOy\n",
       "Fv8VEbmWDlrF0COgqQT3yhMO7N4srg87GeNbOUBFhna9pf+Ka1ZAAiWUAAAAVEGeyUUVLDP/AS/c\n",
       "PVAA7I3gtIwahSuxwM852FDSQUmVQVzD/ZzDP9PkEaTkQhJKs95QxSz146trcKqUhIjxx4BJ1w0l\n",
       "jiRuMe8lEq8eQWL6MaiFwAAAAF8Bnuh0Qv8BoJ5rk1gAvmU9ow/6587sUn1jqZvnbWJ4ljpIjCOZ\n",
       "Y4iJHo64iWUjT4o87r9fJTO7GXHgaSMfTMvPGeKZ6j7vVPlJhnzQbwQN8iLni3fvc+VlefhHjtPv\n",
       "wQAAAGkBnupqQv8BoNUbsADs4YqGR5pOffET+4b2GR54DgBeTCc1gz7iILuek3lZwLG1GhUiX+9o\n",
       "KTeYpInHSgLNoAI808+x2dCoCSlhw9Z/VJ/36byKmKmNmgq6pBxIYx5j99ZWDYXaAx74PbYAAAB5\n",
       "QZrtSahBbJlMFEw///6plgOIKaLgAqO1Ux6atqhe8qGB2g9ovmsDavN4a9zQE5UM48Xa/t7uAW8j\n",
       "Mv0l7/d/9ofURDJ00F919coaA0MG9qPgDkxSSCdSLaZruNUfW+SaQZtoYbja0oE2SnGYE7yzf5L1\n",
       "pbtnYiG5TAAAAHIBnwxqQv8BoagDMsAHNBU7r1ZtvQzez75LNmFDEctRehQy9eQhImVYW/WHs4e3\n",
       "KR3ecMU2KbNZodBZr42wOeNDpa3KefTYwCFCwMFTF/RxutVGD9J8U2+2u71hT/g4aS98qlETWrXi\n",
       "rlgeDdli4kvIW5EAAAJTQZsRSeEKUmUwIf/+qZYDh7AeABzl1YD06hKMulvam9OJvN0dSkya3yA7\n",
       "ZzaKG8e/oVmXG2cwOj3ZjYxspvd5JFFOhSbVwBNHkXFItc4GXNskdtJeEzW5hiXwQbsUSUDcjamv\n",
       "/dfwC92cEmHp3LgJbJn0OigW/SMks7vMfg9sCeNX9z7nsLc7BOphwqI0jmr0GEB22H1RumU5HVxa\n",
       "JR6TyY9pJ8U96wZLC/9AIA2s1ybyhikGntGWGypfVLcgYmqu7PZ7p7ICbJ16ybgfox3ocReLyiGD\n",
       "74+Ul3E+jej+A/+5ckkmIfZ62pDU8/pV2AqGResZ87ushhvYkAtE4FBJRzp37j0xauqt8AFOiQwE\n",
       "1naQQPcT8drnrtG5X9Cyb+twr3RQ/3tD7EiY6QJdmLhDmC6UMsl6VQUPPaDwfdqJa76psX4YoQgs\n",
       "bT8v/OYGjh3IYwU8uoAKYO4ya5XRhDPa05OcUHD3xiz1Pv4/i/OJ+2mYmiIWZHvJ1JWV12qHWsQS\n",
       "osn02BMg+hOM9a29Qezyv9w4gOBeDtSC0ZcLhm4ysd5vP6ALNME0ktAkWImg8RxHinJRnQMnilWt\n",
       "PdgD9SdpNcfXyHEuCx6EMKnn1r+Kdm3ICYAg9/mrOtC2KykdM1kP5O/ZP8K8QPkaZsjYbBAZ9LhA\n",
       "B16xAcIjpQbwspd0GNTUtcbzGexzHC2XBfqq0eQu9IXgiQCBTMkAR5OI9X+bhK/3XE0CV4i/xoPV\n",
       "9ayWbYZ3S9VQbfZsT0YvGnFGuwTsfZ6/HIcz9F5FbN6+sLNckpDPgQAAAFFBny9FNEwz/wEu/Dd9\n",
       "x7wAHZG8Fox+yrIOlN85UA178joy0R6LDtiDmkDRlp/RWbhY9oD2S1lUyQUQY8zwrrqaEVT9lcCW\n",
       "Fp5+lPyWnS09PukAAABTAZ9OdEL/AaCea1iwAcyoORp3WzYGp0LYbqZzuvG22BRadTF/k0jXUzlX\n",
       "VPlEucO+c3mMDgqsj0ysf0fjLh9Yh3qnykwz5oN4IG+UP1lgU4cgS0AAAACMAZ9QakL/AZuG7GgF\n",
       "mjgAF9Q19KSREdOTeRY0Tly3X1XejjaAhfRW7z7JErl2fCXd4yxraC+yBpAIjK7J7P/rRPIxoY50\n",
       "WAli+vqD6lLejSDdVDc+G4cTF6Wz2j5/1awTMdDNtoIU6CKJjNVlNjxqKP892wD5cnzU6IIAdxEx\n",
       "AIwRUflKX0VEPY6IKCAAAADkQZtVSahBaJlMCH///qmWA32AqtZrM6JR4AHOWskiUmNufekZyCzJ\n",
       "fNzgJrvIyhX7tRftKmHHpE9ns5oTpSgMbiqTpqE+lsxtBIWh+98NcIuYSQe7uat2vft0i1ZfNcB4\n",
       "IHSGhpaQt0WS3bvn5nIpFPqWofudN+NIH5NcpSYr/N34MwpjGBnFbsKyAWrR4Za/Dq1Ndbr5bQv+\n",
       "d4IR18q4mYVoeSptgjvZ2/kMn+o+L1LbR+35D661bytwUUI15q+mgTmF9P4p+bkMOYHeKhNOYVx6\n",
       "vT6bM/ozRgHmhMoknT4IagHjAAAAakGfc0URLDP/ATRyahwAHZG8Fox+DtnH3f8gHEGfDzlgsD4N\n",
       "tRzNlSUXCUN6NynJS/yndhw+sUlNCKxmnqDVvzReWQm2oLvrfiaZVtGexT0AL7R5fF/MKfv5Wm8/\n",
       "1Z/OEw6pgb1KY00aXYAAAAB1AZ+SdEL/AZuCqdE6dgAdjZPfcsZXdD8fCYPhP0ZD0KGuCWiy54Ds\n",
       "W5y1iAHJMaFG+3w9YaTX0LBtrt/kpaEEF1ibU4RqVzdA/+phXo/eYhOZfO7LqvGN0PEdvRH53Z29\n",
       "E02GzYJ6X5zLr/ySGr8bFOHFW+qHAAAAaQGflGpC/wGbQwqbvYAHY7Z9xRNusMBDBxTdvZ1/jQb9\n",
       "EBLKQ8O3GJWzuQgJynJ2jna5D+QQ24m/EB86H2Oh09X+To+BjflfzL/Vxo3pguXx5tnJ3duUb4Hv\n",
       "iv8yAwqY/RQNhvg59A4LsQAAAKxBm5lJqEFsmUwIf//+qZYDgB1YAJeoiPwcsXZoEuffrs4JZm3f\n",
       "rX3ukrAdGSatVb97vBkBWW+H2ebAWPKL9CmGMByUgno4K0kB9Gl0HvXgNp4wnGTYIDuqFu9PVb5M\n",
       "218s6ZU6sRi13vNvi1f/AkcQuaVQMmSCu7T4nEDAp7mEzlnF+oDRzLCYOPskH3F8uPvtJ96ttqk7\n",
       "fyiPLmUFQz2fgz7GNidNgBhTbz5MAAAARkGft0UVLDP/ATUyBgAIfl/VXty/BQLS4DrvB12F0y/4\n",
       "szsPeYwXh6BmAxd3RqmcwSfvRsxoHPlMciD//BudK/l2AAbBPCUAAABfAZ/WdEL/AaMghYAObhio\n",
       "RkIpz74LCQtVAcs/v9aLxwASGbsA7pumfzUNZUhE5hJba0vQcx0hj+CrLaW6JSFFEEsdL8JQdmmg\n",
       "cSwtlaZ5LEzb38camJu8dZsRZUHthPcAAABcAZ/YakL/AaGomfsADsjShMi6DgFTZ0YNPveEcQKy\n",
       "ilbXrEvOkqcdMvmgLe+qKKDI608F/fks9oeXoNgc8W3D+VrAb6g86eGJpNQ78BHQF8Vc9SCMX/CO\n",
       "zTUEwSIAAADCQZvdSahBbJlMCH///qmWA5pX5zvYMAADtKixPkUcfgQtIuH6Ail7uISwJn+4F9vH\n",
       "d3ok95Mo04KxL/gpnv5p0h77iWxaHR8FcUHX4PSvo80AphPqFcXhUF5xxx3+Qex47/9GUr7HMwDG\n",
       "GYDFhFYLAmpZV0O55YWWqwvUOGx3FNvIrWVh11WL3GbmgwadGZg/74+kny4L98VZes9gJqNf+Vie\n",
       "3tm5Lzt8f+JbSlWHQ765c6nl8Sl/TeVgjk0ARdgk8csAAAA+QZ/7RRUsM/8BQm+zauAAQnS4WP72\n",
       "jixw/HVrYPz4N1Ke0wJKe5eE5el57li8d6TIE1u0oL7fjX6j7lOSa8AAAABSAZ4adEL/AaBRf5YA\n",
       "OaNDmL/AKuMrvVKc95zuaOjr7LqcpTZq7XkgKBjMqzqX9qcHekc4D8U/MpWt/IxJT46pXAE3+lCy\n",
       "Punpnecj9MR9yPUHQQAAAFQBnhxqQv8BsoxkxAAOx3AbEbFCGyLxzyzXrOi2Prx3LpDKB/RmJPQF\n",
       "O0u6Z26i/K1t2RODucRtg7dQxDCa6mJR/owoZrfj1mn9/y3IToLkE+z9lYUAAAGJQZofSahBbJlM\n",
       "FEw///6plgP0l/q3vOKAAqMXBUfwXEJT8gv9mlStYcwnJR5UfUXh6kT9Wrv6i+8OsQD1M76auDEP\n",
       "/Yf3zYm/yZILLR3MRsyZtkadUBJRRPkSTPG0MNwgsOg7VG5cSbyq1b2PSt/e50iz3Ikyti5lha+p\n",
       "iZzsoHQkHAtRUHywBcKpX4IDzv4g6BUsitohOiVKKouTYf2qDGaz+Fi+z+f/mUb4p8LVLF13d4dB\n",
       "3ULYcVaqz2a3Mjb3TRJWuEj57hVRDEF9OKjYl4/8loXxTaocdVjTswjTEw5rLvZwIVfghbZrLm5S\n",
       "/B61a5x4VXix2cB8zhSsuZdHEsU1Ufg3v4MYqhUKqXPB3Afd+ImORmeAJysKDUgIJChzoGnqZRWZ\n",
       "8RpE1YACZpvoqC5g0ggMRymkuqnttngbaDHP5WkS0bSFb2idjbK5qfzMBltQOzCoA3lfTJRbCJgH\n",
       "wnza1n3AA99H7keVszDus+COFwupEUzgz25DdBPZIkkQCYDfaxmPXxo4AAAAfgGePmpC/wGyDBjo\n",
       "tEPGNgAOxR0211xBuT6O67a0Qei0cmqgMtj8FYpu+Y+WL9XkLbyq05h81WL9KoD2QoSUKnf1KqoS\n",
       "MdleNICOE9ky8+E+snvweBlmn2kVuanG0nB/U0nbjRno30vg8W2az5qhJN3a6/AAsmobajb2EGLY\n",
       "KQAAAMhBmiNJ4QpSZTAh//6plgOVG70lABUndyXgdAqCOJHqoU1t4hlVOzcRuFhF4yAJpK6412HF\n",
       "l+qEDZQsagWEG19wqdxRbMhLr57LPDtLaYhxvH+tjbv3MjOp60CE8BZMbREXyHvpT3mHZ6xVjIhE\n",
       "0Lql3u/yaXdI2Rd4rKALJzQKJ/LFDeOeOgX6XrfwQc6hVX9xDyunew063rZNJfRK25LC3eJiMxja\n",
       "OePDo9ZcWv98Wz1nhv39AQM3YvGbxhlsVAadYMa600r/YQAAAE5BnkFFNEwz/wEv1MBIAEJ0K4xK\n",
       "AjHu6TeVGRjeRdx71uy/9/yg7rp/u++R0dmbj7FMN75eYbjf91Z5QErz357VorJZMQ8CIWEW0knq\n",
       "fQgAAABXAZ5gdEL/AZs3tQ0Ta7rNgAdjtpNeKHI782hGg8/f5iy4qMF2mPouvg/BwedX9DxXjnCS\n",
       "vSSGFaNzkERZbwTOWwHyMIBoPlfINYBj0dS6pPwgE3bFFOrNAAAAXQGeYmpC/wGjTAsAHNE0tLD/\n",
       "n8xZ/o1pkW7Sew53RZz/4iJ2LYiZ6Uwgtxl3clxopNR1KBJyJz6BrCfDZ4K1wflycBDH+JMX4y6R\n",
       "bZ+01fyW1RIw7yEfRcyom/CewAAAAFJBmmVJqEFomUwU8P/+qZYDgB1YAJeoiVZNMry0ijXWZWWp\n",
       "J3PP3V+EH3JH/oR3SaHyogUZ7fMPBRbar/+PJQWRjFbeKx8RQ8JNpRUi5+wYq6khAAAAXwGehGpC\n",
       "/wGlLLABzRpQmLGwfDt6pTdEUAYqInLKvcd0ncezRlZ3noO6J5oyomj+UL4sulorVF52QwAzvx+Y\n",
       "RC6AwMJ+1s3o4jb2X81AKPtRD78K6zYIIVsvPpe9Wmv3AAAAnUGaiUnhClJlMCH//qmWA4HMOABl\n",
       "3x5ihXl9HM8xqyVJeZ3GPE7EQRQ66O3BCLS6zW9H3tJNCS70tkI4G4tggszXkS5LOPRkycHxC2XY\n",
       "eZGhkYx+OqQ6J4k2xyKcup0ZA7pBUbfw3fcUQISy7IX9wRWB5U6auNMpBX5qT1E3icD6naho3sil\n",
       "5d/eVwA4Xv3o9jH9P5Pbm6kZQTKS34EAAABOQZ6nRTRMM/8BLvxGpeLcc+ABD8FC0kvuaw+PxlD/\n",
       "ApFfCsUOFvWsYnrj0W1FLNX+Z0UAKkjpTEvRv5PA5KVgD8FF8brl4ZR3hLsQesrpAAAAWgGexnRC\n",
       "/wGiUoYVgA5oJvssVZd9SCBiQXwm8SgyJEoJpTtSuRbSv+kj9ZQRs0EZt6S8s3jNV+YxDDI2vy7/\n",
       "1Hi05/LykVvUM+/zwyFhFCTnYPL4TkKMELxf4AAAAFsBnshqQv8Bm5hwJGOwAOx3AamIZDsub8fQ\n",
       "ZZZsfY/sgSF/q8umHaU9zujjEcPhpNgvsrlM2t+kQ2ICgvEzOvFKsMxIi1fHeX0gN/h8vpA2bTFb\n",
       "vjfh5VbQ+E9gAAAAg0Gay0moQWiZTBTw//6plgN9E9JIPYAGW2f6DKvc+leYQBfrI7/8K8TX424g\n",
       "AKI6RaxV5sALZbBAqrDmdJqhrCSddOzQFkYxyO0P6vQjtadhiv0IDq1XbbdecAIr3r7mNJNMM7sC\n",
       "37Y92Dhmj1O/cV2uq5CZBL7dnMISaQO/wKylaMklAAAAZQGe6mpC/wGbgwkv6mm7AA5rwt0BsVP1\n",
       "YbrVM7GcWeOVoS7aHlxC16PRxriEta7xrV069gT8JkqhKQ04ZjnzVL560APSo5Y4zjsZfTvx2qPg\n",
       "Vf5IN1mwWkt78Gt0p9/OWT8R3zEIAAAAq0Ga70nhClJlMCH//qmWA5pX5yr9sEIAACIPiR/7Jl8X\n",
       "266brF458mEYAHqHyPBhj2Iaz8PQiCCys/wpbI1tzSqG9pUmdUQzcfUoV3H/Mfo/tXLCAs+7NrIB\n",
       "B9nqEEiIvNi6uMDdhjAgNi8ai6gIHXbNlRqLQD6EMlvI4rJ7iO0YBcihW8bwgAaIPl/IcDGAA4J3\n",
       "o+ooHYSZy3s4j6oiq4PzUbi0w0NM3fCA/wAAAFlBnw1FNEwz/wFCb4xdent2AAOaN4LSLcABgMp+\n",
       "lhwZVyPmhPfoWLTTOa7Q2mZVACXANL82r7aLhc5yhEnL0VJWliElh+0yJ9y7fk2sXBO+AZfateoX\n",
       "PEVfgQAAAFcBnyx0Qv8BolHPcAAvmR5HNTxPhAM9kqkWV8oYf+VY64lFV/jqS2q3vQYTfDSpyvoH\n",
       "UKv4gVJ0W59AJrtgG7JYUdiV7lwwDrUmsaQkYRLFGK6CeI29Ew0AAABjAZ8uakL/AbKKPSS+wAXz\n",
       "KQvips3UGVUOMpHWoKR2+9UGIM0itjF5y5oMK+uLDpXqoAZou3xNQwdfY/QHZ+ZPP40i5SoSfpRp\n",
       "P0JmbpbwK/cMF9bj/Rqg30hQO+ZWLyKHP3N3AAAAgkGbMUmoQWiZTBTw//6plgP0mRstUAF8x5vb\n",
       "jzCK8+WqZ2FITcL+pMWRwNIZ2lfdf5DF2VI1XNTUy/xiY1JCr7t553qKGUSQCwt/xXW25fws6Qie\n",
       "0ZC5K1klCQv/b/UvkdI+x2RDUuziB1Stc0310bWbjiQ1QC+HnaLwks0yVQ8NZ2AAAABUAZ9QakL/\n",
       "AbISXfDAA7ImlonL+9J+/ovNbdE/9jIR4uG3AqXlJM0s2IhlRAeCGuhlZH8QJG72NfZDXa3TTJ29\n",
       "ncvOxQH9PV5vb+UsHi6Fg+/0KKfgAAAA20GbVUnhClJlMCH//qmWA4w21UAF9fEj/pZRXA1h16gl\n",
       "0Z7glzQ8GxWkqr2UWuYNnd3rwgsEPakk+Jvau+33iBnlpjhbxY8jC0vnKMmhkZmYG9GHGs48HBvl\n",
       "9jBF5Bw0ib+oXdR8J8hlCmrfVQXDy+3WByr7SIIhzkpaqBFj6odSYlCKhGTO3VfBgp0w/KqqlYya\n",
       "x3uCdVfKzKJp3JR+fdcLRuePUHzJyE1/LfHym37IRIl5USPAnpnbbFjHxK3CDm3hMo5kwOkRefdU\n",
       "QOSc4Bz12Mz4lNbvjuTtoQAAAFdBn3NFNEwz/wEvxfxwAGyrx6SRURjiYTEuz/gKjwUzlCdqHpND\n",
       "slWSAOacDyBANcG15RQWT5BN3LXXE0Yttj81V/PTYeQOSsnelr9mhKev1qC6aAWN/UAAAABYAZ+S\n",
       "dEL/AaBBxZYAOaHZ/+3JBvYjZTAmHlyWC3rEQFDuf/KDax0VVnByIwpBqvKYT116oxVamZBvBb/n\n",
       "DgizZvPYSFLb9Ios66gUKYWhgnc6WDO3qccX+AAAAGEBn5RqQv8BpWdYAL5VeamKFJZ9l7uGpttO\n",
       "gg7XH0jcV4nMdl+izr+zebtRCj1iKUujVNkbaT85sdQCKRDNaGBHeg2v/67ZJojAbu6jCls+01/v\n",
       "BwYXEAMgDHonCwSwdh5JAAAA3EGbmUmoQWiZTAh///6plgPy3VgCOn6Zv5iRh0ULNYaDarpdREwe\n",
       "+zrkjvIKBRGC05cuGEhhDSfEjLuFPoWr9umuEQ6eSfdupfE/Y/g/06O71xH8ZHcQa8u3PTBd9e4z\n",
       "Qiecu9TdSO56rvf+obx2jQgCi56m0K0ch8BHRDZ+40nHFus4lrMl4WXomG1+sIdPNqt49YVEpqpl\n",
       "d7xVF/EJf+LMuD5kf4V19faG51xj2/2M5Favdqt+okKaseWXZEOGdQ7KgVjsFIRjXBpzmAJ6jfbQ\n",
       "E3FRV45KjXOukYAAAABnQZ+3RREsM/8BQnBd7iGAC+aVP3SUxyU1O9mGXDtNhNdhd1IaWYnaUTs4\n",
       "e4Pe9NDOVDbHOY06MTYAEChGSJFutQM1sWig0WnOrfybSO87Sw0CmbgdnfI0rkOYBSRGkopYsro/\n",
       "TbSH2wAAAF8Bn9Z0Qv8BpSywAc0aUJixsHxZnZvG24jWKriMNTmJWgCWO0a5j9eRt8sSI4SgNEIF\n",
       "AORxCirivDXQGfpPzCIXQTm60uiMH3uVVZAgeFf5av+j5FNjfHeuQzlKIjYT2QAAAFQBn9hqQv8B\n",
       "sgwdL5WKADmiFsxmn0DXXbVtS3uhYj1QSU49P3g5zK4xML/PRQLi0JpSlpC6DtGJz9CN+gSGPWVY\n",
       "4HEYLDv8Lg+VJBfjFB5Y9TAywR4AAACFQZvdSahBbJlMCH///qmWA3zBu++wALsIiVnHvU3Q8E3g\n",
       "Lqtc0Ty7y4Ob1C5rMuCdsbIoGQOIZMxZDLwWcjR5Dem5oZ256uiz5ENpZBLfgDEaSLMRGLX4EtsL\n",
       "AJBwr+tUowYRuv+7ugOH42AWvCmeGzesbTGoqsPqe5KIRmMNmgZqQVOTGwAAAFdBn/tFFSwz/wEv\n",
       "Mp5tuwADsjeE///RXA9jJsDK8S6Yen7smdc0CklhKUyqXOT+YSRyDrFYwHP9hNhFhoBn/yX5LvAn\n",
       "Zzl4sCT/Q1zI61vAA7bKU4ARRf4AAABWAZ4adEL/AaUssAHM7gNTE13sw5CaCiq2r8SfGIO5aO8x\n",
       "Uh/S3LAxkf2rlDaDQii4H1Z8XLVXw0NfYi0N9bj+EPd2RSuVeOftweSha/k4r8XBCntdkYEAAABd\n",
       "AZ4cakL/AaUssAHNGlCZJ/4PizOwEUteJR7cpRqcOe0GUDam7wvXlhhU8E8xl3nUGTWa6yBX5V8C\n",
       "BAIZ4A+s6yx95/dKmM9uChsthnwOx8nFAh2rdKWmmZNPfA2hAAAA50GaAUmoQWyZTAh///6plgOB\n",
       "zDgAc4HWMNtiW+8jx/VlPX0KY7J/gNkMrpIPQSPa7o0uHrzRTF2MZxgF++sbMpSyi3O9QANkK3B/\n",
       "c7mHhpUHKK/unzCrOzkX3ldHsGdGlxWbrEy1roB0tfjH0Pg8xGdeA7o2z1sx2MfaFHw/5Ntx65oA\n",
       "0xhSXTjBcewLpNdPx++XhI17pLmbw7MO4shBu86Brksg0I+3j8e8mhBitNuiZpK5pmE4jPeIHWtD\n",
       "KMSnAme1cuvu6e6C9MK2wR1YgQcoV1+BrHFW3pe8eYZUg6BrEqUzoapeQgAAAFNBnj9FFSwz/wEv\n",
       "y0EgAQmy2zVkakShoYbXExF+KkfbTXpSdbQx1GOuSJNd53JPGbzK94v4cM/IN9/UrFHSe5rn4Hqm\n",
       "7tvfB4p4ZNrQk/NsJ6cNwAAAAFQBnl50Qv8Bmze1DRFx10rABzJwNBHagxXO9ESKFErhSxFLArMd\n",
       "aa2oCW+5l9qxDgDz+/8wg17K0gbAEofClBF7Sa1YHy1WdFcNuNr0NJMdry3fga8AAABbAZ5AakL/\n",
       "AZ9Df7AA7HcBqYoUt1AmzoWwx66BBypw6EL3ous3LsGCMSYUCyMim2JUWOse2+BbP6R6MdQIDxu+\n",
       "3D+jVfCxmw3/8IH+/8ZBHTpSJpuM4gw7IL6lSAAAAflBmkNJqEFsmUwUTD///qmWA4AdWACo7VS7\n",
       "r57BOBeqkc7RUfoBkgI1ckGasBYf0DWv7XaEESoywmwh9zTwP87HkoLORuhBixO674FzDr+Cmqz3\n",
       "A9uskzwaj+Hw0FhntqSzraD2wJ41fUK0I0h0CZ1L9JrKPTyyPh+Rflr3uPTTplFJXnkTvol5GKcI\n",
       "8+o3Yl/Rpen2KVixEfUMwFJukZwmC//98KmT9AbNTwifk2Ix2SU8UsHaQqzen7Qj5GMO5jotvf3E\n",
       "1u4IkD7rL0P+jwV5PBBks9vq+2twnvCQ/4s5AzYBT/ZntL6VdDJbUf1AsTwPwUkDyw1mH9ojgbrs\n",
       "qIPieZ3M5dDTQKRras7WFTtbdmNStaFRf0+afNUXBRIu4Gp6eMJQd/Lx9Orpz0NKBD/O2fmCjMi8\n",
       "TpjJSRcaBEp/iOrGI5IMAvjfrtZPO5vEryIKd5wDfNAsZkz8smKehNNHRBNKEQ78tkO3Uln/ogE1\n",
       "oauEyRkdZOjleg8fw1TlAuxssg+coZr3KDAzKur5Q0nmKW/aQSCIi3tuhnGVkVIQmlIb8ZmLFiSV\n",
       "zBMCrBv7yvZv1F3ioBorlZvnB0w5MXjyBF6t8fN0NMJ+BPP5gcQXnIfPNazAQVKzkhY6HY6jwoLe\n",
       "ex380ExHDLrLdG5cPOdwr9LkYw5H9qItAAAAlgGeYmpC/wGlLLABzRpQmSf7K2O3qlNnmugJTkP2\n",
       "bpcbYAlk+JXztTqDubjUizlUjfuxlPbe7UrbrYwA+cOvxCIXNTWFJoLq1EPwElYpTdk/OiplWaxq\n",
       "H5DXAjjh1HUXDY9cpz3A51SwcWxXlKrhH0hzbLlxl+OVFUMhs+Wf5KbKtH9GPgpLBE89tXaENKR9\n",
       "8OCpOBE6IAAAAJNBmmdJ4QpSZTAh//6plgOHsB4AGXfIldQi/+2wWGEV/qegowFEQcdb5j3lIuwo\n",
       "Za7z2I9C4ADxghZijpCmx9bG6d/Tu46UKGcjRpOy/HyLWnKs1yqufnyIuHKl92/oC79OtsiElg1Y\n",
       "OIM2qzPOBAF07xHStw+PtEWFHa9gFd2uG1+tpGEp6UUk6mH9SoPNEO1QXLEAAAA4QZ6FRTRMM/8B\n",
       "L9vxwAIfpcLSSM8uUEDJkoWD93UV1KOGV0uIP9gK0hFCVZ7+pUjaQ0DH7cpdc+EAAABTAZ6kdEL/\n",
       "AaJShhWADmi9zSpXP13YnRIrJdet50v9svVrIfMrJRgnqPioRti5G2QbIe38GnYhhj0uoaGNQWN0\n",
       "rp5cvn4E7+WqyrJz9fEFdh3viEEAAABXAZ6makL/AZ9Df7AA7HcBqV0by6gTZ0SXG7N/RVU4dCF7\n",
       "yvV3ZTBgjEmFAsjIptiVFjrHtvgWz+kejHUCA8bvtw/o1XwsZsN//CB/v/GQQuv7rNMTozhtAAAA\n",
       "fUGaqUmoQWiZTBTw//6plgOAHVgAl6iJVkFu6T8oDxgdCtStqFJkevcHM1w/lxedUa0oJUchFlY0\n",
       "27/hbiyOgksTBVNXRynjGOooBc6anJdqD5dJzFbSpDwX49HjdJr75tO7kVnI2zDYVb6UKldRfWNs\n",
       "ytVCeHQAVY5rrdtqAAAAWwGeyGpC/wGlLLABzRpQmLGZWx5ZHpbhXQEkq3YpkND5QwZAv/RsTHDa\n",
       "9KdKr7QYJiEnt0xktBv9nkrzFRIhklfs1iQDRSe23K2/zuv+1CLGNlBH2HgK8KEOV8AAAACbQZrN\n",
       "SeEKUmUwIf/+qZYDgcw4AGXfFcPCDoqOqLLfCiccPKAEh68PG3PToqB3XfpqI8Eq7opsa7isbM5s\n",
       "yV6067CYvXwyjQzkaOauBsPCO261HVZcbdzUfksu1dXOzEKcUPKupR4/Z4PJJf16MIW+lWLL6xaa\n",
       "DN7+ezCn46k2K1KJ/Us1laObcYtL7RkTO+DUmnTWjSj07qamupkAAAA3QZ7rRTRMM/8BL9vxwAIf\n",
       "pcLRk1PU93z/y5AOIMhMSScUQjmhc0hFCVZ7+pUjaQy9e4LbGKkifAAAAFABnwp0Qv8BoEGTpsAD\n",
       "si0LpQ0x4aEsidQj2bd53rSmYdLUil8Fis2atymkMhK7j2axoYYztiwmd4KsYbZEyNqupbfpQsvy\n",
       "YR1PJ39bb71B8AAAAFcBnwxqQv8BoElH4NAA7HGprtyAWPqqzVd7Jb1uSkwiBgEdfqij3QA/BytE\n",
       "ByczdYyrSpcmlDapn5q2gEqZMy4gT9OFspbveh1tSr+Az/k4ouXBCmtdkYEAAABBQZsPSahBaJlM\n",
       "FPD//qmWA3xoP1pgAl5pSn6g6gvR6GsqIEflhbqeZmrNbWECrXb1Pvz9vAnVTdOH0yYlBZyIAdMA\n",
       "AABaAZ8uakL/AaUssAHNGlCYsbB8O3qlN0RQBioliEM1tD5QwZAv61pVTRteiw+ddoMExCT26ViW\n",
       "hCNtAZ+k/MIhc7fUv0l6nzYEQWR6Ju+H5av+kjiBVKP+mAXBAAAA4kGbM0nhClJlMCH//qmWA3zB\n",
       "HcfxvC5KYAGjeq7ESqQ6Y++NPM7BVVOgN7C1Civg26WV3v9eqw7VhbsETK74A8RiTDKXLfRvbmh7\n",
       "53+XWUXt2pn/XUnH5MvFA5nVCtRSbYCJaxqdDLRu6KomNU0Mrr5E+ZD5NjP6ljK3C4ngnoV/MyVw\n",
       "U5cAWx0cmbG3AM1vObpXEd3LJ5Y0Q2o6kWZB+lv/4DD5uW7rduepZz3Yn1UwmHpk/1No3o1PcWeA\n",
       "SFMtYG39Lm5CKeZmEiTFiXs5Uhf+e3JEXzwWOc75CgkdHGrDXWAAAABQQZ9RRTRMM/8BL9N0SABC\n",
       "cvzlau+eDW4z0pWMMcyp76MxP27F14hhUe8d9roA4xb7nxUUTmadz/OXDK7D8kc12oN9+xZrfIb5\n",
       "TcNdmB5RGTgAAABWAZ9wdEL/AZtESCxmWADmiaWgq8qxAh+z09kuzWQphQSyKJ9dOr8yajLdih91\n",
       "A3OQ1xIvjYqMB56BiKOgSNUvuU5um/U4v4CP3q8ezvfWs4vjpxFuoxkAAABOAZ9yakL/AaUssAHM\n",
       "7gNTE13sw5CSH+0r8TT8XqCAGp5iP8032G1BvrA0Tid+03yZLSjFdi70xDDLMnr7+dAGUUSR8H1/\n",
       "LVYTeCFJe4wwAAAAXUGbdUmoQWiZTBTw//6plgOAHVgAl6iJXfLDkIPDXeucya+Zy8kx/iSYrAvO\n",
       "6kT9Un8sJq5Z/OdbTH/wtxZHQSWJhoSLMmlVR7vaeMP430x7wgk3ZHvfnVwSZN75gAAAAFsBn5Rq\n",
       "Qv8BpSywAc0aUJixmVsdu3T+iSSM3Km7Thzsomj9tG2aSJr8nONgbqHXIBqLNaQ0LSZIrTVqfcGE\n",
       "hiuH047x1xpLP9qMkeCF7VifJxsswr21nfV/NOV9AAAApkGbmUnhClJlMCH//qmWA4dn2zKYAHaX\n",
       "ZXm+iVq22RuiPBAvXbUVCAkd30ZcJkrhjSBHbTfXHipzx+SJCLeQhvnNYs35cKMyVL+xWnB0vIZQ\n",
       "+sjeZYmCfufy3Akm0ta9lG1fT1nIs0ZUjDFv8zzTgy3mEwzHiqOrux2BNslaf2xh1QxoDqIotokp\n",
       "t9KsfuD5lD9vHfHp68wwR3iZ5zL5b2zYn3i4lywAAABdQZ+3RTRMM/8BLvQ/mOIkQAIRglMqMLN3\n",
       "woUU+mrmuXSEkANYjmY1cpgv1tDWtZc+Pxa/1wpnsqGuJZMmJ+R8Gd+P1v2GERFSyyKmKZtLnb0N\n",
       "cyNjjmCgQLbhmkb/AAAAYAGf1nRC/wGbRDlFQdH6AB2Rl+vuXjoQ2vjF98qknhebUEWSLsNXFMP4\n",
       "KvI5UMa0Pg2esDSKnYg2TxV+UdQPlc8kWrWx422rm+Wqwi+4RRdOfMPJs3Z8KLqxkWC2yOqAIQAA\n",
       "AFUBn9hqQv8BpSywAczuA1MUKSyoD4L2mIANNN8tt+2NpHZAxOY4/E0L7nUAInhAECzf77HE2TgE\n",
       "8wP/ZTfVUYy9wMZeX6D45jXy+BH/pIsvLBCpPdkYAAAAaEGb3UmoQWiZTAh///6plgOHjkmAB2ld\n",
       "2QsoG03AmETbNQbnJOw+ysN5NSYbOnvASoX3UUBwAb3Chj3aJzJXWxJ5+fICZScMZEZHTcKSgK7q\n",
       "0WBhOSvcmzs1tBho6o7ZYk/U+397I3NxAAAAQkGf+0URLDP/ATUyBgAHZG8FpHdaAqzFUYQYtdO2\n",
       "E4A8Amn689oqYMIIIhtpVxCH/3TgMiBqF5hJ+9IWoDOPooub6AAAADoBnhp0Qv8Bo87LABy7iHen\n",
       "kiTQxZJiTAaeJfHgWwmTPVNGBlfAkaWPwWRaNkNOROkT+lCgv4IZB7jDAAAATgGeHGpC/wGbREo5\n",
       "uwAO0PXCZC1oAUs0Dnty5o8e1ev/TpFHjuA7DmTQlccfwo/iBUveY7qNK5q9L3QpCEtcUsd4lN2p\n",
       "w43hdegcQndnQQAAAIdBmgFJqEFsmUwIf//+qZYDgB1YAJeoiV3lphgtdy4JmZiGvU/mNatTVG/6\n",
       "UgBNMtz7QfGh7/PbNUOiAMD7jE1LGHKMCpq8gs5GjX0hA7kdGRpZjcj4lgedv76/lce7TTFulPTe\n",
       "vfY1dDjQIkuMzJxhYjTLJf8X/FpIqsz3+NOZcJ7l4L4yO6AAAABXQZ4/RRUsM/8BLzKfF1nIADmj\n",
       "dzvLmcxNJB4Vw+VNbGCadj1wv6x1xDSvXxNBSovJelGekQWAIOEYV+ZHgPpv1d5R/hvB2+rQEqMf\n",
       "kk5kbIhmgLAPV9/aAAAAXAGeXnRC/wGjIIWADmiaWqlCXXMP/Ma0xyG1nh6+gOcTbYNAWiO1NPIU\n",
       "Lb9FLyUJjadJ/uWpHxpPctKg5QqCPakD5oZ76XJP5OJIUuU5nAk/ycWCHa7IbtU4nvYFAAAARQGe\n",
       "QGpC/wGbVYril6sADsiFaIbrlMlIFdG6xV8llEujfXui2fKZvRYB0w6E3sWB11ggwDrH+X6c+tTC\n",
       "vShMkcEK32ZuwAAAAF1BmkVJqEFsmUwIf//+qZYDgcw4AGXfHmKLRfWaRURnXOfGAayBZCm74cHB\n",
       "BhYimE+4V4wzADMOAZWQrfOS/+b2PTSM1MGXDpfvhVcwBqmy5lTMfm0Jhn1H2SowDukAAABEQZ5j\n",
       "RRUsM/8BLvw3dgY4sABOsFC0k8G6ZKq/bpjYLbv/DNa06D92F2AgtyxZ13Rhie8ojFWYfsUMtP6Q\n",
       "tQGchRLq2uAAAABPAZ6CdEL/AaMghYAOcPXCZC1oAUs0DoEx7nPw3WQgjLjresH+o02XsxOVTK+S\n",
       "o9v/ECpMs/WTmCiyJSGIC1kI16sniIlQGMbhX60Dhr7s6QAAAFMBnoRqQv8Bm1hqeCO+jQAOyHzT\n",
       "UL/3C0T/W2xDzl/0FMkWcOL5q1l2RUfmpEeqSCkc2WkKt8no042RPCXmiwm14fsHQ1J35OE3+ki4\n",
       "l/CbTjMvoQAAAJJBmolJqEFsmUwIf//+qZYDjD4RMADtLspDDGl/lno7MxNRb53YtavkvLrhA9/1\n",
       "s8BKFA2gX9xyJkoL26VSjGKcmjamr/09d1V7pYmxeFu5lqO2vj6yzGVmSV2p1LMr7n4Nevlk9L4Q\n",
       "pQTAqQdeEflHy+4UHlkfK5iUicS7rPAFBEkKMyn2m6ducaliCsA0fAZ3QQAAAEZBnqdFFSwz/wEu\n",
       "5yYxsuoAOZtUCeRLfIxKX8Vi7XRHJKdp7dSd5WyHQF30T2HsRzrHBsKBHxA4zV3v6k5IHvF+Vpl9\n",
       "VKaBAAAARgGexnRC/wGjzssAHNE0tLD/n8xdo5aB/tRay1+a2lFE1JyHNZ/j6H8KvRQ6dQULPyWq\n",
       "VFHiGT/VMu+Aj6NF0/K+4kk98QgAAABNAZ7IakL/AaNMCwAc4euEyFrQApZoHQJj3Mizx5vgMEdb\n",
       "1mH0VUi9oCJSsACdDJQPyz9ZUCG7cFXuUcvJDgWxPi9S1RvwEafOCFYbM3YAAABeQZrNSahBbJlM\n",
       "CH///qmWA4Nw7AA5tESu+XYXBORDdaVIqmiqXH+eJLDinlYc+tqfGveoPwbfajkQLLmOvx19Da2k\n",
       "enpA+UBa05FDJX7c32ltA4durHQdGNjyBzpP8QAAAEZBnutFFSwz/wE08cQAJpeQn9i/IVq9+Ngt\n",
       "7Njdm7fFE0eWLoGWRxc7pQaeE3dUuyCwT+CmOQSsPf1KdIBh/liquHygJbW+AAAATQGfCnRC/wGi\n",
       "N6OAAX1DaEy9uadGUG8iKJjV+0zFIBb7md84W3C9/J5y0gBNzuVglWGoE6QGP6NrpXz232cnGzmY\n",
       "+c9/lqofPBC2fmbsAAAAQwGfDGpC/wGlLLABzRNLPN9wIDbWg8rW+aTf0pMks0C4e0Ki+Y/XCe3A\n",
       "AzTG5szVFzNlTc/gI5nEcKxrcwXAPTHvnYEAAAErQZsRSahBbJlMCH///qmWA3zDme2oAL69JWTR\n",
       "T03t5HrZLAJAIhLG1u1l4kfQTFyzTQKC7eSyE9zS3HZ31/K5F2caAyNcn4SfrUbQzkbnqrbZsr1q\n",
       "gIEN/EH/qgqqqg6HvYVcO4LRJhlSrwDRjudq2CC4URcD7xEqk4Qzdu+60B94rdM6qn2rUmoXIL3y\n",
       "oY30B/SWfbvtIDBIbHbmACouLDOFtxNW3PbUjDLjhPXTHzQLv8yDmDQ3wlhjmkwZY7b9jS3+BWnx\n",
       "+EUx4kDCLNpJSq7FcPxywuX08PzcwyScakPZh702BSmRW4uqaZXG6lhPIC37CaL6juTq+t1JNpY1\n",
       "jyn7gweYQMLg9eug7OK8JmspEwzEHt1iGOFPST48wi22B6+Xczn+5RlsY/0AAABTQZ8vRRUsM/8B\n",
       "LvxGYgk+ABD9LhaSROF7tC3k7NB20JvOwWSDmArXNDASPD6dTLtKTYmhQR3TE6OWhrCpiXo65ucA\n",
       "ejrpo/M4R6FOJcVPORB/Jj0AAABRAZ9OdEL/AaMghYAOcPXCZC1oAUs0DoEx7nPw3/e/uCvQ496w\n",
       "nheL2Ji2jVCZ6W/8QKkyz9ZO1ZWTiHuqJWQjXqyeIiVAYxuFfr6Ykt3WZ69gAAAAYgGfUGpC/wGf\n",
       "Q3+wAOyJpbVSj1SKW1nT7q6NQRe2P59sqls4FnA80w358LUdkzWjg5OOyEfzUP6Uucz5sq1QlXrR\n",
       "xQ9w2/ePe8t0UHn8nFDy3E/IyMyCA9uqCbrFkkatip5gAAAAt0GbVUmoQWyZTAh///6plgPy3VgC\n",
       "PEPMUa2xz9yy6Xu894TMEAt0PE9N8gA37Ah1bCj5rOv6t9mbOuPQY44l4T+WTbo64F8YTifntoMb\n",
       "MfxtFzzFECjMIboXwksVg3KAz4PQJkd/y697oceboNY0BT+x2AqHO8nGmEDRz1or8On2OUJ11+Cg\n",
       "Dble/m1W3lvLKzQAalcQABJXnkcpAqXVdP5lrPntPJStiWRqfFnif/Ga9SlK0UfIgQAAAFlBn3NF\n",
       "FSwz/wFCcF3q1AAXzSp+6SmOSmp3swyUMPZUeAyLJrFd24MshtWzu3P9chcGHJHYCYkBFm+ExPcD\n",
       "vfdKlA2mMn/luHz0cNhrvb9n2wxEjzusNtZu+AAAAE8Bn5J0Qv8Bm1iuw2wAOx6e+5P437yJpG/Z\n",
       "kqx9Jgh4OBIqJIs4DQ4QIbl1X6voiLbMnb1WZ4+NHA0Hy1WWJcSsE/1YtasXacpTbiUyoMG+AAAA\n",
       "UAGflGpC/wGyDB0WHny6gA5od7aF3MQjnMzjSU3ObCBY0SKMidbRiKTBIW/cSosEQarJEUFHZRtB\n",
       "LoJofQ0eyi3rkDAX0Vn/T8FhDCFfvOmRAAABNkGbmUmoQWyZTAh///6plgN8wbvvsAC7CIlZx71N\n",
       "0PBN4C6rXNDo6cMJLKfuhsIzptYU485BFXWvqyZeCzkbr1b2bvkgZQaGOmL4SB1OjsjM2TE94f2t\n",
       "HLBzqmtf45kOZjTRjb2I0nARJK+P7DIl2h94qSIrYTN6nCIG0f2Q4nLlqiEQPop/H2N6DxhuuM7F\n",
       "FPgXsyz1HXqZZGJkDxvWbwnQTBDMA0OvlehuNVOf5DTMBGYLdubenBclNgnbNCnqhDqxQ0N69Hsd\n",
       "2U1LlDiy/4md69IjnmkwlWLmmFFpS6I0D4Kn1Yd9xIdGJPYUL/QvoKLih+NMvcvR/ghKepCwDc7c\n",
       "9q10ZCLaKg0naBZ2TsJagAdwc5O8G731HCYeVo8hAiESyw6oIiNA/2fgCL5iMCqqoXvsiYAAAABX\n",
       "QZ+3RRUsM/8BL9vxwAHZG8Fox+yrL1uIdcJ4YlFiyxnkJ6nx3q0HJWL3bkxy72zzIMul7ypAijcy\n",
       "Eb/wCjhpRbWb++Rs/GRwlT/lgKqw1lt+io/Sfxw3AAAAaQGf1nRC/wGlLLABzO4DUro3doD9fryc\n",
       "l174aF646p7aObBCs6qKERFpZUYWTh8Eqxv5np67XchT0BZRlnmZEA/+VNywzyT6MXWnwI/9JGF5\n",
       "3DWrADS+BX0cmuc3XuJ0PKkJXcOu2CFLMQAAAD0Bn9hqQv8Bo6WFgA5dxDvTyQqCG1UxJf1od/BX\n",
       "j1oNIptZmA3Vz722pwiTjGuJAjAu/0oRFgpqSB14fvEEAAAAg0Gb3UmoQWyZTAh///6plgOBzDgA\n",
       "c4HWMN1wTl6i4Pp/0oOEShGQjtL11LJn6ZzA/ioH7lQDvFB++MksUv/w4kVq3BVC/8WRLOVMcGPS\n",
       "ByHjPyFFnKE40BMfS5GkYrwqhk/aqHDc42riA58nflhBrb2L9962WN5DsvOLPcB6c1LqBSoFAAAA\n",
       "TkGf+0UVLDP/AS/LQSABNMr/T8Kb0FVrVa80t/ryxBiyeqLD/SedQj2eawGdcAQRddIa+8OGfkG+\n",
       "/qVirxLBfEccI5I+Pm32bAVIstm+oAAAAE4Bnhp0Qv8Bm0Q5D5JIcAAvfERB7wRIx4Gtzvs2XCQ9\n",
       "qd1VgsjpKJSGTSdnWdyESwxp+wTIYCbnbsjzPXid2Kr3gFdq5vlqsVCBeoPcYYEAAABjAZ4cakL/\n",
       "AZ87GPsAHN2uVb1WZfpmEYelN7meHts/6xWiwjUlgdKzm/ipawtR2TNeGL0lxT47lxVLDWijSvsL\n",
       "UU/rlYJ8Yfu1tEH2Ek9nveUNxcWMbXf/xZbw+wr6ZXdq/ymjAAAATkGaAUmoQWyZTAh///6plgOB\n",
       "zDgAc5dlebIov2oh0kIenhiDUVSrIdibD1/sRwMZKGce/y7Tojx3v/3nK8yVAHfxiEIo1yg1qy5l\n",
       "iQAwIAAAAPlBnj9FFSwz/wE1MgYAB2RvBaRoOgkPZeGsbpwzGZlgOqRSH6uV9T4dASad7QcfDS2P\n",
       "1NMCVNC8wk/ekLZ9nKHg7nX6uHllbirUB5f3xBYXHjzi0K+0o0bfgtt1Nu/Nv4gO3v5ikzzt5BW1\n",
       "DF4AUBmuq28BRKSd8yJ5v5fwgul4+HtGM8cBTzwoxRB9SBKsnX5B2WxXI0Q9z+rNwd2a8HKQAZ0F\n",
       "A3Ee3OWrDHUzpwO58VLFQp8DBemkVRq3yCgTdzBEJasS4uWWhMTmWXxY3siNtqjb6M+JrcaRIl4l\n",
       "QOeeioNq2JOtYAbyN5Ypo9Tl1B9ZuGa1r8UReOwAAABRAZ5edEL/AZtYru2lgA5mOEU7Gj4HK//r\n",
       "f2e+kH/YEFz8fr4apSGveOvUzfxJfN8IBayS1jD1MHlf4I4+lCzmLjHc3/1OFJ/4TnlyYc3cqylb\n",
       "AAAAWQGeQGpC/wGjTAsAHOHrjwha0Bo0PA70vmkB0hW7I4s4dHpg/3FEkTsAjmT0Ghs6H5Z4ujlS\n",
       "8TlQHL3bW+TOfVKjVqZt8BGn1cLD2XJcYUkdnRKTix0/NStAAAAAdEGaRUmoQWyZTAh///6plgOH\n",
       "qtmACXqIld9yRXVJ+wzCIaN0VS1AnZn/W0cyoxs4dVlCZF6QbOHYMyzg92bv66oZE99Z+VMb1Iaj\n",
       "upMyiQi7eKm8LuNxXvZBeGdIn5KXmrLlEqpnGLmkq1sRI9JScMv7+k7pAAAAO0GeY0UVLDP/AS/b\n",
       "8cACH6XC0jBqFJK1wCcVrwC8anqOao31qN5+NIRQlWe/qVJEyAQYVuPo09RMzHyQAAAAXAGegnRC\n",
       "/wGjIIWADmiaWliAH1zEBHLQQihtZ4c7qwq62Wk6zpEBLkaEGP9SVWsBmJ3LCo64KqtZaG8tKg5Q\n",
       "pDS1E3whgFzHZu9ENKtmkkoF9/4wQxKc33u17ohBAAAASgGehGpC/wGlLLABzRNXCAFkEU6CJ1td\n",
       "l6vKJDzhBVXyHhjmB1A9E0e2YDzkArgyVxNkp0Qnqa7AF4GbelCe8TpYxYnXMdphn0gFAAAAZUGa\n",
       "iUmoQWyZTAh///6plgOBzDgAZd8Vw8IoSjzYji6hOcrxqQUyPlShvSV81sD0e+uMqwUlxFGeWm2N\n",
       "ndVlHyYvcDO/Rz8RQzkaNGb2H91AkWTgGLj0JzOkuzTaH9JzJyUvkbaBAAABLUGep0UVLDP/AS/b\n",
       "8cACH6XC0Y/ZU93z0fzuvQZ4E0Cq6wnQUmkIoSrPf1KxPruZ3l6hXMNN+WVuKtQLNf1gPZrlQrZK\n",
       "iVbJClXNfBBeqbHiw0ButrZA/ZX/+hTBgK51WUNO/xwHfUTuR/BGvboJFbKwDZlT/ffca9irQprj\n",
       "vwKyZMl2/6muPrm2mngFR/kp6xotvXpb6hElFgKhAXK4S4NImWG69aJjyESqzvTeQsj3unqI6ai1\n",
       "CliidxQqzJbLtSRCTgQwrKnfKs/wzZQhrHePPZ10zuOB7OcwrB4tFkn/3+Lbd/5zSS8sbxvN6e59\n",
       "xEUdCLJcxarzkMmIys2DtFMzwoJmaucvMW3B4q/pN4jbgcK1C5VHOUqG3JC9XhMP7yr/iuwhtTin\n",
       "Qcz4ojsAAABZAZ7GdEL/AZtEORC98ywAc4euPCFrQGjQ8DvRCmpPkW2Qr2ogiRPHEPLZltmoq6sB\n",
       "UvblYCd7Y4s0m1taV8b0VJi242q5Z8ZaFxhIJzTVbz/c4ermMcTwBvgAAABoAZ7IakL/AaNMCwAc\n",
       "0TSzo3zy8ICOWghFMTsTIenAq62WlIDFKO4cgfHalJmuUJO++dONl0teUIqSSc0at4AJDS1BP0Vk\n",
       "PpJPrw4Ch1k0CoF9/4XPClsgCyoBfnZ2T3sOSbZaUbqGSYAAAAC5QZrNSahBbJlMCH///qmWA32C\n",
       "T5ZbdHqajwAMu9HkEpKHnVZ/JiALpXtG8rLevT2MkO0msHcQskZCqYkC3pnN42n4wx5nXZVEVPlb\n",
       "QBgNbxjADEvpzsK9jps0MBaEXUBkyObZNp0enORtoK3NLhjmaQ4oUdKzdkcocN1tZMUTbaGG6RCz\n",
       "cz8bFqa47aQ3XhZsB6511/Bdwtuc5WT79c2YZevsDceL1/PwwS1p5aLA7wXgilA+1N6wllEAAABP\n",
       "QZ7rRRUsM/8BLtF940x+tAAc0BPcJ/gbNbkJ2rAtiMXUir/xDmVwaie8fxJAbbthqaYEqaUHQmJe\n",
       "kLZ9/IhgnwfWhM3kjVrWthYdRGM2gAAAAE8Bnwp0Qv8Bm1iuw2wAOyI2uiHIKSPNASXTKe3ZK1dI\n",
       "0lE4SgOn/OdUROQS9ymmO473YSnJMMbTL/gVf5arHrAbswIf1KZ4xRFtRI1whTzAAAAAUQGfDGpC\n",
       "/wGbREoCy4ABfMmZUevl8ojgvXts4TS+qrWWoSQIy1xXjlgRzDot3qMnbOZuEPY0vrkvZLDvPR43\n",
       "ANkKaeg51oHy+lCXC8Jt58zdgQAAAEhBmxFJqEFsmUwIf//+qZYDhhoqwALTWEHKPwYyrCfty/5M\n",
       "Ot3rDcViumFtoA5RXII8iY4r78eewCYHVEbfWcJwZy/DYliQAwMAAABeQZ8vRRUsM/8BLzWS3jVA\n",
       "BzQdK3ouIv/9OBwAb4rJ0xcqD5K7cgw6uEUMye+CKe+VlzOR+rAVuiWEgh2nNCMgpnK/y8p9DXNz\n",
       "1qHyLCY/jUtHSEXjMxl8ISxDMyT6gQAAAGEBn050Qv8BpSywAczuA1MQyHZUB8IKGaGo8G8trhk2\n",
       "0ixb4jxOLw4c8dcuSZpp7w9R1o5i3CkTTL8ppEJE/ar5IpD0TwEZcAKNjtST8nFf53AZFRVFL7zD\n",
       "d/4e68jVF1PMAAAARwGfUGpC/wGjpYWADl3EO9PJEmhSv2El/WZeMsgca7RnfZSz021q597bU4De\n",
       "MSZkY8C7/ShEWLic1slUpDDNKodLNiU/4ynmAAAAZkGbVUmoQWyZTAh///6plgN8wQPSzeUwAO0u\n",
       "wFS3m2JDiOHScr3RvjWr1woJub8uPkcpXsFN+f9t4mueDSkPRCJl8yRWduiB+iPZitmySwCKX/MU\n",
       "CGcjUI3vnpflwMra1gsABq8jZQAAADJBn3NFFSwz/wEv2/HAAh+lwslRojjHK5rjkwLGNfEq8NjS\n",
       "EUJVnv6lThNyB+Pt0y7FNAAAAFIBn5J0Qv8Bm0Q5OXVn2gAdkZhFGLKsfpPHgO78gUdXvJZERArp\n",
       "OSpigHyvNJTPITt8KOrAVLukQebZQ35BiSHDfQwlvLLJV3arlnxln4IVPtXIAAAAQAGflGpC/wGb\n",
       "m1GtAA7HcBqYoUt8xzCzM9zntAeJmstQ2MUWPgg5f173quauCZ0vgcr2rA+WqXQ74sAc8lz82/EA\n",
       "AABvQZuXSahBbJlMFEw///6plgOF6meABzld2QsoIkzin5stzrdWFPhJQJeJvKxDV2uKqp4GRXOf\n",
       "QDF8gZ5IpjBpe864rWJiWnWkJpepzQLSC8EGQRizawIsztrlEBYOHh42Uh4UJ7WZJ4BSGIZyIAdM\n",
       "AAABZgGftmpC/wGjpYWADl3EO9PNdsvBE5iS/rp14SznZV2ME2122a3/je9tqcBvGOAhEbgXf6UN\n",
       "n5Cp9/Pjnpn4PvPDu8EhekFbcM7v0zX844w+GEf0OaDO5BOmSMnwuQ7n6nr0NQN/Lsf7AXr/tQOS\n",
       "lrfTuaGApMW0Lppl5kPgSI5UGUnsK2yB6/FcH3ZmzBH7AFlbL5Pl6o2uNmDTe0V74y0Qt05NxCUO\n",
       "2auQ06bFZ78JMnHKsUNmRJ4Xc1bCtXVRcVljUO1ctrCCkOASGEfPBAl6bH7TGusxISQwykOrvTCD\n",
       "pS/7mgvM1LhEzDqwtQlZ9sw2ktLIOmr2SLtHh6PbOlsUkoFXKgnESVPbAkN2Ni8alS73z4RBv/i6\n",
       "0884KNXAyn1mjA2mSdIgn9TF0Gvvmz3hxw7nWgQf/qbFug/zkanos3/aSC3P88fIh64bc+RCDsAw\n",
       "9jhAJZ4Id/cCIOFI8tWiXGLDRWEAAABIQZu7SeEKUmUwIf/+qZYDgB1YAKk97l5WPJhd64QfKjaf\n",
       "hcGy3txFi/aCzrfJbOq8OgpKy0Zh/diJ9qMUJ/ZZkbC60ChwgB0xAAABa0Gf2UU0TDP/AS/LQSAB\n",
       "CdLNEZWCNYfuRpHSsbpAkGJsWXS5OlGP3NkLk3NtaR+46XCAJpXuq/BCV57+pWKHCVLKY56bV/Zr\n",
       "F4lTPY27rbkg69Y/CPHGHw1WQYTomnVH6ZJWFKFt3aO1L32yb92P9hInug+Kx4nTa+8YMwKT4FWe\n",
       "akyHwJVBL9ZPzJ8go9eHjf6aZI9I/X/mFFeJXUpJKlT/yLXD2Mu4FmIoNVeXtioO32kQXfFN9ozJ\n",
       "xyuc7vMSWKb0Ybp+TJQ8CJHLmiHwWEFIcAk5XvQL9EDH/tMxhd1QkWWypniHh2vUy//bcAM1LhE/\n",
       "0s0HplZ9swykTDE55N3SyWBzu4FQ2dJVshbjQ9iBK1sxmIhmfRUvY9Sy8cJ/g5VWT7FUTsobl9l3\n",
       "HHzhOkD6PywcbsJ1jfcOwGNORQDbJcVzsAYHLGvGEF6gCc/lR9MUfKvXh+tPlJmNp0wQ7/ArUma/\n",
       "5cVz4yI1sAAAAFgBn/h0Qv8BpSywAc0TS2qHg4SqC3PwO7UxM6766biLwOrlrP23/k0nZpLNhVXV\n",
       "gKk6Jh8zv2Id6Ueo3Wwp19YAi42oRZ8X+FxNTNdu9IWKYEB1t2A6vI45AAAAQAGf+mpC/wGjpYWA\n",
       "DnD1wZ6Ot8KIpJ9UM2DLppVx5VharB3umIV+xpyrOpx+AjegXDd2B2fHOnXNKzz44kO4PMAAAAC0\n",
       "QZv9SahBaJlMFPD//qmWA4JMPgAc5dgSothPodA0/9mlU+7K8rCd3mP2dmgp/nZFCHYHKx405NnE\n",
       "0Qp2KVBtJxnf1opgvvga7lJMSN1gHDm56qFDSG1OYUqtonbSYda9rRR7gVwTuWdZuP4FNetE6gP3\n",
       "WB5uN/AkuV+7oiS2MvyIby5mJXLvEzn0H1w67ZSnSp2EWt4d2kezQvbs9CerQZ7n+JGY5qogEgSB\n",
       "bV7NQ5HSwllBAAAATwGeHGpC/wGbJqZpg2AB2RKngw216cKDwQHYn05Pvavdtqnj82A3edcTdbsX\n",
       "CcDKINnjc+Yke9OdrYBjflq2fcxNO/YPKDa2x/Od1yYqWP0AAABSQZoBSeEKUmUwIf/+qZYDgB1Y\n",
       "AJfXMWjKY5/ftnvBxdM4XPBechzvDRXcOwEmMO1zwdYYPyJ/LtQA7YglMclW4d2cj30P/r28haUB\n",
       "jmdBJuh6NgAAAFRBnj9FNEwz/wEy21Rk8ACdY10w6ZmD58/43mD40GhHYJSJ3MF3nY0PurumaJ4w\n",
       "ibWbxzkWuiA/xKQ8khHYc5HFXp6rQvngyq/pC2UEn9nsq4MNSHwAAABQAZ5edEL/AaUssAHNE0Oq\n",
       "Clo1TewX+ZZS+yQ31YpONtJQcAqoGcj5Uk+x8BCrqwFSdE7MVffIPFCJBWBUrLLrbNogpUjPi/wn\n",
       "Rp/idIxfvYEAAAA4AZ5AakL/AaOlhYAOcPXBno649VvMAhvHsGfbRfCC3CsV8C69dOiKUBguGkRX\n",
       "Un70oRDlA4ZvuMMAAAG5QZpFSahBaJlMCH///qmWA5pX/CGuOAAB2l1GO+szw4klEPsnY3xv+KGS\n",
       "k+B5B0tV1t4yRHeO0lE6vplGOXqmioPj1H3Neb5S0dta6P8DA3AlgsTPzubvSMf03OZqjj9NBeaB\n",
       "7cIv50QKHDOwohphCoURTSzp29delNwpUbjO7BqnbOOC/xbLuqyiVZYWes+gdjEckOSnm0h84e6+\n",
       "l7T6T8G7rgAbkfroJbOxU9do2xZmJaaZg5Pw8A8170PTLR9QVYdE2vO04W4jpKQSfEaxv0c35Q7W\n",
       "mUzVlIMLb0UwLe2D0L4YZkDCBEUc1Xf210e1DuLnRBH0NcC9b1vlztoHOc6JxvMHbfjHC21LhGrl\n",
       "FQLnxvMbANcAVF2fC+dRZb2+wvXQ5TWplKc4eBzT1s8T3B0vdhCq2eiFQNLwpVnuP7Yvkwms3ZfS\n",
       "o9Vv2nhj1Ayik3hywAABqGA1hioMSxnXeRFZ6MoYObg8ejv5ZXkdJUcN9Id12J/aTYGS8NQP1viw\n",
       "P88RDUVysoZyRhU8BV830G7dI91jeW9hp4uWDwATTCG4UZVdbgjC5ncsUaUxbEucBnxaXQ/A81lB\n",
       "AAAATEGeY0URLDP/AS78N3gIyLAANFpcLSLcABfcZLyAsIWf9sgvGfMVzBKBlJGVi8SBmjXPXBOv\n",
       "9+cCywG0+ZadG3fti5eLLSYG2Y/XRKYAAABRAZ6CdEL/AaPOywAc0TSzo3z+X037Wgf+6cce3GXS\n",
       "DV8QUfrT2veM/VhsTMXqtSRo4KCNbgQMhes1TLvgI7iVw7c5TS0at6Iv76SMuH+VjamjAAAAWAGe\n",
       "hGpC/wGg1RuwAO0PXHhC5lRpCmfhbwZoMtCW375jZe46cBlRLLdPiKP4gVJxy/AeV55PLE2qbTds\n",
       "gWdBsVmowZGg+lYl+C4sK6z5NMQQ7Lu1NJY6K6EAAABUQZqJSahBbJlMCH///qmWA4HMOACFPiR/\n",
       "0rh8tqafXOgpAx00uSTcnWW2slLjy++vr6IwsXS/QQ2b4r61Gp8GmC3iqWqdv1QeHu52k5/Zmhs1\n",
       "ADZhAAAAP0Gep0UVLDP/ATRyahwAIeNam5NkhM2m4NSqFbCmd+E53W6bs8bNWLEfCXvkkIJiHIcX\n",
       "CUN6N+uYGAVnMpqhaQAAAW0BnsZ0Qv8Bo87LABzh64M9HUBNW1ZA6rItNmecWEi8VFt8C69dOiYU\n",
       "LMgDiR7gSf5UeOFZzFTUhNmmWQ+ujBL9x50voA7CYwDRdnPORwZw1xctjcny9TKv00FV0XaOcM7F\n",
       "NKhNY01GLwDR9DKyfQSPaQVgT8rPa2H+/3RKTx5USPqI+IgTvjn+04w/Zly1v50qZhizAo4TIJui\n",
       "xEjlTE2c4hma6H6E+l3eASLZ6lbBPSNGHMsk6oIOl09o/fXqiUPS05gTB/3OMXa5m2pPJ2Jg0jB6\n",
       "MN+1+r0uN6VWC6GE1EXFWAGx/ih+f8vWNoqDEj2KPh1/quVJ8Zn1AhR6PfIzfKxwzvnkY+vDXpNQ\n",
       "A8yxixSTSAao1Fxewksfd/09eefkL5h+Nyw4Ok2WbCgEn0VS7y5+5XhdGLgD0guio+QHpzze7eTt\n",
       "SZYUJ4P3FATXD6IJEDVbynWKroM0egNp+CFB2su6/HHYO/QkuAx1lQAAAEMBnshqQv8BmzFFhmwA\n",
       "OyJeLALLE6CbJ5n6ZENQeTSKw7QxZGcUV5scUqcOht0zAYjO79EIk8bjPo62vQ7KkHMv9kugAAAA\n",
       "P0GazUmoQWyZTAh///6plgOAMlwAX173LyseQcZ2kbMTtlRFszphajW5TdXFfVlLMnoEHUrVMreR\n",
       "jHv4qgDjgQAAAZVBnutFFSwz/wEv3D1QAQ/S4WkY9sIxl1xPd4UE2wwc29HFVswNNrVwUkKB2QbG\n",
       "K/bOI/jBpWNneIIo1V/O/gB9zWfPRLzGeOemvIyNT1jzqdHtu6v/7N9GbUPln9bMugHF9UefevcK\n",
       "gusPtyJzLSVr2F0cd1R/Yl6N8bTk0OLoHaJ0gNsmFe/99TpVmBuG1E1aoqpOsd4bomMNqOkejmx+\n",
       "vFzwjJ365j9hSpkuLagAiIw10HNIjTMEQPhO/bQB2AwoepVd6u+XAWR4QKfUEJ6EQ+UcUtiKqdIL\n",
       "7nD3MdLeHnu/F4i81YDp1bbEFXori8bdg78vN2BWGqQMFLdYLufb9S3fh1iupu7kCStQopWs7zRi\n",
       "m3LQBJAo5/hfI0giNEMdWesYTa9gpuDlu2dDBFIevJFgiC2nBySkjQ1cqg8+t43vGj2OvmkP1o1n\n",
       "DyDRIaiafBcBDsvui0AWsCCahejTrUTO2aMxb/VHBMr3D5KJtKaGLUDtSQJFLtijyWMStDmIOqB2\n",
       "sMlvVrxIANxk55XLi4k6vW0AAABeAZ8KdEL/AaVnWAC+ZUapP/XCVRXcSzHVNn4AIsjVd9mCwfZp\n",
       "1gZAI0qSOlyc2/1g9/4gRp75mAveDmEi1Bwt9QgCpXtjcCvMv6PqUzKmSjcc6BPM2dYLFYB9a1vR\n",
       "IAAAAE0BnwxqQv8Bm5tUIIAHZE0Pcf+s0fAxhs5qNQ8oj3krB2Mbe4rnt/37Zmv+iFMJe0nArXup\n",
       "bfnpyPpVAjTjs+fW5lBLTBhc3Hh0w/XQIwAAAPpBmxBJqEFsmUwIf//+qZYEFhb0+OwTgAAV7IjT\n",
       "u/wuGbf51kpG/x2MAqzu8rkTdDA6BSka+VP+g4tPCfehzkXrck1Gp6DYhm4phemDs/k9y/AyhiJo\n",
       "9V5PhN2n8UqDlxeC1kAWuRt44TKC/hgUQy1t4e9VfdPngVb0fZj9+efqFxIYit7akMohy+braZEW\n",
       "iRYlf12uLl+8KW2lcS/tbvXdrmcPe/5gY7jmPzQC366VxyZHosAIFP+N95I+yc9OHKC3TF4q2ZgN\n",
       "VKtvkcwnmIv+QoadKSwHSLDM+6myb8gIh+rhBjyIu6G4QHeADWsICW7z4STH6wciKL1hAAAAWkGf\n",
       "LkUVLDP/AUJwne4hgAqOYFSp8oVwn+BikEh4pLozQyp3dLLsu9eU59h38N3d1AD/fYOqxN/ERstK\n",
       "gosPttWC2z+iPYEDvDWUrE+sjAUbFUVnfEpy5T6JbQAAAGsBn09qQv8BsMrBt2AA7I0nwMVXhxct\n",
       "1bhcrcFH7LvPsbtIt/FK44dQIcEf/IUpL9RLqvmhf5iCBc5Ihz/tdKD3CMYe3MeLToYS96EWaAMT\n",
       "4qn/Br1Syz5NJ8MicwE3yKStjBsGnympT/5IMwAAAIJBm1JJqEFsmUwUTD///qmWA/LAmAI8D7rg\n",
       "uzOOZqUjEvd0DeM/kOSenNlNbqBH2NYkQOF0CWET5+s8o/zmqLLgDH+usy/a9YEsWf4I7xKUdPqj\n",
       "y/MEWePqgmOXiJSP3KQ16duO5CndCVHl6Wbap0nJrLD7bT299587j9a/ea4draeEAAAARgGfcWpC\n",
       "/wGyDBsRwoAOcPXHhZ6eMwgaRobCc89hEDkoSGfWWIH6Hvr4sW8uwj0x0xflNKd3wxh3+ExTB9dX\n",
       "BMCXBdyYJ2EAAAB7QZt2SeEKUmUwIf/+qZYDmlfNHGqTwAARB6PIqNTQ8KLpE3tD5GEJ/GZ1u5x+\n",
       "CDIH4i6zoqbGM1ZmcESp1rpQMt/+qmgjX1ftJ2MAjXMQ9W0T2XhErxDMlh7r/AtdkyOGVe/vAwlR\n",
       "KE5lOkwZjUAyWntd6jKl83ucmh1BAAABUUGflEU0TDP/AS7nMcczzsABD5taKQMmJ9RSjT+p4wyE\n",
       "HyeXbmskdC6qgKTbcs7dc07sDE9Ov6Q4z29jUw/JDsvPCgRXkQTRNhHj2bApUjyXycRmYrRqhbQL\n",
       "7c1EL684YycGXgwenG9E1rMc0tir3/68hqn7FI7buhJeNBLEWdc3FYvhXZNPujlA4zmxGncoYRfq\n",
       "AheFwKW5nuCLAYZnAUTM+BYiSWlAFpXYrH8D8nDq4+mvBSsBUIVJFlUdZQnmWmis0pxgiid1U2Z9\n",
       "x07JPa06/sBT6PqiQhpyS/y1ujSfpIgB86DJV1uIxALNbeNX/Auwj1bntxFSwbl9/oURAUdt4FLe\n",
       "iGcG+Z2EW3jM9FH+rICrOIh6arAyjbrhVN+rgmoQOqK2OZJRsVdhs7thVO1qUJbp7xvhcCp84l5a\n",
       "BcDhTHGRiPAo1vWOyyVyBDUuu4oAAABaAZ+zdEL/AaUssAHNGlCSuSRacTP1HwNA1hRyun0dfNC8\n",
       "0/NsOkZExSA9VdpPR99BVwklTqDO4XOIRTLIaeCvMO+dqSfkfMKLs0ckWHSSncjL8BUFME1KxLVN\n",
       "AAAAXAGftWpC/wGjT7WAC+aLhLrTDUz6mVf+ehgfPR8cYMaoOc+NxIfXuw98xBJh5eiUGeeAXtOr\n",
       "aIc14XbWOZfwnDxmtjriEn+OZAnWyziKxTvlJBgfqTUzY1kIihBwAAAAXkGbuUmoQWiZTAhf//6M\n",
       "sBj/rWAC+ZUoWcvmuoCtxkuPGqQlk8sHSVsFlSdv200D4tIpiC+Lt+FQ0cHpte7f8haDIv5pWNeg\n",
       "Ta4hgpLNATBMJXjBqIpUbnLx2GCAUEEAAABYQZ/XRREsL/8BoRgjbawAXupVqC69mO+TxcTmRa6q\n",
       "6+L3NPjn4c3g1w2PE4MqdQi39l3Cx/RAgMVLm7ydTNcAz/jl+C1VQIsIHK5ej1/gKJaQTFFapHGb\n",
       "aQAAAE8Bn/hqQv8Bos7sCoAObhMn10I2BUgH4P3OSJRWy33UidufdJGralcUVY+Laq/rCqldI/uC\n",
       "8Czin/OX8TxZjM9WGBSHXtH6t4f5RORp58rqAAAJj2WIggAEv/73rd+BTcBA7Wu6Vzi0y6uUND1R\n",
       "9pSmeLZIAAADAAOOHrNdGpJ7n624rxJUoDxAE/SdNl0/yYPVcwKRfggsV3CsXbaJzoClBq6ZdxlX\n",
       "1b3l1Rx2GAjZ9cEn6WoAEy4gHI60GWu89v3g52w/4kVptifNJhK5RsOo5gRSsu3Tasxvr2lEOZML\n",
       "e2LekoVESax/ZSpe4Bkw5bqqKn4sF1raeOF7fiBLSEeGFYMLBw3shedqUiuEN3VUlQ3ENddW1BNL\n",
       "jFIuccADetIh1K8urpC31kpIWHl/Ng1ohv96tdBhcQBYQQNhAXr+esPIRgIPmZ4ao5Tqzjm2q0IG\n",
       "zZMqI7yRSCBsR0hP8wCW75Zdq+CFOaV0GeNezyw/jzs1Rw4wIWPeT7uJ1DEbk0g0ZqzuEeZyRv8y\n",
       "2XVe51KtuBxIADmiTphHz0QUDyAPL594Ud5VG22FBLLQtyNLrN6vpAkTUzUMp50DyKdch10hPx+r\n",
       "z5ObgflIOgemCpsmY+C/a0PUX1a5MSbimxfQcQXy6ATj5U+SxiMcFvBEoxf+YN2Di1SzPaSkhUOX\n",
       "AfKmV5rNdre9ymPXu9xKRhO7MWq2gUlcLnwlVdM5D429bRc7BD2POjmECzpQZ+V2D2/PRcHWLCXg\n",
       "IRM0Z2ZGAAADAJ4GDYROAAfslyFce9Y9PNzaEnqQIOo0+rILA3hVYcRA6hPno9qf7o7jAIDEEJ2s\n",
       "WSCWEKbm9VAQEV7CiCtPbT5ZK07T4o8lBKC1d99EM4o0uOwqP16tH0CXeysavswp8niQsHORM0F6\n",
       "49IIRpjParXGNiCk3296BRXMpmrGowK9/2g/rsCVgT4Hmx6i0y0alVxEtWeE8EG9X1pZOqDGot9e\n",
       "YySUntPzUpoQ52WR4E94byMphtUdKBqs+COUg4xXVCBrvdk28cDsqz90JzDAczOJv8V5vX55JO6M\n",
       "j3RcO5vi7nvTc6g9pIR9YVZeIkpyAH3FKowb8xJc7cOQfEWKihPQC+PNihwLrGrC3GUwv3jbvIFQ\n",
       "b8xmpLZABQPKrVUrwW901dGTJ72Fg71oky/Nw4MZHuOFNql7j07q5ReHPD689G+EQlHCTmc6zYX7\n",
       "RvqxkjgSnVYHDcc4gbE6qLbVcb8fyynNZxs1hzULTyKoOq0KoplG9gjcLafncYf/riu/6nLQ7Zv8\n",
       "1cBwSW60NyUcjp18ajBsD0OjGnGGhmZOdR0DxtQ526BE9W02qM3tBzaPNGeiQ0kObzhA/lpaUpyw\n",
       "Elccqk4ZK+HpeDvDmtLiJCzxYwvlQJBmMQVcJHG1Vdp/p0AdXdSaFnnFu6ZLbvuPn5YZqwrGTXPb\n",
       "0MadcYPUadVMxmT3a9IZkoMTyeNczv/yscsmlyiHYxNTrKXuVQ6gZivI1xHgy3RBE7ZBGdjjWd0z\n",
       "I1YX7te6KEwKhApXA+21rKUZL91MG/aknqkH/cUunXzU9MfzR8pRRDXwr4pZSVInM58LFMkRwDjJ\n",
       "lkWU8ZNTsMlDUOqoCavqZ+mlRQv/PjR3q1u+nkV2UDKQW+ftaRxklGPXk+8BFbvGeJcSfUipaEVH\n",
       "NWLyMvjziPLiXgeYfsnPvK2P4S1w87+RH5F65pdZViT+uS1uwkbVBMVHyGpWIbM+q++EFUvt4S3E\n",
       "CCfSggQFyOu0kKGcBLBdDPs3iwq3hoClNhNxaK6Ta1afwpwti64lvv0F+QwBA+fwjG5yUx+c0EvO\n",
       "/BbIjxz3JVPy40dlDx7ttN0EKBQ+rUC1sJsRG2Gy5bp9lUa8FgvFlp+M8UJ7vgEUILog1nPADHBA\n",
       "NwQ3KQAd+XEA0T9rp+/hvjHMlQha9OndtDGw4YdFj0D91Py4Z4/YyjOKakbTs4lI5xg3frepMFTd\n",
       "cBIdqbfPICnPvZfizZgHOBvAi3D4uGsDmluwgv9PdhINITuHH+c09dTpdJirPdToU6rSXhyYNRTs\n",
       "V9q42jK29Vap69YYJespB0J6R0U/bo9HyDdOlgTKIhaChUK1Is/wR8M8w6tlCCDRhEDUrtJPY77S\n",
       "ZfDBnc2exwc7XksSoKbwtM+Wyo2UdKqKiPFQCS80AAqnVBgklec/xbVyMdIa3vScOdiBbasS6uS7\n",
       "DKJjXR4nY/9H2ScAeiedrK9iA2ygL25eGIatpB8BU8xUZvnnAxZAGYQyHCVoEkAHAiIF5V3uoQ5g\n",
       "Hw0FMHJjKxh7p7jaOZInc41SGqvPdr2td29w3UwFyFztHXiglUml581fklgOHtftMOQHIcLaXCww\n",
       "LfBccA2tnR02AW878qQX4V7+bJZviJXQC/sr3rDf2vAAzylE3LGfhcp/tJN+B85C9zl5/hqxiB7Q\n",
       "/Kjo5/vNMPZNzO+PN7TrqyYQY04K+ZHQ1pimTDEpOZym7KOqqYe/m4mIet8rLRx9MUAiPJqWVGGy\n",
       "nMQxQK2/2dO2pf3FW+Gp1ng56oAtySwG/yUbIG00kFJXmtg58tt3tfHCD6NrJM7WQvEbft4quYaz\n",
       "xwr+irMZknPazp1azev/2VEssAR7OyiddcP1gbOpWGUup+iVaF0TRYg8M5VBGAtbKI534n9XdFfc\n",
       "14KQiroS17epo+qP9dQloEsXbgT7VZP/3O8J0lHYdCuMxLO4/1VUMfFraGptb//EzSduAsWulmPS\n",
       "xR/eomMzc6/4GxxmjTFbkZUrpEoZtTEH1wdO/LNRtf6NJK/8ibwwwsDTf9n7lvDB0rTC41mqOH7C\n",
       "q61srBl+LEb2tg5vXZmfknZV1WRLjqxI+hbCqmwSM118qJZvX8I1qox4ps549Hvo1dFCrP2BcuMk\n",
       "RTTYt92GLO3Toe46EmiVT2Qx1KGS9qeJEHAGtFB8QdFciRBFdF6Ix/jbVpkGOdKgeb9wrLZbGaRt\n",
       "vbirixAxvTd8p1+5cBn1/4iPQetDaV7oJLBz07evPPQdIOXSGWlkfwWNrFmpcQwqu7diSxSzaBz8\n",
       "n1a9LK9/Xdgw3G28yi8Tmr3psRb5Hc7oooqKmHSE3DPbR49gkOqtM4JiOV0q0+N5yCwSvU+Qw+3U\n",
       "xrUPGC24WI0L4+kmRAfcZGVmcbllwwABEaNeJCsWlyJkHdj+hv3lGdph+GdVWzIJ98VC128P1psN\n",
       "Cyttcz7IDpu2xYe1dSViT8RLiI1Toea0N7CeqWUU+p7ul/B5cOVy9sUb6oUGylBOBXfxFFdr8OZE\n",
       "S9SxvxQjFLXLBVdHIDkBarRwnet5+kce6JSWbr/8K2Z3ZP1TSN+AVFvZej45cnuS9ymrq0IhKpij\n",
       "jPy04/Az+yRPlyw+r6F8iQY2araJ321ISHC3AAACmkGaJGxD//6plgR759AEbjN0X4hUErdVArQf\n",
       "sQSoz5imHO8Lz/4jtPLif6bidrcztuax9HeTGUokh7VDuqwLSIZ/YsoLL1clxcyPbrc3mn6LJL/1\n",
       "g1kAt8LcUkDvz4aAiRI6KUhFRpf9gNFjbyt5Z1zp5sE4Xc21hc8HmqDxtpN9C1v5BTTftZJKw/ia\n",
       "9mliZSLy/UKtp0BJn75UIayae04rbMz3snnoQsy6tRA5wKVjOPOF7x4Qv8jL/2vvMoyCOffd7JIw\n",
       "d5yYwChjB9OXUeBjj2Bnt36F3n4y8OUdI8B3hIJ74wHl2BF30bww8h9V8ZROGkUoBrL2iq0fTHIU\n",
       "F76/dIpqKhRIO3IE8dTVJxb0oSNsnZ/CJpVxNryNfYfk3ha8TtgmQ9wFCitn1xBKFQSkmGjJCB30\n",
       "U/KtUWXCLuEf/VWXsihr7lzKQtYjIisnaq0aMt6rODl3FPx+9TPSnfDsT/585GP/F4QHzNlAYYbN\n",
       "3HvXUtwLSMvjfjd2nX3Q0EILB9iE72bsaDvVxY82rFZwDhrrbRrX0YDtGM+EbfNtFtduxQsDNqzn\n",
       "2iTLwpBVwL4pgyl0sUYdPqkXyVlzdexbAqVo52W5mGO/phTbdDuGWtLKu/wGYhhCLCboJm8kZgqV\n",
       "uPEpAYWmC8vTXCdQu5Q36DS5OnKyEoUEMLpjrXuDdqxEYnZJKq4MzpmR5prAfq7tl56IU9aYE42j\n",
       "zWSiCHuG9UGKJItu4JzIvNU3aKVjnr/7isMbgOj9VjzeoXYUpTxZP9htxz6Sw2k1gp6in9MfyC30\n",
       "uLrwmFlsAh03yFcyIKyC7uP/c6nOsERmVa4+tMVHo49H+oXbDYVsxefHccgBxXBPyH6YNHIk+4A9\n",
       "4k7fn1M3gQJ8WwGZEAAAAIRBnkJ4hn8BNPHEACFIZVKICOml9Q5t7rJZXcK9uZkwwoBMhW2gFmE9\n",
       "/X5dsoGe6KhrHqPISxRW4fouE4zzgIX5EfW5bYp3DeBOjW7ElCSIJXQk3tHOls4O5eZtB3pJtl/L\n",
       "iebSO7ow6U8wzQWkkaS9DgBtC809hN+8ENi/YdZiqEyOdIEAAABkAZ5hdEL/AcLoKwAbTgcMnxSx\n",
       "FEtaTtvRx/uaZOVuuJhep2+J+1PG58oGYBAosqCdAKwu4PnzGaSdmv0dRJA0enYDQU7IstlmMUsE\n",
       "oxhgmB9sPodcJoWjZ7Fjjp/8WQRsDt1vmwAAAGQBnmNqQv8BojejgAF8ypQzD/iPQO/XQolnMsrD\n",
       "CJwcQE6esuv5xsyqJrj5s+RZ+AgP5aeoepRHB8gQbxuC3vB20tCceVuyBEuV/LYMv/LcTMEky3mV\n",
       "hxSdXfNME7QnLdXUXMpiAAAAx0GaaEmoQWiZTAh///6plgR7oxwAqq0o2GR12MH2mk+SRmfFGKOt\n",
       "tO8LroyFhr1HkTsht6hXzxlg983FZOH4sIUA/cVb1YBbNCMS8m19HHR4PT2WCpQWuYAuKGS6na5V\n",
       "MtNLga0C5NnVq4x+tcuslwTkhyuJpLRgP5DpkyvCGCLzsa4yb7UMIqzDajU0huyNZ/xuj3fdwF5x\n",
       "kvpPOhdBYOux4BlBNMoYNgi3Bn7V2ky20yzSXwJsAleNmfBMqEX3LzMywGkrQJgAAABhQZ6GRREs\n",
       "M/8BQhIE82P8AITeQn+4IHbn6pE4dYBcliH2UBrVo/T3LnM/uKZ6PT+3nwu6sTxo3JP41Qi4LKgM\n",
       "/Bpne7y4OlbknZY82J+LtgZ6SriIXxrqkw8RDXClcVsjgQAAAFcBnqV0Qv8Bw18jj80IiuEAF7vJ\n",
       "yLDrlirOgdYvNFWDFyv6YH0KqpYDhtWVDeKgiWuqKqE6Q5U/CdikOo2K55qNL14v12acxhSIraTs\n",
       "Um+hwAnaQdi5xAgAAABFAZ6nakL/AZtC6Y1R6aAB2QXdnQ7iNPNVHcsEOND7na7Hh1Vhw49MlQaH\n",
       "Q8FEV2IK41Q848wLbrvXIrR5heXfFTgclKXpAAAAYUGarEmoQWyZTAh///6plgR5pqgBYe7j3aoT\n",
       "ydICcHQxUfz5PlZ0UxFrsHJAwCXiW1dAe9GWU24GIMlr1VCIwg5XJwhYW6JeExEfcEyn9JvxihN6\n",
       "WaqPTQs29muO9nokA5YAAABNQZ7KRRUsM/8OSRHMn3gwAAL6hlUl4XdtT62YvWJ5ZyOtQe/qaS5K\n",
       "RyZL84oniLL7m71kcIztdkGtf7G4l0yZuPOSkj/1pXzmrF0mUEEAAABOAZ7pdEL/AcNf1DKrYADs\n",
       "iaWlh/xHoHfroUSzmWVhhE1JhDmI5WlXr/C6f6D4Qc3zoYta5hHfxOaZG9/+5yrTRGaIe5HpHeMW\n",
       "ToOb/BHdAAAAQwGe62pC/wGjTAsAHLuIeLDroty9AI9HLolV/VePCwqZBIxDahS0fq8qKSIsGCqv\n",
       "UkeDhA/fwMEZGpz35/Xd4E2a97kAAAEvQZrwSahBbJlMCH///qmWA3zZjL8VerKgAvrPDeCZ2ExK\n",
       "vYngkRr+WqJU4pjCKUTLihB+80aJUjKj2dRBelsX3gPwBDHZ3jPFlUyj+yNXpYv2xX4K3kxM+GJJ\n",
       "XcUiso50MrcHE1vIsxHWNCg5obEoH+oSQcAw0/oRKNtpv/ms7gF7j6qlPLJOLFlCk4FhAdXgxVxn\n",
       "G2U1PryaEanCOjg7OWV12OB0aPYjlTsYAZSkg0DDHBJpYoIp+9m5Dj3z9n+38nzKXkoZie39Jlei\n",
       "yd6C/MbqPVxJ7cPr6bsMIZi+6sSF0ldFssIuxnWTuGk8zENt6bkJV2DrTJS8k/2+F44e3SD4Qa8o\n",
       "2e8cI/Y+gVC4QJlrJWZPMCI1B1DgMqOSJMepADJQ/On3+5p3D+tn7rWVAAAATEGfDkUVLDP/DkkR\n",
       "zIl61AADaDd74F1R2ok+8UfhPhN2xRbZW6oFXKtWloGwYJc0bT6dFzk531qvi/tpQYOw/eBMxRjT\n",
       "dhwICMdslBAAAABNAZ8tdEL/AaMghYAOaNJ8DD2lAwlAnC5W4x1wKXWJL6LQ+2r8dq8/7PwUp13n\n",
       "HOWPnL4XSGBxxx1vzqZ4v+OODWyZ7v3PPyIBxMFAJIAAAABFAZ8vakL/AZuEaa0ADtD1x4WenjCg\n",
       "KOOb46KIMIgVhjiVZ9JnQV7ytz20EYZWq6GDjhbWpA/gpnfvTkLs0H8icSWDq97hAAABgUGbNEmo\n",
       "QWyZTAh///6plgOaV/S5OdYAADtKixPkUcfgQtIx59X1W28VSAX3xKpRBMaXADEiFh7Lj/wUz9As\n",
       "t25+JHfrjGxjUhEKAFJrETSpEmZe/UB0/FdxqxnWmFOtMbsjMjHvidpZRRJPepigDczhlLl4nZv2\n",
       "gJPzNYoQh7j/a4LCPBL5cJJjudiqitN5Hf7daG6UFTFmYuk36UpnYhe3mjQKzzxJ2uWbdrAIaT3A\n",
       "ie6hFENN9PLJY49VKctgpEQJzqUHfkzLNmdoxKEq8eJs4PzqUKh/JBnra3utJK59Ktm0io8yrg2j\n",
       "91WimoNH+MFhYXHA64Ag1vFoXT+Xl8ua/UyrxkErLIrUILB97J44FQZEEopkZnDFCdT1F0zUJNh3\n",
       "KmZPLTDhM8cqBubOn0w/BYmEFIao6DzRk9xCShtWHdm+cNFbZru5ajFiOyq8NzD2UhL2Hp0Qy9ny\n",
       "qyZr9+lu8BGakU+3vuujs8OCDOLKxex2GK8kJ91Wah6RLUY5a2gAAABZQZ9SRRUsM/8OSRHMpmZD\n",
       "sIANnUqMZjKYM06iDmUGaoSMJSyFekxCU23Mxxc0+RRrPQ3gyuZFwlxVvLMEN/gT3+exfgJsdptn\n",
       "E824Vn+85t+4SMmU0UUyO6AAAABUAZ9xdEL/AaEmj0sAHM1zLFxFVbH5F+LwppN3h2ae0PL3VH1m\n",
       "LGY3AdyQcI6gCe/KwlJaSpENzkQHMgr1/rCnr5itMIFI4zPDe2+lBdkOqkz43RvRAAAAXQGfc2pC\n",
       "/wGbN9P4kSmsAF7+dbM+ZDANIpCUdTDMMIlMtwwd5hVRHDBa2boiwkg+YVrx7kRr9yUIbawRq1AR\n",
       "+9QL0vQj0ufhfsBMEfp2c7INM59Fp5+xiQUCCrOndQAAAIxBm3hJqEFsmUwIf//+qZYDgDJcAF82\n",
       "qhk5c2Q6irRJuXPksP+WPV05e6RaUhx6MwBVVEdi+f1NI8HGc1TDiVCCiYpX8RGWFyeKv/tjKkU+\n",
       "Oxqyk6NhDK3kYx7+KxKx3SRVb1zs8NQUCuJNcOZYpSufuHpDk7ELtRhKV4qxsAfiEfbNs4nfdlNJ\n",
       "nXV1lQAAAE9Bn5ZFFSwz/w5JEcybUk+QgBCby8hpsXzZERHKgaJzbICnLz1V48Wqzr7WUd+EDx5W\n",
       "U7IIdrVoAldwy9QFDPzN8tV/IoeL8XF+sSUiDkcCAAAAMQGftXRC/wGbgptxwAC+vQNktmnST30N\n",
       "eKhuPAdoOlH7W20xkgOqot3qfV+YnfK+LVgAAABXAZ+3akL/AZuB9WRkbAA7Ei4taunsp6ZCm2tC\n",
       "jiH2Z3qLDzmRZ09zurdqtg9Ij+Wq8JBpoPJfjiP33NbRQz/8hmVhkGbzrEgMn844fnnGQzcBxhOn\n",
       "GTVFAAAAaUGbvEmoQWyZTAh///6plgOHjkmAB2ld2cp83pvOnWH3zQaZgvstz7+eKn+0ySqC283y\n",
       "aSq5F/ehce1seakcYNonCxP7zF9nk15+Jap6M8DPCooshYdWjF3rlGv3JwHHu4oOkduX8VQBxwAA\n",
       "AE1Bn9pFFSwz/w5JEcyJ3hQgBCbzdpJt7t/dqfoL1qEi26yqaqjuWhnHeM2cXi0m9/a8tSGHhFgW\n",
       "Z69zXFQJzCyFHXCha3jOx74+v+m2BAAAAEABn/l0Qv8BoHTAwsAHM6LFom1YmlH87m0eI5W9xSvl\n",
       "DymiXWxER7BNIRBdB3YUzN33cytUFviPvG7kJyjiSy1ZAAAAMQGf+2pC/wGhbA3YAHaHZ2S2adJP\n",
       "fQ2Cro88zzCWLiI0SDxlcpdFaYQ/d0sHWB2A9aQAAABlQZvgSahBbJlMCH///qmWA4HMOABzl2Oh\n",
       "bawUPyLX7VNAbANZAx54POO6NWn6JRxTLAx+o+GZa6OG6N/Ewn+jtREoJmmmcDy7jwd9HCnigc5q\n",
       "kldpmFS7B4JZKEwoZGMe/iqAOOEAAABQQZ4eRRUsM/8OSRHMhPS9jhMQAAqN5NSrHDyGRnmptd4/\n",
       "BBGr1LyyiPf39tQKqILmMpfid0qAcikCmwmr9yGwg8oONucyEyvbTMbZeieb9tEAAABcAZ49dEL/\n",
       "AZuD0UfRoAHY2TTlmaxk4SL8L9Uw0iCTeuW0fNdxx0cT9P4WtkmZbJMj196W2qUiHUyPqitMQ+SK\n",
       "ZV2ezPNmxFEp+DzhQrTx5qaEkwaWKHwjXbNMaKAAAABHAZ4/akL/AZs3uApEmSwDvQAOyJrDZMJK\n",
       "dE+CCl6TrHitqsl3ItMsP/XJl754alvjbGH1Hn3PI5QPlLqYJ1eHQQLEfXWwXwkAAABVQZokSahB\n",
       "bJlMCH///qmWA4Wvy4AJeoiVcRbDUhqv8vDXrNfXKLbAgxbJXU4kMr5XXGNeG+6iFWco5jn8S2hM\n",
       "ty42RWwdrGCWQ6dJQzNkjtxfvQAIOAAAAEZBnkJFFSwz/w5JEcyFs5KCaoQAhN8L0t7BrYhAwHlx\n",
       "j+np5x2/iYJPpZVXp76TPtCwJqwS8BRYNqfrENkcjpzWE5lTgzyxAAAAPwGeYXRC/wGbgptxwAC+\n",
       "vQNktmnST30Ngq6TTInmEsXdgzzfvZJuottMIfxwViRslqYICqX+zWZoIF5R1bolHwAAAFABnmNq\n",
       "Qv8Bm4H2ikNHPYAHYlzLvqJ350eKnNiftK/mNE4aptPDKajxKylW+12eEcN1nGnYER/yBHUW2LEm\n",
       "5y3O1umOS4umhZoIGR4ntYL4QAAAAH9BmmdJqEFsmUwIf//+qZYDmlf8Ia44AAHaXUY76zPDiSUQ\n",
       "+ydjfG/4oZKT4HkHS1XW3jJEd47SUTq+mUY5eqaKg+PUfc15vlLR21ro/wMDcBvD2Ueh7sSfdZZi\n",
       "kzlReFPOlxqJURl+dN1n55ypJYOnfFdaVBWKpjPU92ShVAHHAAAATkGehUUVLDP/DkkRzIVgIXTa\n",
       "uoADRYII8P9s8T3SDYhLgr98XaDbNnyQs2ENbNuaDz66jph0VpQvahIuz0fUDzlwfmMdXEtuTtC6\n",
       "oFE/ewAAAEQBnqZqQv8Bm5YEsFQAc0TS0sqWucps5gP729XbSyyzAjVxv6NoAy93zptwcYHa+UkL\n",
       "fCVkhXqW1x4u0R5oIGE4mJYL4QAAAGBBmqtJqEFsmUwId//+qZYDgX18AHNmhbPCnlPkQK5ojzch\n",
       "JJa2DAEAMjIkNyF4j0TVjIUWVG2FJsNWZe4H7LrjV8Diau9aH1kysODxxE9jqw+tq7Tno1SfY3EJ\n",
       "fwSAIOEAAABeQZ7JRRUsM/8OSRHMhPKuw+3CPQgA5m1VdiQ0T761sbR49bSg/q36obyRf14kbsGU\n",
       "l67qh3K+5jpA+LwS0xrScKtvPxzwhTCLq9UMAMp2t6GUHYiI2BpmN3RE5N+2gAAAADgBnuh0Qv8B\n",
       "nAYtgAdoeuDPR1ATVtWQOqyLTZnnFgeY9pGm1+V66dEwoWbQp7btJsTQQLj7q3RKPwAAAEkBnupq\n",
       "Qv8MZBcVLTK04GwAHaHrhAUp4lgpMu2lc6+VHBYE7Ygm4CVKiwkGMfLNQ7Xv7BQ37RopdsxzQtV5\n",
       "LnqvTJ5IdAll7CNFAAAAREGa70moQWyZTAhv//6nhAbdiTZGIgA5tAajX0nN2L0C8+zhaDduD/uJ\n",
       "a0KiWdNDDrgRaNVOKgVUZBVXEs5T2SzecARdAAAAR0GfDUUVLDP/DkkRzKZm4UIAQnSp+6ve34eI\n",
       "wS03Ar1+OZLczHevxqqf1ZdB3YUDDizAWWm8tPi88PvBoGQiJGTkM/KS837bAAAARQGfLHRC/wxP\n",
       "EZzDU0AHOHrbJZqIwtZD8S4bMAj4C5QIAZm0CE6SOkoVRgxrv99mDLV7Bvlp5ShnMdW7mq0FlLPK\n",
       "xp/vQAAAAEQBny5qQv8MZBcpag1EAHNErPpXhgE1BiL3dwE+2Bllc8+qc0Yyk1QFFbDUJLvJmBwf\n",
       "iNk21IA2SPV84XOgSqzNq3LuigAAAINBmzFJqEFsmUwUTC///oywG/JWgAh+ehxhMH+s6oSAy6bt\n",
       "TWvrUdRxNKSD/McvfKiG7bXS/fqkhhebuSvP9WpABFP/wSDbI/PoXHhy98Q0aUdLjGtnPcCoSzmm\n",
       "hMpW9IJeqNsQBwCFyUwwYoSagSFXMBQYsP10HMsjLL/+pYPmOoAIuQAAAFUBn1BqQv8MbRLSzicm\n",
       "82wAcwSu/bYK3db6guZHWeCsaRZ13frUwEMqeO8yhYZf8dxxnOF2Hthu5Qy2X3ksI+7GcxZm2Kaj\n",
       "K7KM777hl0GOhbatwZ5YAAARJm1vb3YAAABsbXZoZAAAAAAAAAAAAAAAAAAAA+gAAEZQAAEAAAEA\n",
       "AAAAAAAAAAAAAAABAAAAAAAAAAAAAAAAAAAAAQAAAAAAAAAAAAAAAAAAQAAAAAAAAAAAAAAAAAAA\n",
       "AAAAAAAAAAAAAAAAAAAAAAIAABBQdHJhawAAAFx0a2hkAAAAAwAAAAAAAAAAAAAAAQAAAAAAAEZQ\n",
       "AAAAAAAAAAAAAAAAAAAAAAABAAAAAAAAAAAAAAAAAAAAAQAAAAAAAAAAAAAAAAAAQAAAAAGwAAAB\n",
       "IAAAAAAAJGVkdHMAAAAcZWxzdAAAAAAAAAABAABGUAAABgAAAQAAAAAPyG1kaWEAAAAgbWRoZAAA\n",
       "AAAAAAAAAAAAAAAAMgAAA4QAVcQAAAAAAC1oZGxyAAAAAAAAAAB2aWRlAAAAAAAAAAAAAAAAVmlk\n",
       "ZW9IYW5kbGVyAAAAD3NtaW5mAAAAFHZtaGQAAAABAAAAAAAAAAAAAAAkZGluZgAAABxkcmVmAAAA\n",
       "AAAAAAEAAAAMdXJsIAAAAAEAAA8zc3RibAAAALdzdHNkAAAAAAAAAAEAAACnYXZjMQAAAAAAAAAB\n",
       "AAAAAAAAAAAAAAAAAAAAAAGwASAASAAAAEgAAAAAAAAAAQAAAAAAAAAAAAAAAAAAAAAAAAAAAAAA\n",
       "AAAAAAAAAAAAABj//wAAADVhdmNDAWQAFf/hABhnZAAVrNlBsJaEAAADAAwAAAMBkDxYtlgBAAZo\n",
       "6+PLIsD9+PgAAAAAHHV1aWRraEDyXyRPxbo5pRvPAyPzAAAAAAAAABhzdHRzAAAAAAAAAAEAAAEs\n",
       "AAADAAAAABhzdHNzAAAAAAAAAAIAAAABAAAA+wAACVBjdHRzAAAAAAAAASgAAAABAAAGAAAAAAEA\n",
       "AA8AAAAAAQAABgAAAAABAAAAAAAAAAEAAAMAAAAAAQAADwAAAAABAAAGAAAAAAEAAAAAAAAAAQAA\n",
       "AwAAAAABAAAPAAAAAAEAAAYAAAAAAQAAAAAAAAABAAADAAAAAAEAAAkAAAAAAQAAAwAAAAABAAAP\n",
       "AAAAAAEAAAYAAAAAAQAAAAAAAAABAAADAAAAAAEAAAwAAAAAAgAAAwAAAAABAAAPAAAAAAEAAAYA\n",
       "AAAAAQAAAAAAAAABAAADAAAAAAEAAA8AAAAAAQAABgAAAAABAAAAAAAAAAEAAAMAAAAAAQAADwAA\n",
       "AAABAAAGAAAAAAEAAAAAAAAAAQAAAwAAAAABAAAJAAAAAAEAAAMAAAAAAQAADwAAAAABAAAGAAAA\n",
       "AAEAAAAAAAAAAQAAAwAAAAABAAAPAAAAAAEAAAYAAAAAAQAAAAAAAAABAAADAAAAAAEAAA8AAAAA\n",
       "AQAABgAAAAABAAAAAAAAAAEAAAMAAAAAAQAADwAAAAABAAAGAAAAAAEAAAAAAAAAAQAAAwAAAAAB\n",
       "AAAPAAAAAAEAAAYAAAAAAQAAAAAAAAABAAADAAAAAAEAAA8AAAAAAQAABgAAAAABAAAAAAAAAAEA\n",
       "AAMAAAAAAQAADwAAAAABAAAGAAAAAAEAAAAAAAAAAQAAAwAAAAABAAAPAAAAAAEAAAYAAAAAAQAA\n",
       "AAAAAAABAAADAAAAAAEAAA8AAAAAAQAABgAAAAABAAAAAAAAAAEAAAMAAAAAAQAADwAAAAABAAAG\n",
       "AAAAAAEAAAAAAAAAAQAAAwAAAAABAAAJAAAAAAEAAAMAAAAAAQAADwAAAAABAAAGAAAAAAEAAAAA\n",
       "AAAAAQAAAwAAAAABAAAPAAAAAAEAAAYAAAAAAQAAAAAAAAABAAADAAAAAAEAAA8AAAAAAQAABgAA\n",
       "AAABAAAAAAAAAAEAAAMAAAAAAQAADwAAAAABAAAGAAAAAAEAAAAAAAAAAQAAAwAAAAABAAAJAAAA\n",
       "AAEAAAMAAAAAAQAADwAAAAABAAAGAAAAAAEAAAAAAAAAAQAAAwAAAAABAAAJAAAAAAEAAAMAAAAA\n",
       "AQAADwAAAAABAAAGAAAAAAEAAAAAAAAAAQAAAwAAAAABAAAJAAAAAAEAAAMAAAAAAQAADwAAAAAB\n",
       "AAAGAAAAAAEAAAAAAAAAAQAAAwAAAAABAAAJAAAAAAEAAAMAAAAAAQAADwAAAAABAAAGAAAAAAEA\n",
       "AAAAAAAAAQAAAwAAAAABAAAPAAAAAAEAAAYAAAAAAQAAAAAAAAABAAADAAAAAAEAAA8AAAAAAQAA\n",
       "BgAAAAABAAAAAAAAAAEAAAMAAAAAAQAADwAAAAABAAAGAAAAAAEAAAAAAAAAAQAAAwAAAAABAAAJ\n",
       "AAAAAAEAAAMAAAAAAQAADwAAAAABAAAGAAAAAAEAAAAAAAAAAQAAAwAAAAABAAAJAAAAAAEAAAMA\n",
       "AAAAAQAADwAAAAABAAAGAAAAAAEAAAAAAAAAAQAAAwAAAAABAAAJAAAAAAEAAAMAAAAAAQAADwAA\n",
       "AAABAAAGAAAAAAEAAAAAAAAAAQAAAwAAAAABAAAJAAAAAAEAAAMAAAAAAQAADwAAAAABAAAGAAAA\n",
       "AAEAAAAAAAAAAQAAAwAAAAABAAAPAAAAAAEAAAYAAAAAAQAAAAAAAAABAAADAAAAAAEAAA8AAAAA\n",
       "AQAABgAAAAABAAAAAAAAAAEAAAMAAAAAAQAADwAAAAABAAAGAAAAAAEAAAAAAAAAAQAAAwAAAAAB\n",
       "AAAPAAAAAAEAAAYAAAAAAQAAAAAAAAABAAADAAAAAAEAAA8AAAAAAQAABgAAAAABAAAAAAAAAAEA\n",
       "AAMAAAAAAQAADwAAAAABAAAGAAAAAAEAAAAAAAAAAQAAAwAAAAABAAAPAAAAAAEAAAYAAAAAAQAA\n",
       "AAAAAAABAAADAAAAAAEAAA8AAAAAAQAABgAAAAABAAAAAAAAAAEAAAMAAAAAAQAADwAAAAABAAAG\n",
       "AAAAAAEAAAAAAAAAAQAAAwAAAAABAAAPAAAAAAEAAAYAAAAAAQAAAAAAAAABAAADAAAAAAEAAA8A\n",
       "AAAAAQAABgAAAAABAAAAAAAAAAEAAAMAAAAAAQAADwAAAAABAAAGAAAAAAEAAAAAAAAAAQAAAwAA\n",
       "AAABAAAPAAAAAAEAAAYAAAAAAQAAAAAAAAABAAADAAAAAAEAAA8AAAAAAQAABgAAAAABAAAAAAAA\n",
       "AAEAAAMAAAAAAQAADwAAAAABAAAGAAAAAAEAAAAAAAAAAQAAAwAAAAABAAAJAAAAAAEAAAMAAAAA\n",
       "AQAADwAAAAABAAAGAAAAAAEAAAAAAAAAAQAAAwAAAAABAAAJAAAAAAEAAAMAAAAAAQAADwAAAAAB\n",
       "AAAGAAAAAAEAAAAAAAAAAQAAAwAAAAABAAAPAAAAAAEAAAYAAAAAAQAAAAAAAAABAAADAAAAAAEA\n",
       "AA8AAAAAAQAABgAAAAABAAAAAAAAAAEAAAMAAAAAAQAADwAAAAABAAAGAAAAAAEAAAAAAAAAAQAA\n",
       "AwAAAAABAAAMAAAAAAIAAAMAAAAAAQAACQAAAAABAAADAAAAAAEAAA8AAAAAAQAABgAAAAABAAAA\n",
       "AAAAAAEAAAMAAAAAAQAADAAAAAACAAADAAAAAAEAAAYAAAAAAQAADwAAAAABAAAGAAAAAAEAAAAA\n",
       "AAAAAQAAAwAAAAABAAAPAAAAAAEAAAYAAAAAAQAAAAAAAAABAAADAAAAAAEAAA8AAAAAAQAABgAA\n",
       "AAABAAAAAAAAAAEAAAMAAAAAAQAADwAAAAABAAAGAAAAAAEAAAAAAAAAAQAAAwAAAAABAAAPAAAA\n",
       "AAEAAAYAAAAAAQAAAAAAAAABAAADAAAAAAEAAA8AAAAAAQAABgAAAAABAAAAAAAAAAEAAAMAAAAA\n",
       "AQAADwAAAAABAAAGAAAAAAEAAAAAAAAAAQAAAwAAAAABAAAPAAAAAAEAAAYAAAAAAQAAAAAAAAAB\n",
       "AAADAAAAAAEAAA8AAAAAAQAABgAAAAABAAAAAAAAAAEAAAMAAAAAAQAADAAAAAACAAADAAAAAAEA\n",
       "AA8AAAAAAQAABgAAAAABAAAAAAAAAAEAAAMAAAAAAQAADwAAAAABAAAGAAAAAAEAAAAAAAAAAQAA\n",
       "AwAAAAABAAAJAAAAAAEAAAMAAAAAHHN0c2MAAAAAAAAAAQAAAAEAAAEsAAAAAQAABMRzdHN6AAAA\n",
       "AAAAAAAAAAEsAAALlQAAAogAAAE3AAAAqQAAANgAAAGUAAABKwAAAOAAAACRAAABLwAAALIAAAEz\n",
       "AAABRwAAAaMAAAB0AAAA2QAAAKAAAABjAAAArwAAALIAAABzAAABfwAAAi8AAACpAAAAlQAAAHAA\n",
       "AADhAAAAkQAAAEoAAAB2AAABrwAAANIAAACvAAAAhAAAAQMAAAB2AAAAoQAAAGUAAABnAAAAagAA\n",
       "AKwAAAGWAAAAdgAAAIQAAACsAAAAVAAAAGgAAABoAAAApAAAAaIAAAByAAAAegAAAUEAAABxAAAA\n",
       "cAAAAJEAAADpAAAAmQAAAHUAAAB3AAABBwAAAFgAAABhAAAAZgAAAJwAAABSAAAAbgAAAGMAAACT\n",
       "AAAAYQAAAHIAAABxAAAAnAAAAFgAAABjAAAAbQAAAH0AAAB2AAACVwAAAFUAAABXAAAAkAAAAOgA\n",
       "AABuAAAAeQAAAG0AAACwAAAASgAAAGMAAABgAAAAxgAAAEIAAABWAAAAWAAAAY0AAACCAAAAzAAA\n",
       "AFIAAABbAAAAYQAAAFYAAABjAAAAoQAAAFIAAABeAAAAXwAAAIcAAABpAAAArwAAAF0AAABbAAAA\n",
       "ZwAAAIYAAABYAAAA3wAAAFsAAABcAAAAZQAAAOAAAABrAAAAYwAAAFgAAACJAAAAWwAAAFoAAABh\n",
       "AAAA6wAAAFcAAABYAAAAXwAAAf0AAACaAAAAlwAAADwAAABXAAAAWwAAAIEAAABfAAAAnwAAADsA\n",
       "AABUAAAAWwAAAEUAAABeAAAA5gAAAFQAAABaAAAAUgAAAGEAAABfAAAAqgAAAGEAAABkAAAAWQAA\n",
       "AGwAAABGAAAAPgAAAFIAAACLAAAAWwAAAGAAAABJAAAAYQAAAEgAAABTAAAAVwAAAJYAAABKAAAA\n",
       "SgAAAFEAAABiAAAASgAAAFEAAABHAAABLwAAAFcAAABVAAAAZgAAALsAAABdAAAAUwAAAFQAAAE6\n",
       "AAAAWwAAAG0AAABBAAAAhwAAAFIAAABSAAAAZwAAAFIAAAD9AAAAVQAAAF0AAAB4AAAAPwAAAGAA\n",
       "AABOAAAAaQAAATEAAABdAAAAbAAAAL0AAABTAAAAUwAAAFUAAABMAAAAYgAAAGUAAABLAAAAagAA\n",
       "ADYAAABWAAAARAAAAHMAAAFqAAAATAAAAW8AAABcAAAARAAAALgAAABTAAAAVgAAAFgAAABUAAAA\n",
       "PAAAAb0AAABQAAAAVQAAAFwAAABYAAAAQwAAAXEAAABHAAAAQwAAAZkAAABiAAAAUQAAAP4AAABe\n",
       "AAAAbwAAAIYAAABKAAAAfwAAAVUAAABeAAAAYAAAAGIAAABcAAAAUwAACZMAAAKeAAAAiAAAAGgA\n",
       "AABoAAAAywAAAGUAAABbAAAASQAAAGUAAABRAAAAUgAAAEcAAAEzAAAAUAAAAFEAAABJAAABhQAA\n",
       "AF0AAABYAAAAYQAAAJAAAABTAAAANQAAAFsAAABtAAAAUQAAAEQAAAA1AAAAaQAAAFQAAABgAAAA\n",
       "SwAAAFkAAABKAAAAQwAAAFQAAACDAAAAUgAAAEgAAABkAAAAYgAAADwAAABNAAAASAAAAEsAAABJ\n",
       "AAAASAAAAIcAAABZAAAAFHN0Y28AAAAAAAAAAQAAADAAAABidWR0YQAAAFptZXRhAAAAAAAAACFo\n",
       "ZGxyAAAAAAAAAABtZGlyYXBwbAAAAAAAAAAAAAAAAC1pbHN0AAAAJal0b28AAAAdZGF0YQAAAAEA\n",
       "AAAATGF2ZjU5LjE2LjEwMA==\n",
       "\">\n",
       "  Your browser does not support the video tag.\n",
       "</video>"
      ],
      "text/plain": [
       "<IPython.core.display.HTML object>"
      ]
     },
     "metadata": {},
     "output_type": "display_data"
    }
   ],
   "source": [
    "from IPython import display\n",
    "video = anim.to_html5_video()\n",
    "html = display.HTML(video)\n",
    "display.display(html)\n",
    "plt.close()"
   ]
  },
  {
   "cell_type": "markdown",
   "metadata": {
    "pycharm": {
     "name": "#%% md\n"
    }
   },
   "source": [
    "## 2.2 Chose a value of $k$ that allows the system to be stable. Use bode plot to find stability margins of the closed-loop system."
   ]
  },
  {
   "cell_type": "markdown",
   "metadata": {
    "pycharm": {
     "name": "#%% md\n"
    }
   },
   "source": [
    "### k=3.19\n",
    "To make bode plot, find transfer function:"
   ]
  },
  {
   "cell_type": "code",
   "execution_count": 87,
   "metadata": {
    "pycharm": {
     "name": "#%%\n"
    }
   },
   "outputs": [
    {
     "name": "stdout",
     "output_type": "stream",
     "text": [
      "(3, 3) (3, 1) (1, 3)\n"
     ]
    }
   ],
   "source": [
    "Kn = np.array([[7*3.19, 6*3.19, -50*3.19]])\n",
    "print(An.shape, Bn.shape, Kn.shape)"
   ]
  },
  {
   "cell_type": "code",
   "execution_count": 88,
   "metadata": {
    "pycharm": {
     "name": "#%%\n"
    }
   },
   "outputs": [
    {
     "name": "stdout",
     "output_type": "stream",
     "text": [
      "Martix K: [[  22.33   19.14 -159.5 ]]\n",
      "Eigenvalues for K from polePlacement:\n",
      " [-48.57687759+0.j          -3.11156121+0.91012708j\n",
      "  -3.11156121-0.91012708j]\n",
      "The system is stable\n"
     ]
    }
   ],
   "source": [
    "eign = np.linalg.eigvals(An - Bn @ Kn)\n",
    "\n",
    "for sim_type in simulations.keys():\n",
    "    R = simulations[sim_type]['R']\n",
    "    simulations[sim_type]['eigs'] = eign\n",
    "    simulations[sim_type]['K'] = Kn\n",
    "\n",
    "print(\"Martix K:\", Kn)\n",
    "print(\"Eigenvalues for K from polePlacement:\\n\", eign)\n",
    "if eigP.max() < 0:\n",
    "    print(\"The system is stable\")\n",
    "else:\n",
    "    print(\"The system is unstable\")"
   ]
  },
  {
   "cell_type": "code",
   "execution_count": 89,
   "metadata": {
    "pycharm": {
     "name": "#%%\n"
    }
   },
   "outputs": [
    {
     "data": {
      "image/png": "[encoded data removed]",
      "text/plain": [
       "<Figure size 288x288 with 1 Axes>"
      ]
     },
     "metadata": {
      "needs_background": "light"
     },
     "output_type": "display_data"
    }
   ],
   "source": [
    "# Eigenvalues visualization\n",
    "figure(figsize=(4, 4))\n",
    "plot(simulations['fast']['eigs'].real, simulations['fast']['eigs'].imag, 'bo', label='Fast')\n",
    "plot(simulations['slow']['eigs'].real, simulations['slow']['eigs'].imag, 'rx',\n",
    "     label='Slow')\n",
    "grid(color='black', linestyle='--', linewidth=1.0, alpha=0.7)\n",
    "grid(True)\n",
    "xlabel(r'Real part: ${ \\operatorname{Re}(\\lambda)}$')\n",
    "ylabel(r'Imaginary part: ${ \\operatorname{Im}(\\lambda)}$')\n",
    "show()"
   ]
  },
  {
   "cell_type": "markdown",
   "metadata": {
    "pycharm": {
     "name": "#%% md\n"
    }
   },
   "source": [
    "## 2.3. Discretize the closed-loop system with  Δt=0.05  and simulate both the continues-time and discrete-time versions, show if there is a difference between simulation results."
   ]
  },
  {
   "cell_type": "markdown",
   "metadata": {
    "pycharm": {
     "name": "#%% md\n"
    }
   },
   "source": [
    "### Simulate continuous system:\n"
   ]
  },
  {
   "cell_type": "code",
   "execution_count": 90,
   "metadata": {
    "pycharm": {
     "name": "#%%\n"
    }
   },
   "outputs": [
    {
     "data": {
      "image/png": "[encoded data removed]",
      "text/plain": [
       "<Figure size 432x288 with 1 Axes>"
      ]
     },
     "metadata": {
      "needs_background": "light"
     },
     "output_type": "display_data"
    }
   ],
   "source": [
    "x0n = np.ones(3)\n",
    "tn = np.linspace(0, 5, 100)\n",
    "solution = odeint(system_ode, x0n, tn, args=(An, Bn, Kn))\n",
    "plot_solution(solution, tn)"
   ]
  },
  {
   "cell_type": "markdown",
   "metadata": {
    "pycharm": {
     "name": "#%% md\n"
    }
   },
   "source": [
    "Simulate discrete system:"
   ]
  },
  {
   "cell_type": "code",
   "execution_count": 91,
   "metadata": {
    "pycharm": {
     "name": "#%%\n"
    }
   },
   "outputs": [],
   "source": [
    "dt = 0.05\n",
    "A_n = An * dt + np.eye(3)\n",
    "B_n = Bn * dt\n",
    "\n",
    "P = np.random.uniform(-0.9999, 0.9999, size=(3,))\n",
    "pp_n = place_poles(A_n, B_n, P)\n",
    "Knd = pp_n.gain_matrix"
   ]
  },
  {
   "cell_type": "code",
   "execution_count": 92,
   "metadata": {
    "pycharm": {
     "name": "#%%\n"
    }
   },
   "outputs": [],
   "source": [
    "def discrete_sys_vis():\n",
    "    x = np.ones(3)\n",
    "    xs = [x]\n",
    "    for t_ in tn[:-1]:\n",
    "        x = x_next(x, A_n, B_n, Knd)\n",
    "        xs.append(x)\n",
    "    solution = np.array(xs)\n",
    "    plot_solution(solution, tn)\n",
    "\n"
   ]
  },
  {
   "cell_type": "code",
   "execution_count": 93,
   "metadata": {
    "pycharm": {
     "name": "#%%\n"
    }
   },
   "outputs": [
    {
     "data": {
      "image/png": "[encoded data removed]",
      "text/plain": [
       "<Figure size 432x288 with 1 Axes>"
      ]
     },
     "metadata": {
      "needs_background": "light"
     },
     "output_type": "display_data"
    }
   ],
   "source": [
    "discrete_sys_vis()"
   ]
  },
  {
   "cell_type": "markdown",
   "metadata": {
    "pycharm": {
     "name": "#%% md\n"
    }
   },
   "source": [
    "It is easy to see that continuous system is more controllable than discrete one"
   ]
  },
  {
   "cell_type": "markdown",
   "metadata": {
    "pycharm": {
     "name": "#%% md\n"
    }
   },
   "source": [
    "## 2.4. What is the smallest value of k that makes the eigenvalues purely real?"
   ]
  },
  {
   "cell_type": "code",
   "execution_count": 94,
   "metadata": {
    "pycharm": {
     "name": "#%%\n"
    }
   },
   "outputs": [
    {
     "name": "stdout",
     "output_type": "stream",
     "text": [
      "k = -0.6906906906906904 \n",
      "Eigenvalues: [25.67320321 -1.31691077 -1.54247863]\n",
      "k=1.591591591591591 \n",
      "Eigenvalues: [-11.49573432  -8.4744654   -2.86163212]\n"
     ]
    }
   ],
   "source": [
    "space_k = np.linspace(-10, 10, 1000)\n",
    "j=0\n",
    "for (i,k) in enumerate(space_k):\n",
    "  u_4 = np.array([[(7*k), (6*k), (-50*k)]])\n",
    "  eig = np.linalg.eigvals(An-np.dot(Bn, u_4))\n",
    "  if (eig.imag == 0).all():\n",
    "    print(f'k = {k} \\nEigenvalues: {eig}')\n",
    "    j = i\n",
    "    break\n",
    "\n",
    "for k in space_k[j:]:\n",
    "  u_4 = np.array([[(7*k), (6*k), (-50*k)]])\n",
    "  eig = np.linalg.eigvals(An-np.dot(Bn, u_4))\n",
    "  if (np.imag(eig) == 0).all() and (np.real(eig) < 0).all():\n",
    "    print(f\"k={k} \\nEigenvalues: {eig}\")\n",
    "    break"
   ]
  },
  {
   "cell_type": "markdown",
   "metadata": {
    "pycharm": {
     "name": "#%% md\n"
    }
   },
   "source": [
    "The smallest value of k: $k ≃−0.69$ for unstable system\n",
    "The smallest value of k: $k ≃−0.69$ for stable system"
   ]
  },
  {
   "cell_type": "markdown",
   "metadata": {
    "pycharm": {
     "name": "#%% md\n"
    }
   },
   "source": [
    "# Task 3 (3 points)\n",
    "\n",
    "You are given a system:\n",
    "\n",
    "$$\n",
    "\\begin{cases}\n",
    "\\dot x =\n",
    "\\begin{bmatrix}\n",
    "0 & 1 \\\\\n",
    "1 & 10\n",
    "\\end{bmatrix}\n",
    "x\n",
    "+\n",
    "\\begin{bmatrix}\n",
    "0 \\\\\n",
    "1\n",
    "\\end{bmatrix}\n",
    "u \\\\\n",
    "u =\n",
    "-\\begin{bmatrix}\n",
    "5k & k\n",
    "\\end{bmatrix} x\n",
    "\\end{cases}\n",
    "$$\n",
    "\n",
    "You can chose any positive value of $k$ to design your controller. What is least-norm control gain (control gain is the matrix $\\begin{bmatrix}\n",
    "5k & k\n",
    "\\end{bmatrix}$) that makes the system not only be stable, but also exhibit no oscillations in the transient process?\n"
   ]
  },
  {
   "cell_type": "markdown",
   "metadata": {
    "pycharm": {
     "name": "#%% md\n"
    }
   },
   "source": [
    "Lets substitute u:\n",
    "$$\n",
    "\\dot x =\n",
    "\\begin{bmatrix}\n",
    "0 & 1 \\\\\n",
    "1 & 10\n",
    "\\end{bmatrix}\n",
    "x - \\begin{bmatrix}\n",
    "0 & 0\\\\\n",
    "5k & k \\end{bmatrix} x$$\n",
    "Stability of the system in the transient process is defined by damping ratio and eigenvalues. When the damping ratio ζ is greater than one, the two roots of\n",
    "the characteristic equation are real and negative, system is overdamped.\n",
    "$det \\big(\\begin{bmatrix} -\\lambda & 1\\\\\n",
    "1 - 5k & 10-k \\end{bmatrix} =0\\\\\n",
    "\\lambda(\\lambda +k -10) + 5k -1 = 0\\\\\n",
    "\\lambda ^2 +(k-10)\\lambda + (5k-1)=0\\\\\n",
    "\\lambda = \\frac{10 - k \\pm \\sqrt{(k - 10)^2 - 4(5k-1)}}{2}\\\\\n",
    "\\lambda = \\frac{10 - k \\pm \\sqrt{k^2 - 40k + 104}}{2}\\\\\n",
    "$\n",
    "\n",
    "$\n",
    "\\begin{cases}\n",
    "10-k + \\sqrt{k^2-40k+104} < 0\\\\\n",
    "k^2-40k+104 > 0 \\end{cases}\\\\\n",
    "\\begin{cases}\n",
    "k \\geq 37.2047 \\\\\n",
    "k \\geq 20+ 2\\sqrt {74} \\\\\n",
    "k \\leq  20 - 2\\sqrt{74}\\end{cases}\\\\\n",
    "$\n",
    "\n",
    "$\n",
    "k \\in (20+ 2\\sqrt {74}  ;∞)\n",
    "$\n"
   ]
  },
  {
   "cell_type": "markdown",
   "metadata": {
    "pycharm": {
     "name": "#%% md\n"
    }
   },
   "source": [
    "The least-norm control law is the one with the lowest possible value of k\n",
    "Therefore, answer is: $K = 20 +2\\sqrt{74} \\approx 37.205 $"
   ]
  },
  {
   "cell_type": "code",
   "execution_count": null,
   "metadata": {},
   "outputs": [],
   "source": []
  },
  {
   "cell_type": "code",
   "execution_count": null,
   "metadata": {},
   "outputs": [],
   "source": []
  },
  {
   "cell_type": "code",
   "execution_count": null,
   "metadata": {},
   "outputs": [],
   "source": []
  }
 ],
 "metadata": {
  "kernelspec": {
   "display_name": "Python 3 (ipykernel)",
   "language": "python",
   "name": "python3"
  },
  "language_info": {
   "codemirror_mode": {
    "name": "ipython",
    "version": 3
   },
   "file_extension": ".py",
   "mimetype": "text/x-python",
   "name": "python",
   "nbconvert_exporter": "python",
   "pygments_lexer": "ipython3",
   "version": "3.10.2"
  }
 },
 "nbformat": 4,
 "nbformat_minor": 1
}
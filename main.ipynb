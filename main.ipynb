{
 "cells": [
  {
   "cell_type": "markdown",
   "metadata": {},
   "source": [
    "# Task 1 (5 points)\n",
    "\n",
    "Given a system:\n",
    "\n",
    "<!-- A =\n",
    "    [0 0 1 0;\n",
    "     0 0 0 1;\n",
    "     n -2 -10/n -2;\n",
    "     -5 -n/10 0 -3]; -->\n",
    "\n",
    "$\n",
    "\\begin{cases}\n",
    "\\dot x =\n",
    "\\begin{bmatrix}\n",
    "0 & 0 & 1 & 0 \\\\\n",
    "0 & 0 & 0 & 1 \\\\\n",
    " n & -2 & -10/n & -2 \\\\\n",
    "-5 & -n/10 & 0 & -3\n",
    "\\end{bmatrix}\n",
    "x\n",
    "+\n",
    "\\begin{bmatrix}\n",
    "0 \\\\\n",
    "0 \\\\\n",
    "-1\\\\\n",
    "1\n",
    "\\end{bmatrix}\n",
    "u \\\\\n",
    "y = \\begin{bmatrix}\n",
    "1 & 1 & 0 & 0\n",
    "\\end{bmatrix} x\n",
    "\\end{cases}\n",
    "$\n",
    "\n",
    "where $n$ is my number in my group list - 2.\n",
    "\n",
    "\n",
    "\n",
    "1. Find its transfer function representation ($y(s) / u(s) = W(s)$)."
   ]
  },
  {
   "cell_type": "code",
   "execution_count": 1,
   "outputs": [],
   "source": [
    "import ffmpeg as ffmpeg\n",
    "import numpy as np\n",
    "import pg8000 as pg8000\n",
    "from scipy.integrate import odeint\n",
    "from scipy.linalg import solve_continuous_are as are\n",
    "from matplotlib.pyplot import *\n",
    "from IPython.display import display\n",
    "import sympy\n",
    "from sympy import Matrix, diag, symbols, init_printing, pprint, factor, zeros, simplify, latex\n",
    "from scipy import signal\n",
    "\n",
    "init_printing(use_unicode=True)\n",
    "\n",
    "\n",
    "A = np.array([[0, 0, 1, 0], [0, 0, 0, 1], [2, -2, -10 / 2, -2], [-5, -2 / 10, 0, -3]])\n",
    "B = np.array([[0], [0], [-1], [1]])\n",
    "\n",
    "\n",
    "s = symbols('s')\n",
    "n = symbols('n')"
   ],
   "metadata": {
    "collapsed": false,
    "pycharm": {
     "name": "#%%\n"
    }
   }
  },
  {
   "cell_type": "code",
   "execution_count": 2,
   "metadata": {
    "collapsed": true,
    "pycharm": {
     "name": "#%%\n"
    }
   },
   "outputs": [
    {
     "name": "stdout",
     "output_type": "stream",
     "text": [
      "Let's use formula W(s) = Y(s)/u(s) = C *(sI - A)^(-1)*B:\n"
     ]
    },
    {
     "data": {
      "text/plain": "'W(s) = '"
     },
     "metadata": {},
     "output_type": "display_data"
    },
    {
     "data": {
      "text/plain": "⎡                  -16                  ⎤\n⎢───────────────────────────────────────⎥\n⎢      4        3        2              ⎥\n⎣- 20⋅s  - 160⋅s  - 264⋅s  + 300⋅s + 208⎦",
      "text/latex": "$\\displaystyle \\left[\\begin{matrix}- \\frac{16}{- 20 s^{4} - 160 s^{3} - 264 s^{2} + 300 s + 208}\\end{matrix}\\right]$"
     },
     "metadata": {},
     "output_type": "display_data"
    }
   ],
   "source": [
    "def find_w(A, B, C, D = None):\n",
    "    M = sympy.eye(A.shape[0])\n",
    "    M = M*s - A\n",
    "    if D is None:\n",
    "        return simplify(sympy.apart(simplify(C * (M.inv() * B)), s))\n",
    "    else: return simplify(sympy.apart(simplify(C * (M.inv() * B)+ D), s))\n",
    "\n",
    "Am = Matrix([[0, 0, 1, 0], [0, 0, 0, 1], [n, -2, -10 / n, -2], [-5, -n / 10, 0, -3]])\n",
    "Bm = Matrix([[0], [0], [-1], [1]])\n",
    "Cm = Matrix([1, 1, 0, 0]).transpose()\n",
    "\n",
    "\n",
    "print(\"Let's use formula W(s) = Y(s)/u(s) = C *(sI - A)^(-1)*B:\")\n",
    "W = find_w(Am, Bm, Cm)\n",
    "W = W.subs(n, 2)\n",
    "display(\"W(s) = \", W)"
   ]
  },
  {
   "cell_type": "markdown",
   "metadata": {
    "pycharm": {
     "name": "#%% md\n"
    }
   },
   "source": [
    "## 1.2.  Propose an ODE representation of the system.\n",
    "\\begin{equation}\n",
    "    \\begin{cases}\n",
    "        x_1' = x_3\\\\\n",
    "        x_2' = x_4\\\\\n",
    "        x_3' = 2x_1 - 2x_2 - 5x_3 - 2x_4 - u\\\\\n",
    "        x_4' = -5x_1 - 0.2x_2 - 3x_4 + u\\\\\n",
    "        y = x_1 + x_2\n",
    "    \\end{cases}\\,\n",
    "\\end{equation}\n",
    "\n",
    "\\begin{equation}\n",
    "    \\begin{cases}\n",
    "        x_1'' = 2x_1 - 2x_2 - 5(x_1' +С_1) - 2(x_2'+ С_2) - u\\\\\n",
    "        x_2'' = -5x_1 - 0.2x_2 - 3(x_2'+С_2) + u\\\\\n",
    "        y = x_1 + x_2\n",
    "    \\end{cases}\\,\n",
    "\\end{equation}"
   ]
  },
  {
   "cell_type": "markdown",
   "metadata": {
    "pycharm": {
     "name": "#%% md\n"
    }
   },
   "source": [
    "## 1.3. Propose a controller (control law $u = -Kx$) that makes the system stable. Do it via pole placement and as an LQR. For LQR show the cost function you chose.\n",
    "\n",
    "To propose the controller, which make the system stable, rewrite the control law $u=-Kx$ into the state space form: $x'=(A-KB)x$. Now let's choose the K with 1- pole-placement and 2- LQR!\n",
    "But to do it check are the methods applicable:\n",
    "1- find is the system controllable,\n",
    "2- find is the system observable."
   ]
  },
  {
   "cell_type": "code",
   "execution_count": 3,
   "metadata": {
    "pycharm": {
     "name": "#%%\n"
    }
   },
   "outputs": [
    {
     "name": "stdout",
     "output_type": "stream",
     "text": [
      "Rank of the matrix R = [B AB AAB ... A^(n-1)B] is equal to  4\n",
      "The system is controllable\n",
      "Rank of the matrix O = [Ct AtCt AtCt ... At^(n-1)Ct] is equal to  4\n",
      "The system is observable\n",
      "We can use pool-placement for the system or LQR\n",
      "Let's do it!\n"
     ]
    }
   ],
   "source": [
    "def rank_for_check_controllability(A, B):\n",
    "    R = Matrix([[0, 0, 0, 0], [0, 0, 0, 0, ], [0, 0, 0, 0], [0, 0, 0, 0]])\n",
    "    R[0] = B\n",
    "    R[1] = A * B\n",
    "    R[2] = A * A * B\n",
    "    R[3] = A * A * A * B\n",
    "    rank = R.rank()\n",
    "    print(\"Rank of the matrix R = [B AB AAB ... A^(n-1)B] is equal to \", rank)\n",
    "    result = rank == R.shape[0]\n",
    "    if result:\n",
    "        outputStr = \"The system is controllable\"\n",
    "    else:\n",
    "        outputStr = \"The system is uncontrollable\"\n",
    "    print(outputStr)\n",
    "    return result\n",
    "\n",
    "\n",
    "def rank_for_check_observability(C, A):\n",
    "    O = Matrix([[0, 0, 0, 0], [0, 0, 0, 0, ], [0, 0, 0, 0], [0, 0, 0, 0]])\n",
    "    Ct = C.transpose()\n",
    "    At = A.transpose()\n",
    "    O[0] = Ct\n",
    "    O[1] = At * Ct\n",
    "    O[2] = At * At * Ct\n",
    "    O[3] = At * At * At * Ct\n",
    "    rank = O.rank()\n",
    "    print(\"Rank of the matrix O = [Ct AtCt AtCt ... At^(n-1)Ct] is equal to \", rank)\n",
    "    result = rank == O.shape[0]\n",
    "    if result:\n",
    "        outputStr = \"The system is observable\"\n",
    "    else:\n",
    "        outputStr = \"The system is unobservable\"\n",
    "    print(outputStr)\n",
    "    return result\n",
    "\n",
    "\n",
    "if rank_for_check_controllability(Am, Bm):\n",
    "    if rank_for_check_observability(Cm, Am):\n",
    "        print(\"We can use pool-placement for the system or LQR\\nLet's do it!\")\n",
    "else:\n",
    "    print(\"We can't use pool-placement and LQR :C\")\n"
   ]
  },
  {
   "cell_type": "markdown",
   "metadata": {
    "pycharm": {
     "name": "#%% md\n"
    }
   },
   "source": [
    "Use Pole Placement from scipy:"
   ]
  },
  {
   "cell_type": "code",
   "execution_count": 4,
   "metadata": {
    "pycharm": {
     "name": "#%%\n"
    }
   },
   "outputs": [
    {
     "name": "stdout",
     "output_type": "stream",
     "text": [
      "Desired pole placement eigenvalues : [-7.92179308 -6.87771713 -8.93064285 -1.75322575]\n",
      "Martix K: [[600.69502998 728.33544342 172.71056513 190.19394395]]\n"
     ]
    }
   ],
   "source": [
    "from scipy.signal import place_poles, ss2tf\n",
    "\n",
    "#The system is stable when the real part of its eigenvalues are negative, so create a set of 4 negative real eigenvalues\n",
    "\n",
    "eigP_desired = np.random.uniform(-10, -1, size=(4,))\n",
    "print(\"Desired pole placement eigenvalues :\", eigP_desired)\n",
    "place_poles_lin = place_poles(A, B, eigP_desired)\n",
    "Kpp = place_poles_lin.gain_matrix\n",
    "print(\"Martix K:\", Kpp)"
   ]
  },
  {
   "cell_type": "markdown",
   "metadata": {
    "pycharm": {
     "name": "#%% md\n"
    }
   },
   "source": [
    "Use LQR:"
   ]
  },
  {
   "cell_type": "code",
   "execution_count": 5,
   "metadata": {
    "pycharm": {
     "name": "#%%\n"
    }
   },
   "outputs": [
    {
     "name": "stdout",
     "output_type": "stream",
     "text": [
      "Martix K: [[-6.91628181  2.07651368 -1.21141014  1.17241666]]\n"
     ]
    }
   ],
   "source": [
    "def lqr(A, B, Q, R):\n",
    "    # Solve the ARE\n",
    "    S = are(A, B, Q, R)\n",
    "    R_inv = np.linalg.inv(R)\n",
    "    Klqr = R_inv.dot((B.T).dot(S))\n",
    "    Ac = A - B.dot(Klqr)\n",
    "    E = np.linalg.eigvals(Ac)\n",
    "    return S, Klqr, E\n",
    "\n",
    "\n",
    "def system_ode(x, t, A, B, Klqr):\n",
    "    u = -np.dot(Klqr, x)\n",
    "    dx = np.dot(A, x) + np.dot(B, u)\n",
    "    return dx\n",
    "\n",
    "\n",
    "t0 = 0  # Initial time\n",
    "tf = 15  # Final time\n",
    "N = int(2E3)  # Numbers of points in time span\n",
    "t = np.linspace(t0, tf, N)  # Create time span\n",
    "y_0 = 0.5\n",
    "x0 = [0, 0, 0, 0]  # Set initial state\n",
    "\n",
    "Q = np.diag([1, 1, 1, 1])  #Set costs\n",
    "R = np.diag([1])\n",
    "S, K, E = lqr(A, B, Q, R)\n",
    "x_sol = odeint(system_ode, x0, t, args=(A, B, K))  # integrate system \"sys_ode\" from initial state $x0$\n",
    "\n",
    "simulations = {'fast': {'R': R / 10}, 'slow': {'R': R * 5}}\n",
    "\n",
    "print(\"Martix K:\", K)\n"
   ]
  },
  {
   "cell_type": "markdown",
   "metadata": {
    "pycharm": {
     "name": "#%% md\n"
    }
   },
   "source": [
    "## 1.4. Show stability of the closed-loop system via eigenvalue analysis.\n",
    "\n",
    "### Find eigenvalues for system with K from pole placement:"
   ]
  },
  {
   "cell_type": "code",
   "execution_count": 6,
   "metadata": {
    "pycharm": {
     "name": "#%%\n"
    }
   },
   "outputs": [
    {
     "name": "stdout",
     "output_type": "stream",
     "text": [
      "Martix K: [[600.69502998 728.33544342 172.71056513 190.19394395]]\n",
      "Eigenvalues for K from polePlacement:\n",
      " [-0.53034896+0.j         -1.06774362+0.j         -4.39286711+0.45602049j\n",
      " -4.39286711-0.45602049j] \n",
      "Desired eigenvalues: [-7.92179308 -6.87771713 -8.93064285 -1.75322575]\n",
      "The system is stable\n"
     ]
    }
   ],
   "source": [
    "eigP = np.linalg.eigvals(A - B @ K)\n",
    "\n",
    "for sim_type in simulations.keys():\n",
    "    R = simulations[sim_type]['R']\n",
    "    simulations[sim_type]['eigs'] = eigP\n",
    "    simulations[sim_type]['K'] = Kpp\n",
    "    simulations[sim_type]['x'] = odeint(system_ode, x0, t, args=(A, B, K))\n",
    "    simulations[sim_type]['u'] = - K.dot(x_sol.T).T\n",
    "\n",
    "print(\"Martix K:\", Kpp)\n",
    "print(\"Eigenvalues for K from polePlacement:\\n\", eigP, \"\\nDesired eigenvalues:\", eigP_desired)\n",
    "if eigP.max() < 0:\n",
    "    print(\"The system is stable\")\n",
    "else:\n",
    "    print(\"The system is unstable\")"
   ]
  },
  {
   "cell_type": "code",
   "execution_count": 7,
   "outputs": [
    {
     "data": {
      "text/plain": "<Figure size 288x288 with 1 Axes>",
      "image/png": "[encoded data removed]"
     },
     "metadata": {
      "needs_background": "light"
     },
     "output_type": "display_data"
    }
   ],
   "source": [
    "# Eigenvalues visualization\n",
    "figure(figsize=(4, 4))\n",
    "plot(simulations['fast']['eigs'].real, simulations['fast']['eigs'].imag, 'bo', label='Fast')\n",
    "plot(simulations['slow']['eigs'].real, simulations['slow']['eigs'].imag, 'rx',\n",
    "     label='Slow')\n",
    "grid(color='black', linestyle='--', linewidth=1.0, alpha=0.7)\n",
    "grid(True)\n",
    "xlabel(r'Real part: ${ \\operatorname{Re}(\\lambda)}$')\n",
    "ylabel(r'Imaginary part: ${ \\operatorname{Im}(\\lambda)}$')\n",
    "show()"
   ],
   "metadata": {
    "collapsed": false,
    "pycharm": {
     "name": "#%%\n"
    }
   }
  },
  {
   "cell_type": "markdown",
   "metadata": {
    "pycharm": {
     "name": "#%% md\n"
    }
   },
   "source": [
    "### Find eigenvalues for system with K from LQR:"
   ]
  },
  {
   "cell_type": "code",
   "execution_count": 8,
   "metadata": {
    "pycharm": {
     "name": "#%%\n"
    }
   },
   "outputs": [
    {
     "name": "stdout",
     "output_type": "stream",
     "text": [
      "Eigenvalues for LQR are equal to:  [-0.52507157+0.j        -1.07337208+0.j        -4.29962854+0.4480173j\n",
      " -4.29962854-0.4480173j]\n"
     ]
    }
   ],
   "source": [
    "for sim_type in simulations.keys():\n",
    "    R = simulations[sim_type]['R']\n",
    "    S, K, E = lqr(A, B, Q, R)\n",
    "    simulations[sim_type]['eigs'] = E\n",
    "    simulations[sim_type]['K'] = K\n",
    "    simulations[sim_type]['x'] = odeint(system_ode, x0, t, args=(A, B, K))\n",
    "    simulations[sim_type]['u'] = - K.dot(x_sol.T).T\n",
    "print(\"Eigenvalues for LQR are equal to: \", E)"
   ]
  },
  {
   "cell_type": "code",
   "execution_count": 9,
   "outputs": [
    {
     "data": {
      "text/plain": "<Figure size 288x288 with 1 Axes>",
      "image/png": "[encoded data removed]"
     },
     "metadata": {
      "needs_background": "light"
     },
     "output_type": "display_data"
    }
   ],
   "source": [
    "# Eigenvalues visualization\n",
    "figure(figsize=(4, 4))\n",
    "plot(simulations['fast']['eigs'].real, simulations['fast']['eigs'].imag, 'bo', label='Fast')\n",
    "plot(simulations['slow']['eigs'].real, simulations['slow']['eigs'].imag, 'rx',\n",
    "     label='Slow')\n",
    "grid(color='black', linestyle='--', linewidth=1.0, alpha=0.7)\n",
    "grid(True)\n",
    "xlabel(r'Real part: ${ \\operatorname{Re}(\\lambda)}$')\n",
    "ylabel(r'Imaginary part: ${ \\operatorname{Im}(\\lambda)}$')\n",
    "show()"
   ],
   "metadata": {
    "collapsed": false,
    "pycharm": {
     "name": "#%%\n"
    }
   }
  },
  {
   "cell_type": "markdown",
   "metadata": {
    "pycharm": {
     "name": "#%% md\n"
    }
   },
   "source": []
  },
  {
   "cell_type": "code",
   "execution_count": 10,
   "metadata": {
    "pycharm": {
     "name": "#%%\n"
    }
   },
   "outputs": [
    {
     "data": {
      "text/plain": "<Figure size 432x288 with 1 Axes>",
      "image/png": "[encoded data removed]"
     },
     "metadata": {
      "needs_background": "light"
     },
     "output_type": "display_data"
    },
    {
     "data": {
      "text/plain": "<Figure size 432x288 with 1 Axes>",
      "image/png": "[encoded data removed]"
     },
     "metadata": {
      "needs_background": "light"
     },
     "output_type": "display_data"
    }
   ],
   "source": [
    "# a(ω) = |W(jω)| and its phase\n",
    "# ϕ(ω) = atan2(im(W(jω)), real(W(jω)))\n",
    "\n",
    "sys = signal.TransferFunction([16], [20, 160, 264, -300, 208])\n",
    "array_w, mag, phase = signal.bode(sys)\n",
    "\n",
    "figure()\n",
    "title('Bode magnitude plot')\n",
    "semilogx(array_w, mag)\n",
    "figure()\n",
    "title('Bode phase plot')\n",
    "semilogx(array_w, phase)\n",
    "show()"
   ]
  },
  {
   "attachments": {
    "image.png": {
     "image/png": "[encoded data removed]"
    }
   },
   "cell_type": "markdown",
   "metadata": {},
   "source": [
    "![image.png](attachment:image.png)"
   ]
  },
  {
   "cell_type": "markdown",
   "metadata": {},
   "source": [
    "I have a different plot that MATLAB does...\n",
    "But after analyzing both graphs, it seems that the system does not reach the gain margin ($gain(\\omega) != 0$ or $(phase(\\omega) != -180$ for any frequency value), so the system is stable!\n",
    "Moreover, MATLAB says there is no stability margin."
   ]
  },
  {
   "cell_type": "markdown",
   "metadata": {
    "pycharm": {
     "name": "#%% md\n"
    }
   },
   "source": [
    "## 1.6. Modify the control law\n",
    "in such a way that the state of the system converges to $x_0 = \\begin{bmatrix}\n",
    "(2+0.1n)/(n-5) \\\\\n",
    "1 \\\\\n",
    "0 \\\\\n",
    "0\n",
    "\\end{bmatrix}$. Show resulting control law. Simulate the system and demostrate convergence via graphs of state dynamics and error dynamics."
   ]
  },
  {
   "cell_type": "code",
   "execution_count": 11,
   "metadata": {
    "pycharm": {
     "name": "#%%\n"
    }
   },
   "outputs": [
    {
     "name": "stdout",
     "output_type": "stream",
     "text": [
      "Martix K: [[-6.86487908  1.94316742 -1.14482729  1.05287345]]\n"
     ]
    }
   ],
   "source": [
    "y_0 = 0.5\n",
    "C = np.array([-2.2 / 3, 1, 0, 0])  # initial state, in affine control we will use the state as C\n",
    "x_sol = odeint(system_ode, C, t, args=(A, B, K))  # integrate system \"sys_ode\" from initial state $x0$\n",
    "\n",
    "Q = np.diag([1, 1, 1, 1])\n",
    "R = np.diag([1])\n",
    "simulations = {'fast': {'R': R}, 'slow': {'R': R}}\n",
    "\n",
    "print(\"Martix K:\", K)"
   ]
  },
  {
   "cell_type": "markdown",
   "metadata": {
    "pycharm": {
     "name": "#%% md\n"
    }
   },
   "source": [
    "#### $u = \\begin{bmatrix}\n",
    "6.84\\\\\n",
    "-1.94\\\\\n",
    "1.14\\\\\n",
    "-1.05\n",
    "\\end{bmatrix} x$"
   ]
  },
  {
   "cell_type": "code",
   "execution_count": 12,
   "outputs": [
    {
     "data": {
      "text/plain": "<Figure size 648x216 with 1 Axes>",
      "image/png": "[encoded data removed]"
     },
     "metadata": {
      "needs_background": "light"
     },
     "output_type": "display_data"
    }
   ],
   "source": [
    "# e0 = [0, 0, 0, 0]\n",
    "\n",
    "for sim_type in simulations.keys():\n",
    "    R = simulations[sim_type]['R']\n",
    "    S, K, E = lqr(A, B, Q, R)\n",
    "    simulations[sim_type]['eigs'] = E\n",
    "    simulations[sim_type]['K'] = K\n",
    "    simulations[sim_type]['x'] = odeint(system_ode, C, t, args=(A, B, K))\n",
    "    # u_star = np.linalg.pinv(B) * (x_sol - A * C)\n",
    "    # simulations[sim_type]['error'] = A*\n",
    "    simulations[sim_type]['u'] = - K.dot(x_sol.T).T\n",
    "\n",
    "figure(figsize=(9, 3))\n",
    "plot(t, simulations['slow']['x'][:, 0], 'r', linewidth=2.0, label='x[1]')\n",
    "plot(t, simulations['slow']['x'][:, 2], 'b', linewidth=2.0, label='x[2]')\n",
    "plot(t, simulations['fast']['x'][:, 0], 'g--', linewidth=2.0, label='x[3]')\n",
    "plot(t, simulations['fast']['x'][:, 2], 'y--', linewidth=2.0, label='x[4]')\n",
    "legend()\n",
    "grid(color='black', linestyle='--', linewidth=1.0, alpha=0.7)\n",
    "grid(True)\n",
    "xlim([t0, tf])\n",
    "ylabel(r'State ${x}$')\n",
    "xlabel(r'Time $t$ (s)')\n",
    "title('State dynamics')\n",
    "show()"
   ],
   "metadata": {
    "collapsed": false,
    "pycharm": {
     "name": "#%%\n"
    }
   }
  },
  {
   "cell_type": "markdown",
   "source": [
    "To determine error dynamics, use the formula from affine control $u^{*} = B^{+}(\\dot x^{*} - Ax^{*})$"
   ],
   "metadata": {
    "collapsed": false,
    "pycharm": {
     "name": "#%% md\n"
    }
   }
  },
  {
   "cell_type": "code",
   "execution_count": 13,
   "outputs": [
    {
     "name": "stdout",
     "output_type": "stream",
     "text": [
      "[[-0.  0. -0.  0.]\n",
      " [-0.  0. -0.  0.]\n",
      " [ 0.  0. -0.  0.]\n",
      " [-0.  0. -0.  0.]]\n"
     ]
    }
   ],
   "source": [
    "u_star = np.linalg.pinv(B) * (x_sol[0] - A * C)\n",
    "print(u_star)"
   ],
   "metadata": {
    "collapsed": false,
    "pycharm": {
     "name": "#%%\n"
    }
   }
  },
  {
   "cell_type": "markdown",
   "source": [
    "Since $u^* = 0$, $v=u$\n",
    "#### The final error dynamical system equation is: $\\dot e = Ae+Bu$"
   ],
   "metadata": {
    "collapsed": false,
    "pycharm": {
     "name": "#%% md\n"
    }
   }
  },
  {
   "cell_type": "code",
   "execution_count": 14,
   "outputs": [
    {
     "data": {
      "text/plain": "<Figure size 648x216 with 1 Axes>",
      "image/png": "[encoded data removed]"
     },
     "metadata": {
      "needs_background": "light"
     },
     "output_type": "display_data"
    }
   ],
   "source": [
    "e0 = [0, 0, 0, 0]\n",
    "for sim_type in simulations.keys():\n",
    "    simulations[sim_type]['e'] = odeint(system_ode, e0, t, args=(A, B, K))\n",
    "\n",
    "\n",
    "figure(figsize=(9, 3))\n",
    "plot(t, simulations['slow']['e'][:, 0], 'r', linewidth=2.0, label='e[1]')\n",
    "plot(t, simulations['slow']['e'][:, 2], 'b', linewidth=2.0, label='e[2]')\n",
    "plot(t, simulations['fast']['e'][:, 0], 'g--', linewidth=2.0, label='e[3]')\n",
    "plot(t, simulations['fast']['e'][:, 2], 'y--', linewidth=2.0, label='e[4]')\n",
    "legend()\n",
    "grid(color='black', linestyle='--', linewidth=1.0, alpha=0.7)\n",
    "grid(True)\n",
    "xlim([t0, tf])\n",
    "ylabel(r'State ${e}$')\n",
    "xlabel(r'Time $t$ (s)')\n",
    "title('State dynamics')\n",
    "show()"
   ],
   "metadata": {
    "collapsed": false,
    "pycharm": {
     "name": "#%%\n"
    }
   }
  },
  {
   "cell_type": "markdown",
   "source": [
    "## 1.8.Discretize the system with $\\Delta t = 0.01$. Write equations of the discrete dynamics.\n",
    "$ \\dot x \\approx \\frac{1}{\\Delta t}*(x(t)-x(t-\\Delta t)) \\\\\n",
    "\\dot x \\approx \\frac{1}{\\Delta t}*(x_{i+1}-x_{i}) = Ax_i \\\\\n",
    "x_{i+1} = (I - A \\Delta t)^{-1} x_i$\n",
    "\n",
    "\n",
    "Define discrete state space matrix $\\bar{A} = A \\Delta t + I$ and discrete control matrix $\\bar{B} = B \\Delta t\\\\$.\n",
    "So, we get the discrete dynamics system:\n",
    "$\\begin{cases}x_{i+1} = \\bar{A} x_i + \\bar{B} u_i\\\\\n",
    "y_{i+1} = Cx_i\\end{cases}$"
   ],
   "metadata": {
    "collapsed": false,
    "pycharm": {
     "name": "#%% md\n"
    }
   }
  },
  {
   "cell_type": "code",
   "execution_count": 15,
   "outputs": [
    {
     "name": "stdout",
     "output_type": "stream",
     "text": [
      "Ad = [[ 1.     0.     0.01   0.   ]\n",
      " [ 0.     1.     0.     0.01 ]\n",
      " [ 0.02  -0.02   0.95  -0.02 ]\n",
      " [-0.05  -0.002  0.     0.97 ]] \n",
      "Bd= [[ 0.  ]\n",
      " [ 0.  ]\n",
      " [-0.01]\n",
      " [ 0.01]]\n"
     ]
    }
   ],
   "source": [
    "dt = 0.01\n",
    "I = np.diag([1, 1, 1, 1])\n",
    "Ad = I + A*dt\n",
    "Bd = B*dt\n",
    "print(\"Ad =\",Ad,\"\\nBd=\", Bd)"
   ],
   "metadata": {
    "collapsed": false,
    "pycharm": {
     "name": "#%%\n"
    }
   }
  },
  {
   "cell_type": "markdown",
   "source": [
    "It is easy to write down the equation for the system dynamics:\n",
    "$\\begin{cases}x_{i+1} = \\begin{bmatrix} 1& 0& 0.01&0\\\\\n",
    " 0&1&0&0.01\\\\\n",
    " 0.02& -0.02& 0.95& -0.02\\\\\n",
    " -0.05 & -0.002&0& 0.97\n",
    " \\end{bmatrix}x_i + \\begin{bmatrix} 0\\\\0\\\\-0.01\\\\0.01 \\end{bmatrix} u_i\\\\\n",
    "y_{i+1} = \\begin{bmatrix} 1&1&0&0\n",
    "\\end{bmatrix}x_i\\end{cases}$"
   ],
   "metadata": {
    "collapsed": false,
    "pycharm": {
     "name": "#%% md\n"
    }
   }
  },
  {
   "cell_type": "markdown",
   "source": [
    "## 1.9. Propose a control law for the discrete system via pole-placement and LQR (show cost function for the LQR).\n",
    "\n",
    "In general, discrete systems are stable as long as $|\\lambda _ i(A)| \\leq 1$.\n"
   ],
   "metadata": {
    "collapsed": false,
    "pycharm": {
     "name": "#%% md\n"
    }
   }
  },
  {
   "cell_type": "code",
   "execution_count": 16,
   "outputs": [
    {
     "name": "stdout",
     "output_type": "stream",
     "text": [
      "Desired eigenvalues:  [ 0.71174738 -0.51655872  0.03517485 -0.52566656] \n",
      " K matrix:  [[80203873.30313767 80265792.66559207  4293202.77368137  4293624.30399454]]\n"
     ]
    }
   ],
   "source": [
    "# Find desired eigenvalues for control law\n",
    "eigD_desired = np.random.uniform(-0.999999, 0.999999, size=(4,))\n",
    "place_poles_disc = place_poles(Ad, Bd, eigD_desired)\n",
    "Kd_pp = place_poles_disc.gain_matrix\n",
    "print(\"Desired eigenvalues: \", eigD_desired, \"\\n K matrix: \", Kd_pp)"
   ],
   "metadata": {
    "collapsed": false,
    "pycharm": {
     "name": "#%%\n"
    }
   }
  },
  {
   "cell_type": "markdown",
   "source": [
    "#### Control law via pole-placement:\n",
    "#### $u_i = -\\begin{bmatrix} 725160.18\\\\ 729971.16\\\\91685.89\\\\91801.33\\end{bmatrix}x_i$"
   ],
   "metadata": {
    "collapsed": false,
    "pycharm": {
     "name": "#%% md\n"
    }
   }
  },
  {
   "cell_type": "code",
   "execution_count": 17,
   "outputs": [
    {
     "name": "stdout",
     "output_type": "stream",
     "text": [
      "Martix K: [[-6.91628181  2.07651368 -1.21141014  1.17241666]]\n"
     ]
    }
   ],
   "source": [
    "t0 = 0  # Initial time\n",
    "tf = 15  # Final time\n",
    "N = int(2E3)  # Numbers of points in time span\n",
    "t = np.linspace(t0, tf, N)  # Create time span\n",
    "y_0 = 0.5\n",
    "x0 = [0, 0, 0, 0]  # Set initial state\n",
    "\n",
    "Q = np.diag([1, 1, 1, 1])  #Set costs\n",
    "R = np.diag([1])\n",
    "S, K, E = lqr(A, B, Q, R)\n",
    "x_sol = odeint(system_ode, x0, t, args=(A, B, K))  # integrate system \"sys_ode\" from initial state $x0$\n",
    "\n",
    "simulations = {'fast': {'R': R / 10}, 'slow': {'R': R * 5}}\n",
    "\n",
    "print(\"Martix K:\", K)"
   ],
   "metadata": {
    "collapsed": false,
    "pycharm": {
     "name": "#%%\n"
    }
   }
  },
  {
   "cell_type": "markdown",
   "source": [
    "## 1.10. Show eigenvalue analisys of the slosed-loop dynamics of the discrete system (with the proposed discrete control law. Demonstrate stability."
   ],
   "metadata": {
    "collapsed": false,
    "pycharm": {
     "name": "#%% md\n"
    }
   }
  },
  {
   "cell_type": "markdown",
   "source": [
    "## 1.11. Simulate the discrete system. Show graphs."
   ],
   "metadata": {
    "collapsed": false,
    "pycharm": {
     "name": "#%% md\n"
    }
   }
  },
  {
   "cell_type": "code",
   "execution_count": 18,
   "outputs": [],
   "source": [
    "def plot_solution(x, control):\n",
    "    figure()\n",
    "    title(\"System dynamics\"+ control)\n",
    "    colors = ['b', 'r', 'c', 'm']\n",
    "    for i in range(x.shape[1]):\n",
    "        step(t, x[:, i], linewidth=2.0, color=colors[i], label = \"x\" + str(i))\n",
    "    grid(True, color='black', linestyle='--', linewidth=1.0, alpha = 0.7)\n",
    "    legend()\n",
    "    show()\n",
    "    # plot(t, simulations['slow']['x'][:, 0], 'r', linewidth=2.0, label='x[1]')\n",
    "    # plot(t, simulations['slow']['x'][:, 2], 'b', linewidth=2.0, label='x[2]')\n",
    "    # plot(t, simulations['fast']['x'][:, 0], 'g--', linewidth=2.0, label='x[3]')\n",
    "    # plot(t, simulations['fast']['x'][:, 2], 'y--', linewidth=2.0, label='x[4]')"
   ],
   "metadata": {
    "collapsed": false,
    "pycharm": {
     "name": "#%%\n"
    }
   }
  },
  {
   "cell_type": "code",
   "execution_count": 19,
   "outputs": [
    {
     "ename": "ValueError",
     "evalue": "x and y must have same first dimension, but have shapes (2000,) and (1000,)",
     "output_type": "error",
     "traceback": [
      "\u001B[1;31m---------------------------------------------------------------------------\u001B[0m",
      "\u001B[1;31mValueError\u001B[0m                                Traceback (most recent call last)",
      "Input \u001B[1;32mIn [19]\u001B[0m, in \u001B[0;36m<cell line: 19>\u001B[1;34m()\u001B[0m\n\u001B[0;32m     16\u001B[0m     plot_solution(solution, control)\n\u001B[0;32m     18\u001B[0m \u001B[38;5;66;03m# discrete system without control\u001B[39;00m\n\u001B[1;32m---> 19\u001B[0m \u001B[43mw_or_wo_control\u001B[49m\u001B[43m(\u001B[49m\u001B[38;5;28;43;01mFalse\u001B[39;49;00m\u001B[43m,\u001B[49m\u001B[43m \u001B[49m\u001B[43mnp\u001B[49m\u001B[38;5;241;43m.\u001B[39;49m\u001B[43meye\u001B[49m\u001B[43m(\u001B[49m\u001B[38;5;241;43m1\u001B[39;49m\u001B[43m)\u001B[49m\u001B[43m)\u001B[49m\n\u001B[0;32m     20\u001B[0m \u001B[38;5;66;03m# discrete system with control\u001B[39;00m\n\u001B[0;32m     21\u001B[0m w_or_wo_control(\u001B[38;5;28;01mTrue\u001B[39;00m, Kd_pp)\n",
      "Input \u001B[1;32mIn [19]\u001B[0m, in \u001B[0;36mw_or_wo_control\u001B[1;34m(control, k)\u001B[0m\n\u001B[0;32m     14\u001B[0m solution \u001B[38;5;241m=\u001B[39m np\u001B[38;5;241m.\u001B[39marray(xs)\n\u001B[0;32m     15\u001B[0m control \u001B[38;5;241m=\u001B[39m \u001B[38;5;124m\"\u001B[39m\u001B[38;5;124m with control\u001B[39m\u001B[38;5;124m\"\u001B[39m \u001B[38;5;28;01mif\u001B[39;00m control \u001B[38;5;28;01melse\u001B[39;00m \u001B[38;5;124m\"\u001B[39m\u001B[38;5;124m without control\u001B[39m\u001B[38;5;124m\"\u001B[39m\n\u001B[1;32m---> 16\u001B[0m \u001B[43mplot_solution\u001B[49m\u001B[43m(\u001B[49m\u001B[43msolution\u001B[49m\u001B[43m,\u001B[49m\u001B[43m \u001B[49m\u001B[43mcontrol\u001B[49m\u001B[43m)\u001B[49m\n",
      "Input \u001B[1;32mIn [18]\u001B[0m, in \u001B[0;36mplot_solution\u001B[1;34m(x, control)\u001B[0m\n\u001B[0;32m      4\u001B[0m colors \u001B[38;5;241m=\u001B[39m [\u001B[38;5;124m'\u001B[39m\u001B[38;5;124mb\u001B[39m\u001B[38;5;124m'\u001B[39m, \u001B[38;5;124m'\u001B[39m\u001B[38;5;124mr\u001B[39m\u001B[38;5;124m'\u001B[39m, \u001B[38;5;124m'\u001B[39m\u001B[38;5;124mc\u001B[39m\u001B[38;5;124m'\u001B[39m, \u001B[38;5;124m'\u001B[39m\u001B[38;5;124mm\u001B[39m\u001B[38;5;124m'\u001B[39m]\n\u001B[0;32m      5\u001B[0m \u001B[38;5;28;01mfor\u001B[39;00m i \u001B[38;5;129;01min\u001B[39;00m \u001B[38;5;28mrange\u001B[39m(x\u001B[38;5;241m.\u001B[39mshape[\u001B[38;5;241m1\u001B[39m]):\n\u001B[1;32m----> 6\u001B[0m     \u001B[43mstep\u001B[49m\u001B[43m(\u001B[49m\u001B[43mt\u001B[49m\u001B[43m,\u001B[49m\u001B[43m \u001B[49m\u001B[43mx\u001B[49m\u001B[43m[\u001B[49m\u001B[43m:\u001B[49m\u001B[43m,\u001B[49m\u001B[43m \u001B[49m\u001B[43mi\u001B[49m\u001B[43m]\u001B[49m\u001B[43m,\u001B[49m\u001B[43m \u001B[49m\u001B[43mlinewidth\u001B[49m\u001B[38;5;241;43m=\u001B[39;49m\u001B[38;5;241;43m2.0\u001B[39;49m\u001B[43m,\u001B[49m\u001B[43m \u001B[49m\u001B[43mcolor\u001B[49m\u001B[38;5;241;43m=\u001B[39;49m\u001B[43mcolors\u001B[49m\u001B[43m[\u001B[49m\u001B[43mi\u001B[49m\u001B[43m]\u001B[49m\u001B[43m,\u001B[49m\u001B[43m \u001B[49m\u001B[43mlabel\u001B[49m\u001B[43m \u001B[49m\u001B[38;5;241;43m=\u001B[39;49m\u001B[43m \u001B[49m\u001B[38;5;124;43m\"\u001B[39;49m\u001B[38;5;124;43mx\u001B[39;49m\u001B[38;5;124;43m\"\u001B[39;49m\u001B[43m \u001B[49m\u001B[38;5;241;43m+\u001B[39;49m\u001B[43m \u001B[49m\u001B[38;5;28;43mstr\u001B[39;49m\u001B[43m(\u001B[49m\u001B[43mi\u001B[49m\u001B[43m)\u001B[49m\u001B[43m)\u001B[49m\n\u001B[0;32m      7\u001B[0m grid(\u001B[38;5;28;01mTrue\u001B[39;00m, color\u001B[38;5;241m=\u001B[39m\u001B[38;5;124m'\u001B[39m\u001B[38;5;124mblack\u001B[39m\u001B[38;5;124m'\u001B[39m, linestyle\u001B[38;5;241m=\u001B[39m\u001B[38;5;124m'\u001B[39m\u001B[38;5;124m--\u001B[39m\u001B[38;5;124m'\u001B[39m, linewidth\u001B[38;5;241m=\u001B[39m\u001B[38;5;241m1.0\u001B[39m, alpha \u001B[38;5;241m=\u001B[39m \u001B[38;5;241m0.7\u001B[39m)\n\u001B[0;32m      8\u001B[0m legend()\n",
      "File \u001B[1;32mc:\\users\\asiia\\pycharmprojects\\ctassignment2\\venv\\lib\\site-packages\\matplotlib\\pyplot.py:2884\u001B[0m, in \u001B[0;36mstep\u001B[1;34m(x, y, where, data, *args, **kwargs)\u001B[0m\n\u001B[0;32m   2882\u001B[0m \u001B[38;5;129m@_copy_docstring_and_deprecators\u001B[39m(Axes\u001B[38;5;241m.\u001B[39mstep)\n\u001B[0;32m   2883\u001B[0m \u001B[38;5;28;01mdef\u001B[39;00m \u001B[38;5;21mstep\u001B[39m(x, y, \u001B[38;5;241m*\u001B[39margs, where\u001B[38;5;241m=\u001B[39m\u001B[38;5;124m'\u001B[39m\u001B[38;5;124mpre\u001B[39m\u001B[38;5;124m'\u001B[39m, data\u001B[38;5;241m=\u001B[39m\u001B[38;5;28;01mNone\u001B[39;00m, \u001B[38;5;241m*\u001B[39m\u001B[38;5;241m*\u001B[39mkwargs):\n\u001B[1;32m-> 2884\u001B[0m     \u001B[38;5;28;01mreturn\u001B[39;00m gca()\u001B[38;5;241m.\u001B[39mstep(\n\u001B[0;32m   2885\u001B[0m         x, y, \u001B[38;5;241m*\u001B[39margs, where\u001B[38;5;241m=\u001B[39mwhere,\n\u001B[0;32m   2886\u001B[0m         \u001B[38;5;241m*\u001B[39m\u001B[38;5;241m*\u001B[39m({\u001B[38;5;124m\"\u001B[39m\u001B[38;5;124mdata\u001B[39m\u001B[38;5;124m\"\u001B[39m: data} \u001B[38;5;28;01mif\u001B[39;00m data \u001B[38;5;129;01mis\u001B[39;00m \u001B[38;5;129;01mnot\u001B[39;00m \u001B[38;5;28;01mNone\u001B[39;00m \u001B[38;5;28;01melse\u001B[39;00m {}), \u001B[38;5;241m*\u001B[39m\u001B[38;5;241m*\u001B[39mkwargs)\n",
      "File \u001B[1;32mc:\\users\\asiia\\pycharmprojects\\ctassignment2\\venv\\lib\\site-packages\\matplotlib\\axes\\_axes.py:2117\u001B[0m, in \u001B[0;36mAxes.step\u001B[1;34m(self, x, y, where, data, *args, **kwargs)\u001B[0m\n\u001B[0;32m   2115\u001B[0m _api\u001B[38;5;241m.\u001B[39mcheck_in_list((\u001B[38;5;124m'\u001B[39m\u001B[38;5;124mpre\u001B[39m\u001B[38;5;124m'\u001B[39m, \u001B[38;5;124m'\u001B[39m\u001B[38;5;124mpost\u001B[39m\u001B[38;5;124m'\u001B[39m, \u001B[38;5;124m'\u001B[39m\u001B[38;5;124mmid\u001B[39m\u001B[38;5;124m'\u001B[39m), where\u001B[38;5;241m=\u001B[39mwhere)\n\u001B[0;32m   2116\u001B[0m kwargs[\u001B[38;5;124m'\u001B[39m\u001B[38;5;124mdrawstyle\u001B[39m\u001B[38;5;124m'\u001B[39m] \u001B[38;5;241m=\u001B[39m \u001B[38;5;124m'\u001B[39m\u001B[38;5;124msteps-\u001B[39m\u001B[38;5;124m'\u001B[39m \u001B[38;5;241m+\u001B[39m where\n\u001B[1;32m-> 2117\u001B[0m \u001B[38;5;28;01mreturn\u001B[39;00m \u001B[38;5;28mself\u001B[39m\u001B[38;5;241m.\u001B[39mplot(x, y, \u001B[38;5;241m*\u001B[39margs, data\u001B[38;5;241m=\u001B[39mdata, \u001B[38;5;241m*\u001B[39m\u001B[38;5;241m*\u001B[39mkwargs)\n",
      "File \u001B[1;32mc:\\users\\asiia\\pycharmprojects\\ctassignment2\\venv\\lib\\site-packages\\matplotlib\\axes\\_axes.py:1632\u001B[0m, in \u001B[0;36mAxes.plot\u001B[1;34m(self, scalex, scaley, data, *args, **kwargs)\u001B[0m\n\u001B[0;32m   1390\u001B[0m \u001B[38;5;124;03m\"\"\"\u001B[39;00m\n\u001B[0;32m   1391\u001B[0m \u001B[38;5;124;03mPlot y versus x as lines and/or markers.\u001B[39;00m\n\u001B[0;32m   1392\u001B[0m \n\u001B[1;32m   (...)\u001B[0m\n\u001B[0;32m   1629\u001B[0m \u001B[38;5;124;03m(``'green'``) or hex strings (``'#008000'``).\u001B[39;00m\n\u001B[0;32m   1630\u001B[0m \u001B[38;5;124;03m\"\"\"\u001B[39;00m\n\u001B[0;32m   1631\u001B[0m kwargs \u001B[38;5;241m=\u001B[39m cbook\u001B[38;5;241m.\u001B[39mnormalize_kwargs(kwargs, mlines\u001B[38;5;241m.\u001B[39mLine2D)\n\u001B[1;32m-> 1632\u001B[0m lines \u001B[38;5;241m=\u001B[39m [\u001B[38;5;241m*\u001B[39m\u001B[38;5;28mself\u001B[39m\u001B[38;5;241m.\u001B[39m_get_lines(\u001B[38;5;241m*\u001B[39margs, data\u001B[38;5;241m=\u001B[39mdata, \u001B[38;5;241m*\u001B[39m\u001B[38;5;241m*\u001B[39mkwargs)]\n\u001B[0;32m   1633\u001B[0m \u001B[38;5;28;01mfor\u001B[39;00m line \u001B[38;5;129;01min\u001B[39;00m lines:\n\u001B[0;32m   1634\u001B[0m     \u001B[38;5;28mself\u001B[39m\u001B[38;5;241m.\u001B[39madd_line(line)\n",
      "File \u001B[1;32mc:\\users\\asiia\\pycharmprojects\\ctassignment2\\venv\\lib\\site-packages\\matplotlib\\axes\\_base.py:312\u001B[0m, in \u001B[0;36m_process_plot_var_args.__call__\u001B[1;34m(self, data, *args, **kwargs)\u001B[0m\n\u001B[0;32m    310\u001B[0m     this \u001B[38;5;241m+\u001B[39m\u001B[38;5;241m=\u001B[39m args[\u001B[38;5;241m0\u001B[39m],\n\u001B[0;32m    311\u001B[0m     args \u001B[38;5;241m=\u001B[39m args[\u001B[38;5;241m1\u001B[39m:]\n\u001B[1;32m--> 312\u001B[0m \u001B[38;5;28;01myield from\u001B[39;00m \u001B[38;5;28;43mself\u001B[39;49m\u001B[38;5;241;43m.\u001B[39;49m\u001B[43m_plot_args\u001B[49m\u001B[43m(\u001B[49m\u001B[43mthis\u001B[49m\u001B[43m,\u001B[49m\u001B[43m \u001B[49m\u001B[43mkwargs\u001B[49m\u001B[43m)\u001B[49m\n",
      "File \u001B[1;32mc:\\users\\asiia\\pycharmprojects\\ctassignment2\\venv\\lib\\site-packages\\matplotlib\\axes\\_base.py:498\u001B[0m, in \u001B[0;36m_process_plot_var_args._plot_args\u001B[1;34m(self, tup, kwargs, return_kwargs)\u001B[0m\n\u001B[0;32m    495\u001B[0m     \u001B[38;5;28mself\u001B[39m\u001B[38;5;241m.\u001B[39maxes\u001B[38;5;241m.\u001B[39myaxis\u001B[38;5;241m.\u001B[39mupdate_units(y)\n\u001B[0;32m    497\u001B[0m \u001B[38;5;28;01mif\u001B[39;00m x\u001B[38;5;241m.\u001B[39mshape[\u001B[38;5;241m0\u001B[39m] \u001B[38;5;241m!=\u001B[39m y\u001B[38;5;241m.\u001B[39mshape[\u001B[38;5;241m0\u001B[39m]:\n\u001B[1;32m--> 498\u001B[0m     \u001B[38;5;28;01mraise\u001B[39;00m \u001B[38;5;167;01mValueError\u001B[39;00m(\u001B[38;5;124mf\u001B[39m\u001B[38;5;124m\"\u001B[39m\u001B[38;5;124mx and y must have same first dimension, but \u001B[39m\u001B[38;5;124m\"\u001B[39m\n\u001B[0;32m    499\u001B[0m                      \u001B[38;5;124mf\u001B[39m\u001B[38;5;124m\"\u001B[39m\u001B[38;5;124mhave shapes \u001B[39m\u001B[38;5;132;01m{\u001B[39;00mx\u001B[38;5;241m.\u001B[39mshape\u001B[38;5;132;01m}\u001B[39;00m\u001B[38;5;124m and \u001B[39m\u001B[38;5;132;01m{\u001B[39;00my\u001B[38;5;241m.\u001B[39mshape\u001B[38;5;132;01m}\u001B[39;00m\u001B[38;5;124m\"\u001B[39m)\n\u001B[0;32m    500\u001B[0m \u001B[38;5;28;01mif\u001B[39;00m x\u001B[38;5;241m.\u001B[39mndim \u001B[38;5;241m>\u001B[39m \u001B[38;5;241m2\u001B[39m \u001B[38;5;129;01mor\u001B[39;00m y\u001B[38;5;241m.\u001B[39mndim \u001B[38;5;241m>\u001B[39m \u001B[38;5;241m2\u001B[39m:\n\u001B[0;32m    501\u001B[0m     \u001B[38;5;28;01mraise\u001B[39;00m \u001B[38;5;167;01mValueError\u001B[39;00m(\u001B[38;5;124mf\u001B[39m\u001B[38;5;124m\"\u001B[39m\u001B[38;5;124mx and y can be no greater than 2D, but have \u001B[39m\u001B[38;5;124m\"\u001B[39m\n\u001B[0;32m    502\u001B[0m                      \u001B[38;5;124mf\u001B[39m\u001B[38;5;124m\"\u001B[39m\u001B[38;5;124mshapes \u001B[39m\u001B[38;5;132;01m{\u001B[39;00mx\u001B[38;5;241m.\u001B[39mshape\u001B[38;5;132;01m}\u001B[39;00m\u001B[38;5;124m and \u001B[39m\u001B[38;5;132;01m{\u001B[39;00my\u001B[38;5;241m.\u001B[39mshape\u001B[38;5;132;01m}\u001B[39;00m\u001B[38;5;124m\"\u001B[39m)\n",
      "\u001B[1;31mValueError\u001B[0m: x and y must have same first dimension, but have shapes (2000,) and (1000,)"
     ]
    },
    {
     "data": {
      "text/plain": "<Figure size 432x288 with 1 Axes>",
      "image/png": "[encoded data removed]"
     },
     "metadata": {
      "needs_background": "light"
     },
     "output_type": "display_data"
    }
   ],
   "source": [
    "def x_next(x, Ad, Bd, k):\n",
    "    return (Ad - Bd @ k) @ x\n",
    "\n",
    "\n",
    "def w_or_wo_control(control, k):\n",
    "    x = C\n",
    "    td = np.linspace(0, 10, 1000)\n",
    "    xs = [x]\n",
    "\n",
    "    for t_ in td[:-1]:\n",
    "        x = x_next(x, Ad, Bd, k)\n",
    "        xs.append(x)\n",
    "\n",
    "    solution = np.array(xs)\n",
    "    control = \" with control\" if control else \" without control\"\n",
    "    plot_solution(solution, control)\n",
    "\n",
    "# discrete system without control\n",
    "w_or_wo_control(False, np.eye(1))\n",
    "# discrete system with control\n",
    "w_or_wo_control(True, Kd_pp)"
   ],
   "metadata": {
    "collapsed": false,
    "pycharm": {
     "name": "#%%\n"
    }
   }
  },
  {
   "cell_type": "markdown",
   "source": [
    "# Task 2 (4 points)\n",
    "\n",
    "You are given a system:\n",
    "\n",
    "$$\n",
    "\\begin{cases}\n",
    "\\dot x =\n",
    "\\begin{bmatrix}\n",
    "1 & 5 & -2 \\\\\n",
    "2 & 1 & -3 \\\\\n",
    "-1 & -2 & 7\n",
    "\\end{bmatrix}\n",
    "x\n",
    "+\n",
    "\\begin{bmatrix}\n",
    "2 \\\\\n",
    "1 \\\\\n",
    "0\n",
    "\\end{bmatrix}\n",
    "u \\\\\n",
    "u = -\\begin{bmatrix}\n",
    "7k & 6k & -50k\n",
    "\\end{bmatrix} x\n",
    "\\end{cases}\n",
    "$$"
   ],
   "metadata": {
    "collapsed": false,
    "pycharm": {
     "name": "#%% md\n"
    }
   }
  },
  {
   "cell_type": "markdown",
   "source": [
    "## 1. How do the eigenvalues of the closed-loop system depend on k? Plot the evolution of the eigenvalues on a complex plane, as $k$ changes from 0 to 5."
   ],
   "metadata": {
    "collapsed": false,
    "pycharm": {
     "name": "#%% md\n"
    }
   }
  },
  {
   "cell_type": "code",
   "execution_count": 21,
   "outputs": [],
   "source": [
    "An = np.array([[1, 5, -2], [2, 1, -3], [-1, -2, 7]])\n",
    "Bn = np.array([[2],[1],[0]])\n",
    "\n",
    "def k_matrix(k):\n",
    "    return np.array([[7, 6, -50]])*k\n",
    "\n",
    "\n",
    "def find_eig(k):\n",
    "    K = k_matrix(k)\n",
    "    return np.linalg.eig(An - Bn@K)\n",
    "\n",
    "\n",
    "\n",
    "def system_ode(x, t, A, B, Klqr):\n",
    "    u = -np.dot(Klqr, x)\n",
    "    dx = np.dot(A, x) + np.dot(B, u)\n",
    "    return dx\n"
   ],
   "metadata": {
    "collapsed": false,
    "pycharm": {
     "name": "#%%\n"
    }
   }
  },
  {
   "cell_type": "code",
   "execution_count": 23,
   "outputs": [
    {
     "name": "stderr",
     "output_type": "stream",
     "text": [
      "MovieWriter ffmpeg unavailable; using Pillow instead.\n"
     ]
    },
    {
     "ename": "IndexError",
     "evalue": "list index out of range",
     "output_type": "error",
     "traceback": [
      "\u001B[1;31m---------------------------------------------------------------------------\u001B[0m",
      "\u001B[1;31mKeyError\u001B[0m                                  Traceback (most recent call last)",
      "File \u001B[1;32mc:\\users\\asiia\\pycharmprojects\\ctassignment2\\venv\\lib\\site-packages\\matplotlib\\animation.py:236\u001B[0m, in \u001B[0;36mAbstractMovieWriter.saving\u001B[1;34m(self, fig, outfile, dpi, *args, **kwargs)\u001B[0m\n\u001B[0;32m    235\u001B[0m \u001B[38;5;28;01mtry\u001B[39;00m:\n\u001B[1;32m--> 236\u001B[0m     \u001B[38;5;28;01myield\u001B[39;00m \u001B[38;5;28mself\u001B[39m\n\u001B[0;32m    237\u001B[0m \u001B[38;5;28;01mfinally\u001B[39;00m:\n",
      "File \u001B[1;32mc:\\users\\asiia\\pycharmprojects\\ctassignment2\\venv\\lib\\site-packages\\matplotlib\\animation.py:1091\u001B[0m, in \u001B[0;36mAnimation.save\u001B[1;34m(self, filename, writer, fps, dpi, codec, bitrate, extra_args, metadata, extra_anim, savefig_kwargs, progress_callback)\u001B[0m\n\u001B[0;32m   1089\u001B[0m \u001B[38;5;28;01mfor\u001B[39;00m anim, d \u001B[38;5;129;01min\u001B[39;00m \u001B[38;5;28mzip\u001B[39m(all_anim, data):\n\u001B[0;32m   1090\u001B[0m     \u001B[38;5;66;03m# TODO: See if turning off blit is really necessary\u001B[39;00m\n\u001B[1;32m-> 1091\u001B[0m     \u001B[43manim\u001B[49m\u001B[38;5;241;43m.\u001B[39;49m\u001B[43m_draw_next_frame\u001B[49m\u001B[43m(\u001B[49m\u001B[43md\u001B[49m\u001B[43m,\u001B[49m\u001B[43m \u001B[49m\u001B[43mblit\u001B[49m\u001B[38;5;241;43m=\u001B[39;49m\u001B[38;5;28;43;01mFalse\u001B[39;49;00m\u001B[43m)\u001B[49m\n\u001B[0;32m   1092\u001B[0m     \u001B[38;5;28;01mif\u001B[39;00m progress_callback \u001B[38;5;129;01mis\u001B[39;00m \u001B[38;5;129;01mnot\u001B[39;00m \u001B[38;5;28;01mNone\u001B[39;00m:\n",
      "File \u001B[1;32mc:\\users\\asiia\\pycharmprojects\\ctassignment2\\venv\\lib\\site-packages\\matplotlib\\animation.py:1126\u001B[0m, in \u001B[0;36mAnimation._draw_next_frame\u001B[1;34m(self, framedata, blit)\u001B[0m\n\u001B[0;32m   1125\u001B[0m \u001B[38;5;28mself\u001B[39m\u001B[38;5;241m.\u001B[39m_pre_draw(framedata, blit)\n\u001B[1;32m-> 1126\u001B[0m \u001B[38;5;28;43mself\u001B[39;49m\u001B[38;5;241;43m.\u001B[39;49m\u001B[43m_draw_frame\u001B[49m\u001B[43m(\u001B[49m\u001B[43mframedata\u001B[49m\u001B[43m)\u001B[49m\n\u001B[0;32m   1127\u001B[0m \u001B[38;5;28mself\u001B[39m\u001B[38;5;241m.\u001B[39m_post_draw(framedata, blit)\n",
      "File \u001B[1;32mc:\\users\\asiia\\pycharmprojects\\ctassignment2\\venv\\lib\\site-packages\\matplotlib\\animation.py:1720\u001B[0m, in \u001B[0;36mFuncAnimation._draw_frame\u001B[1;34m(self, framedata)\u001B[0m\n\u001B[0;32m   1718\u001B[0m \u001B[38;5;66;03m# Call the func with framedata and args. If blitting is desired,\u001B[39;00m\n\u001B[0;32m   1719\u001B[0m \u001B[38;5;66;03m# func needs to return a sequence of any artists that were modified.\u001B[39;00m\n\u001B[1;32m-> 1720\u001B[0m \u001B[38;5;28mself\u001B[39m\u001B[38;5;241m.\u001B[39m_drawn_artists \u001B[38;5;241m=\u001B[39m \u001B[38;5;28;43mself\u001B[39;49m\u001B[38;5;241;43m.\u001B[39;49m\u001B[43m_func\u001B[49m\u001B[43m(\u001B[49m\u001B[43mframedata\u001B[49m\u001B[43m,\u001B[49m\u001B[43m \u001B[49m\u001B[38;5;241;43m*\u001B[39;49m\u001B[38;5;28;43mself\u001B[39;49m\u001B[38;5;241;43m.\u001B[39;49m\u001B[43m_args\u001B[49m\u001B[43m)\u001B[49m\n\u001B[0;32m   1722\u001B[0m \u001B[38;5;28;01mif\u001B[39;00m \u001B[38;5;28mself\u001B[39m\u001B[38;5;241m.\u001B[39m_blit:\n",
      "Input \u001B[1;32mIn [23]\u001B[0m, in \u001B[0;36manimate\u001B[1;34m(i)\u001B[0m\n\u001B[0;32m     22\u001B[0m     simulations[sim_type][\u001B[38;5;124m'\u001B[39m\u001B[38;5;124meigs\u001B[39m\u001B[38;5;124m'\u001B[39m] \u001B[38;5;241m=\u001B[39m key\n\u001B[1;32m---> 24\u001B[0m x \u001B[38;5;241m=\u001B[39m np\u001B[38;5;241m.\u001B[39marray(\u001B[43msimulations\u001B[49m\u001B[43m[\u001B[49m\u001B[38;5;124;43m'\u001B[39;49m\u001B[38;5;124;43mfast\u001B[39;49m\u001B[38;5;124;43m'\u001B[39;49m\u001B[43m]\u001B[49m\u001B[43m[\u001B[49m\u001B[38;5;124;43m'\u001B[39;49m\u001B[38;5;124;43meigs\u001B[39;49m\u001B[38;5;124;43m'\u001B[39;49m\u001B[43m]\u001B[49m\u001B[38;5;241m.\u001B[39mreal)\n\u001B[0;32m     25\u001B[0m y \u001B[38;5;241m=\u001B[39m np\u001B[38;5;241m.\u001B[39marray(simulations[\u001B[38;5;124m'\u001B[39m\u001B[38;5;124mfast\u001B[39m\u001B[38;5;124m'\u001B[39m][\u001B[38;5;124m'\u001B[39m\u001B[38;5;124meigs\u001B[39m\u001B[38;5;124m'\u001B[39m]\u001B[38;5;241m.\u001B[39mimag)\n",
      "\u001B[1;31mKeyError\u001B[0m: 'eigs'",
      "\nDuring handling of the above exception, another exception occurred:\n",
      "\u001B[1;31mIndexError\u001B[0m                                Traceback (most recent call last)",
      "Input \u001B[1;32mIn [23]\u001B[0m, in \u001B[0;36m<cell line: 33>\u001B[1;34m()\u001B[0m\n\u001B[0;32m     28\u001B[0m   \u001B[38;5;66;03m# Create time span\u001B[39;00m\n\u001B[0;32m     29\u001B[0m \u001B[38;5;66;03m# call the animator.  blit=True means only re-draw the parts that have changed.\u001B[39;00m\n\u001B[0;32m     30\u001B[0m anim \u001B[38;5;241m=\u001B[39m animation\u001B[38;5;241m.\u001B[39mFuncAnimation(fig, animate, init_func\u001B[38;5;241m=\u001B[39minit, frames \u001B[38;5;241m=\u001B[39m np\u001B[38;5;241m.\u001B[39mlinspace(t0, tf, N),\n\u001B[0;32m     31\u001B[0m                                interval\u001B[38;5;241m=\u001B[39mN\u001B[38;5;241m/\u001B[39m(tf\u001B[38;5;241m-\u001B[39mt0), blit\u001B[38;5;241m=\u001B[39m\u001B[38;5;28;01mTrue\u001B[39;00m)\n\u001B[1;32m---> 33\u001B[0m \u001B[43manim\u001B[49m\u001B[38;5;241;43m.\u001B[39;49m\u001B[43msave\u001B[49m\u001B[43m(\u001B[49m\u001B[38;5;124;43m'\u001B[39;49m\u001B[38;5;124;43mbasic_animation.mp4\u001B[39;49m\u001B[38;5;124;43m'\u001B[39;49m\u001B[43m,\u001B[49m\u001B[43m \u001B[49m\u001B[43mfps\u001B[49m\u001B[38;5;241;43m=\u001B[39;49m\u001B[38;5;241;43m15\u001B[39;49m\u001B[43m)\u001B[49m\n",
      "File \u001B[1;32mc:\\users\\asiia\\pycharmprojects\\ctassignment2\\venv\\lib\\site-packages\\matplotlib\\animation.py:1095\u001B[0m, in \u001B[0;36mAnimation.save\u001B[1;34m(self, filename, writer, fps, dpi, codec, bitrate, extra_args, metadata, extra_anim, savefig_kwargs, progress_callback)\u001B[0m\n\u001B[0;32m   1093\u001B[0m         progress_callback(frame_number, total_frames)\n\u001B[0;32m   1094\u001B[0m         frame_number \u001B[38;5;241m+\u001B[39m\u001B[38;5;241m=\u001B[39m \u001B[38;5;241m1\u001B[39m\n\u001B[1;32m-> 1095\u001B[0m writer\u001B[38;5;241m.\u001B[39mgrab_frame(\u001B[38;5;241m*\u001B[39m\u001B[38;5;241m*\u001B[39msavefig_kwargs)\n",
      "File \u001B[1;32m~\\AppData\\Local\\Programs\\Python\\Python39\\lib\\contextlib.py:137\u001B[0m, in \u001B[0;36m_GeneratorContextManager.__exit__\u001B[1;34m(self, typ, value, traceback)\u001B[0m\n\u001B[0;32m    135\u001B[0m     value \u001B[38;5;241m=\u001B[39m typ()\n\u001B[0;32m    136\u001B[0m \u001B[38;5;28;01mtry\u001B[39;00m:\n\u001B[1;32m--> 137\u001B[0m     \u001B[38;5;28;43mself\u001B[39;49m\u001B[38;5;241;43m.\u001B[39;49m\u001B[43mgen\u001B[49m\u001B[38;5;241;43m.\u001B[39;49m\u001B[43mthrow\u001B[49m\u001B[43m(\u001B[49m\u001B[43mtyp\u001B[49m\u001B[43m,\u001B[49m\u001B[43m \u001B[49m\u001B[43mvalue\u001B[49m\u001B[43m,\u001B[49m\u001B[43m \u001B[49m\u001B[43mtraceback\u001B[49m\u001B[43m)\u001B[49m\n\u001B[0;32m    138\u001B[0m \u001B[38;5;28;01mexcept\u001B[39;00m \u001B[38;5;167;01mStopIteration\u001B[39;00m \u001B[38;5;28;01mas\u001B[39;00m exc:\n\u001B[0;32m    139\u001B[0m     \u001B[38;5;66;03m# Suppress StopIteration *unless* it's the same exception that\u001B[39;00m\n\u001B[0;32m    140\u001B[0m     \u001B[38;5;66;03m# was passed to throw().  This prevents a StopIteration\u001B[39;00m\n\u001B[0;32m    141\u001B[0m     \u001B[38;5;66;03m# raised inside the \"with\" statement from being suppressed.\u001B[39;00m\n\u001B[0;32m    142\u001B[0m     \u001B[38;5;28;01mreturn\u001B[39;00m exc \u001B[38;5;129;01mis\u001B[39;00m \u001B[38;5;129;01mnot\u001B[39;00m value\n",
      "File \u001B[1;32mc:\\users\\asiia\\pycharmprojects\\ctassignment2\\venv\\lib\\site-packages\\matplotlib\\animation.py:238\u001B[0m, in \u001B[0;36mAbstractMovieWriter.saving\u001B[1;34m(self, fig, outfile, dpi, *args, **kwargs)\u001B[0m\n\u001B[0;32m    236\u001B[0m     \u001B[38;5;28;01myield\u001B[39;00m \u001B[38;5;28mself\u001B[39m\n\u001B[0;32m    237\u001B[0m \u001B[38;5;28;01mfinally\u001B[39;00m:\n\u001B[1;32m--> 238\u001B[0m     \u001B[38;5;28;43mself\u001B[39;49m\u001B[38;5;241;43m.\u001B[39;49m\u001B[43mfinish\u001B[49m\u001B[43m(\u001B[49m\u001B[43m)\u001B[49m\n",
      "File \u001B[1;32mc:\\users\\asiia\\pycharmprojects\\ctassignment2\\venv\\lib\\site-packages\\matplotlib\\animation.py:514\u001B[0m, in \u001B[0;36mPillowWriter.finish\u001B[1;34m(self)\u001B[0m\n\u001B[0;32m    513\u001B[0m \u001B[38;5;28;01mdef\u001B[39;00m \u001B[38;5;21mfinish\u001B[39m(\u001B[38;5;28mself\u001B[39m):\n\u001B[1;32m--> 514\u001B[0m     \u001B[38;5;28;43mself\u001B[39;49m\u001B[38;5;241;43m.\u001B[39;49m\u001B[43m_frames\u001B[49m\u001B[43m[\u001B[49m\u001B[38;5;241;43m0\u001B[39;49m\u001B[43m]\u001B[49m\u001B[38;5;241m.\u001B[39msave(\n\u001B[0;32m    515\u001B[0m         \u001B[38;5;28mself\u001B[39m\u001B[38;5;241m.\u001B[39moutfile, save_all\u001B[38;5;241m=\u001B[39m\u001B[38;5;28;01mTrue\u001B[39;00m, append_images\u001B[38;5;241m=\u001B[39m\u001B[38;5;28mself\u001B[39m\u001B[38;5;241m.\u001B[39m_frames[\u001B[38;5;241m1\u001B[39m:],\n\u001B[0;32m    516\u001B[0m         duration\u001B[38;5;241m=\u001B[39m\u001B[38;5;28mint\u001B[39m(\u001B[38;5;241m1000\u001B[39m \u001B[38;5;241m/\u001B[39m \u001B[38;5;28mself\u001B[39m\u001B[38;5;241m.\u001B[39mfps), loop\u001B[38;5;241m=\u001B[39m\u001B[38;5;241m0\u001B[39m)\n",
      "\u001B[1;31mIndexError\u001B[0m: list index out of range"
     ]
    },
    {
     "data": {
      "text/plain": "<Figure size 432x288 with 1 Axes>",
      "image/png": "[encoded data removed]"
     },
     "metadata": {
      "needs_background": "light"
     },
     "output_type": "display_data"
    }
   ],
   "source": [
    "from matplotlib import animation\n",
    "from numpy.ma import count\n",
    "import random\n",
    "import matplotlib\n",
    "import matplotlib.pyplot as plt\n",
    "from matplotlib.animation import FuncAnimation\n",
    "\n",
    "# First set up the figure, the axis, and the plot element we want to animate\n",
    "fig = plt.figure()\n",
    "ax = plt.axes(xlim=(-25, 150), ylim=(-10, 10))\n",
    "line, = ax.plot([], [], 'bo')\n",
    "\n",
    "# initialization function: plot the background of each frame\n",
    "def init():\n",
    "    line.set_data([], [])\n",
    "    return line,\n",
    "\n",
    "# animation function.  This is called sequentially\n",
    "def animate(i):\n",
    "    res = find_eig(i)\n",
    "    for key in res:\n",
    "        simulations[sim_type]['eigs'] = key\n",
    "\n",
    "    x = np.array(simulations['fast']['eigs'].real)\n",
    "    y = np.array(simulations['fast']['eigs'].imag)\n",
    "    line.set_data(x, y)\n",
    "    return line,\n",
    "  # Create time span\n",
    "# call the animator.  blit=True means only re-draw the parts that have changed.\n",
    "anim = animation.FuncAnimation(fig, animate, init_func=init, frames = np.linspace(t0, tf, N),\n",
    "                               interval=N/(tf-t0), blit=True)\n",
    "\n",
    "anim.save('basic_animation.mp4', fps=15)"
   ],
   "metadata": {
    "collapsed": false,
    "pycharm": {
     "name": "#%%\n"
    }
   }
  },
  {
   "cell_type": "markdown",
   "source": [
    "## 2.2 Chose a value of $k$ that allows the system to be stable. USe bode plot to find stability margins of teh closed-loop system."
   ],
   "metadata": {
    "collapsed": false,
    "pycharm": {
     "name": "#%% md\n"
    }
   }
  },
  {
   "cell_type": "code",
   "execution_count": null,
   "outputs": [],
   "source": [],
   "metadata": {
    "collapsed": false,
    "pycharm": {
     "name": "#%%\n"
    }
   }
  },
  {
   "cell_type": "markdown",
   "source": [
    "# Task 3 (3 points)\n",
    "\n",
    "You are given a system:\n",
    "\n",
    "$$\n",
    "\\begin{cases}\n",
    "\\dot x =\n",
    "\\begin{bmatrix}\n",
    "0 & 1 \\\\\n",
    "1 & 10\n",
    "\\end{bmatrix}\n",
    "x\n",
    "+\n",
    "\\begin{bmatrix}\n",
    "0 \\\\\n",
    "1\n",
    "\\end{bmatrix}\n",
    "u \\\\\n",
    "u =\n",
    "-\\begin{bmatrix}\n",
    "5k & k\n",
    "\\end{bmatrix} x\n",
    "\\end{cases}\n",
    "$$\n",
    "\n",
    "You can chose any positive value of $k$ to design your controller. What is least-norm control gain (control gain is the matrix $\\begin{bmatrix}\n",
    "5k & k\n",
    "\\end{bmatrix}$) that makes the system not only be stable, but also exhibit no oscillations in the transient process?\n",
    "\n",
    "\n",
    "\n",
    "| Reference: https://web.mit.edu/2.151/www/Handouts/FirstSecondOrder.pdf chapter 2.0.2 (1)\n",
    "\n",
    "The differential equation for the system is:\n",
    "$\\begin{cases}\\frac{d^2x_1}{dt^2}\n",
    "− (a_{11} + a_{22})\\frac{dx_1}{dt} + (a_{11}a_{22} − a_{12}a_{21}) x_1 = b_1\\frac{du}{dt} + (a_{12}b_2 - a_{22}b_1)u\\\\\n",
    "\\frac{d^2x_2}{dt^2}\n",
    "− (a_{11} + a_{22})\\frac{dx_2}{dt} + (a_{11}a_{22} − a_{12}a_{21}) x_2 = b_1\\frac{du}{dt} + (a_{12}b_2 - a_{22}b_1)u \\end{cases}$\n",
    "Find natural frequency and damping ratio rewriting the DE into the standard system form:\n",
    " $\\frac{d^2 x_i}{dt^2} + 2\\zeta \\omega_n \\frac{dx_i}{dt} + \\omega_n^2 x_i = b_1\\frac{du}{dt} + (a_{12}b_2 - a_{22}b_1)u$\n",
    "\n",
    "$\\omega_n =\\sqrt{a_{11}a_{22} − a_{12}a_{21}}\\\\\n",
    "\\zeta = −\\frac{1}{2ωn}(a11 + a22)=− \\frac{(a11 + a22)}{2\\sqrt{a_{11}a_{22} − a_{12}a_{21}}}\\\\\n",
    "\\lambda_{1,2} = \\omega_n(- \\zeta \\pm \\sqrt{\\zeta^2 -1})$"
   ],
   "metadata": {
    "collapsed": false,
    "pycharm": {
     "name": "#%% md\n"
    }
   }
  },
  {
   "cell_type": "markdown",
   "source": [
    "In the Review of First- and Second-Order System Response (1) for the system is mentioned that it declares Overdamped if $\\zeta >1$ and eigenvalues of the characteristic equation $\\lambda_{1,2}$ are real and negative"
   ],
   "metadata": {
    "collapsed": false,
    "pycharm": {
     "name": "#%% md\n"
    }
   }
  },
  {
   "cell_type": "markdown",
   "source": [
    "$\\omega_n =  \\sqrt{-1}\\\\\n",
    "\\zeta = 0$\n",
    "\n",
    "The case describes under damped system with cosine oscillations, so the output equation y(x) is needed to revent the effect."
   ],
   "metadata": {
    "collapsed": false,
    "pycharm": {
     "name": "#%% md\n"
    }
   }
  },
  {
   "cell_type": "markdown",
   "source": [
    "Suppose, our output equation y(x) is:\n",
    "$y = \\begin{bmatrix}\n",
    "1 & 0\\\\\n",
    "1 & 0 \\end{bmatrix} x + \\begin {bmatrix} 0\\\\1 \\end{bmatrix}$"
   ],
   "metadata": {
    "collapsed": false,
    "pycharm": {
     "name": "#%% md\n"
    }
   }
  },
  {
   "cell_type": "code",
   "execution_count": null,
   "outputs": [],
   "source": [
    "# Find transfer function for the system:\n",
    "def find_transfer_f():\n",
    "    I = sympy.eye(2)\n",
    "    C_ = Matrix(C3)\n",
    "    A_ = Matrix(A3)\n",
    "    B_ = Matrix(B3)\n",
    "    D_ = Matrix(D)\n",
    "    return find_w(A_, B_, C_, D_)\n",
    "\n",
    "C3 = np.array([[2 , 1], [1, 1]])\n",
    "D = np.array([[0],[1]])\n",
    "A3 = np.array([[0, 1], [1, 10]])\n",
    "B3 = np.array([[0], [1]])\n",
    "W = find_transfer_f()\n",
    "print(\"W(s) =\\t\",W[0], \"\\n\\t\", W[1])"
   ],
   "metadata": {
    "collapsed": false,
    "pycharm": {
     "name": "#%%\n"
    }
   }
  },
  {
   "cell_type": "markdown",
   "source": [
    "The required differential equations are:\n",
    "$\\frac{d^2y_1}{dt^2} - 10\\frac{dy_1}{dt} - y_1 = u \\\\\n",
    "\\frac{d^2y_2}{dt^2} - 10\\frac{dy_2}{dt} - y_1 = \\frac{d^2u}{dt} - 10\\frac{du}{dt}$\n",
    "\n",
    "Find natural frequency and damping ratio by rewriting the DE into the standard system form:\n",
    " $\\frac{d^2y}{dt^2} + 2\\zeta \\omega_n \\frac{dy}{dt} + \\omega_n^2 y = q_2\\frac{d^2u}{dt^2} + q_1\\frac{du}{dt} + q_0u$"
   ],
   "metadata": {
    "collapsed": false,
    "pycharm": {
     "name": "#%% md\n"
    }
   }
  },
  {
   "cell_type": "markdown",
   "source": [
    "$\\omega_n = \\sqrt{-1}\\\\\n",
    "\\zeta = -5i\\\\\n",
    "\\lambda_1 = i(5i + \\sqrt { 5 -1}) = 5 + 2i\n",
    "\\lambda_2 = i(5i - sqrt { 5-1} = 5 - 2i$\n",
    "\n",
    "The differential equation for the system with output law:\n",
    "$\\frac{d^2y}{dt^2}\n",
    "− (a_{11} + a_{22})\\frac{dy}{dt} + (a_{11}a_{22} − a_{12}a_{21}) y = q_2\\frac{d^2u}{dt^2} + q_1\\frac{du}{dt} + q_0u$\n",
    "Find natural frequency and damping ratio rewriting the DE into the standard system form:\n",
    " $\\frac{d^2y}{dt^2} + 2\\zeta \\omega_n \\frac{dy}{dt} + \\omega_n^2 y = q_2\\frac{d^2u}{dt^2} + q_1\\frac{du}{dt} + q_0u$\n",
    "\n",
    "Where $q_0, q_1$ and $q_2$ are:\n",
    "$q_0 = c_1(-a_{22}b_1 + a_{12}b_2) + c_2 (−a_{11}b_2 + a_{21}b_1) + d (a_{11}a_{22} − a_{12}a_{21})\\\\\n",
    "q_1 = c_1b_1 + c_2b_2 − d (a_{11} + a_{22})\\\\\n",
    "q_2 = d$"
   ],
   "metadata": {
    "collapsed": false,
    "pycharm": {
     "name": "#%% md\n"
    }
   }
  },
  {
   "cell_type": "markdown",
   "source": [
    "The"
   ],
   "metadata": {
    "collapsed": false,
    "pycharm": {
     "name": "#%% md\n"
    }
   }
  }
 ],
 "metadata": {
  "kernelspec": {
   "display_name": "Python 3 (ipykernel)",
   "language": "python",
   "name": "python3"
  },
  "language_info": {
   "codemirror_mode": {
    "name": "ipython",
    "version": 3
   },
   "file_extension": ".py",
   "mimetype": "text/x-python",
   "name": "python",
   "nbconvert_exporter": "python",
   "pygments_lexer": "ipython3",
   "version": "3.9.7"
  }
 },
 "nbformat": 4,
 "nbformat_minor": 1
}
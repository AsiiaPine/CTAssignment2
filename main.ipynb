{
 "cells": [
  {
   "cell_type": "markdown",
   "metadata": {},
   "source": [
    "# Task 1 (5 points)\n",
    "\n",
    "Given a system:\n",
    "\n",
    "<!-- A =\n",
    "    [0 0 1 0;\n",
    "     0 0 0 1;\n",
    "     n -2 -10/n -2;\n",
    "     -5 -n/10 0 -3]; -->\n",
    "\n",
    "$\n",
    "\\begin{cases}\n",
    "\\dot x =\n",
    "\\begin{bmatrix}\n",
    "0 & 0 & 1 & 0 \\\\\n",
    "0 & 0 & 0 & 1 \\\\\n",
    " n & -2 & -10/n & -2 \\\\\n",
    "-5 & -n/10 & 0 & -3\n",
    "\\end{bmatrix}\n",
    "x\n",
    "+\n",
    "\\begin{bmatrix}\n",
    "0 \\\\\n",
    "0 \\\\\n",
    "-1\\\\\n",
    "1\n",
    "\\end{bmatrix}\n",
    "u \\\\\n",
    "y = \\begin{bmatrix}\n",
    "1 & 1 & 0 & 0\n",
    "\\end{bmatrix} x\n",
    "\\end{cases}\n",
    "$\n",
    "\n",
    "where $n$ is my number in my group list - 2.\n",
    "\n",
    "\n",
    "\n",
    "1. Find its transfer function representation ($y(s) / u(s) = W(s)$)."
   ]
  },
  {
   "cell_type": "code",
   "execution_count": 312,
   "outputs": [],
   "source": [
    "import numpy as np\n",
    "from scipy.integrate import odeint\n",
    "from scipy.linalg import solve_continuous_are as are\n",
    "from matplotlib.pyplot import *\n",
    "from IPython.display import display\n",
    "import sympy\n",
    "from sympy import Matrix, diag, symbols, init_printing, pprint, factor, zeros, simplify, latex\n",
    "\n",
    "A = np.array([[0, 0, 1, 0], [0, 0, 0, 1], [2, -2, -10 / 2, -2], [-5, -2 / 10, 0, -3]])\n",
    "B = np.array([[0], [0], [-1], [1]])"
   ],
   "metadata": {
    "collapsed": false,
    "pycharm": {
     "name": "#%%\n"
    }
   }
  },
  {
   "cell_type": "code",
   "execution_count": 313,
   "metadata": {
    "collapsed": true,
    "pycharm": {
     "name": "#%%\n"
    }
   },
   "outputs": [
    {
     "name": "stdout",
     "output_type": "stream",
     "text": [
      "Let's use formula W(s) = Y(s)/u(s) = C *(sI - A)^(-1)*B:\n"
     ]
    },
    {
     "data": {
      "text/plain": "'W(s) = '"
     },
     "metadata": {},
     "output_type": "display_data"
    },
    {
     "data": {
      "text/plain": "⎡                                10                         9                 \n⎢          1.51191284717805e-20⋅s   + 2.22707162250989e-19⋅s  + 5.268270890279\n⎢─────────────────────────────────────────────────────────────────────────────\n⎢                    12                        11                         10  \n⎣6.5853386128432e-7⋅s   + 1.71218803933923e-5⋅s   + 0.000112872703824133⋅s   -\n\n       8                        7                        6                    \n22e-7⋅s  + 9.48288760248981e-6⋅s  + 7.48094466416828e-6⋅s  - 0.000545266037143\n──────────────────────────────────────────────────────────────────────────────\n                       9                        8                       7     \n 0.000460183462265483⋅s  - 0.00726505092310643⋅s  - 0.0128327176480753⋅s  + 0.\n\n     5                        4                        3                      \n456⋅s  - 0.00140093859514185⋅s  + 0.00834968253399625⋅s  + 0.0233460263539983⋅\n──────────────────────────────────────────────────────────────────────────────\n                  6                      5                      4    3        \n0996903573784241⋅s  + 0.381437300200826⋅s  + 0.043155804896963⋅s  - s  - 0.200\n\n 2                                                       ⎤\ns  - 0.0185190258334931⋅s - 0.0148152206667945           ⎥\n─────────────────────────────────────────────────────────⎥\n              2                                          ⎥\n717749226091⋅s  + 0.518532723337808⋅s + 0.192597868668329⎦",
      "text/latex": "$\\displaystyle \\left[\\begin{matrix}\\frac{1.51191284717805 \\cdot 10^{-20} s^{10} + 2.22707162250989 \\cdot 10^{-19} s^{9} + 5.26827089027922 \\cdot 10^{-7} s^{8} + 9.48288760248981 \\cdot 10^{-6} s^{7} + 7.48094466416828 \\cdot 10^{-6} s^{6} - 0.000545266037143456 s^{5} - 0.00140093859514185 s^{4} + 0.00834968253399625 s^{3} + 0.0233460263539983 s^{2} - 0.0185190258334931 s - 0.0148152206667945}{6.5853386128432 \\cdot 10^{-7} s^{12} + 1.71218803933923 \\cdot 10^{-5} s^{11} + 0.000112872703824133 s^{10} - 0.000460183462265483 s^{9} - 0.00726505092310643 s^{8} - 0.0128327176480753 s^{7} + 0.0996903573784241 s^{6} + 0.381437300200826 s^{5} + 0.043155804896963 s^{4} - 1.0 s^{3} - 0.200717749226091 s^{2} + 0.518532723337808 s + 0.192597868668329}\\end{matrix}\\right]$"
     },
     "metadata": {},
     "output_type": "display_data"
    }
   ],
   "source": [
    "\n",
    "\n",
    "init_printing(use_unicode=True)\n",
    "\n",
    "\n",
    "def find_w():\n",
    "    M = Matrix([[s, 0, 0, 0], [0, s, 0, 0], [0, 0, s, 0], [0, 0, 0, s]])\n",
    "    M = M - A\n",
    "    return simplify(sympy.apart(simplify(C * (M.inv() * B)), s))\n",
    "\n",
    "\n",
    "s = symbols('s')\n",
    "n = symbols('n')\n",
    "\n",
    "Am = Matrix([[0, 0, 1, 0], [0, 0, 0, 1], [n, -2, -10 / n, -2], [-5, -n / 10, 0, -3]])\n",
    "Bm = Matrix([[0], [0], [-1], [1]])\n",
    "Cm = Matrix([1, 1, 0, 0]).transpose()\n",
    "\n",
    "print(\"Let's use formula W(s) = Y(s)/u(s) = C *(sI - A)^(-1)*B:\")\n",
    "W = find_w()\n",
    "W = W.subs(n, 2)\n",
    "display(\"W(s) = \", W)\n"
   ]
  },
  {
   "cell_type": "markdown",
   "metadata": {
    "pycharm": {
     "name": "#%% md\n"
    }
   },
   "source": [
    "## 2.  Propose an ODE representation of the system.\n",
    "\\begin{equation}\n",
    "    \\begin{cases}\n",
    "        x_1' = x_3\\\\\n",
    "        x_2' = x_4\\\\\n",
    "        x_3' = 2x_1 - 2x_2 - 5x_3 - 2x_4 - u\\\\\n",
    "        x_4' = -5x_1 - 0.2x_2 - 3x_4 + u\\\\\n",
    "        y = x_1 + x_2\n",
    "    \\end{cases}\\,\n",
    "\\end{equation}\n",
    "\n",
    "\\begin{equation}\n",
    "    \\begin{cases}\n",
    "        x_1'' = 2x_1 - 2x_2 - 5(x_1' +С_1) - 2(x_2'+ С_2) - u\\\\\n",
    "        x_2'' = -5x_1 - 0.2x_2 - 3(x_2'+С_2) + u\\\\\n",
    "        y = x_1 + x_2\n",
    "    \\end{cases}\\,\n",
    "\\end{equation}"
   ]
  },
  {
   "cell_type": "markdown",
   "metadata": {
    "pycharm": {
     "name": "#%% md\n"
    }
   },
   "source": [
    "## 3. Propose a controller (control law $u = -Kx$) that makes the system stable. Do it via pole placement and as an LQR. For LQR show the cost function you chose.\n",
    "\n",
    "To propose the controller, which make the system stable, rewrite the control law $u=-Kx$ into the state space form: $x'=(A-KB)x$. Now let's choose the K with 1- pole-placement and 2- LQR!\n",
    "But to do it check are the methods applicable:\n",
    "1- find is the system controllable,\n",
    "2- find is the system observable."
   ]
  },
  {
   "cell_type": "code",
   "execution_count": 315,
   "metadata": {
    "pycharm": {
     "name": "#%%\n"
    }
   },
   "outputs": [
    {
     "name": "stdout",
     "output_type": "stream",
     "text": [
      "Rank of the matrix R = [B AB AAB ... A^(n-1)B] is equal to  4\n",
      "The system is controllable\n",
      "Rank of the matrix O = [Ct AtCt AtCt ... At^(n-1)Ct] is equal to  4\n",
      "The system is observable\n",
      "We can use pool-placement for the system or LQR\n",
      "Let's do it!\n"
     ]
    }
   ],
   "source": [
    "def rank_for_check_controllability(A, B):\n",
    "    R = Matrix([[0, 0, 0, 0], [0, 0, 0, 0, ], [0, 0, 0, 0], [0, 0, 0, 0]])\n",
    "    R[0] = B\n",
    "    R[1] = A * B\n",
    "    R[2] = A * A * B\n",
    "    R[3] = A * A * A * B\n",
    "    rank = R.rank()\n",
    "    print(\"Rank of the matrix R = [B AB AAB ... A^(n-1)B] is equal to \", rank)\n",
    "    result = rank == R.shape[0]\n",
    "    if result:\n",
    "        outputStr = \"The system is controllable\"\n",
    "    else:\n",
    "        outputStr = \"The system is uncontrollable\"\n",
    "    print(outputStr)\n",
    "    return result\n",
    "\n",
    "\n",
    "def rank_for_check_observability(C, A):\n",
    "    O = Matrix([[0, 0, 0, 0], [0, 0, 0, 0, ], [0, 0, 0, 0], [0, 0, 0, 0]])\n",
    "    Ct = C.transpose()\n",
    "    At = A.transpose()\n",
    "    O[0] = Ct\n",
    "    O[1] = At * Ct\n",
    "    O[2] = At * At * Ct\n",
    "    O[3] = At * At * At * Ct\n",
    "    rank = O.rank()\n",
    "    print(\"Rank of the matrix O = [Ct AtCt AtCt ... At^(n-1)Ct] is equal to \", rank)\n",
    "    result = rank == O.shape[0]\n",
    "    if result:\n",
    "        outputStr = \"The system is observable\"\n",
    "    else:\n",
    "        outputStr = \"The system is unobservable\"\n",
    "    print(outputStr)\n",
    "    return result\n",
    "\n",
    "\n",
    "if rank_for_check_controllability(Am, Bm):\n",
    "    if rank_for_check_observability(Cm, Am):\n",
    "        print(\"We can use pool-placement for the system or LQR\\nLet's do it!\")\n",
    "else:\n",
    "    print(\"We can't use pool-placement and LQR :C\")\n"
   ]
  },
  {
   "cell_type": "markdown",
   "metadata": {
    "pycharm": {
     "name": "#%% md\n"
    }
   },
   "source": [
    "Use Pole Placement from scipy:"
   ]
  },
  {
   "cell_type": "code",
   "execution_count": 316,
   "metadata": {
    "pycharm": {
     "name": "#%%\n"
    }
   },
   "outputs": [
    {
     "name": "stdout",
     "output_type": "stream",
     "text": [
      "Desired pole placement eigenvalues : [-4.59591677 -1.56581897 -4.32966636 -6.61768671]\n",
      "Martix K: [[103.64899352 148.20699529  25.26541758  34.37450639]]\n"
     ]
    }
   ],
   "source": [
    "from scipy.signal import place_poles, ss2tf\n",
    "\n",
    "#The system is stable when the real part of its eigenvalues are negative, so create a set of 4 negative real eigenvalues\n",
    "\n",
    "eigP_desired = np.random.uniform(-10, -1, size=(4,))\n",
    "print(\"Desired pole placement eigenvalues :\", eigP_desired)\n",
    "place_poles = place_poles(A, B, eigP_desired)\n",
    "Kpp = place_poles.gain_matrix\n",
    "print(\"Martix K:\", Kpp)"
   ]
  },
  {
   "cell_type": "markdown",
   "metadata": {
    "pycharm": {
     "name": "#%% md\n"
    }
   },
   "source": [
    "Use LQR:"
   ]
  },
  {
   "cell_type": "code",
   "execution_count": 348,
   "metadata": {
    "pycharm": {
     "name": "#%%\n"
    }
   },
   "outputs": [
    {
     "name": "stdout",
     "output_type": "stream",
     "text": [
      "Martix K: [[-6.86487908  1.94316742 -1.14482729  1.05287345]]\n"
     ]
    }
   ],
   "source": [
    "import numpy as np\n",
    "\n",
    "\n",
    "def lqr(A, B, Q, R):\n",
    "    # Solve the ARE\n",
    "    S = are(A, B, Q, R)\n",
    "    R_inv = np.linalg.inv(R)\n",
    "    Klqr = R_inv.dot((B.T).dot(S))\n",
    "    Ac = A - B.dot(Klqr)\n",
    "    E = np.linalg.eigvals(Ac)\n",
    "    return S, K, E\n",
    "\n",
    "\n",
    "def system_ode(x, t, A, B, Klqr):\n",
    "    u = -np.dot(Klqr, x)\n",
    "    dx = np.dot(A, x) + np.dot(B, u)\n",
    "    return dx\n",
    "\n",
    "\n",
    "t0 = 0  # Initial time\n",
    "tf = 15  # Final time\n",
    "N = int(2E3)  # Numbers of points in time span\n",
    "t = np.linspace(t0, tf, N)  # Create time span\n",
    "y_0 = 0.5\n",
    "x0 = [0, 0, 0, 0]  # Set initial state\n",
    "\n",
    "Q = np.diag([1, 1, 1, 1])  #Set costs\n",
    "R = np.diag([1])\n",
    "S, K, E = lqr(A, B, Q, R)\n",
    "x_sol = odeint(system_ode, x0, t, args=(A, B, K))  # integrate system \"sys_ode\" from initial state $x0$\n",
    "\n",
    "simulations = {'fast': {'R': R / 10}, 'slow': {'R': R * 5}}\n",
    "\n",
    "print(\"Martix K:\", K)\n"
   ]
  },
  {
   "cell_type": "markdown",
   "metadata": {
    "pycharm": {
     "name": "#%% md\n"
    }
   },
   "source": [
    "## 4. Show stability of the closed-loop system via eigenvalue analysis.\n",
    "\n",
    "### Find eigenvalues for system with K from pole placement:"
   ]
  },
  {
   "cell_type": "code",
   "execution_count": 321,
   "metadata": {
    "pycharm": {
     "name": "#%%\n"
    }
   },
   "outputs": [
    {
     "name": "stdout",
     "output_type": "stream",
     "text": [
      "Martix K: [[103.64899352 148.20699529  25.26541758  34.37450639]]\n",
      "Eigenvalues for K from polePlacement:\n",
      " [-0.52507157+0.j        -1.07337208+0.j        -4.29962854+0.4480173j\n",
      " -4.29962854-0.4480173j] \n",
      "Desired eigenvalues: [-4.59591677 -1.56581897 -4.32966636 -6.61768671]\n",
      "The system is stable\n"
     ]
    },
    {
     "data": {
      "text/plain": "<Figure size 288x288 with 1 Axes>",
      "image/png": "[encoded data removed]"
     },
     "metadata": {
      "needs_background": "light"
     },
     "output_type": "display_data"
    }
   ],
   "source": [
    "eigP = np.linalg.eigvals(A - B @ K)\n",
    "\n",
    "for sim_type in simulations.keys():\n",
    "    R = simulations[sim_type]['R']\n",
    "    simulations[sim_type]['eigs'] = eigP\n",
    "    simulations[sim_type]['K'] = Kpp\n",
    "    simulations[sim_type]['x'] = odeint(system_ode, x0, t, args=(A, B, K))\n",
    "    simulations[sim_type]['u'] = - K.dot(x_sol.T).T\n",
    "\n",
    "print(\"Martix K:\", Kpp)\n",
    "print(\"Eigenvalues for K from polePlacement:\\n\", eigP, \"\\nDesired eigenvalues:\", eigP_desired)\n",
    "if eigP.max() < 0:\n",
    "    print(\"The system is stable\")\n",
    "else:\n",
    "    print(\"The system is unstable\")\n",
    "\n",
    "figure(figsize=(4, 4))\n",
    "plot(simulations['fast']['eigs'].real, simulations['fast']['eigs'].imag, 'bo', label='Fast')\n",
    "plot(simulations['slow']['eigs'].real, simulations['slow']['eigs'].imag, 'rx',\n",
    "     label='Slow')\n",
    "grid(color='black', linestyle='--', linewidth=1.0, alpha=0.7)\n",
    "grid(True)\n",
    "xlabel(r'Real part: ${ \\operatorname{Re}(\\lambda)}$')\n",
    "ylabel(r'Imaginary part: ${ \\operatorname{Im}(\\lambda)}$')\n",
    "show()"
   ]
  },
  {
   "cell_type": "markdown",
   "metadata": {
    "pycharm": {
     "name": "#%% md\n"
    }
   },
   "source": [
    "### Find eigenvalues for system with K from LQR:"
   ]
  },
  {
   "cell_type": "code",
   "execution_count": 371,
   "metadata": {
    "pycharm": {
     "name": "#%%\n"
    }
   },
   "outputs": [
    {
     "name": "stdout",
     "output_type": "stream",
     "text": [
      "Eigenvalues for LQR are equal to:  [-0.53034896+0.j         -1.06774362+0.j         -4.39286711+0.45602049j\n",
      " -4.39286711-0.45602049j]\n"
     ]
    },
    {
     "data": {
      "text/plain": "<Figure size 288x288 with 1 Axes>",
      "image/png": "[encoded data removed]"
     },
     "metadata": {
      "needs_background": "light"
     },
     "output_type": "display_data"
    }
   ],
   "source": [
    "print(\"Eigenvalues for LQR are equal to: \", E)\n",
    "for sim_type in simulations.keys():\n",
    "    R = simulations[sim_type]['R']\n",
    "    S, K, E = lqr(A, B, Q, R)\n",
    "    simulations[sim_type]['eigs'] = E\n",
    "    simulations[sim_type]['K'] = K\n",
    "    simulations[sim_type]['x'] = odeint(system_ode, x0, t, args=(A, B, K))\n",
    "    simulations[sim_type]['u'] = - K.dot(x_sol.T).T\n",
    "figure(figsize=(4, 4))\n",
    "plot(simulations['fast']['eigs'].real, simulations['fast']['eigs'].imag, 'bo', label='Fast')\n",
    "plot(simulations['slow']['eigs'].real, simulations['slow']['eigs'].imag, 'rx',\n",
    "     label='Slow')\n",
    "grid(color='black', linestyle='--', linewidth=1.0, alpha=0.7)\n",
    "grid(True)\n",
    "xlabel(r'Real part: ${ \\operatorname{Re}(\\lambda)}$')\n",
    "ylabel(r'Imaginary part: ${ \\operatorname{Im}(\\lambda)}$')\n",
    "show()"
   ]
  },
  {
   "cell_type": "markdown",
   "metadata": {
    "pycharm": {
     "name": "#%% md\n"
    }
   },
   "source": []
  },
  {
   "cell_type": "code",
   "execution_count": 338,
   "metadata": {
    "pycharm": {
     "name": "#%%\n"
    }
   },
   "outputs": [
    {
     "data": {
      "text/plain": "<Figure size 432x288 with 1 Axes>",
      "image/png": "[encoded data removed]"
     },
     "metadata": {
      "needs_background": "light"
     },
     "output_type": "display_data"
    },
    {
     "data": {
      "text/plain": "<Figure size 432x288 with 1 Axes>",
      "image/png": "[encoded data removed]"
     },
     "metadata": {
      "needs_background": "light"
     },
     "output_type": "display_data"
    }
   ],
   "source": [
    "from scipy import signal\n",
    "import matplotlib.pyplot as plt\n",
    "import scipy\n",
    "from sympy.abc import j, w\n",
    "\n",
    "# a(ω) = |W(jω)| and its phase\n",
    "# ϕ(ω) = atan2(im(W(jω)), real(W(jω)))\n",
    "\n",
    "sys = signal.TransferFunction([16], [20, 160, 264, -300, 208])\n",
    "array_w, mag, phase = signal.bode(sys)\n",
    "\n",
    "plt.figure()\n",
    "plt.title('Bode magnitude plot')\n",
    "plt.semilogx(array_w, mag)\n",
    "plt.figure()\n",
    "plt.title('Bode phase plot')\n",
    "plt.semilogx(array_w, phase)\n",
    "plt.show()"
   ]
  },
  {
   "attachments": {
    "image.png": {
     "image/png": "[encoded data removed]"
    }
   },
   "cell_type": "markdown",
   "metadata": {},
   "source": [
    "![image.png](attachment:image.png)"
   ]
  },
  {
   "cell_type": "markdown",
   "metadata": {},
   "source": [
    "I have a different plot that MATLAB does...\n",
    "But after analyzing both graphs, it seems that the system does not reach the gain margin ($gain(\\omega) != 0$ or $(phase(\\omega) != -180$ for any frequency value), so the system is stable!\n",
    "Moreover, MATLAB says there is no stability margin."
   ]
  },
  {
   "cell_type": "markdown",
   "metadata": {
    "pycharm": {
     "name": "#%% md\n"
    }
   },
   "source": [
    "## 6. Modify the control law\n",
    "in such a way that the state of the system converges to $x_0 = \\begin{bmatrix}\n",
    "(2+0.1n)/(n-5) \\\\\n",
    "1 \\\\\n",
    "0 \\\\\n",
    "0\n",
    "\\end{bmatrix}$. Show resulting control law. Simulate the system and demostrate convergence via graphs of state dynamics and error dynamics."
   ]
  },
  {
   "cell_type": "code",
   "execution_count": 376,
   "metadata": {
    "pycharm": {
     "name": "#%%\n"
    }
   },
   "outputs": [
    {
     "name": "stdout",
     "output_type": "stream",
     "text": [
      "Martix K: [[-6.86487908  1.94316742 -1.14482729  1.05287345]]\n"
     ]
    }
   ],
   "source": [
    "\n",
    "t0 = 0  # Initial time\n",
    "tf = 15  # Final time\n",
    "N = int(2E3)  # Numbers of points in time span\n",
    "t = np.linspace(t0, tf, N)  # Create time span\n",
    "y_0 = 0.5\n",
    "C = np.array([-2.2 / 3, 1, 0, 0])  # initial state, in affine control we will use the state as C\n",
    "x_sol = odeint(system_ode, C, t, args=(A, B, K))  # integrate system \"sys_ode\" from initial state $x0$\n",
    "\n",
    "Q = np.diag([1, 1, 1, 1])\n",
    "R = np.diag([1])\n",
    "simulations = {'fast': {'R': R}, 'slow': {'R': R}}\n",
    "\n",
    "print(\"Martix K:\", K)"
   ]
  },
  {
   "cell_type": "markdown",
   "metadata": {
    "pycharm": {
     "name": "#%% md\n"
    }
   },
   "source": [
    "#### $u = \\begin{bmatrix}\n",
    "6.84\\\\\n",
    "-1.94\\\\\n",
    "1.14\\\\\n",
    "-1.05\n",
    "\\end{bmatrix} x$"
   ]
  },
  {
   "cell_type": "code",
   "execution_count": 375,
   "outputs": [
    {
     "data": {
      "text/plain": "<Figure size 648x216 with 1 Axes>",
      "image/png": "[encoded data removed]"
     },
     "metadata": {
      "needs_background": "light"
     },
     "output_type": "display_data"
    }
   ],
   "source": [
    "e0 = [0, 0, 0, 0]\n",
    "\n",
    "for sim_type in simulations.keys():\n",
    "    R = simulations[sim_type]['R']\n",
    "    S, K, E = lqr(A, B, Q, R)\n",
    "    simulations[sim_type]['eigs'] = E\n",
    "    simulations[sim_type]['K'] = K\n",
    "    simulations[sim_type]['x'] = odeint(system_ode, x0, t, args=(A, B, K))\n",
    "    # u_star = np.linalg.pinv(B) * (x_sol - A * C)\n",
    "    # simulations[sim_type]['error'] = A*\n",
    "    simulations[sim_type]['u'] = - K.dot(x_sol.T).T\n",
    "\n",
    "figure(figsize=(9, 3))\n",
    "plot(t, simulations['slow']['x'][:, 0], 'r', linewidth=2.0, label='x[1]')\n",
    "plot(t, simulations['slow']['x'][:, 2], 'b', linewidth=2.0, label='x[2]')\n",
    "plot(t, simulations['fast']['x'][:, 0], 'g--', linewidth=2.0, label='x[3]')\n",
    "plot(t, simulations['fast']['x'][:, 2], 'y--', linewidth=2.0, label='x[4]')\n",
    "legend()\n",
    "grid(color='black', linestyle='--', linewidth=1.0, alpha=0.7)\n",
    "grid(True)\n",
    "xlim([t0, tf])\n",
    "ylabel(r'State ${x}$')\n",
    "xlabel(r'Time $t$ (s)')\n",
    "title('State dynamics')\n",
    "show()"
   ],
   "metadata": {
    "collapsed": false,
    "pycharm": {
     "name": "#%%\n"
    }
   }
  },
  {
   "cell_type": "markdown",
   "source": [
    "To determine error dynamics, use the formula from affine control $u^{*} = B^{+}(\\dot x^{*} - Ax^{*})$"
   ],
   "metadata": {
    "collapsed": false,
    "pycharm": {
     "name": "#%% md\n"
    }
   }
  },
  {
   "cell_type": "code",
   "execution_count": 365,
   "outputs": [
    {
     "name": "stdout",
     "output_type": "stream",
     "text": [
      "[[-0.  0. -0.  0.]\n",
      " [-0.  0. -0.  0.]\n",
      " [ 0.  0. -0.  0.]\n",
      " [-0.  0. -0.  0.]]\n"
     ]
    }
   ],
   "source": [
    "u_star = np.linalg.pinv(B) * (x_sol[0] - A * C)\n",
    "print(u_star)"
   ],
   "metadata": {
    "collapsed": false,
    "pycharm": {
     "name": "#%%\n"
    }
   }
  },
  {
   "cell_type": "markdown",
   "source": [
    "Since $u^* = 0$, $v=u$\n",
    "#### The final error dynamical system equation is: $\\dot e = Ae+Bu$"
   ],
   "metadata": {
    "collapsed": false,
    "pycharm": {
     "name": "#%% md\n"
    }
   }
  },
  {
   "cell_type": "code",
   "execution_count": 377,
   "outputs": [
    {
     "data": {
      "text/plain": "<Figure size 648x216 with 1 Axes>",
      "image/png": "[encoded data removed]"
     },
     "metadata": {
      "needs_background": "light"
     },
     "output_type": "display_data"
    }
   ],
   "source": [
    "e0 = [0, 0, 0, 0]\n",
    "for sim_type in simulations.keys():\n",
    "    simulations[sim_type]['e'] = odeint(system_ode, e0, t, args=(A, B, K))\n",
    "\n",
    "\n",
    "figure(figsize=(9, 3))\n",
    "plot(t, simulations['slow']['e'][:, 0], 'r', linewidth=2.0, label='e[1]')\n",
    "plot(t, simulations['slow']['e'][:, 2], 'b', linewidth=2.0, label='e[2]')\n",
    "plot(t, simulations['fast']['e'][:, 0], 'g--', linewidth=2.0, label='e[3]')\n",
    "plot(t, simulations['fast']['e'][:, 2], 'y--', linewidth=2.0, label='e[4]')\n",
    "legend()\n",
    "grid(color='black', linestyle='--', linewidth=1.0, alpha=0.7)\n",
    "grid(True)\n",
    "xlim([t0, tf])\n",
    "ylabel(r'State ${e}$')\n",
    "xlabel(r'Time $t$ (s)')\n",
    "title('State dynamics')\n",
    "show()"
   ],
   "metadata": {
    "collapsed": false,
    "pycharm": {
     "name": "#%%\n"
    }
   }
  },
  {
   "cell_type": "markdown",
   "source": [
    "## 8.Discretize the system with $\\Delta t = 0.01$. Write equations of the discrete dynamics.\n",
    "$ \\dot x \\approx \\frac{1}{\\Delta t}*(x(t)-x(t-\\Delta t)) \\\\\n",
    "\\dot x \\approx \\frac{1}{\\Delta t}*(x_{i+1}-x_{i}) = Ax_i \\\\\n",
    "x_{i+1} = (I - A \\Delta t)^{-1} x_i$\n",
    "\n",
    "\n",
    "Define discrete state space matrix $\\bar{A} = A \\Delta t + I$ and discrete control matrix $\\bar{B} = B \\Delta t\\\\$.\n",
    "So, we get the discrete dynamics system:\n",
    "$\\begin{cases}x_{i+1} = \\bar{A} x_i + \\bar{B} u_i\\\\\n",
    "y_{i+1} = Cx_i\\end{cases}$"
   ],
   "metadata": {
    "collapsed": false,
    "pycharm": {
     "name": "#%% md\n"
    }
   }
  },
  {
   "cell_type": "code",
   "execution_count": 383,
   "outputs": [
    {
     "name": "stdout",
     "output_type": "stream",
     "text": [
      "Ad = [[ 1.     0.     0.01   0.   ]\n",
      " [ 0.     1.     0.     0.01 ]\n",
      " [ 0.02  -0.02   0.95  -0.02 ]\n",
      " [-0.05  -0.002  0.     0.97 ]] \n",
      "Bd= [[ 0.  ]\n",
      " [ 0.  ]\n",
      " [-0.01]\n",
      " [ 0.01]]\n"
     ]
    }
   ],
   "source": [
    "dt = 0.01\n",
    "I = np.diag([1, 1, 1, 1])\n",
    "Ad = I + A*dt\n",
    "Bd = B*dt\n",
    "print(\"Ad =\",Ad,\"\\nBd=\", Bd)"
   ],
   "metadata": {
    "collapsed": false,
    "pycharm": {
     "name": "#%%\n"
    }
   }
  },
  {
   "cell_type": "markdown",
   "source": [
    "It is easy to write down the equation for the system dynamics:\n",
    "$\\begin{cases}x_{i+1} = \\begin{bmatrix} 1& 0& 0.01&0\\\\\n",
    " 0&1&0&0.01\\\\\n",
    " 0.02& -0.02& 0.95& -0.02\\\\\n",
    " -0.05 & -0.002&0& 0.97\n",
    " \\end{bmatrix}x_i + \\begin{bmatrix} 0\\\\0\\\\-0.01\\\\0.01 \\end{bmatrix} u_i\\\\\n",
    "y_{i+1} = \\begin{bmatrix} 1&1&0&0\n",
    "\\end{bmatrix}x_i\\end{cases}$"
   ],
   "metadata": {
    "collapsed": false,
    "pycharm": {
     "name": "#%% md\n"
    }
   }
  },
  {
   "cell_type": "markdown",
   "source": [
    "## 9. Propose a control law for the discrete system via pole-placement and LQR (show cost function for the LQR)."
   ],
   "metadata": {
    "collapsed": false,
    "pycharm": {
     "name": "#%% md\n"
    }
   }
  },
  {
   "cell_type": "code",
   "execution_count": 384,
   "outputs": [],
   "source": [],
   "metadata": {
    "collapsed": false,
    "pycharm": {
     "name": "#%%\n"
    }
   }
  },
  {
   "cell_type": "code",
   "execution_count": null,
   "outputs": [],
   "source": [],
   "metadata": {
    "collapsed": false,
    "pycharm": {
     "name": "#%%\n"
    }
   }
  }
 ],
 "metadata": {
  "kernelspec": {
   "display_name": "Python 3 (ipykernel)",
   "language": "python",
   "name": "python3"
  },
  "language_info": {
   "codemirror_mode": {
    "name": "ipython",
    "version": 3
   },
   "file_extension": ".py",
   "mimetype": "text/x-python",
   "name": "python",
   "nbconvert_exporter": "python",
   "pygments_lexer": "ipython3",
   "version": "3.9.7"
  }
 },
 "nbformat": 4,
 "nbformat_minor": 1
}